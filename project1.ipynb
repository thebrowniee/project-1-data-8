{
 "cells": [
  {
   "cell_type": "code",
   "execution_count": 18,
   "id": "8aa9b6b8",
   "metadata": {
    "deletable": false,
    "editable": false
   },
   "outputs": [],
   "source": [
    "# Initialize Otter\n",
    "import otter\n",
    "grader = otter.Notebook(\"project1.ipynb\")"
   ]
  },
  {
   "cell_type": "markdown",
   "id": "005ae2d2",
   "metadata": {},
   "source": [
    "<img src=\"data8logo.png\" alt=\"Data 8 Logo\" style=\"width: 15%; float: right; padding: 1%; margin-right: 2%;\"/>\n",
    "\n",
    "# Project 1: World Population and Poverty\n",
    "\n",
    "In this project, you'll explore data from [Gapminder.org](http://gapminder.org), a website dedicated to providing a fact-based view of the world and how it has changed. That site includes several data visualizations and presentations, but also publishes the raw data that we will use in this project to recreate and extend some of their most famous visualizations.\n",
    "\n",
    "The Gapminder website collects data from many sources and compiles them into tables that describe many countries around the world. All of the data they aggregate are published in the [Systema Globalis](https://github.com/open-numbers/ddf--gapminder--systema_globalis/blob/master/README.md). Their goal is \"to compile all public statistics; Social, Economic and Environmental; into a comparable total dataset.\" All data sets in this project are copied directly from the Systema Globalis without any changes.\n",
    "\n",
    "This project is dedicated to [Hans Rosling](https://en.wikipedia.org/wiki/Hans_Rosling) (1948-2017), who championed the use of data to understand and prioritize global development challenges."
   ]
  },
  {
   "cell_type": "markdown",
   "id": "49871885",
   "metadata": {},
   "source": [
    "### Logistics\n",
    "\n",
    "**Deadline.**  This project is due at **5:00pm PT on Friday 10/4**. Projects will be accepted up to 1 day (24 hours) late. Projects submitted fewer than 24 hours after the deadline will receive 80% credit. It's **much** better to be early than late, so start working now.\n",
    "\n",
    "**Checkpoint.**  For full credit on the checkpoint, you must complete the questions up to the checkpoint, **pass all _public_ autograder tests** for those sections, and submit to the Gradescope Project 1 Checkpoint assignment by **5:00pm PT on Friday, 9/27**. <span style=\"color: #BC412B\">**The checkpoint is worth 5% of your entire project grade**</span>. After you've submitted the checkpoint, you may still change your project answers before the final project deadline - only your final submission, to the \"Project 1\" assignment, will be graded for correctness. You will have some lab time to work on these questions, but we recommend that you start the project before lab and leave time to finish the checkpoint afterward.\n",
    "\n",
    "**Partners.** You may work with one other partner; your partner must be from your assigned lab section. **<span style=\"color: #BC412B\">Only one partner should submit the project notebook to Gradescope.</span> If both partners submit, you will be docked 10% of your project grade. On Gradescope, the person who submits should also designate their partner so that both of you receive credit.** Once you submit, click into your submission, and there will be an option to Add Group Member in the top right corner. You may also reference [this walkthrough video](https://drive.google.com/file/d/12lBUSu5hFOZCdBE5QTQuBalT0nMgRhyC/view?usp=drive_link) on how to add partners on Gradescope.\n",
    "\n",
    "\n",
    "**Rules.** Don't share your code with anybody but your partner. You are welcome to discuss questions with other students, but don't share the answers. The experience of solving the problems in this project will prepare you for exams (and life). If someone asks you for the answer, resist! Instead, you can demonstrate how you would solve a similar problem.\n",
    "\n",
    "**Support.** You are not alone! Come to office hours, post on Ed, and talk to your classmates. If you want to ask about the details of your solution to a problem, make a private Ed post and the staff will respond. If you're ever feeling overwhelmed or don't know how to make progress, email your TA or tutor for help. You can find contact information for the staff on the [course website](https://www.data8.org/fa24/).\n",
    "\n",
    "**Tests.** <span style=\"color: #BC412B\">The tests that are given are **not comprehensive** and passing the tests for a question **does not** mean that you answered the question correctly.</span> Tests usually only check that your table has the correct column labels. However, more tests will be applied to verify the correctness of your submission in order to assign your final score, so be careful and check your work! You might want to create your own checks along the way to see if your answers make sense. Additionally, before you submit, make sure that none of your cells take a very long time to run (several minutes).\n",
    "\n",
    "**Free Response Questions:** Make sure that you put the answers to the written questions in the indicated cell we provide. **Every free response question should include an explanation** that adequately answers the question.\n",
    "\n",
    "**Tabular Thinking Guide:** Feel free to reference [Tabular Thinking Guide](https://drive.google.com/file/d/1NvbBECCBdI0Ku380oPcTUOcpjH3RI230/view) for extra guidance.\n",
    "\n",
    "**Advice.** Develop your answers incrementally. To perform a complicated table manipulation, break it up into steps, perform each step on a different line, give a new name to each result, and check that each intermediate result is what you expect. You can add any additional names or functions you want to the provided cells. Make sure that you are using distinct and meaningful variable names throughout the notebook. Along that line, **DO NOT** reuse the variable names that we use when we grade your answers. For example, in Question 1 of the Global Poverty section we ask you to assign an answer to `latest`. Do not reassign the variable name `latest` to anything else in your notebook, otherwise there is the chance that our tests grade against what `latest` was reassigned to.\n",
    "\n",
    "You are **never** restricted to using only one line of code to solve a question in this project or any others. Feel free to use intermediate variables and multiple lines as much as you would like!\n",
    "\n",
    "---\n",
    "\n",
    "The point breakdown for this assignment is given in the table below:\n",
    "| Category | Points |\n",
    "| --- | --- |\n",
    "| Autograder (Coding questions) | 60 |\n",
    "| Written | 35 |\n",
    "| Checkpoint | 5 |\n",
    "| **Total** | 100 |\n",
    "\n",
    "---\n",
    "\n",
    "To get started, load `datascience`, `numpy`, `plots`, and `otter`."
   ]
  },
  {
   "cell_type": "code",
   "execution_count": 19,
   "id": "6da76610",
   "metadata": {
    "deletable": false
   },
   "outputs": [],
   "source": [
    "# Run this cell to set up the notebook, but please don't change it. \n",
    "\n",
    "# These lines import the NumPy and Datascience modules.\n",
    "from datascience import *\n",
    "import numpy as np\n",
    "\n",
    "# These lines do some fancy plotting magic.\n",
    "%matplotlib inline\n",
    "import matplotlib.pyplot as plots\n",
    "plots.style.use('fivethirtyeight')\n",
    "\n",
    "from ipywidgets import interact, interactive, fixed, interact_manual\n",
    "import ipywidgets as widgets"
   ]
  },
  {
   "cell_type": "markdown",
   "id": "de74a149",
   "metadata": {},
   "source": [
    "<hr style=\"border: 5px solid #003262;\" />\n",
    "<hr style=\"border: 1px solid #fdb515;\" />\n",
    "\n",
    "## 0. Hazards with `.show`\n",
    "\n",
    "As a heads up, please do not run the function `tbl.show()` in this assignment without an argument. For instance if you want to view a table, please type `tbl.show(10)` instead of `tbl.show()`. This may break your notebook and we cannot guarantee what we will have the capacity to aid you in this. Please answer the question below, and set the value to `True` to confirm you have read this and agree."
   ]
  },
  {
   "cell_type": "code",
   "execution_count": 20,
   "id": "d578ce21",
   "metadata": {
    "tags": []
   },
   "outputs": [],
   "source": [
    "i_wont_use_show_without_an_argument = True"
   ]
  },
  {
   "cell_type": "code",
   "execution_count": 21,
   "id": "58f1221a",
   "metadata": {
    "deletable": false,
    "editable": false
   },
   "outputs": [
    {
     "data": {
      "text/html": [
       "<p><strong><pre style='display: inline;'>q0</pre></strong> passed! 🙌</p>"
      ],
      "text/plain": [
       "q0 results: All test cases passed!"
      ]
     },
     "execution_count": 21,
     "metadata": {},
     "output_type": "execute_result"
    }
   ],
   "source": [
    "grader.check(\"q0\")"
   ]
  },
  {
   "cell_type": "markdown",
   "id": "d2bb7fcc",
   "metadata": {
    "deletable": false,
    "editable": false
   },
   "source": [
    "<hr style=\"border: 5px solid #003262;\" />\n",
    "<hr style=\"border: 1px solid #fdb515;\" />\n",
    "\n",
    "## 1. Global Population Growth\n"
   ]
  },
  {
   "cell_type": "markdown",
   "id": "69cf2e49",
   "metadata": {
    "deletable": false,
    "editable": false
   },
   "source": [
    "The global population of humans reached 1 billion around 1800, 3 billion around 1960, 7 billion around 2011, and 8 billion around 2022. The potential impact of population growth has concerned scientists, economists, and politicians alike.\n",
    "\n",
    "The United Nations Population Division estimates that the world population will likely continue to grow throughout the 21st century, but at a slower rate, perhaps reaching and stabilizing at 10 billion by 2100. However, the UN does not rule out scenarios of slower or more extreme growth. These projections help us understand long-term population processes, even if they leave out possible global catastrophic events like war or climate crises.\n",
    "\n",
    "<a href=\"https://population.un.org/wpp/Graphs/Probabilistic/POP/TOT/900\"> \n",
    " <img src=\"un_population_projection.png\"/> \n",
    "</a>\n",
    "\n",
    "In this part of the project, we will examine some of the factors that influence population growth and how they have been changing over the years and around the world. There are two main sub-parts of this analysis.\n",
    "\n",
    "- First, we will examine the data for one country, Poland. We will see how factors such as life expectancy, fertility rate, and child mortality have changed over time in Poland, and how they are related to the rate of population growth.\n",
    "- Next, we will examine whether the changes we have observed for Poland are particular to that country or whether they reflect general patterns observable in other countries too. We will study aspects of world population growth and see how they have been changing.\n",
    "\n",
    "The first table we will consider contains the total population of each country over time. Run the cell below.\n"
   ]
  },
  {
   "cell_type": "code",
   "execution_count": 22,
   "id": "e0930581",
   "metadata": {
    "deletable": false,
    "scrolled": true
   },
   "outputs": [
    {
     "data": {
      "text/html": [
       "<table border=\"1\" class=\"dataframe\">\n",
       "    <thead>\n",
       "        <tr>\n",
       "            <th>geo</th> <th>time</th> <th>population_total</th>\n",
       "        </tr>\n",
       "    </thead>\n",
       "    <tbody>\n",
       "        <tr>\n",
       "            <td>afg </td> <td>1800</td> <td>3280000         </td>\n",
       "        </tr>\n",
       "        <tr>\n",
       "            <td>afg </td> <td>1801</td> <td>3280000         </td>\n",
       "        </tr>\n",
       "        <tr>\n",
       "            <td>afg </td> <td>1802</td> <td>3280000         </td>\n",
       "        </tr>\n",
       "    </tbody>\n",
       "</table>\n",
       "<p>... (44322 rows omitted)</p>"
      ],
      "text/plain": [
       "<IPython.core.display.HTML object>"
      ]
     },
     "metadata": {},
     "output_type": "display_data"
    }
   ],
   "source": [
    "population = Table.read_table('population.csv').where(\"time\", are.below(2025))\n",
    "population.show(3)"
   ]
  },
  {
   "cell_type": "markdown",
   "id": "2016abe8",
   "metadata": {},
   "source": [
    "**Note:** The population data can also be found [here](https://www.gapminder.org/data/documentation/gd003/).\n"
   ]
  },
  {
   "cell_type": "markdown",
   "id": "419edec0",
   "metadata": {
    "deletable": false
   },
   "source": [
    "### Poland\n",
    "\n",
    "The Central European nation of Poland has undergone many changes over the centuries. In modern times it was (re)created as a democratic republic in 1919 after World War I. It was invaded and divided in World War II between Germany and the Soviet Union. War and the Holocaust had a devastating impact on its people. Poland was constituted in its current borders at the end of World War II (1945) under a communist government. In 1989, with the fall of the Soviet Union, Poland re-established itself as a democratic republic.\n",
    "\n",
    "In this section of the project, we will examine aspects of the population of Poland since 1900. Poland's borders have changed, so we will look at the population within its current (2024) borders.\n",
    "\n",
    "In the `population` table, the `geo` column contains three-letter codes established by the [International Organization for Standardization](https://en.wikipedia.org/wiki/International_Organization_for_Standardization) (ISO) in the [Alpha-3](https://en.wikipedia.org/wiki/ISO_3166-1_alpha-3#Current_codes) standard. **Use the Alpha-3 link to find the 3-letter code for Poland.**\n"
   ]
  },
  {
   "cell_type": "markdown",
   "id": "6ee88940",
   "metadata": {},
   "source": [
    "---\n",
    "\n",
    "**Question 1.** Create a table called `p_pop` that has two columns labeled `time` and `population_total`. The first column should contain the years from 1900 through 2024 (including both 1900 and 2024) and the second column should contain the population of Poland in each of those years.\n"
   ]
  },
  {
   "cell_type": "code",
   "execution_count": 23,
   "id": "43c77248",
   "metadata": {
    "deletable": false,
    "tags": []
   },
   "outputs": [
    {
     "data": {
      "text/html": [
       "<table border=\"1\" class=\"dataframe\">\n",
       "    <thead>\n",
       "        <tr>\n",
       "            <th>time</th> <th>population_total</th>\n",
       "        </tr>\n",
       "    </thead>\n",
       "    <tbody>\n",
       "        <tr>\n",
       "            <td>1900</td> <td>24308265        </td>\n",
       "        </tr>\n",
       "        <tr>\n",
       "            <td>1901</td> <td>24485193        </td>\n",
       "        </tr>\n",
       "        <tr>\n",
       "            <td>1902</td> <td>24660489        </td>\n",
       "        </tr>\n",
       "        <tr>\n",
       "            <td>1903</td> <td>24834119        </td>\n",
       "        </tr>\n",
       "        <tr>\n",
       "            <td>1904</td> <td>25008969        </td>\n",
       "        </tr>\n",
       "        <tr>\n",
       "            <td>1905</td> <td>25185047        </td>\n",
       "        </tr>\n",
       "        <tr>\n",
       "            <td>1906</td> <td>25362361        </td>\n",
       "        </tr>\n",
       "        <tr>\n",
       "            <td>1907</td> <td>25540920        </td>\n",
       "        </tr>\n",
       "        <tr>\n",
       "            <td>1908</td> <td>25720733        </td>\n",
       "        </tr>\n",
       "        <tr>\n",
       "            <td>1909</td> <td>25808244        </td>\n",
       "        </tr>\n",
       "    </tbody>\n",
       "</table>\n",
       "<p>... (115 rows omitted)</p>"
      ],
      "text/plain": [
       "time | population_total\n",
       "1900 | 24308265\n",
       "1901 | 24485193\n",
       "1902 | 24660489\n",
       "1903 | 24834119\n",
       "1904 | 25008969\n",
       "1905 | 25185047\n",
       "1906 | 25362361\n",
       "1907 | 25540920\n",
       "1908 | 25720733\n",
       "1909 | 25808244\n",
       "... (115 rows omitted)"
      ]
     },
     "execution_count": 23,
     "metadata": {},
     "output_type": "execute_result"
    }
   ],
   "source": [
    "p_pop = population.where(\"time\", are.between_or_equal_to(1900,2024)).where(\"geo\",are.equal_to(\"pol\")).select(\"time\", \"population_total\")\n",
    "p_pop"
   ]
  },
  {
   "cell_type": "code",
   "execution_count": 24,
   "id": "866a3d55",
   "metadata": {
    "deletable": false,
    "editable": false
   },
   "outputs": [
    {
     "data": {
      "text/html": [
       "<p><strong><pre style='display: inline;'>q1_1</pre></strong> passed! 🍀</p>"
      ],
      "text/plain": [
       "q1_1 results: All test cases passed!"
      ]
     },
     "execution_count": 24,
     "metadata": {},
     "output_type": "execute_result"
    }
   ],
   "source": [
    "grader.check(\"q1_1\")"
   ]
  },
  {
   "cell_type": "markdown",
   "id": "69999240",
   "metadata": {
    "deletable": false
   },
   "source": [
    "Run the following cell to create a table called `p_five` that has the population of Poland every five years.\n"
   ]
  },
  {
   "cell_type": "code",
   "execution_count": 25,
   "id": "720d9569",
   "metadata": {
    "deletable": false
   },
   "outputs": [
    {
     "data": {
      "text/html": [
       "<table border=\"1\" class=\"dataframe\">\n",
       "    <thead>\n",
       "        <tr>\n",
       "            <th>time</th> <th>population_total</th>\n",
       "        </tr>\n",
       "    </thead>\n",
       "    <tbody>\n",
       "        <tr>\n",
       "            <td>1900</td> <td>24,308,265      </td>\n",
       "        </tr>\n",
       "        <tr>\n",
       "            <td>1905</td> <td>25,185,047      </td>\n",
       "        </tr>\n",
       "        <tr>\n",
       "            <td>1910</td> <td>25,803,855      </td>\n",
       "        </tr>\n",
       "    </tbody>\n",
       "</table>\n",
       "<p>... (22 rows omitted)</p>"
      ],
      "text/plain": [
       "<IPython.core.display.HTML object>"
      ]
     },
     "metadata": {},
     "output_type": "display_data"
    }
   ],
   "source": [
    "p_pop.set_format('population_total', NumberFormatter)\n",
    "\n",
    "fives = np.arange(1900, 2021, 5) # 1900, 1905, 1910, ..., 2020\n",
    "p_five = p_pop.sort('time').where('time', are.contained_in(fives))\n",
    "p_five.show(3)"
   ]
  },
  {
   "cell_type": "markdown",
   "id": "645e81d7",
   "metadata": {},
   "source": [
    "Run the following cell to visualize the population over time. Following the devastating effects of World War I and World War II, Poland's population increased steadily from 1950 to 2000 and then leveled off. In the following questions we'll investigate this period of population growth.\n"
   ]
  },
  {
   "cell_type": "code",
   "execution_count": 26,
   "id": "0a6ab2d9",
   "metadata": {},
   "outputs": [
    {
     "data": {
      "image/png": "[encoded data removed]",
      "text/plain": [
       "<Figure size 600x600 with 1 Axes>"
      ]
     },
     "metadata": {},
     "output_type": "display_data"
    }
   ],
   "source": [
    "p_five.plot(0, 1)"
   ]
  },
  {
   "cell_type": "markdown",
   "id": "bb841d65",
   "metadata": {},
   "source": [
    "---\n",
    "\n",
    "**Question 2.** Assign `initial` to an array that contains the population for every five year interval from **1900 to 2015** (inclusive). Then, assign `changed` to an array that contains the population for every five year interval from **1905 to 2020** (inclusive). The first array should include both 1900 and 2015, and the second array should include both 1905 and 2020. You should use the `p_five` table to create both arrays, by first filtering the table to only contain the relevant years.\n",
    "\n",
    "The annual growth rate for a time period is equal to:\n",
    "\n",
    "$$\\left(\\left(\\frac{\\text{Population at end of period}}{\\text{Population at start of period}}\\right)^{\\displaystyle\\frac{1}{\\text{number of years}}}\\right) -1$$\n",
    "\n",
    "We have provided the code below that uses `initial` and `changed` in order to add a column to `p_five` called `annual_growth`. **Don't worry about the calculation of the growth rates**; run the test below to test your solution.\n",
    "\n",
    "If you are interested in how we came up with the formula for growth rates, consult the [growth rates](https://inferentialthinking.com/chapters/03/2/1/Growth.html) section of the textbook.\n"
   ]
  },
  {
   "cell_type": "code",
   "execution_count": 27,
   "id": "5a902c17",
   "metadata": {
    "tags": []
   },
   "outputs": [
    {
     "data": {
      "text/html": [
       "<table border=\"1\" class=\"dataframe\">\n",
       "    <thead>\n",
       "        <tr>\n",
       "            <th>time</th> <th>population_total</th> <th>annual_growth</th>\n",
       "        </tr>\n",
       "    </thead>\n",
       "    <tbody>\n",
       "        <tr>\n",
       "            <td>1900</td> <td>24,308,265      </td> <td>0.71%        </td>\n",
       "        </tr>\n",
       "        <tr>\n",
       "            <td>1905</td> <td>25,185,047      </td> <td>0.49%        </td>\n",
       "        </tr>\n",
       "        <tr>\n",
       "            <td>1910</td> <td>25,803,855      </td> <td>-0.87%       </td>\n",
       "        </tr>\n",
       "        <tr>\n",
       "            <td>1915</td> <td>24,696,678      </td> <td>-0.75%       </td>\n",
       "        </tr>\n",
       "        <tr>\n",
       "            <td>1920</td> <td>23,785,820      </td> <td>1.32%        </td>\n",
       "        </tr>\n",
       "        <tr>\n",
       "            <td>1925</td> <td>25,395,008      </td> <td>1.52%        </td>\n",
       "        </tr>\n",
       "        <tr>\n",
       "            <td>1930</td> <td>27,378,955      </td> <td>0.75%        </td>\n",
       "        </tr>\n",
       "        <tr>\n",
       "            <td>1935</td> <td>28,414,953      </td> <td>0.32%        </td>\n",
       "        </tr>\n",
       "        <tr>\n",
       "            <td>1940</td> <td>28,876,472      </td> <td>-1.58%       </td>\n",
       "        </tr>\n",
       "        <tr>\n",
       "            <td>1945</td> <td>26,666,588      </td> <td>-1.46%       </td>\n",
       "        </tr>\n",
       "    </tbody>\n",
       "</table>\n",
       "<p>... (14 rows omitted)</p>"
      ],
      "text/plain": [
       "time | population_total | annual_growth\n",
       "1900 | 24,308,265       | 0.71%\n",
       "1905 | 25,185,047       | 0.49%\n",
       "1910 | 25,803,855       | -0.87%\n",
       "1915 | 24,696,678       | -0.75%\n",
       "1920 | 23,785,820       | 1.32%\n",
       "1925 | 25,395,008       | 1.52%\n",
       "1930 | 27,378,955       | 0.75%\n",
       "1935 | 28,414,953       | 0.32%\n",
       "1940 | 28,876,472       | -1.58%\n",
       "1945 | 26,666,588       | -1.46%\n",
       "... (14 rows omitted)"
      ]
     },
     "execution_count": 27,
     "metadata": {},
     "output_type": "execute_result"
    }
   ],
   "source": [
    "initial = p_five.where(\"time\",are.between_or_equal_to(1900,2015)).column(\"population_total\")\n",
    "changed = p_five.where(\"time\",are.between_or_equal_to(1905,2020)).column(\"population_total\")\n",
    "\n",
    "p_1900_through_2015 = p_five.where('time', are.below_or_equal_to(2015)) \n",
    "p_five_growth = p_1900_through_2015.with_column('annual_growth', (changed/initial)**0.2-1)\n",
    "p_five_growth.set_format('annual_growth', PercentFormatter)"
   ]
  },
  {
   "cell_type": "code",
   "execution_count": 28,
   "id": "1976008c",
   "metadata": {
    "deletable": false,
    "editable": false
   },
   "outputs": [
    {
     "data": {
      "text/html": [
       "<p><strong><pre style='display: inline;'>q1_2</pre></strong> passed! ✨</p>"
      ],
      "text/plain": [
       "q1_2 results: All test cases passed!"
      ]
     },
     "execution_count": 28,
     "metadata": {},
     "output_type": "execute_result"
    }
   ],
   "source": [
    "grader.check(\"q1_2\")"
   ]
  },
  {
   "cell_type": "markdown",
   "id": "42d788f9",
   "metadata": {
    "deletable": false
   },
   "source": [
    "The annual growth rate in Poland has been declining since 1950, as shown in the table below.\n"
   ]
  },
  {
   "cell_type": "code",
   "execution_count": 29,
   "id": "cf5d29af",
   "metadata": {},
   "outputs": [
    {
     "data": {
      "text/html": [
       "<table border=\"1\" class=\"dataframe\">\n",
       "    <thead>\n",
       "        <tr>\n",
       "            <th>time</th> <th>population_total</th> <th>annual_growth</th>\n",
       "        </tr>\n",
       "    </thead>\n",
       "    <tbody>\n",
       "        <tr>\n",
       "            <td>1950</td> <td>24,780,161      </td> <td>1.78%        </td>\n",
       "        </tr>\n",
       "        <tr>\n",
       "            <td>1955</td> <td>27,063,640      </td> <td>1.79%        </td>\n",
       "        </tr>\n",
       "        <tr>\n",
       "            <td>1960</td> <td>29,575,966      </td> <td>1.13%        </td>\n",
       "        </tr>\n",
       "        <tr>\n",
       "            <td>1965</td> <td>31,288,336      </td> <td>0.79%        </td>\n",
       "        </tr>\n",
       "        <tr>\n",
       "            <td>1970</td> <td>32,542,633      </td> <td>0.86%        </td>\n",
       "        </tr>\n",
       "        <tr>\n",
       "            <td>1975</td> <td>33,964,399      </td> <td>0.93%        </td>\n",
       "        </tr>\n",
       "        <tr>\n",
       "            <td>1980</td> <td>35,576,519      </td> <td>0.90%        </td>\n",
       "        </tr>\n",
       "        <tr>\n",
       "            <td>1985</td> <td>37,200,853      </td> <td>0.46%        </td>\n",
       "        </tr>\n",
       "        <tr>\n",
       "            <td>1990</td> <td>38,055,455      </td> <td>0.16%        </td>\n",
       "        </tr>\n",
       "        <tr>\n",
       "            <td>1995</td> <td>38,364,667      </td> <td>-0.06%       </td>\n",
       "        </tr>\n",
       "        <tr>\n",
       "            <td>2000</td> <td>38,258,071      </td> <td>-0.07%       </td>\n",
       "        </tr>\n",
       "        <tr>\n",
       "            <td>2005</td> <td>38,124,379      </td> <td>-0.02%       </td>\n",
       "        </tr>\n",
       "        <tr>\n",
       "            <td>2010</td> <td>38,095,351      </td> <td>0.09%        </td>\n",
       "        </tr>\n",
       "        <tr>\n",
       "            <td>2015</td> <td>38,266,314      </td> <td>-0.05%       </td>\n",
       "        </tr>\n",
       "    </tbody>\n",
       "</table>"
      ],
      "text/plain": [
       "<IPython.core.display.HTML object>"
      ]
     },
     "metadata": {},
     "output_type": "display_data"
    }
   ],
   "source": [
    "# Run this cell to view annual growth rates in Poland since 1950.\n",
    "p_five_growth.where('time', are.above_or_equal_to(1950)).show()"
   ]
  },
  {
   "cell_type": "markdown",
   "id": "e50a391a",
   "metadata": {},
   "source": [
    "Next, we'll try to understand what has changed in Poland that might explain the slowing population growth rate. Run the next cell to load three additional tables of measurements about countries over time.\n"
   ]
  },
  {
   "cell_type": "code",
   "execution_count": 30,
   "id": "3afa5d50",
   "metadata": {
    "deletable": false
   },
   "outputs": [],
   "source": [
    "life_expectancy = Table.read_table('life_expectancy.csv').where('time', are.below(2025))\n",
    "child_mortality = Table.read_table('child_mortality.csv').relabel(2, 'child_mortality_under_5_per_1000_born').where('time', are.below(2025))\n",
    "fertility = Table.read_table('fertility.csv').where('time', are.below(2025))"
   ]
  },
  {
   "cell_type": "markdown",
   "id": "f989ddd9",
   "metadata": {
    "deletable": false,
    "editable": false
   },
   "source": [
    "The `life_expectancy` table contains a statistic that is often used to measure how long people live, called _life expectancy at birth_. This number, for a country in a given year, [does not measure how long babies born in that year are expected to live](http://blogs.worldbank.org/opendata/what-does-life-expectancy-birth-really-mean). Instead, it measures how long someone would live, on average, if the _mortality conditions_ in that year persisted throughout their lifetime. These \"mortality conditions\" describe what fraction of people for each age survived the year. So, it is a way of measuring the proportion of people that are staying alive, aggregated over different age groups in the population.\n"
   ]
  },
  {
   "cell_type": "markdown",
   "id": "5701adf2",
   "metadata": {},
   "source": [
    "Run the following cells below to see `life_expectancy`, `child_mortality`, and `fertility`. Refer back to these tables as they will be helpful for answering further questions!\n"
   ]
  },
  {
   "cell_type": "code",
   "execution_count": 31,
   "id": "2c30cbdc",
   "metadata": {},
   "outputs": [
    {
     "data": {
      "text/html": [
       "<table border=\"1\" class=\"dataframe\">\n",
       "    <thead>\n",
       "        <tr>\n",
       "            <th>geo</th> <th>time</th> <th>life_expectancy_years</th>\n",
       "        </tr>\n",
       "    </thead>\n",
       "    <tbody>\n",
       "        <tr>\n",
       "            <td>afg </td> <td>1800</td> <td>28.21                </td>\n",
       "        </tr>\n",
       "        <tr>\n",
       "            <td>afg </td> <td>1801</td> <td>28.2                 </td>\n",
       "        </tr>\n",
       "        <tr>\n",
       "            <td>afg </td> <td>1802</td> <td>28.19                </td>\n",
       "        </tr>\n",
       "    </tbody>\n",
       "</table>\n",
       "<p>... (42597 rows omitted)</p>"
      ],
      "text/plain": [
       "<IPython.core.display.HTML object>"
      ]
     },
     "metadata": {},
     "output_type": "display_data"
    }
   ],
   "source": [
    "life_expectancy.show(3)"
   ]
  },
  {
   "cell_type": "code",
   "execution_count": 32,
   "id": "832aba79",
   "metadata": {},
   "outputs": [
    {
     "data": {
      "text/html": [
       "<table border=\"1\" class=\"dataframe\">\n",
       "    <thead>\n",
       "        <tr>\n",
       "            <th>geo</th> <th>time</th> <th>child_mortality_under_5_per_1000_born</th>\n",
       "        </tr>\n",
       "    </thead>\n",
       "    <tbody>\n",
       "        <tr>\n",
       "            <td>afg </td> <td>1800</td> <td>468.58                               </td>\n",
       "        </tr>\n",
       "        <tr>\n",
       "            <td>afg </td> <td>1801</td> <td>468.58                               </td>\n",
       "        </tr>\n",
       "        <tr>\n",
       "            <td>afg </td> <td>1802</td> <td>468.58                               </td>\n",
       "        </tr>\n",
       "    </tbody>\n",
       "</table>\n",
       "<p>... (42522 rows omitted)</p>"
      ],
      "text/plain": [
       "<IPython.core.display.HTML object>"
      ]
     },
     "metadata": {},
     "output_type": "display_data"
    }
   ],
   "source": [
    "child_mortality.show(3)"
   ]
  },
  {
   "cell_type": "code",
   "execution_count": 33,
   "id": "b63e0beb",
   "metadata": {},
   "outputs": [
    {
     "data": {
      "text/html": [
       "<table border=\"1\" class=\"dataframe\">\n",
       "    <thead>\n",
       "        <tr>\n",
       "            <th>geo</th> <th>time</th> <th>children_per_woman_total_fertility</th>\n",
       "        </tr>\n",
       "    </thead>\n",
       "    <tbody>\n",
       "        <tr>\n",
       "            <td>afg </td> <td>1800</td> <td>7                                 </td>\n",
       "        </tr>\n",
       "        <tr>\n",
       "            <td>afg </td> <td>1801</td> <td>7                                 </td>\n",
       "        </tr>\n",
       "        <tr>\n",
       "            <td>afg </td> <td>1802</td> <td>7                                 </td>\n",
       "        </tr>\n",
       "    </tbody>\n",
       "</table>\n",
       "<p>... (44322 rows omitted)</p>"
      ],
      "text/plain": [
       "<IPython.core.display.HTML object>"
      ]
     },
     "metadata": {},
     "output_type": "display_data"
    }
   ],
   "source": [
    "fertility.show(3)"
   ]
  },
  {
   "cell_type": "markdown",
   "id": "d62c1144",
   "metadata": {},
   "source": [
    "<!-- BEGIN QUESTION -->\n",
    "\n",
    "---\n",
    "\n",
    "**Question 3.** Is population growing more slowly perhaps because people aren’t living as long? Use the `life_expectancy` table to draw a line graph with the years 1950 and later on the horizontal axis that shows how the _life expectancy at birth_ has changed in Poland.\n",
    "\n",
    "_Hint_: Make sure you filter the table properly; otherwise, the graph may look funky!\n"
   ]
  },
  {
   "cell_type": "code",
   "execution_count": 34,
   "id": "eacf555e",
   "metadata": {
    "deletable": false,
    "manual_grade": true,
    "manual_problem_id": "global_pop_3",
    "tags": []
   },
   "outputs": [
    {
     "data": {
      "image/png": "[encoded data removed]",
      "text/plain": [
       "<Figure size 600x600 with 1 Axes>"
      ]
     },
     "metadata": {},
     "output_type": "display_data"
    }
   ],
   "source": [
    "# Fill in code here\n",
    "filtered_life_expectancy = life_expectancy.where(\"geo\", are.equal_to(\"pol\")).where(\"time\", are.above_or_equal_to(1950))\n",
    "filtered_life_expectancy.plot(\"time\", \"life_expectancy_years\")\n"
   ]
  },
  {
   "cell_type": "markdown",
   "id": "9a180b51",
   "metadata": {},
   "source": [
    "<!-- END QUESTION -->\n",
    "\n",
    "<!-- BEGIN QUESTION -->\n",
    "\n",
    "---\n",
    "\n",
    "**Question 4.** Assuming everything else stays the same, do the trends in life expectancy in the graph above directly explain why the population growth rate decreased since 1950 in Poland? Why or why not?\n"
   ]
  },
  {
   "cell_type": "markdown",
   "id": "2b61b9f7",
   "metadata": {},
   "source": []
  },
  {
   "cell_type": "markdown",
   "id": "f2d8f1a8",
   "metadata": {
    "deletable": false,
    "editable": false
   },
   "source": [
    "<!-- END QUESTION -->\n",
    "\n",
    "The `fertility` table contains a statistic that is often used to measure how many babies are being born, the _total fertility rate_. This number describes the [number of children a woman would have in her lifetime](https://www.data4impactproject.org/prh/family-planning/fertility/total-fertility-rate/), on average, if the current rates of birth by age of the mother persisted throughout her child bearing years, assuming she survived through age 49.\n"
   ]
  },
  {
   "cell_type": "markdown",
   "id": "093a03d5",
   "metadata": {},
   "source": [
    "---\n",
    "\n",
    "**Question 5.** Complete the function `fertility_over_time`. It takes two input arguments, the Alpha-3 code of a country (denoted as `country_code`) and a year to `start` from (denoted as start). It returns a two-column table with the column labels `Year` and `Children per woman`. These columns can be used to generate a line chart of the country’s fertility rate each year, starting from the year given by `start`. The plot should include the start year and all later years that appear in the fertility table.\n",
    "\n",
    "Then, determine the Alpha-3 code for **Poland**. The code at the very bottom for `poland_code` and the year `1950` are inputted to your `fertility_over_time` function. The function returns a table which we use in order to plot how Poland's fertility rate has changed since `1950`. Note that the function `fertility_over_time` should not return the plot itself – it returns a two column table. The expression that draws the line plot is provided for you; please don’t change it.\n",
    "\n",
    "_Hint_: Read about `tbl.relabeled` in the [Python Reference](https://www.data8.org/fa24/reference/) to rename columns.\n"
   ]
  },
  {
   "cell_type": "code",
   "execution_count": 35,
   "id": "063a216a",
   "metadata": {
    "deletable": false,
    "tags": []
   },
   "outputs": [
    {
     "data": {
      "text/html": [
       "<table border=\"1\" class=\"dataframe\">\n",
       "    <thead>\n",
       "        <tr>\n",
       "            <th>Year</th> <th>Children per woman</th>\n",
       "        </tr>\n",
       "    </thead>\n",
       "    <tbody>\n",
       "        <tr>\n",
       "            <td>1950</td> <td>3.66              </td>\n",
       "        </tr>\n",
       "        <tr>\n",
       "            <td>1951</td> <td>3.68              </td>\n",
       "        </tr>\n",
       "        <tr>\n",
       "            <td>1952</td> <td>3.64              </td>\n",
       "        </tr>\n",
       "        <tr>\n",
       "            <td>1953</td> <td>3.6               </td>\n",
       "        </tr>\n",
       "        <tr>\n",
       "            <td>1954</td> <td>3.56              </td>\n",
       "        </tr>\n",
       "        <tr>\n",
       "            <td>1955</td> <td>3.54              </td>\n",
       "        </tr>\n",
       "        <tr>\n",
       "            <td>1956</td> <td>3.45              </td>\n",
       "        </tr>\n",
       "        <tr>\n",
       "            <td>1957</td> <td>3.44              </td>\n",
       "        </tr>\n",
       "        <tr>\n",
       "            <td>1958</td> <td>3.34              </td>\n",
       "        </tr>\n",
       "        <tr>\n",
       "            <td>1959</td> <td>3.21              </td>\n",
       "        </tr>\n",
       "    </tbody>\n",
       "</table>\n",
       "<p>... (65 rows omitted)</p>"
      ],
      "text/plain": [
       "Year | Children per woman\n",
       "1950 | 3.66\n",
       "1951 | 3.68\n",
       "1952 | 3.64\n",
       "1953 | 3.6\n",
       "1954 | 3.56\n",
       "1955 | 3.54\n",
       "1956 | 3.45\n",
       "1957 | 3.44\n",
       "1958 | 3.34\n",
       "1959 | 3.21\n",
       "... (65 rows omitted)"
      ]
     },
     "execution_count": 35,
     "metadata": {},
     "output_type": "execute_result"
    }
   ],
   "source": [
    "def fertility_over_time(country_code, start):\n",
    "    \"\"\"Create a two-column table that describes a country's total fertility rate each year.\"\"\"\n",
    "    # It's a good idea (but not required) to use multiple lines in your solution.\n",
    "    geo = fertility.where('geo', are.equal_to(country_code))\n",
    "    start = geo.where('time', are.above_or_equal_to(start))\n",
    "    fert = start.select(\"time\", \"children_per_woman_total_fertility\")\n",
    "    label = fert.relabeled(\"time\", \"Year\").relabeled(\"children_per_woman_total_fertility\", \"Children per woman\")\n",
    "    return label\n",
    "\n",
    "\n",
    "poland_code = \"pol\"\n",
    "fertility_over_time(poland_code, 1950)"
   ]
  },
  {
   "cell_type": "code",
   "execution_count": 36,
   "id": "72909e8b",
   "metadata": {
    "deletable": false,
    "editable": false
   },
   "outputs": [
    {
     "data": {
      "text/html": [
       "<p><strong><pre style='display: inline;'>q1_5</pre></strong> passed! 🌟</p>"
      ],
      "text/plain": [
       "q1_5 results: All test cases passed!"
      ]
     },
     "execution_count": 36,
     "metadata": {},
     "output_type": "execute_result"
    }
   ],
   "source": [
    "grader.check(\"q1_5\")"
   ]
  },
  {
   "cell_type": "markdown",
   "id": "f6aee139",
   "metadata": {},
   "source": [
    "Plotting the fertility rate in Poland since 1950, we see a downward trend.\n"
   ]
  },
  {
   "cell_type": "code",
   "execution_count": 37,
   "id": "afc17ae3",
   "metadata": {},
   "outputs": [
    {
     "data": {
      "image/png": "[encoded data removed]",
      "text/plain": [
       "<Figure size 600x600 with 1 Axes>"
      ]
     },
     "metadata": {},
     "output_type": "display_data"
    }
   ],
   "source": [
    "fertility_over_time(poland_code, 1950).plot(0, 1)"
   ]
  },
  {
   "cell_type": "markdown",
   "id": "f2e4cac3",
   "metadata": {},
   "source": [
    "<!-- BEGIN QUESTION -->\n",
    "\n",
    "---\n",
    "\n",
    "**Question 6.** Assuming everything else is constant, do the trends in fertility in the graph above help directly explain why the population growth rate decreased from 1950 to 2020 in Poland? Why or why not?\n"
   ]
  },
  {
   "cell_type": "markdown",
   "id": "8a9e3e79",
   "metadata": {},
   "source": [
    "_Type your answer here, replacing this text._"
   ]
  },
  {
   "cell_type": "markdown",
   "id": "5c5a71ce",
   "metadata": {
    "deletable": false
   },
   "source": [
    "<!-- END QUESTION -->\n",
    "\n",
    "It has been [observed](https://www.ageing.ox.ac.uk/download/143) that lower fertility rates are often associated with lower child mortality rates. We can see if this association is evident in Poland by plotting the relationship between total fertility rate and [child mortality rate per 1000 children](https://en.wikipedia.org/wiki/Child_mortality).\n"
   ]
  },
  {
   "cell_type": "markdown",
   "id": "ee83f1f1",
   "metadata": {},
   "source": [
    "---\n",
    "\n",
    "**Question 7.** Create a table `poland_since_1950` that contains one row per year starting with 1950 and:\n",
    "\n",
    "- A column `Year` containing the year\n",
    "- A column `Children per woman` describing total fertility in Poland that year\n",
    "- A column `Child deaths per 1000 born` describing child mortality in Poland that year\n"
   ]
  },
  {
   "cell_type": "code",
   "execution_count": 38,
   "id": "8d0e2c96",
   "metadata": {
    "deletable": false,
    "tags": []
   },
   "outputs": [
    {
     "data": {
      "text/html": [
       "<table border=\"1\" class=\"dataframe\">\n",
       "    <thead>\n",
       "        <tr>\n",
       "            <th>Year</th> <th>Children per woman</th> <th>Child deaths per 1000 born</th>\n",
       "        </tr>\n",
       "    </thead>\n",
       "    <tbody>\n",
       "        <tr>\n",
       "            <td>1950</td> <td>3.66              </td> <td>164.08                    </td>\n",
       "        </tr>\n",
       "        <tr>\n",
       "            <td>1951</td> <td>3.68              </td> <td>177.18                    </td>\n",
       "        </tr>\n",
       "        <tr>\n",
       "            <td>1952</td> <td>3.64              </td> <td>140.16                    </td>\n",
       "        </tr>\n",
       "        <tr>\n",
       "            <td>1953</td> <td>3.6               </td> <td>127.65                    </td>\n",
       "        </tr>\n",
       "        <tr>\n",
       "            <td>1954</td> <td>3.56              </td> <td>118.9                     </td>\n",
       "        </tr>\n",
       "        <tr>\n",
       "            <td>1955</td> <td>3.54              </td> <td>110.38                    </td>\n",
       "        </tr>\n",
       "        <tr>\n",
       "            <td>1956</td> <td>3.45              </td> <td>94.19                     </td>\n",
       "        </tr>\n",
       "        <tr>\n",
       "            <td>1957</td> <td>3.44              </td> <td>86.72                     </td>\n",
       "        </tr>\n",
       "        <tr>\n",
       "            <td>1958</td> <td>3.34              </td> <td>81.28                     </td>\n",
       "        </tr>\n",
       "        <tr>\n",
       "            <td>1959</td> <td>3.21              </td> <td>72.1                      </td>\n",
       "        </tr>\n",
       "    </tbody>\n",
       "</table>\n",
       "<p>... (65 rows omitted)</p>"
      ],
      "text/plain": [
       "Year | Children per woman | Child deaths per 1000 born\n",
       "1950 | 3.66               | 164.08\n",
       "1951 | 3.68               | 177.18\n",
       "1952 | 3.64               | 140.16\n",
       "1953 | 3.6                | 127.65\n",
       "1954 | 3.56               | 118.9\n",
       "1955 | 3.54               | 110.38\n",
       "1956 | 3.45               | 94.19\n",
       "1957 | 3.44               | 86.72\n",
       "1958 | 3.34               | 81.28\n",
       "1959 | 3.21               | 72.1\n",
       "... (65 rows omitted)"
      ]
     },
     "execution_count": 38,
     "metadata": {},
     "output_type": "execute_result"
    }
   ],
   "source": [
    "pol_fertility = fertility_over_time(poland_code, 1950)  # Try starting with the table you built already!\n",
    "# It's a good idea (but not required) to use multiple lines in your solution.\n",
    "pol_child_mortality = child_mortality.where(\"geo\", are.equal_to(\"pol\")).where(\"time\", are.above_or_equal_to(1950)).column(\"child_mortality_under_5_per_1000_born\")\n",
    "pol_fertility_and_child_mortality = pol_fertility.with_columns(\"Child deaths per 1000 born\", pol_child_mortality)\n",
    "poland_since_1950 = pol_fertility_and_child_mortality.where(\"Year\", are.above_or_equal_to(1950))\n",
    "poland_since_1950"
   ]
  },
  {
   "cell_type": "code",
   "execution_count": 39,
   "id": "2313e09a",
   "metadata": {
    "deletable": false,
    "editable": false
   },
   "outputs": [
    {
     "data": {
      "text/html": [
       "<p><strong><pre style='display: inline;'>q1_7</pre></strong> passed! 🙌</p>"
      ],
      "text/plain": [
       "q1_7 results: All test cases passed!"
      ]
     },
     "execution_count": 39,
     "metadata": {},
     "output_type": "execute_result"
    }
   ],
   "source": [
    "grader.check(\"q1_7\")"
   ]
  },
  {
   "cell_type": "markdown",
   "id": "097b3fc1",
   "metadata": {},
   "source": [
    "Run the following cell to generate a scatter plot from the `poland_since_1950` table you created.\n",
    "\n",
    "The plot uses **color** to encode data about the `Year` column. The colors, ranging from dark blue to white, represent the passing of time between 1950 and 2024. For example, a point on the scatter plot representing data from the 1950s would appear as **dark blue** and a point from the 2010s would appear as **light blue**.\n"
   ]
  },
  {
   "cell_type": "code",
   "execution_count": 40,
   "id": "e62eaa6e",
   "metadata": {},
   "outputs": [
    {
     "data": {
      "image/png": "[encoded data removed]",
      "text/plain": [
       "<Figure size 600x600 with 2 Axes>"
      ]
     },
     "metadata": {},
     "output_type": "display_data"
    }
   ],
   "source": [
    "x_births = poland_since_1950.column(\"Children per woman\")\n",
    "y_deaths = poland_since_1950.column(\"Child deaths per 1000 born\")\n",
    "time_colors = poland_since_1950.column(\"Year\")\n",
    "\n",
    "plots.figure(figsize=(6,6))\n",
    "plots.scatter(x_births, y_deaths, c=time_colors, cmap=\"Blues_r\")\n",
    "plots.colorbar()                  \n",
    "plots.xlabel(\"Children per woman\")\n",
    "plots.ylabel(\"Child deaths per 1000 born\");"
   ]
  },
  {
   "cell_type": "markdown",
   "id": "2d5655b3",
   "metadata": {},
   "source": [
    "<!-- BEGIN QUESTION -->\n",
    "\n",
    "---\n",
    "\n",
    "**Question 8.** In one or two sentences, describe the association (if any) that is illustrated by this scatter plot. Does the diagram show any causal relation between between fertility and child mortality?\n"
   ]
  },
  {
   "cell_type": "markdown",
   "id": "6790a127",
   "metadata": {},
   "source": [
    "_Type your answer here, replacing this text._"
   ]
  },
  {
   "cell_type": "markdown",
   "id": "868b3d2d",
   "metadata": {},
   "source": [
    "<!-- END QUESTION -->\n",
    "\n",
    "_Optional food for thought_: What other context or information you would need in order to better understand the factors affecting life expectancy, child mortality, and fertility?\n"
   ]
  },
  {
   "attachments": {},
   "cell_type": "markdown",
   "id": "ac9fbf74",
   "metadata": {},
   "source": [
    "### Checkpoint (due Friday 9/27 by 5:00 PM PT)\n",
    "\n",
    "<img src=\"harvey.png\" alt=\"Close-up photo of a golden retriever looking at the camera\" width=\"300\"/>\n",
    "\n",
    "**WOOOHOO!!!** Harvey wants to congratulate you on reaching the checkpoint!\n",
    "\n",
    "**Run the following cells and submit to the Gradescope assignment corresponding to the checkpoint: <u>Project 1 Checkpoint</u>**\n",
    "\n",
    "**<span style=\"color: #BC412B\">Remember to add your project partner to your submission on Gradescope!</span>** <u>Only one partner should submit to Gradescope.</u>"
   ]
  },
  {
   "cell_type": "markdown",
   "id": "46da249a",
   "metadata": {},
   "source": [
    "--- \n",
    "\n",
    "To double check your work, the cell below will rerun all of the autograder tests for Section 1. "
   ]
  },
  {
   "cell_type": "code",
   "execution_count": 41,
   "id": "009ec141",
   "metadata": {},
   "outputs": [
    {
     "data": {
      "text/html": [
       "<p><strong><pre style='display: inline;'>q1_1</pre></strong> passed! ✨</p>"
      ],
      "text/plain": [
       "q1_1 results: All test cases passed!"
      ]
     },
     "metadata": {},
     "output_type": "display_data"
    },
    {
     "data": {
      "text/html": [
       "<p><strong><pre style='display: inline;'>q1_2</pre></strong> passed! 💯</p>"
      ],
      "text/plain": [
       "q1_2 results: All test cases passed!"
      ]
     },
     "metadata": {},
     "output_type": "display_data"
    },
    {
     "data": {
      "text/html": [
       "<p><strong><pre style='display: inline;'>q1_5</pre></strong> passed! 🙌</p>"
      ],
      "text/plain": [
       "q1_5 results: All test cases passed!"
      ]
     },
     "metadata": {},
     "output_type": "display_data"
    },
    {
     "data": {
      "text/html": [
       "<p><strong><pre style='display: inline;'>q1_7</pre></strong> passed! 🎉</p>"
      ],
      "text/plain": [
       "q1_7 results: All test cases passed!"
      ]
     },
     "metadata": {},
     "output_type": "display_data"
    }
   ],
   "source": [
    "checkpoint_tests = [\"q1_1\", \"q1_2\", \"q1_5\", \"q1_7\"]\n",
    "for test in checkpoint_tests:\n",
    "    display(grader.check(test))"
   ]
  },
  {
   "cell_type": "markdown",
   "id": "ee47d01a",
   "metadata": {},
   "source": [
    "## Submission\n",
    "\n",
    "Make sure you have run all cells in your notebook in order before running the cell below, so that all images/graphs appear in the output. The cell below will generate a zip file for you to submit. You only need to submit the zip file for the checkpoint. **Please save before exporting!**"
   ]
  },
  {
   "cell_type": "code",
   "execution_count": 42,
   "id": "d7b567ce",
   "metadata": {},
   "outputs": [
    {
     "data": {
      "text/html": [
       "\n",
       "            <p>Your submission has been exported. Click <a href=\"project1_2024_10_03T17_14_39_775999.zip\" download=\"project1_2024_10_03T17_14_39_775999.zip\" target=\"_blank\">here</a>\n",
       "            to download the zip file.</p>\n",
       "            "
      ],
      "text/plain": [
       "<IPython.core.display.HTML object>"
      ]
     },
     "metadata": {},
     "output_type": "display_data"
    }
   ],
   "source": [
    "# Save your notebook first, then run this cell to export your submission.\n",
    "grader.export(pdf=False)"
   ]
  },
  {
   "cell_type": "markdown",
   "id": "f30d1622",
   "metadata": {
    "deletable": false
   },
   "source": [
    "<hr style=\"border: 1px solid #fdb515;\" />\n",
    "\n",
    "### The World\n",
    "\n",
    "The changes observed in Poland can also be observed in many other countries: except during periods of extended war, famine, and social chaos, health services generally improve, life expectancy increases, and child mortality decreases. At the same time, the fertility rate often plummets, and where it does, the population growth rate decreases despite increasing longevity."
   ]
  },
  {
   "cell_type": "markdown",
   "id": "38edf9c7",
   "metadata": {
    "deletable": false
   },
   "source": [
    "Run the cell below to generate two overlaid histograms, one for 1962 and one for 2010, that show the distributions of total fertility rates for these two years among all 201 countries in the `fertility` table."
   ]
  },
  {
   "cell_type": "code",
   "execution_count": 43,
   "id": "ad85c88f",
   "metadata": {
    "deletable": false
   },
   "outputs": [
    {
     "data": {
      "image/png": "[encoded data removed]",
      "text/plain": [
       "<Figure size 600x400 with 1 Axes>"
      ]
     },
     "metadata": {},
     "output_type": "display_data"
    }
   ],
   "source": [
    "Table().with_columns( \n",
    "    '1962', fertility.where('time', 1962).column(2),\n",
    "    '2010', fertility.where('time', 2010).column(2)\n",
    ").hist(bins=np.arange(0, 10, 0.5), unit='child per woman')\n",
    "_ = plots.xlabel('Children per woman')\n",
    "_ = plots.ylabel('Percent per children per woman')\n",
    "_ = plots.xticks(np.arange(10))"
   ]
  },
  {
   "cell_type": "markdown",
   "id": "4272f90d",
   "metadata": {},
   "source": [
    "---\n",
    "\n",
    "**Question 9.** Assign `fertility_statements` to an **array** of the numbers of each statement below that can be correctly inferred from these histograms.\n",
    "\n",
    "1. About the same number of countries had a fertility rate between 3.5 and 4.5 in both 1962 and 2010.\n",
    "1. In 1962, less than 20% of countries had a fertility rate below 3.\n",
    "1. At least half of countries had a fertility rate between 5 and 8 in 1962.\n",
    "1. In 2010, about 40% of countries had a fertility rate between 1.5 and 2.\n",
    "1. At least half of countries had a fertility rate below 3 in 2010.\n",
    "1. More countries had a fertility rate above 3 in 1962 than in 2010.\n"
   ]
  },
  {
   "cell_type": "code",
   "execution_count": 44,
   "id": "f15c168a",
   "metadata": {
    "deletable": false,
    "tags": []
   },
   "outputs": [],
   "source": [
    "fertility_statements = (3,5,6)"
   ]
  },
  {
   "cell_type": "code",
   "execution_count": 45,
   "id": "535532a7",
   "metadata": {
    "deletable": false,
    "editable": false
   },
   "outputs": [
    {
     "data": {
      "text/html": [
       "<p><strong><pre style='display: inline;'>q1_9</pre></strong> passed! 🚀</p>"
      ],
      "text/plain": [
       "q1_9 results: All test cases passed!"
      ]
     },
     "execution_count": 45,
     "metadata": {},
     "output_type": "execute_result"
    }
   ],
   "source": [
    "grader.check(\"q1_9\")"
   ]
  },
  {
   "cell_type": "markdown",
   "id": "1c4117fa",
   "metadata": {},
   "source": [
    "<!-- BEGIN QUESTION -->\n",
    "\n",
    "---\n",
    "\n",
    "**Question 10.** Draw a line plot of the **world population** from 1800 through 2024 (inclusive of both endpoints). The world population is the sum of all of the countries' populations. You should use the `population` table defined earlier in the project. \n"
   ]
  },
  {
   "cell_type": "code",
   "execution_count": 46,
   "id": "5612d56f",
   "metadata": {
    "deletable": false,
    "manual_grade": true,
    "manual_problem_id": "global_pop_10",
    "tags": []
   },
   "outputs": [
    {
     "data": {
      "image/png": "[encoded data removed]",
      "text/plain": [
       "<Figure size 600x600 with 1 Axes>"
      ]
     },
     "metadata": {},
     "output_type": "display_data"
    }
   ],
   "source": [
    "#Fill in code here\n",
    "world_population = population.select(\"time\", \"population_total\").where(\"time\", are.between_or_equal_to(1800, 2024)).group(\"time\", sum)\n",
    "world_population.plot(\"time\", \"population_total sum\")"
   ]
  },
  {
   "attachments": {},
   "cell_type": "markdown",
   "id": "75c13725",
   "metadata": {},
   "source": [
    "<!-- END QUESTION -->\n",
    "\n",
    "---\n",
    "\n",
    "**Question 11.** Create a function `stats_for_year` that takes a `year` and returns a table of statistics. The table it returns should have four columns: `geo`, `population_total`, `children_per_woman_total_fertility`, and `child_mortality_under_5_per_1000_born`. Each row should contain one unique Alpha-3 country code and three statistics: population, fertility rate, and child mortality for that `year` from the `population`, `fertility` and `child_mortality` tables. Only include rows for which all three statistics are available for the country and year.\n",
    "\n",
    "In addition, restrict the result to country codes that appears in `big_50`, an array of the 50 most populous countries in 2024. This restriction will speed up computations later in the project.\n",
    "\n",
    "After you write `stats_for_year`, try calling `stats_for_year` on any year between 1960 and 2024. Try to understand the output of stats_for_year.\n",
    "\n",
    "*Hint*: The tests for this question are quite comprehensive, so if you pass the tests, your function is probably correct. However, without calling your function yourself and looking at the output, it will be very difficult to understand any problems you have, so try your best to write the function correctly and check that it works before you rely on the `grader` tests to confirm your work.\n",
    "\n",
    "*Hint*: What do all three tables have in common (pay attention to column names)?\n",
    "\n",
    "*Hint*: Create additional cells before directly writing the function.\n"
   ]
  },
  {
   "cell_type": "code",
   "execution_count": 54,
   "id": "3b89ed09",
   "metadata": {
    "deletable": false,
    "tags": []
   },
   "outputs": [
    {
     "data": {
      "text/html": [
       "<table border=\"1\" class=\"dataframe\">\n",
       "    <thead>\n",
       "        <tr>\n",
       "            <th>geo</th> <th>population_total</th> <th>children_per_woman_total_fertility</th> <th>child_mortality_under_5_per_1000_born</th>\n",
       "        </tr>\n",
       "    </thead>\n",
       "    <tbody>\n",
       "        <tr>\n",
       "            <td>afg </td> <td>17763266        </td> <td>7.76                              </td> <td>146.13                               </td>\n",
       "        </tr>\n",
       "        <tr>\n",
       "            <td>ago </td> <td>14170973        </td> <td>6.85                              </td> <td>221.29                               </td>\n",
       "        </tr>\n",
       "        <tr>\n",
       "            <td>arg </td> <td>35513793        </td> <td>2.78                              </td> <td>23.08                                </td>\n",
       "        </tr>\n",
       "        <tr>\n",
       "            <td>bgd </td> <td>124862179       </td> <td>3.51                              </td> <td>108.19                               </td>\n",
       "        </tr>\n",
       "        <tr>\n",
       "            <td>bra </td> <td>164202549       </td> <td>2.51                              </td> <td>44.98                                </td>\n",
       "        </tr>\n",
       "        <tr>\n",
       "            <td>can </td> <td>29767206        </td> <td>1.63                              </td> <td>6.71                                 </td>\n",
       "        </tr>\n",
       "        <tr>\n",
       "            <td>chn </td> <td>1230944812      </td> <td>1.55                              </td> <td>45.48                                </td>\n",
       "        </tr>\n",
       "        <tr>\n",
       "            <td>civ </td> <td>15442312        </td> <td>5.95                              </td> <td>153.69                               </td>\n",
       "        </tr>\n",
       "        <tr>\n",
       "            <td>cod </td> <td>45296124        </td> <td>6.67                              </td> <td>173.97                               </td>\n",
       "        </tr>\n",
       "        <tr>\n",
       "            <td>col </td> <td>36462745        </td> <td>2.77                              </td> <td>28.68                                </td>\n",
       "        </tr>\n",
       "    </tbody>\n",
       "</table>\n",
       "<p>... (40 rows omitted)</p>"
      ],
      "text/plain": [
       "geo  | population_total | children_per_woman_total_fertility | child_mortality_under_5_per_1000_born\n",
       "afg  | 17763266         | 7.76                               | 146.13\n",
       "ago  | 14170973         | 6.85                               | 221.29\n",
       "arg  | 35513793         | 2.78                               | 23.08\n",
       "bgd  | 124862179        | 3.51                               | 108.19\n",
       "bra  | 164202549        | 2.51                               | 44.98\n",
       "can  | 29767206         | 1.63                               | 6.71\n",
       "chn  | 1230944812       | 1.55                               | 45.48\n",
       "civ  | 15442312         | 5.95                               | 153.69\n",
       "cod  | 45296124         | 6.67                               | 173.97\n",
       "col  | 36462745         | 2.77                               | 28.68\n",
       "... (40 rows omitted)"
      ]
     },
     "execution_count": 54,
     "metadata": {},
     "output_type": "execute_result"
    }
   ],
   "source": [
    "# We first create a population table that only includes the 50 countries with the largest 2024 populations. We focus on these 50 countries only so that plotting later will run faster.\n",
    "#Only include rows for which all three statistics are available for the country and year.\n",
    "#restrict the result to country codes that appears in big_50\n",
    "big_50 = population.where('time', are.equal_to(2024)).sort(\"population_total\", descending=True).take(np.arange(50)).column('geo')\n",
    "population_of_big_50 = population.where('time', are.above(1959)).where('geo', are.contained_in(big_50))\n",
    "\n",
    "def stats_for_year(year):\n",
    "    \"\"\"Return a table of the stats for each country that year.\"\"\"\n",
    "    p = population_of_big_50.where('time', are.equal_to(year)).drop('time')\n",
    "    f = fertility.where('time', are.equal_to(year)).drop('time')\n",
    "    c = child_mortality.where('time', are.equal_to(year)).drop('time')\n",
    "    stats_for_year = p.join('geo', f).join('geo', c)\n",
    "  \n",
    "    return stats_for_year\n",
    "#calling stats_for_year on any year \n",
    "stats_for_year(1996)"
   ]
  },
  {
   "cell_type": "code",
   "execution_count": 55,
   "id": "41a1df5b",
   "metadata": {
    "deletable": false,
    "editable": false
   },
   "outputs": [
    {
     "data": {
      "text/html": [
       "<p><strong><pre style='display: inline;'>q1_11</pre></strong> passed! 🎉</p>"
      ],
      "text/plain": [
       "q1_11 results: All test cases passed!"
      ]
     },
     "execution_count": 55,
     "metadata": {},
     "output_type": "execute_result"
    }
   ],
   "source": [
    "grader.check(\"q1_11\")"
   ]
  },
  {
   "cell_type": "markdown",
   "id": "4f212a62",
   "metadata": {},
   "source": [
    "---\n",
    "\n",
    "**Question 12.** Create a table called `pop_by_decade` with two columns called `decade` and `population`, in this order. It has a row for each year that starts a decade, in increasing order starting with 1960 and ending with 2020. For example, 1960 is the start of the 1960's decade. The `population` column contains the total population of all countries included in the result of `stats_for_year(year)` for the first `year` of the decade. You should see that these countries contain most of the world's population.\n",
    "\n",
    "*Hint:* One approach is to define a function `pop_for_year` that computes this total population, then `apply` it to the `decade` column.  **Think about how you can use the `stats_for_year` function** from the previous question if you want to implement `pop_for_year`.\n",
    "\n",
    "This first test is just a sanity check for your helper function if you choose to use it. **You will not lose points for not implementing the function `pop_for_year`**.\n",
    "\n",
    "**Note:** The cell where you will generate the `pop_by_decade` table is below the cell where you can choose to define the helper function `pop_for_year`. You should define your `pop_by_decade` table in the cell that starts with the table `decades` being defined. \n"
   ]
  },
  {
   "cell_type": "code",
   "execution_count": 80,
   "id": "73385aa8",
   "metadata": {
    "tags": []
   },
   "outputs": [],
   "source": [
    "def pop_for_year(year):\n",
    "    \"\"\"Return the total population for the specified year.\"\"\"\n",
    "    total_pop = stats_for_year(year).column(\"population_total\")\n",
    "    return sum(total_pop)\n"
   ]
  },
  {
   "cell_type": "code",
   "execution_count": 81,
   "id": "2435893d",
   "metadata": {
    "deletable": false,
    "editable": false
   },
   "outputs": [
    {
     "data": {
      "text/html": [
       "<p><strong><pre style='display: inline;'>q1_12_0</pre></strong> passed! ✨</p>"
      ],
      "text/plain": [
       "q1_12_0 results: All test cases passed!"
      ]
     },
     "execution_count": 81,
     "metadata": {},
     "output_type": "execute_result"
    }
   ],
   "source": [
    "grader.check(\"q1_12_0\")"
   ]
  },
  {
   "cell_type": "markdown",
   "id": "91e9ec48",
   "metadata": {},
   "source": [
    "---\n",
    "\n",
    "Now that you've defined your helper function (if you've chosen to do so), define the `pop_by_decade` table."
   ]
  },
  {
   "cell_type": "code",
   "execution_count": 90,
   "id": "2fb65f28",
   "metadata": {
    "deletable": false,
    "tags": []
   },
   "outputs": [
    {
     "data": {
      "text/html": [
       "<table border=\"1\" class=\"dataframe\">\n",
       "    <thead>\n",
       "        <tr>\n",
       "            <th>decade</th> <th>population</th>\n",
       "        </tr>\n",
       "    </thead>\n",
       "    <tbody>\n",
       "        <tr>\n",
       "            <td>1960  </td> <td>2,604,997,601</td>\n",
       "        </tr>\n",
       "        <tr>\n",
       "            <td>1970  </td> <td>3,202,277,698</td>\n",
       "        </tr>\n",
       "        <tr>\n",
       "            <td>1980  </td> <td>3,863,485,128</td>\n",
       "        </tr>\n",
       "        <tr>\n",
       "            <td>1990  </td> <td>4,639,963,324</td>\n",
       "        </tr>\n",
       "        <tr>\n",
       "            <td>2000  </td> <td>5,381,686,829</td>\n",
       "        </tr>\n",
       "        <tr>\n",
       "            <td>2010  </td> <td>6,107,215,351</td>\n",
       "        </tr>\n",
       "        <tr>\n",
       "            <td>2020  </td> <td>6,840,687,359</td>\n",
       "        </tr>\n",
       "    </tbody>\n",
       "</table>"
      ],
      "text/plain": [
       "decade | population\n",
       "1960   | 2,604,997,601\n",
       "1970   | 3,202,277,698\n",
       "1980   | 3,863,485,128\n",
       "1990   | 4,639,963,324\n",
       "2000   | 5,381,686,829\n",
       "2010   | 6,107,215,351\n",
       "2020   | 6,840,687,359"
      ]
     },
     "execution_count": 90,
     "metadata": {},
     "output_type": "execute_result"
    }
   ],
   "source": [
    "decades = Table().with_column('decade', np.arange(1960, 2021, 10))\n",
    "popul = decades.apply(pop_for_year, \"decade\")\n",
    "pop_by_decade = decades.with_column('population', popul)\n",
    "pop_by_decade.set_format(1, NumberFormatter)"
   ]
  },
  {
   "cell_type": "code",
   "execution_count": 91,
   "id": "be34c173",
   "metadata": {
    "deletable": false,
    "editable": false
   },
   "outputs": [
    {
     "data": {
      "text/html": [
       "<p><strong><pre style='display: inline;'>q1_12</pre></strong> passed! 🙌</p>"
      ],
      "text/plain": [
       "q1_12 results: All test cases passed!"
      ]
     },
     "execution_count": 91,
     "metadata": {},
     "output_type": "execute_result"
    }
   ],
   "source": [
    "grader.check(\"q1_12\")"
   ]
  },
  {
   "cell_type": "markdown",
   "id": "16158f4e",
   "metadata": {
    "deletable": false,
    "editable": false
   },
   "source": [
    "The `countries` table describes various characteristics of countries. The `country` column contains the same codes as the `geo` column in each of the other data tables (`population`, `fertility`, and `child_mortality`). The `world_6region` column classifies each country into a region of the world. Run the cell below to inspect the data."
   ]
  },
  {
   "cell_type": "code",
   "execution_count": 134,
   "id": "fc912c9a",
   "metadata": {},
   "outputs": [
    {
     "data": {
      "text/html": [
       "<table border=\"1\" class=\"dataframe\">\n",
       "    <thead>\n",
       "        <tr>\n",
       "            <th>country</th> <th>name</th> <th>world_6region</th>\n",
       "        </tr>\n",
       "    </thead>\n",
       "    <tbody>\n",
       "        <tr>\n",
       "            <td>afg    </td> <td>Afghanistan         </td> <td>south_asia              </td>\n",
       "        </tr>\n",
       "        <tr>\n",
       "            <td>ago    </td> <td>Angola              </td> <td>sub_saharan_africa      </td>\n",
       "        </tr>\n",
       "        <tr>\n",
       "            <td>alb    </td> <td>Albania             </td> <td>europe_central_asia     </td>\n",
       "        </tr>\n",
       "        <tr>\n",
       "            <td>and    </td> <td>Andorra             </td> <td>europe_central_asia     </td>\n",
       "        </tr>\n",
       "        <tr>\n",
       "            <td>are    </td> <td>United Arab Emirates</td> <td>middle_east_north_africa</td>\n",
       "        </tr>\n",
       "        <tr>\n",
       "            <td>arg    </td> <td>Argentina           </td> <td>america                 </td>\n",
       "        </tr>\n",
       "        <tr>\n",
       "            <td>arm    </td> <td>Armenia             </td> <td>europe_central_asia     </td>\n",
       "        </tr>\n",
       "        <tr>\n",
       "            <td>atg    </td> <td>Antigua and Barbuda </td> <td>america                 </td>\n",
       "        </tr>\n",
       "        <tr>\n",
       "            <td>aus    </td> <td>Australia           </td> <td>east_asia_pacific       </td>\n",
       "        </tr>\n",
       "        <tr>\n",
       "            <td>aut    </td> <td>Austria             </td> <td>europe_central_asia     </td>\n",
       "        </tr>\n",
       "    </tbody>\n",
       "</table>\n",
       "<p>... (187 rows omitted)</p>"
      ],
      "text/plain": [
       "country | name                 | world_6region\n",
       "afg     | Afghanistan          | south_asia\n",
       "ago     | Angola               | sub_saharan_africa\n",
       "alb     | Albania              | europe_central_asia\n",
       "and     | Andorra              | europe_central_asia\n",
       "are     | United Arab Emirates | middle_east_north_africa\n",
       "arg     | Argentina            | america\n",
       "arm     | Armenia              | europe_central_asia\n",
       "atg     | Antigua and Barbuda  | america\n",
       "aus     | Australia            | east_asia_pacific\n",
       "aut     | Austria              | europe_central_asia\n",
       "... (187 rows omitted)"
      ]
     },
     "execution_count": 134,
     "metadata": {},
     "output_type": "execute_result"
    }
   ],
   "source": [
    "countries = Table.read_table('countries.csv').where('country', are.contained_in(population.group('geo').column(0)))\n",
    "countries.select('country', 'name', 'world_6region')"
   ]
  },
  {
   "cell_type": "markdown",
   "id": "b9ac5794",
   "metadata": {},
   "source": [
    "---\n",
    "\n",
    "**Question 13.** Create a table called `region_counts`. It should contain two columns called `region` and `count`. The `region` column should contain regions of the world, and the `count` column should contain the number of countries in each region that appears in the result of `stats_for_year(2024)`. \n",
    "\n",
    "For example, one row would have `south_asia` as its `region` value and an integer as its `count` value: the number of large South Asian countries for which we have population, fertility, and child mortality numbers from 2024.\n",
    "\n",
    "*Hint*: You may have to relabel a column to name it `region`. \n"
   ]
  },
  {
   "cell_type": "code",
   "execution_count": 141,
   "id": "811ef97d",
   "metadata": {
    "deletable": false,
    "tags": []
   },
   "outputs": [
    {
     "data": {
      "text/html": [
       "<table border=\"1\" class=\"dataframe\">\n",
       "    <thead>\n",
       "        <tr>\n",
       "            <th>region</th> <th>count</th>\n",
       "        </tr>\n",
       "    </thead>\n",
       "    <tbody>\n",
       "        <tr>\n",
       "            <td>america                 </td> <td>7    </td>\n",
       "        </tr>\n",
       "        <tr>\n",
       "            <td>east_asia_pacific       </td> <td>9    </td>\n",
       "        </tr>\n",
       "        <tr>\n",
       "            <td>europe_central_asia     </td> <td>10   </td>\n",
       "        </tr>\n",
       "        <tr>\n",
       "            <td>middle_east_north_africa</td> <td>7    </td>\n",
       "        </tr>\n",
       "        <tr>\n",
       "            <td>south_asia              </td> <td>4    </td>\n",
       "        </tr>\n",
       "        <tr>\n",
       "            <td>sub_saharan_africa      </td> <td>13   </td>\n",
       "        </tr>\n",
       "    </tbody>\n",
       "</table>"
      ],
      "text/plain": [
       "region                   | count\n",
       "america                  | 7\n",
       "east_asia_pacific        | 9\n",
       "europe_central_asia      | 10\n",
       "middle_east_north_africa | 7\n",
       "south_asia               | 4\n",
       "sub_saharan_africa       | 13"
      ]
     },
     "execution_count": 141,
     "metadata": {},
     "output_type": "execute_result"
    }
   ],
   "source": [
    "stats_for_2024 = stats_for_year(2024)\n",
    "country = stats_for_2024.column('geo')\n",
    "countries_2024 = countries.where('country', are.contained_in(country))\n",
    "region_counts = countries_2024.group('world_6region').relabel('world_6region', 'region')\n",
    "region_counts"
   ]
  },
  {
   "cell_type": "code",
   "execution_count": 142,
   "id": "35c20371",
   "metadata": {
    "deletable": false,
    "editable": false
   },
   "outputs": [
    {
     "data": {
      "text/html": [
       "<p><strong><pre style='display: inline;'>q1_13</pre></strong> passed! 🌈</p>"
      ],
      "text/plain": [
       "q1_13 results: All test cases passed!"
      ]
     },
     "execution_count": 142,
     "metadata": {},
     "output_type": "execute_result"
    }
   ],
   "source": [
    "grader.check(\"q1_13\")"
   ]
  },
  {
   "cell_type": "markdown",
   "id": "9e78ec36",
   "metadata": {
    "deletable": false
   },
   "source": [
    "The following scatter diagram compares total fertility rate and child mortality rate for each country in 1960. The area of each dot represents the population of the country, and the color represents its region of the world. Run the cell. Do you think you can identify any of the dots?"
   ]
  },
  {
   "cell_type": "code",
   "execution_count": 143,
   "id": "07c89ff0",
   "metadata": {
    "deletable": false
   },
   "outputs": [
    {
     "data": {
      "image/png": "[encoded data removed]",
      "text/plain": [
       "<Figure size 500x500 with 1 Axes>"
      ]
     },
     "metadata": {},
     "output_type": "display_data"
    }
   ],
   "source": [
    "from functools import lru_cache as cache\n",
    "\n",
    "# This cache annotation makes sure that if the same year\n",
    "# is passed as an argument twice, the work of computing\n",
    "# the result is only carried out once.\n",
    "@cache(None)\n",
    "def stats_relabeled(year):\n",
    "    \"\"\"Relabeled and cached version of stats_for_year.\"\"\"\n",
    "    return stats_for_year(year).relabel(2, 'Children per woman').relabel(3, 'Child deaths per 1000 born')\n",
    "\n",
    "def fertility_vs_child_mortality(year):\n",
    "    \"\"\"Draw a color scatter diagram comparing child mortality and fertility.\"\"\"\n",
    "    with_region = stats_relabeled(year).join('geo', countries.select('country', 'world_6region'), 'country')\n",
    "    with_region.scatter(2, 3, sizes=1, group=4, s=500)\n",
    "    plots.xlim(0,10)\n",
    "    plots.ylim(-50, 500)\n",
    "    plots.title(year)\n",
    "    plots.show()\n",
    "\n",
    "fertility_vs_child_mortality(1960)"
   ]
  },
  {
   "cell_type": "markdown",
   "id": "c9cb2e85",
   "metadata": {},
   "source": [
    "---\n",
    "\n",
    "**Question 14.** Assign `scatter_statements` to an array of the numbers of each statement below that can be inferred from this scatter diagram for 1960. \n",
    "1. All countries in `europe_central_asia` had uniformly low fertility rates.\n",
    "1. The lowest child mortality rate of any country was from an `east_asia_pacific` country.\n",
    "1. Most countries had a fertility rate above 5.\n",
    "1. There was an association between child mortality and fertility.\n",
    "1. The two largest countries by population also had the two highest child mortality rates.\n"
   ]
  },
  {
   "cell_type": "code",
   "execution_count": 144,
   "id": "40c8ad0b",
   "metadata": {
    "deletable": false,
    "tags": []
   },
   "outputs": [],
   "source": [
    "scatter_statements = (1,3,4)"
   ]
  },
  {
   "cell_type": "code",
   "execution_count": 145,
   "id": "797fd2e0",
   "metadata": {
    "deletable": false,
    "editable": false
   },
   "outputs": [
    {
     "data": {
      "text/html": [
       "<p><strong><pre style='display: inline;'>q1_14</pre></strong> passed! 🚀</p>"
      ],
      "text/plain": [
       "q1_14 results: All test cases passed!"
      ]
     },
     "execution_count": 145,
     "metadata": {},
     "output_type": "execute_result"
    }
   ],
   "source": [
    "grader.check(\"q1_14\")"
   ]
  },
  {
   "cell_type": "markdown",
   "id": "63878db0",
   "metadata": {
    "deletable": false
   },
   "source": [
    "The result of the cell below is interactive. Drag the slider to the right to see how countries have changed over time. You’ll find that in terms of population growth, the divide between the countries of the global North and global South that existed in the 1960s has shrunk significantly. \n",
    "\n",
    "This shift in fertility rates is the reason that the global population is expected to grow more slowly in the 21st century than it did in the 19th and 20th centuries. Fertility rates change for reasons that include cultural patterns, better prospects for children surviving to adulthood, and family planning (such as contraception and women’s greater control over their reproduction).\n",
    "\n",
    "**Note:** Don't worry if a red warning pops up when running the cell below. You'll still be able to run the cell!"
   ]
  },
  {
   "cell_type": "code",
   "execution_count": 146,
   "id": "188c5d9a",
   "metadata": {
    "deletable": false,
    "scrolled": true
   },
   "outputs": [
    {
     "data": {
      "application/vnd.jupyter.widget-view+json": {
       "model_id": "b8bf8e86e9ce45d58f153a51f2a6820b",
       "version_major": 2,
       "version_minor": 0
      },
      "text/plain": [
       "interactive(children=(IntSlider(value=1960, description='year', max=2024, min=1960), Output()), _dom_classes=(…"
      ]
     },
     "metadata": {},
     "output_type": "display_data"
    }
   ],
   "source": [
    "_ = widgets.interact(fertility_vs_child_mortality, \n",
    "                     year=widgets.IntSlider(min=1960, max=2024, value=1960))"
   ]
  },
  {
   "cell_type": "markdown",
   "id": "907768ed",
   "metadata": {
    "deletable": false,
    "editable": false
   },
   "source": [
    "Now is a great time to take a break and watch the same data presented by [Hans Rosling in a 2010 TEDx talk](https://www.gapminder.org/videos/reducing-child-mortality-a-moral-and-environmental-imperative) with smoother animation and witty commentary."
   ]
  },
  {
   "cell_type": "markdown",
   "id": "e87af52b",
   "metadata": {},
   "source": [
    "When we look at population and fertility as data scientists, we need to learn about the experiences of people in real life, not just abstractly as data. We should also recognize that population studies have sometimes had political undercurrents. Those undercurrents have included population control, control of women’s reproduction, or fears of shifts between racial groups. To do better as data scientists, we should check our assumptions to avoid unthinkingly reproducing past patterns."
   ]
  },
  {
   "cell_type": "markdown",
   "id": "4b9a2726",
   "metadata": {
    "deletable": false
   },
   "source": [
    "<hr style=\"border: 5px solid #003262;\" />\n",
    "<hr style=\"border: 1px solid #fdb515;\" />\n",
    "\n",
    "## 2. Global Poverty"
   ]
  },
  {
   "cell_type": "markdown",
   "id": "e90cf053",
   "metadata": {
    "deletable": false
   },
   "source": [
    "In 1800, 85% of the world's 1 billion people lived in [extreme poverty](https://en.wikipedia.org/wiki/Extreme_poverty), defined by the United Nations as \"a condition characterized by severe deprivation of basic human needs, including food, safe drinking water, sanitation facilities, health, shelter, education and information.\" At the time when the data in this project were gathered, a common definition of extreme poverty was a person living on less than \\$1.25 a day.\n",
    "\n",
    "In 2018, the proportion of people living in extreme poverty was estimated to be [about 9\\%](https://unstats.un.org/sdgs/report/2019/goal-01/). Although the world rate of extreme poverty has declined consistently for hundreds of years, the number of people living in extreme poverty is still over 600 million. The United Nations adopted an [ambitious goal](http://www.un.org/sustainabledevelopment/poverty/): \"By 2030, eradicate extreme poverty for all people everywhere.\"\n",
    "\n",
    "In this part of the project, we will examine some aspects of global poverty that might affect whether the goal is achievable. The causes of poverty are complex. They include global histories, such as colonialism, as well as factors such as health care, economics, and social inequality in each country."
   ]
  },
  {
   "cell_type": "markdown",
   "id": "ab59c4cc",
   "metadata": {
    "deletable": false,
    "editable": false
   },
   "source": [
    "First, load the population and poverty rate by country and year and the country descriptions. While the `population` table has values for every recent year for many countries, the `poverty` table only includes certain years for each country in which a measurement of the rate of extreme poverty was available."
   ]
  },
  {
   "cell_type": "code",
   "execution_count": 148,
   "id": "78ac2caa",
   "metadata": {},
   "outputs": [
    {
     "data": {
      "text/html": [
       "<table border=\"1\" class=\"dataframe\">\n",
       "    <thead>\n",
       "        <tr>\n",
       "            <th>geo</th> <th>time</th> <th>extreme_poverty_percent_people_below_125_a_day</th>\n",
       "        </tr>\n",
       "    </thead>\n",
       "    <tbody>\n",
       "        <tr>\n",
       "            <td>alb </td> <td>1996</td> <td>0.2                                           </td>\n",
       "        </tr>\n",
       "        <tr>\n",
       "            <td>alb </td> <td>2002</td> <td>0.73                                          </td>\n",
       "        </tr>\n",
       "        <tr>\n",
       "            <td>alb </td> <td>2004</td> <td>0.53                                          </td>\n",
       "        </tr>\n",
       "    </tbody>\n",
       "</table>\n",
       "<p>... (1096 rows omitted)</p>"
      ],
      "text/plain": [
       "<IPython.core.display.HTML object>"
      ]
     },
     "metadata": {},
     "output_type": "display_data"
    }
   ],
   "source": [
    "population = Table.read_table('population.csv') \n",
    "countries = Table.read_table('countries.csv').where('country', are.contained_in(population.group('geo').column('geo')))\n",
    "poverty = Table.read_table('poverty.csv')\n",
    "poverty.show(3)"
   ]
  },
  {
   "cell_type": "markdown",
   "id": "d586c5eb",
   "metadata": {},
   "source": [
    "---\n",
    "\n",
    "**Question 1.** Assign `latest_poverty` to a three-column table with one row for each country that appears in the `poverty` table. The first column should contain the 3-letter code for the country. The second column should contain the most recent year for which an extreme poverty rate is available for the country. The third column should contain the poverty rate in that year. **Do not change the last line, so that the labels of your table are set correctly.**\n",
    "\n",
    "*Hint*: think about how ```group``` works: it does a sequential search of the table (from top to bottom) and collects values in the array in the order in which they appear, and then applies a function to that array. The `first` function may be helpful, but you are not required to use it.\n"
   ]
  },
  {
   "cell_type": "code",
   "execution_count": 157,
   "id": "27fe11cf",
   "metadata": {
    "deletable": false,
    "tags": []
   },
   "outputs": [
    {
     "data": {
      "text/html": [
       "<table border=\"1\" class=\"dataframe\">\n",
       "    <thead>\n",
       "        <tr>\n",
       "            <th>geo</th> <th>time</th> <th>poverty_percent</th>\n",
       "        </tr>\n",
       "    </thead>\n",
       "    <tbody>\n",
       "        <tr>\n",
       "            <td>ago </td> <td>2009</td> <td>43.37          </td>\n",
       "        </tr>\n",
       "        <tr>\n",
       "            <td>alb </td> <td>2012</td> <td>0.46           </td>\n",
       "        </tr>\n",
       "        <tr>\n",
       "            <td>arg </td> <td>2011</td> <td>1.41           </td>\n",
       "        </tr>\n",
       "        <tr>\n",
       "            <td>arm </td> <td>2012</td> <td>1.75           </td>\n",
       "        </tr>\n",
       "        <tr>\n",
       "            <td>aus </td> <td>2003</td> <td>1.36           </td>\n",
       "        </tr>\n",
       "        <tr>\n",
       "            <td>aut </td> <td>2004</td> <td>0.34           </td>\n",
       "        </tr>\n",
       "        <tr>\n",
       "            <td>aze </td> <td>2008</td> <td>0.31           </td>\n",
       "        </tr>\n",
       "        <tr>\n",
       "            <td>bdi </td> <td>2006</td> <td>81.32          </td>\n",
       "        </tr>\n",
       "        <tr>\n",
       "            <td>bel </td> <td>2000</td> <td>0.5            </td>\n",
       "        </tr>\n",
       "        <tr>\n",
       "            <td>ben </td> <td>2012</td> <td>51.61          </td>\n",
       "        </tr>\n",
       "    </tbody>\n",
       "</table>\n",
       "<p>... (135 rows omitted)</p>"
      ],
      "text/plain": [
       "geo  | time | poverty_percent\n",
       "ago  | 2009 | 43.37\n",
       "alb  | 2012 | 0.46\n",
       "arg  | 2011 | 1.41\n",
       "arm  | 2012 | 1.75\n",
       "aus  | 2003 | 1.36\n",
       "aut  | 2004 | 0.34\n",
       "aze  | 2008 | 0.31\n",
       "bdi  | 2006 | 81.32\n",
       "bel  | 2000 | 0.5\n",
       "ben  | 2012 | 51.61\n",
       "... (135 rows omitted)"
      ]
     },
     "execution_count": 157,
     "metadata": {},
     "output_type": "execute_result"
    }
   ],
   "source": [
    "def first(values):\n",
    "    return values.item(0)\n",
    "latest_poverty = poverty.sort(\"time\", descending = True).group(\"geo\", first)\n",
    "latest_poverty = latest_poverty.relabeled(0, 'geo').relabeled(1, 'time').relabeled(2, 'poverty_percent') # You should *not* change this line.\n",
    "latest_poverty"
   ]
  },
  {
   "cell_type": "code",
   "execution_count": 158,
   "id": "4e5db8fc",
   "metadata": {
    "deletable": false,
    "editable": false
   },
   "outputs": [
    {
     "data": {
      "text/html": [
       "<p><strong><pre style='display: inline;'>q2_1</pre></strong> passed! 🌟</p>"
      ],
      "text/plain": [
       "q2_1 results: All test cases passed!"
      ]
     },
     "execution_count": 158,
     "metadata": {},
     "output_type": "execute_result"
    }
   ],
   "source": [
    "grader.check(\"q2_1\")"
   ]
  },
  {
   "cell_type": "markdown",
   "id": "5b18978c",
   "metadata": {},
   "source": [
    "---\n",
    "\n",
    "**Question 2.** Using both `latest_poverty` and `population`, create a four-column table called `recent_poverty_total` with one row for each country in `latest_poverty`. The four columns should have the following labels and contents:\n",
    "1. `geo` contains the 3-letter country code,\n",
    "1. `poverty_percent` contains the most recent poverty percent,\n",
    "1. `population_total` contains the population of the country in 2010,\n",
    "1. `poverty_total` contains the number of people in poverty **rounded to the nearest integer**, based on the 2010 population and most recent poverty rate.\n",
    "\n",
    "*Hint*: You are not required to use `poverty_and_pop`, and you are always welcome to add any additional names. "
   ]
  },
  {
   "cell_type": "code",
   "execution_count": 167,
   "id": "6f3e9c85",
   "metadata": {
    "deletable": false,
    "tags": []
   },
   "outputs": [
    {
     "data": {
      "text/html": [
       "<table border=\"1\" class=\"dataframe\">\n",
       "    <thead>\n",
       "        <tr>\n",
       "            <th>geo</th> <th>poverty_percent</th> <th>population_total</th> <th>poverty_total</th>\n",
       "        </tr>\n",
       "    </thead>\n",
       "    <tbody>\n",
       "        <tr>\n",
       "            <td>ago </td> <td>43.37          </td> <td>23294825        </td> <td>1.0103e+07   </td>\n",
       "        </tr>\n",
       "        <tr>\n",
       "            <td>alb </td> <td>0.46           </td> <td>2928722         </td> <td>13472        </td>\n",
       "        </tr>\n",
       "        <tr>\n",
       "            <td>arg </td> <td>1.41           </td> <td>41288694        </td> <td>582171       </td>\n",
       "        </tr>\n",
       "        <tr>\n",
       "            <td>arm </td> <td>1.75           </td> <td>2931078         </td> <td>51294        </td>\n",
       "        </tr>\n",
       "        <tr>\n",
       "            <td>aus </td> <td>1.36           </td> <td>22141581        </td> <td>301126       </td>\n",
       "        </tr>\n",
       "        <tr>\n",
       "            <td>aut </td> <td>0.34           </td> <td>8365092         </td> <td>28441        </td>\n",
       "        </tr>\n",
       "        <tr>\n",
       "            <td>aze </td> <td>0.31           </td> <td>9146851         </td> <td>28355        </td>\n",
       "        </tr>\n",
       "        <tr>\n",
       "            <td>bdi </td> <td>81.32          </td> <td>9376444         </td> <td>7.62492e+06  </td>\n",
       "        </tr>\n",
       "        <tr>\n",
       "            <td>bel </td> <td>0.5            </td> <td>10936626        </td> <td>54683        </td>\n",
       "        </tr>\n",
       "        <tr>\n",
       "            <td>ben </td> <td>51.61          </td> <td>9797484         </td> <td>5.05648e+06  </td>\n",
       "        </tr>\n",
       "    </tbody>\n",
       "</table>\n",
       "<p>... (135 rows omitted)</p>"
      ],
      "text/plain": [
       "geo  | poverty_percent | population_total | poverty_total\n",
       "ago  | 43.37           | 23294825         | 1.0103e+07\n",
       "alb  | 0.46            | 2928722          | 13472\n",
       "arg  | 1.41            | 41288694         | 582171\n",
       "arm  | 1.75            | 2931078          | 51294\n",
       "aus  | 1.36            | 22141581         | 301126\n",
       "aut  | 0.34            | 8365092          | 28441\n",
       "aze  | 0.31            | 9146851          | 28355\n",
       "bdi  | 81.32           | 9376444          | 7.62492e+06\n",
       "bel  | 0.5             | 10936626         | 54683\n",
       "ben  | 51.61           | 9797484          | 5.05648e+06\n",
       "... (135 rows omitted)"
      ]
     },
     "execution_count": 167,
     "metadata": {},
     "output_type": "execute_result"
    }
   ],
   "source": [
    "population_2010 = population.where(\"time\", are.equal_to(2010))\n",
    "poverty_and_pop = latest_poverty.join(\"geo\", population_2010).drop(\"time\",\"time_2\")\n",
    "poverty_total = np.round(((poverty_and_pop.column('poverty_percent'))*(poverty_and_pop.column('population_total')))/100)\n",
    "recent_poverty_total = poverty_and_pop.with_columns('poverty_total', poverty_total)\n",
    "recent_poverty_total\n"
   ]
  },
  {
   "cell_type": "code",
   "execution_count": 168,
   "id": "4a748828",
   "metadata": {
    "deletable": false,
    "editable": false
   },
   "outputs": [
    {
     "data": {
      "text/html": [
       "<p><strong><pre style='display: inline;'>q2_2</pre></strong> passed! 🚀</p>"
      ],
      "text/plain": [
       "q2_2 results: All test cases passed!"
      ]
     },
     "execution_count": 168,
     "metadata": {},
     "output_type": "execute_result"
    }
   ],
   "source": [
    "grader.check(\"q2_2\")"
   ]
  },
  {
   "cell_type": "markdown",
   "id": "e0f9b8dd",
   "metadata": {},
   "source": [
    "---\n",
    "\n",
    "**Question 3.** Assign the name `poverty_percent` to the known percentage of the world’s 2010 population that were living in extreme poverty. Assume that the `poverty_total` numbers in the `recent_poverty_total` table describe **all** people in 2010 living in extreme poverty. You should get a number that is above the 2018 global estimate of 9%, since many country-specific poverty rates are older than 2018.\n",
    "\n",
    "*Hint*: The sum of the `population_total` column in the `recent_poverty_total` table is not the world population, because only a subset of the world's countries are included in the `recent_poverty_total` table (only some countries have known poverty rates). Use the `population` table to compute the world's 2010 total population.\n",
    "\n",
    "*Hint*: We are computing a percentage (value between 0 and 100), not a proportion (value between 0 and 1).\n"
   ]
  },
  {
   "cell_type": "code",
   "execution_count": 174,
   "id": "f64da91d",
   "metadata": {
    "deletable": false,
    "tags": []
   },
   "outputs": [
    {
     "data": {
      "text/plain": [
       "14.429159949245513"
      ]
     },
     "execution_count": 174,
     "metadata": {},
     "output_type": "execute_result"
    }
   ],
   "source": [
    "world_population = sum(population.where('time', are.equal_to(2010)).column(\"population_total\"))\n",
    "poverty_percent = sum(recent_poverty_total.column(\"poverty_total\"))/world_population*100\n",
    "poverty_percent"
   ]
  },
  {
   "cell_type": "code",
   "execution_count": 175,
   "id": "1f057c23",
   "metadata": {
    "deletable": false,
    "editable": false
   },
   "outputs": [
    {
     "data": {
      "text/html": [
       "<p><strong><pre style='display: inline;'>q2_3</pre></strong> passed! 🎉</p>"
      ],
      "text/plain": [
       "q2_3 results: All test cases passed!"
      ]
     },
     "execution_count": 175,
     "metadata": {},
     "output_type": "execute_result"
    }
   ],
   "source": [
    "grader.check(\"q2_3\")"
   ]
  },
  {
   "cell_type": "markdown",
   "id": "c2bdef58",
   "metadata": {
    "deletable": false,
    "editable": false
   },
   "source": [
    "The `countries` table includes not only the name and region of countries, but also their positions on the globe."
   ]
  },
  {
   "cell_type": "code",
   "execution_count": 176,
   "id": "01af0741",
   "metadata": {
    "deletable": false,
    "editable": false
   },
   "outputs": [
    {
     "data": {
      "text/html": [
       "<table border=\"1\" class=\"dataframe\">\n",
       "    <thead>\n",
       "        <tr>\n",
       "            <th>country</th> <th>name</th> <th>world_4region</th> <th>latitude</th> <th>longitude</th>\n",
       "        </tr>\n",
       "    </thead>\n",
       "    <tbody>\n",
       "        <tr>\n",
       "            <td>afg    </td> <td>Afghanistan         </td> <td>asia         </td> <td>33      </td> <td>66       </td>\n",
       "        </tr>\n",
       "        <tr>\n",
       "            <td>ago    </td> <td>Angola              </td> <td>africa       </td> <td>-12.5   </td> <td>18.5     </td>\n",
       "        </tr>\n",
       "        <tr>\n",
       "            <td>alb    </td> <td>Albania             </td> <td>europe       </td> <td>41      </td> <td>20       </td>\n",
       "        </tr>\n",
       "        <tr>\n",
       "            <td>and    </td> <td>Andorra             </td> <td>europe       </td> <td>42.5078 </td> <td>1.52109  </td>\n",
       "        </tr>\n",
       "        <tr>\n",
       "            <td>are    </td> <td>United Arab Emirates</td> <td>asia         </td> <td>23.75   </td> <td>54.5     </td>\n",
       "        </tr>\n",
       "        <tr>\n",
       "            <td>arg    </td> <td>Argentina           </td> <td>americas     </td> <td>-34     </td> <td>-64      </td>\n",
       "        </tr>\n",
       "        <tr>\n",
       "            <td>arm    </td> <td>Armenia             </td> <td>europe       </td> <td>40.25   </td> <td>45       </td>\n",
       "        </tr>\n",
       "        <tr>\n",
       "            <td>atg    </td> <td>Antigua and Barbuda </td> <td>americas     </td> <td>17.05   </td> <td>-61.8    </td>\n",
       "        </tr>\n",
       "        <tr>\n",
       "            <td>aus    </td> <td>Australia           </td> <td>asia         </td> <td>-25     </td> <td>135      </td>\n",
       "        </tr>\n",
       "        <tr>\n",
       "            <td>aut    </td> <td>Austria             </td> <td>europe       </td> <td>47.3333 </td> <td>13.3333  </td>\n",
       "        </tr>\n",
       "    </tbody>\n",
       "</table>\n",
       "<p>... (187 rows omitted)</p>"
      ],
      "text/plain": [
       "country | name                 | world_4region | latitude | longitude\n",
       "afg     | Afghanistan          | asia          | 33       | 66\n",
       "ago     | Angola               | africa        | -12.5    | 18.5\n",
       "alb     | Albania              | europe        | 41       | 20\n",
       "and     | Andorra              | europe        | 42.5078  | 1.52109\n",
       "are     | United Arab Emirates | asia          | 23.75    | 54.5\n",
       "arg     | Argentina            | americas      | -34      | -64\n",
       "arm     | Armenia              | europe        | 40.25    | 45\n",
       "atg     | Antigua and Barbuda  | americas      | 17.05    | -61.8\n",
       "aus     | Australia            | asia          | -25      | 135\n",
       "aut     | Austria              | europe        | 47.3333  | 13.3333\n",
       "... (187 rows omitted)"
      ]
     },
     "execution_count": 176,
     "metadata": {},
     "output_type": "execute_result"
    }
   ],
   "source": [
    "countries.select('country', 'name', 'world_4region', 'latitude', 'longitude')"
   ]
  },
  {
   "cell_type": "markdown",
   "id": "745661e4",
   "metadata": {},
   "source": [
    "---\n",
    "\n",
    "**Question 4.** Using both `countries` and `recent_poverty_total`, create a five-column table called `poverty_map` with one row for every country in `recent_poverty_total`.  The five columns should have the following labels and contents, in this order:\n",
    "1. `latitude` contains the country's latitude,\n",
    "1. `longitude` contains the country's longitude,\n",
    "1. `name` contains the country's name,\n",
    "1. `region` contains the country's region from the `world_4region` column of `countries`,\n",
    "1. `poverty_total` contains the country's poverty total.\n"
   ]
  },
  {
   "cell_type": "code",
   "execution_count": 181,
   "id": "65824dc7",
   "metadata": {
    "deletable": false,
    "tags": []
   },
   "outputs": [
    {
     "data": {
      "text/html": [
       "<table border=\"1\" class=\"dataframe\">\n",
       "    <thead>\n",
       "        <tr>\n",
       "            <th>latitude</th> <th>longitude</th> <th>name</th> <th>region</th> <th>poverty_total</th>\n",
       "        </tr>\n",
       "    </thead>\n",
       "    <tbody>\n",
       "        <tr>\n",
       "            <td>-12.5   </td> <td>18.5     </td> <td>Angola    </td> <td>africa  </td> <td>1.0103e+07   </td>\n",
       "        </tr>\n",
       "        <tr>\n",
       "            <td>41      </td> <td>20       </td> <td>Albania   </td> <td>europe  </td> <td>13472        </td>\n",
       "        </tr>\n",
       "        <tr>\n",
       "            <td>-34     </td> <td>-64      </td> <td>Argentina </td> <td>americas</td> <td>582171       </td>\n",
       "        </tr>\n",
       "        <tr>\n",
       "            <td>40.25   </td> <td>45       </td> <td>Armenia   </td> <td>europe  </td> <td>51294        </td>\n",
       "        </tr>\n",
       "        <tr>\n",
       "            <td>-25     </td> <td>135      </td> <td>Australia </td> <td>asia    </td> <td>301126       </td>\n",
       "        </tr>\n",
       "        <tr>\n",
       "            <td>47.3333 </td> <td>13.3333  </td> <td>Austria   </td> <td>europe  </td> <td>28441        </td>\n",
       "        </tr>\n",
       "        <tr>\n",
       "            <td>40.5    </td> <td>47.5     </td> <td>Azerbaijan</td> <td>europe  </td> <td>28355        </td>\n",
       "        </tr>\n",
       "        <tr>\n",
       "            <td>-3.5    </td> <td>30       </td> <td>Burundi   </td> <td>africa  </td> <td>7.62492e+06  </td>\n",
       "        </tr>\n",
       "        <tr>\n",
       "            <td>50.75   </td> <td>4.5      </td> <td>Belgium   </td> <td>europe  </td> <td>54683        </td>\n",
       "        </tr>\n",
       "        <tr>\n",
       "            <td>9.5     </td> <td>2.25     </td> <td>Benin     </td> <td>africa  </td> <td>5.05648e+06  </td>\n",
       "        </tr>\n",
       "    </tbody>\n",
       "</table>\n",
       "<p>... (135 rows omitted)</p>"
      ],
      "text/plain": [
       "latitude | longitude | name       | region   | poverty_total\n",
       "-12.5    | 18.5      | Angola     | africa   | 1.0103e+07\n",
       "41       | 20        | Albania    | europe   | 13472\n",
       "-34      | -64       | Argentina  | americas | 582171\n",
       "40.25    | 45        | Armenia    | europe   | 51294\n",
       "-25      | 135       | Australia  | asia     | 301126\n",
       "47.3333  | 13.3333   | Austria    | europe   | 28441\n",
       "40.5     | 47.5      | Azerbaijan | europe   | 28355\n",
       "-3.5     | 30        | Burundi    | africa   | 7.62492e+06\n",
       "50.75    | 4.5       | Belgium    | europe   | 54683\n",
       "9.5      | 2.25      | Benin      | africa   | 5.05648e+06\n",
       "... (135 rows omitted)"
      ]
     },
     "execution_count": 181,
     "metadata": {},
     "output_type": "execute_result"
    }
   ],
   "source": [
    "pop1 = recent_poverty_total.select(\"geo\", \"poverty_total\").relabeled(\"geo\", \"country\")\n",
    "poverty_map = countries.select(\"latitude\", \"longitude\",\"country\",\"name\", \"world_4region\").join(\"country\",pop1).relabeled(\"world_4region\", \"region\").drop(\"country\")\n",
    "poverty_map"
   ]
  },
  {
   "cell_type": "code",
   "execution_count": 182,
   "id": "e08a479f",
   "metadata": {
    "deletable": false,
    "editable": false
   },
   "outputs": [
    {
     "data": {
      "text/html": [
       "<p><strong><pre style='display: inline;'>q2_4</pre></strong> passed! 🍀</p>"
      ],
      "text/plain": [
       "q2_4 results: All test cases passed!"
      ]
     },
     "execution_count": 182,
     "metadata": {},
     "output_type": "execute_result"
    }
   ],
   "source": [
    "grader.check(\"q2_4\")"
   ]
  },
  {
   "cell_type": "markdown",
   "id": "bb00d7fe",
   "metadata": {
    "deletable": false,
    "editable": false
   },
   "source": [
    "Run the cell below to draw a map of the world in which the areas of circles represent the number of people living in extreme poverty. Double-click on the map to zoom in.\n",
    "\n",
    "> ***Note:*** If the cell below isn't loading, you can view the output [here](https://github.jonathanferrari.com/static/poverty_map.html)"
   ]
  },
  {
   "cell_type": "code",
   "execution_count": 184,
   "id": "4941ad94",
   "metadata": {
    "deletable": false,
    "editable": false,
    "scrolled": true
   },
   "outputs": [
    {
     "data": {
      "text/html": [
       "<div style=\"width:100%;\"><div style=\"position:relative;width:100%;height:0;padding-bottom:60%;\"><span style=\"color:#565656\">Make this Notebook Trusted to load map: File -> Trust Notebook</span><iframe srcdoc=\"&lt;!DOCTYPE html&gt;\n",
       "&lt;html&gt;\n",
       "&lt;head&gt;\n",
       "    \n",
       "    &lt;meta http-equiv=&quot;content-type&quot; content=&quot;text/html; charset=UTF-8&quot; /&gt;\n",
       "    \n",
       "        &lt;script&gt;\n",
       "            L_NO_TOUCH = false;\n",
       "            L_DISABLE_3D = false;\n",
       "        &lt;/script&gt;\n",
       "    \n",
       "    &lt;style&gt;html, body {width: 100%;height: 100%;margin: 0;padding: 0;}&lt;/style&gt;\n",
       "    &lt;style&gt;#map {position:absolute;top:0;bottom:0;right:0;left:0;}&lt;/style&gt;\n",
       "    &lt;script src=&quot;https://cdn.jsdelivr.net/npm/leaflet@1.9.3/dist/leaflet.js&quot;&gt;&lt;/script&gt;\n",
       "    &lt;script src=&quot;https://code.jquery.com/jquery-3.7.1.min.js&quot;&gt;&lt;/script&gt;\n",
       "    &lt;script src=&quot;https://cdn.jsdelivr.net/npm/bootstrap@5.2.2/dist/js/bootstrap.bundle.min.js&quot;&gt;&lt;/script&gt;\n",
       "    &lt;script src=&quot;https://cdnjs.cloudflare.com/ajax/libs/Leaflet.awesome-markers/2.0.2/leaflet.awesome-markers.js&quot;&gt;&lt;/script&gt;\n",
       "    &lt;link rel=&quot;stylesheet&quot; href=&quot;https://cdn.jsdelivr.net/npm/leaflet@1.9.3/dist/leaflet.css&quot;/&gt;\n",
       "    &lt;link rel=&quot;stylesheet&quot; href=&quot;https://cdn.jsdelivr.net/npm/bootstrap@5.2.2/dist/css/bootstrap.min.css&quot;/&gt;\n",
       "    &lt;link rel=&quot;stylesheet&quot; href=&quot;https://netdna.bootstrapcdn.com/bootstrap/3.0.0/css/bootstrap.min.css&quot;/&gt;\n",
       "    &lt;link rel=&quot;stylesheet&quot; href=&quot;https://cdn.jsdelivr.net/npm/@fortawesome/fontawesome-free@6.2.0/css/all.min.css&quot;/&gt;\n",
       "    &lt;link rel=&quot;stylesheet&quot; href=&quot;https://cdnjs.cloudflare.com/ajax/libs/Leaflet.awesome-markers/2.0.2/leaflet.awesome-markers.css&quot;/&gt;\n",
       "    &lt;link rel=&quot;stylesheet&quot; href=&quot;https://cdn.jsdelivr.net/gh/python-visualization/folium/folium/templates/leaflet.awesome.rotate.min.css&quot;/&gt;\n",
       "    \n",
       "            &lt;meta name=&quot;viewport&quot; content=&quot;width=device-width,\n",
       "                initial-scale=1.0, maximum-scale=1.0, user-scalable=no&quot; /&gt;\n",
       "            &lt;style&gt;\n",
       "                #map_6aa78215c90e31e165549f794bca61e4 {\n",
       "                    position: relative;\n",
       "                    width: 960.0px;\n",
       "                    height: 500.0px;\n",
       "                    left: 0.0%;\n",
       "                    top: 0.0%;\n",
       "                }\n",
       "                .leaflet-container { font-size: 1rem; }\n",
       "            &lt;/style&gt;\n",
       "        \n",
       "&lt;/head&gt;\n",
       "&lt;body&gt;\n",
       "    \n",
       "    \n",
       "            &lt;div class=&quot;folium-map&quot; id=&quot;map_6aa78215c90e31e165549f794bca61e4&quot; &gt;&lt;/div&gt;\n",
       "        \n",
       "&lt;/body&gt;\n",
       "&lt;script&gt;\n",
       "    \n",
       "    \n",
       "            var map_6aa78215c90e31e165549f794bca61e4 = L.map(\n",
       "                &quot;map_6aa78215c90e31e165549f794bca61e4&quot;,\n",
       "                {\n",
       "                    center: [15.0, 32.17871],\n",
       "                    crs: L.CRS.EPSG3857,\n",
       "                    zoom: 1,\n",
       "                    zoomControl: true,\n",
       "                    preferCanvas: false,\n",
       "                    clusteredMarker: false,\n",
       "                    includeColorScaleOutliers: true,\n",
       "                    radiusInMeters: false,\n",
       "                }\n",
       "            );\n",
       "\n",
       "            \n",
       "\n",
       "        \n",
       "    \n",
       "            var tile_layer_5c461c63cf7c0930b9ce2e141cb1a1bb = L.tileLayer(\n",
       "                &quot;https://tile.openstreetmap.org/{z}/{x}/{y}.png&quot;,\n",
       "                {&quot;attribution&quot;: &quot;\\u0026copy; \\u003ca href=\\&quot;https://www.openstreetmap.org/copyright\\&quot;\\u003eOpenStreetMap\\u003c/a\\u003e contributors&quot;, &quot;detectRetina&quot;: false, &quot;maxNativeZoom&quot;: 19, &quot;maxZoom&quot;: 19, &quot;minZoom&quot;: -1, &quot;noWrap&quot;: false, &quot;opacity&quot;: 1, &quot;subdomains&quot;: &quot;abc&quot;, &quot;tms&quot;: false}\n",
       "            );\n",
       "        \n",
       "    \n",
       "            tile_layer_5c461c63cf7c0930b9ce2e141cb1a1bb.addTo(map_6aa78215c90e31e165549f794bca61e4);\n",
       "        \n",
       "    \n",
       "            var circle_marker_d5e8fcd0395e97b4d13da9c4feee2296 = L.circleMarker(\n",
       "                [-12.5, 18.5],\n",
       "                {&quot;bubblingMouseEvents&quot;: true, &quot;color&quot;: &quot;blue&quot;, &quot;dashArray&quot;: null, &quot;dashOffset&quot;: null, &quot;fill&quot;: true, &quot;fillColor&quot;: &quot;blue&quot;, &quot;fillOpacity&quot;: 0.2, &quot;fillRule&quot;: &quot;evenodd&quot;, &quot;lineCap&quot;: &quot;round&quot;, &quot;lineJoin&quot;: &quot;round&quot;, &quot;opacity&quot;: 1.0, &quot;radius&quot;: 17.932857991906104, &quot;stroke&quot;: true, &quot;weight&quot;: 3}\n",
       "            ).addTo(map_6aa78215c90e31e165549f794bca61e4);\n",
       "        \n",
       "    \n",
       "        var popup_3a98d10b384f612358156d561cd068a3 = L.popup({&quot;maxWidth&quot;: &quot;100%&quot;});\n",
       "\n",
       "        \n",
       "            \n",
       "                var html_7135ad365a349c840add32b6a8cd0b91 = $(`&lt;div id=&quot;html_7135ad365a349c840add32b6a8cd0b91&quot; style=&quot;width: 100.0%; height: 100.0%;&quot;&gt;Angola&lt;/div&gt;`)[0];\n",
       "                popup_3a98d10b384f612358156d561cd068a3.setContent(html_7135ad365a349c840add32b6a8cd0b91);\n",
       "            \n",
       "        \n",
       "\n",
       "        circle_marker_d5e8fcd0395e97b4d13da9c4feee2296.bindPopup(popup_3a98d10b384f612358156d561cd068a3)\n",
       "        ;\n",
       "\n",
       "        \n",
       "    \n",
       "    \n",
       "            var circle_marker_79dbbe21b886c8718be448ede987051e = L.circleMarker(\n",
       "                [41.0, 20.0],\n",
       "                {&quot;bubblingMouseEvents&quot;: true, &quot;color&quot;: &quot;black&quot;, &quot;dashArray&quot;: null, &quot;dashOffset&quot;: null, &quot;fill&quot;: true, &quot;fillColor&quot;: &quot;black&quot;, &quot;fillOpacity&quot;: 0.2, &quot;fillRule&quot;: &quot;evenodd&quot;, &quot;lineCap&quot;: &quot;round&quot;, &quot;lineJoin&quot;: &quot;round&quot;, &quot;opacity&quot;: 1.0, &quot;radius&quot;: 0.6548488975838647, &quot;stroke&quot;: true, &quot;weight&quot;: 3}\n",
       "            ).addTo(map_6aa78215c90e31e165549f794bca61e4);\n",
       "        \n",
       "    \n",
       "        var popup_51e9549f2538fd92ee41d8ff652c5b4c = L.popup({&quot;maxWidth&quot;: &quot;100%&quot;});\n",
       "\n",
       "        \n",
       "            \n",
       "                var html_7015466828137823d0e906caccc94564 = $(`&lt;div id=&quot;html_7015466828137823d0e906caccc94564&quot; style=&quot;width: 100.0%; height: 100.0%;&quot;&gt;Albania&lt;/div&gt;`)[0];\n",
       "                popup_51e9549f2538fd92ee41d8ff652c5b4c.setContent(html_7015466828137823d0e906caccc94564);\n",
       "            \n",
       "        \n",
       "\n",
       "        circle_marker_79dbbe21b886c8718be448ede987051e.bindPopup(popup_51e9549f2538fd92ee41d8ff652c5b4c)\n",
       "        ;\n",
       "\n",
       "        \n",
       "    \n",
       "    \n",
       "            var circle_marker_181ed2fec094de4253b5b755221b8c7c = L.circleMarker(\n",
       "                [-34.0, -64.0],\n",
       "                {&quot;bubblingMouseEvents&quot;: true, &quot;color&quot;: &quot;green&quot;, &quot;dashArray&quot;: null, &quot;dashOffset&quot;: null, &quot;fill&quot;: true, &quot;fillColor&quot;: &quot;green&quot;, &quot;fillOpacity&quot;: 0.2, &quot;fillRule&quot;: &quot;evenodd&quot;, &quot;lineCap&quot;: &quot;round&quot;, &quot;lineJoin&quot;: &quot;round&quot;, &quot;opacity&quot;: 1.0, &quot;radius&quot;: 4.304773916821923, &quot;stroke&quot;: true, &quot;weight&quot;: 3}\n",
       "            ).addTo(map_6aa78215c90e31e165549f794bca61e4);\n",
       "        \n",
       "    \n",
       "        var popup_f8823d1e0568b18970461c09f5518f54 = L.popup({&quot;maxWidth&quot;: &quot;100%&quot;});\n",
       "\n",
       "        \n",
       "            \n",
       "                var html_b75a00ec0378f20f4968fad6542d9505 = $(`&lt;div id=&quot;html_b75a00ec0378f20f4968fad6542d9505&quot; style=&quot;width: 100.0%; height: 100.0%;&quot;&gt;Argentina&lt;/div&gt;`)[0];\n",
       "                popup_f8823d1e0568b18970461c09f5518f54.setContent(html_b75a00ec0378f20f4968fad6542d9505);\n",
       "            \n",
       "        \n",
       "\n",
       "        circle_marker_181ed2fec094de4253b5b755221b8c7c.bindPopup(popup_f8823d1e0568b18970461c09f5518f54)\n",
       "        ;\n",
       "\n",
       "        \n",
       "    \n",
       "    \n",
       "            var circle_marker_d3d1ab1ff9b38f1d7440e56ba381211f = L.circleMarker(\n",
       "                [40.25, 45.0],\n",
       "                {&quot;bubblingMouseEvents&quot;: true, &quot;color&quot;: &quot;black&quot;, &quot;dashArray&quot;: null, &quot;dashOffset&quot;: null, &quot;fill&quot;: true, &quot;fillColor&quot;: &quot;black&quot;, &quot;fillOpacity&quot;: 0.2, &quot;fillRule&quot;: &quot;evenodd&quot;, &quot;lineCap&quot;: &quot;round&quot;, &quot;lineJoin&quot;: &quot;round&quot;, &quot;opacity&quot;: 1.0, &quot;radius&quot;: 1.277786652845903, &quot;stroke&quot;: true, &quot;weight&quot;: 3}\n",
       "            ).addTo(map_6aa78215c90e31e165549f794bca61e4);\n",
       "        \n",
       "    \n",
       "        var popup_207e4cf75366d91c04c973d1701b55b9 = L.popup({&quot;maxWidth&quot;: &quot;100%&quot;});\n",
       "\n",
       "        \n",
       "            \n",
       "                var html_e919de3665c361c3e0891966a82dc379 = $(`&lt;div id=&quot;html_e919de3665c361c3e0891966a82dc379&quot; style=&quot;width: 100.0%; height: 100.0%;&quot;&gt;Armenia&lt;/div&gt;`)[0];\n",
       "                popup_207e4cf75366d91c04c973d1701b55b9.setContent(html_e919de3665c361c3e0891966a82dc379);\n",
       "            \n",
       "        \n",
       "\n",
       "        circle_marker_d3d1ab1ff9b38f1d7440e56ba381211f.bindPopup(popup_207e4cf75366d91c04c973d1701b55b9)\n",
       "        ;\n",
       "\n",
       "        \n",
       "    \n",
       "    \n",
       "            var circle_marker_cdf51917efebe6634e6e0d823314ade0 = L.circleMarker(\n",
       "                [-25.0, 135.0],\n",
       "                {&quot;bubblingMouseEvents&quot;: true, &quot;color&quot;: &quot;red&quot;, &quot;dashArray&quot;: null, &quot;dashOffset&quot;: null, &quot;fill&quot;: true, &quot;fillColor&quot;: &quot;red&quot;, &quot;fillOpacity&quot;: 0.2, &quot;fillRule&quot;: &quot;evenodd&quot;, &quot;lineCap&quot;: &quot;round&quot;, &quot;lineJoin&quot;: &quot;round&quot;, &quot;opacity&quot;: 1.0, &quot;radius&quot;: 3.0959874480847005, &quot;stroke&quot;: true, &quot;weight&quot;: 3}\n",
       "            ).addTo(map_6aa78215c90e31e165549f794bca61e4);\n",
       "        \n",
       "    \n",
       "        var popup_67437115b2892224188e735c53e2c476 = L.popup({&quot;maxWidth&quot;: &quot;100%&quot;});\n",
       "\n",
       "        \n",
       "            \n",
       "                var html_056c89c48d85429b1e4dffe09c5125cf = $(`&lt;div id=&quot;html_056c89c48d85429b1e4dffe09c5125cf&quot; style=&quot;width: 100.0%; height: 100.0%;&quot;&gt;Australia&lt;/div&gt;`)[0];\n",
       "                popup_67437115b2892224188e735c53e2c476.setContent(html_056c89c48d85429b1e4dffe09c5125cf);\n",
       "            \n",
       "        \n",
       "\n",
       "        circle_marker_cdf51917efebe6634e6e0d823314ade0.bindPopup(popup_67437115b2892224188e735c53e2c476)\n",
       "        ;\n",
       "\n",
       "        \n",
       "    \n",
       "    \n",
       "            var circle_marker_48ad10356230f0791eff8cd74c741d77 = L.circleMarker(\n",
       "                [47.33333, 13.33333],\n",
       "                {&quot;bubblingMouseEvents&quot;: true, &quot;color&quot;: &quot;black&quot;, &quot;dashArray&quot;: null, &quot;dashOffset&quot;: null, &quot;fill&quot;: true, &quot;fillColor&quot;: &quot;black&quot;, &quot;fillOpacity&quot;: 0.2, &quot;fillRule&quot;: &quot;evenodd&quot;, &quot;lineCap&quot;: &quot;round&quot;, &quot;lineJoin&quot;: &quot;round&quot;, &quot;opacity&quot;: 1.0, &quot;radius&quot;: 0.9514752478626646, &quot;stroke&quot;: true, &quot;weight&quot;: 3}\n",
       "            ).addTo(map_6aa78215c90e31e165549f794bca61e4);\n",
       "        \n",
       "    \n",
       "        var popup_c1e05d47e1669d49965ecdc15ae79380 = L.popup({&quot;maxWidth&quot;: &quot;100%&quot;});\n",
       "\n",
       "        \n",
       "            \n",
       "                var html_d755c504e1fc990e31b7a6e4d5aa63ad = $(`&lt;div id=&quot;html_d755c504e1fc990e31b7a6e4d5aa63ad&quot; style=&quot;width: 100.0%; height: 100.0%;&quot;&gt;Austria&lt;/div&gt;`)[0];\n",
       "                popup_c1e05d47e1669d49965ecdc15ae79380.setContent(html_d755c504e1fc990e31b7a6e4d5aa63ad);\n",
       "            \n",
       "        \n",
       "\n",
       "        circle_marker_48ad10356230f0791eff8cd74c741d77.bindPopup(popup_c1e05d47e1669d49965ecdc15ae79380)\n",
       "        ;\n",
       "\n",
       "        \n",
       "    \n",
       "    \n",
       "            var circle_marker_8a4ab0100717cffa98fbae9a7eecbdb0 = L.circleMarker(\n",
       "                [40.5, 47.5],\n",
       "                {&quot;bubblingMouseEvents&quot;: true, &quot;color&quot;: &quot;black&quot;, &quot;dashArray&quot;: null, &quot;dashOffset&quot;: null, &quot;fill&quot;: true, &quot;fillColor&quot;: &quot;black&quot;, &quot;fillOpacity&quot;: 0.2, &quot;fillRule&quot;: &quot;evenodd&quot;, &quot;lineCap&quot;: &quot;round&quot;, &quot;lineJoin&quot;: &quot;round&quot;, &quot;opacity&quot;: 1.0, &quot;radius&quot;: 0.9500356215817061, &quot;stroke&quot;: true, &quot;weight&quot;: 3}\n",
       "            ).addTo(map_6aa78215c90e31e165549f794bca61e4);\n",
       "        \n",
       "    \n",
       "        var popup_1fa1ffec07f299f887a965986622c43c = L.popup({&quot;maxWidth&quot;: &quot;100%&quot;});\n",
       "\n",
       "        \n",
       "            \n",
       "                var html_890a53de675e6485c56ae44395250ba0 = $(`&lt;div id=&quot;html_890a53de675e6485c56ae44395250ba0&quot; style=&quot;width: 100.0%; height: 100.0%;&quot;&gt;Azerbaijan&lt;/div&gt;`)[0];\n",
       "                popup_1fa1ffec07f299f887a965986622c43c.setContent(html_890a53de675e6485c56ae44395250ba0);\n",
       "            \n",
       "        \n",
       "\n",
       "        circle_marker_8a4ab0100717cffa98fbae9a7eecbdb0.bindPopup(popup_1fa1ffec07f299f887a965986622c43c)\n",
       "        ;\n",
       "\n",
       "        \n",
       "    \n",
       "    \n",
       "            var circle_marker_dc75ca2d0b9141305be001a687e75cba = L.circleMarker(\n",
       "                [-3.5, 30.0],\n",
       "                {&quot;bubblingMouseEvents&quot;: true, &quot;color&quot;: &quot;blue&quot;, &quot;dashArray&quot;: null, &quot;dashOffset&quot;: null, &quot;fill&quot;: true, &quot;fillColor&quot;: &quot;blue&quot;, &quot;fillOpacity&quot;: 0.2, &quot;fillRule&quot;: &quot;evenodd&quot;, &quot;lineCap&quot;: &quot;round&quot;, &quot;lineJoin&quot;: &quot;round&quot;, &quot;opacity&quot;: 1.0, &quot;radius&quot;: 15.57911644028651, &quot;stroke&quot;: true, &quot;weight&quot;: 3}\n",
       "            ).addTo(map_6aa78215c90e31e165549f794bca61e4);\n",
       "        \n",
       "    \n",
       "        var popup_d4aa810bdf3f87aba2b7cac31efe858a = L.popup({&quot;maxWidth&quot;: &quot;100%&quot;});\n",
       "\n",
       "        \n",
       "            \n",
       "                var html_ee4f927d893b811babc3d49ad852965a = $(`&lt;div id=&quot;html_ee4f927d893b811babc3d49ad852965a&quot; style=&quot;width: 100.0%; height: 100.0%;&quot;&gt;Burundi&lt;/div&gt;`)[0];\n",
       "                popup_d4aa810bdf3f87aba2b7cac31efe858a.setContent(html_ee4f927d893b811babc3d49ad852965a);\n",
       "            \n",
       "        \n",
       "\n",
       "        circle_marker_dc75ca2d0b9141305be001a687e75cba.bindPopup(popup_d4aa810bdf3f87aba2b7cac31efe858a)\n",
       "        ;\n",
       "\n",
       "        \n",
       "    \n",
       "    \n",
       "            var circle_marker_d59d6e4080605c670ab294d1b1885ce5 = L.circleMarker(\n",
       "                [50.75, 4.5],\n",
       "                {&quot;bubblingMouseEvents&quot;: true, &quot;color&quot;: &quot;black&quot;, &quot;dashArray&quot;: null, &quot;dashOffset&quot;: null, &quot;fill&quot;: true, &quot;fillColor&quot;: &quot;black&quot;, &quot;fillOpacity&quot;: 0.2, &quot;fillRule&quot;: &quot;evenodd&quot;, &quot;lineCap&quot;: &quot;round&quot;, &quot;lineJoin&quot;: &quot;round&quot;, &quot;opacity&quot;: 1.0, &quot;radius&quot;: 1.3193232926841028, &quot;stroke&quot;: true, &quot;weight&quot;: 3}\n",
       "            ).addTo(map_6aa78215c90e31e165549f794bca61e4);\n",
       "        \n",
       "    \n",
       "        var popup_185281d10daa86f54a4c81ab06ea6c33 = L.popup({&quot;maxWidth&quot;: &quot;100%&quot;});\n",
       "\n",
       "        \n",
       "            \n",
       "                var html_1a99d3d391f3a59087ae197ff9c1219a = $(`&lt;div id=&quot;html_1a99d3d391f3a59087ae197ff9c1219a&quot; style=&quot;width: 100.0%; height: 100.0%;&quot;&gt;Belgium&lt;/div&gt;`)[0];\n",
       "                popup_185281d10daa86f54a4c81ab06ea6c33.setContent(html_1a99d3d391f3a59087ae197ff9c1219a);\n",
       "            \n",
       "        \n",
       "\n",
       "        circle_marker_d59d6e4080605c670ab294d1b1885ce5.bindPopup(popup_185281d10daa86f54a4c81ab06ea6c33)\n",
       "        ;\n",
       "\n",
       "        \n",
       "    \n",
       "    \n",
       "            var circle_marker_570a3fbb1e0fe47e6a7f40509084f984 = L.circleMarker(\n",
       "                [9.5, 2.25],\n",
       "                {&quot;bubblingMouseEvents&quot;: true, &quot;color&quot;: &quot;blue&quot;, &quot;dashArray&quot;: null, &quot;dashOffset&quot;: null, &quot;fill&quot;: true, &quot;fillColor&quot;: &quot;blue&quot;, &quot;fillOpacity&quot;: 0.2, &quot;fillRule&quot;: &quot;evenodd&quot;, &quot;lineCap&quot;: &quot;round&quot;, &quot;lineJoin&quot;: &quot;round&quot;, &quot;opacity&quot;: 1.0, &quot;radius&quot;: 12.686717036335681, &quot;stroke&quot;: true, &quot;weight&quot;: 3}\n",
       "            ).addTo(map_6aa78215c90e31e165549f794bca61e4);\n",
       "        \n",
       "    \n",
       "        var popup_dc4359326dd0f038a4b5f1ba70c80cc8 = L.popup({&quot;maxWidth&quot;: &quot;100%&quot;});\n",
       "\n",
       "        \n",
       "            \n",
       "                var html_738ce818fa1826a29cda0bbf25c4e7c2 = $(`&lt;div id=&quot;html_738ce818fa1826a29cda0bbf25c4e7c2&quot; style=&quot;width: 100.0%; height: 100.0%;&quot;&gt;Benin&lt;/div&gt;`)[0];\n",
       "                popup_dc4359326dd0f038a4b5f1ba70c80cc8.setContent(html_738ce818fa1826a29cda0bbf25c4e7c2);\n",
       "            \n",
       "        \n",
       "\n",
       "        circle_marker_570a3fbb1e0fe47e6a7f40509084f984.bindPopup(popup_dc4359326dd0f038a4b5f1ba70c80cc8)\n",
       "        ;\n",
       "\n",
       "        \n",
       "    \n",
       "    \n",
       "            var circle_marker_2fd0361d26e1409ceae83253d533143d = L.circleMarker(\n",
       "                [12.5, -1.66667],\n",
       "                {&quot;bubblingMouseEvents&quot;: true, &quot;color&quot;: &quot;blue&quot;, &quot;dashArray&quot;: null, &quot;dashOffset&quot;: null, &quot;fill&quot;: true, &quot;fillColor&quot;: &quot;blue&quot;, &quot;fillOpacity&quot;: 0.2, &quot;fillRule&quot;: &quot;evenodd&quot;, &quot;lineCap&quot;: &quot;round&quot;, &quot;lineJoin&quot;: &quot;round&quot;, &quot;opacity&quot;: 1.0, &quot;radius&quot;: 15.130457036837129, &quot;stroke&quot;: true, &quot;weight&quot;: 3}\n",
       "            ).addTo(map_6aa78215c90e31e165549f794bca61e4);\n",
       "        \n",
       "    \n",
       "        var popup_fd582653ccab739989270c07692d28ea = L.popup({&quot;maxWidth&quot;: &quot;100%&quot;});\n",
       "\n",
       "        \n",
       "            \n",
       "                var html_355b38208ced0efa49f2b1dee6f226d6 = $(`&lt;div id=&quot;html_355b38208ced0efa49f2b1dee6f226d6&quot; style=&quot;width: 100.0%; height: 100.0%;&quot;&gt;Burkina Faso&lt;/div&gt;`)[0];\n",
       "                popup_fd582653ccab739989270c07692d28ea.setContent(html_355b38208ced0efa49f2b1dee6f226d6);\n",
       "            \n",
       "        \n",
       "\n",
       "        circle_marker_2fd0361d26e1409ceae83253d533143d.bindPopup(popup_fd582653ccab739989270c07692d28ea)\n",
       "        ;\n",
       "\n",
       "        \n",
       "    \n",
       "    \n",
       "            var circle_marker_281d3b3f4e9e5026e8f153a7eab7b1a2 = L.circleMarker(\n",
       "                [24.0, 90.0],\n",
       "                {&quot;bubblingMouseEvents&quot;: true, &quot;color&quot;: &quot;red&quot;, &quot;dashArray&quot;: null, &quot;dashOffset&quot;: null, &quot;fill&quot;: true, &quot;fillColor&quot;: &quot;red&quot;, &quot;fillOpacity&quot;: 0.2, &quot;fillRule&quot;: &quot;evenodd&quot;, &quot;lineCap&quot;: &quot;round&quot;, &quot;lineJoin&quot;: &quot;round&quot;, &quot;opacity&quot;: 1.0, &quot;radius&quot;: 45.774991550463184, &quot;stroke&quot;: true, &quot;weight&quot;: 3}\n",
       "            ).addTo(map_6aa78215c90e31e165549f794bca61e4);\n",
       "        \n",
       "    \n",
       "        var popup_d2d4b5287f9143f0a92ecf1a5ebe9d62 = L.popup({&quot;maxWidth&quot;: &quot;100%&quot;});\n",
       "\n",
       "        \n",
       "            \n",
       "                var html_ef0818a4e0e941852b824a2f0c90c69c = $(`&lt;div id=&quot;html_ef0818a4e0e941852b824a2f0c90c69c&quot; style=&quot;width: 100.0%; height: 100.0%;&quot;&gt;Bangladesh&lt;/div&gt;`)[0];\n",
       "                popup_d2d4b5287f9143f0a92ecf1a5ebe9d62.setContent(html_ef0818a4e0e941852b824a2f0c90c69c);\n",
       "            \n",
       "        \n",
       "\n",
       "        circle_marker_281d3b3f4e9e5026e8f153a7eab7b1a2.bindPopup(popup_d2d4b5287f9143f0a92ecf1a5ebe9d62)\n",
       "        ;\n",
       "\n",
       "        \n",
       "    \n",
       "    \n",
       "            var circle_marker_308037b9eafde98f7942857df53fc98f = L.circleMarker(\n",
       "                [42.66667, 25.25],\n",
       "                {&quot;bubblingMouseEvents&quot;: true, &quot;color&quot;: &quot;black&quot;, &quot;dashArray&quot;: null, &quot;dashOffset&quot;: null, &quot;fill&quot;: true, &quot;fillColor&quot;: &quot;black&quot;, &quot;fillOpacity&quot;: 0.2, &quot;fillRule&quot;: &quot;evenodd&quot;, &quot;lineCap&quot;: &quot;round&quot;, &quot;lineJoin&quot;: &quot;round&quot;, &quot;opacity&quot;: 1.0, &quot;radius&quot;: 2.120887626824585, &quot;stroke&quot;: true, &quot;weight&quot;: 3}\n",
       "            ).addTo(map_6aa78215c90e31e165549f794bca61e4);\n",
       "        \n",
       "    \n",
       "        var popup_dc19f7ad9132da358a49f1e0d3b02c6c = L.popup({&quot;maxWidth&quot;: &quot;100%&quot;});\n",
       "\n",
       "        \n",
       "            \n",
       "                var html_752fb1da41e667aaa5f9a45ef9b089a8 = $(`&lt;div id=&quot;html_752fb1da41e667aaa5f9a45ef9b089a8&quot; style=&quot;width: 100.0%; height: 100.0%;&quot;&gt;Bulgaria&lt;/div&gt;`)[0];\n",
       "                popup_dc19f7ad9132da358a49f1e0d3b02c6c.setContent(html_752fb1da41e667aaa5f9a45ef9b089a8);\n",
       "            \n",
       "        \n",
       "\n",
       "        circle_marker_308037b9eafde98f7942857df53fc98f.bindPopup(popup_dc19f7ad9132da358a49f1e0d3b02c6c)\n",
       "        ;\n",
       "\n",
       "        \n",
       "    \n",
       "    \n",
       "            var circle_marker_630e39dc6328f3a3325fe73821cc6c87 = L.circleMarker(\n",
       "                [44.25, 17.83333],\n",
       "                {&quot;bubblingMouseEvents&quot;: true, &quot;color&quot;: &quot;black&quot;, &quot;dashArray&quot;: null, &quot;dashOffset&quot;: null, &quot;fill&quot;: true, &quot;fillColor&quot;: &quot;black&quot;, &quot;fillOpacity&quot;: 0.2, &quot;fillRule&quot;: &quot;evenodd&quot;, &quot;lineCap&quot;: &quot;round&quot;, &quot;lineJoin&quot;: &quot;round&quot;, &quot;opacity&quot;: 1.0, &quot;radius&quot;: 0.2203230756026887, &quot;stroke&quot;: true, &quot;weight&quot;: 3}\n",
       "            ).addTo(map_6aa78215c90e31e165549f794bca61e4);\n",
       "        \n",
       "    \n",
       "        var popup_75071fde84d870bf30b8f9c0929b0329 = L.popup({&quot;maxWidth&quot;: &quot;100%&quot;});\n",
       "\n",
       "        \n",
       "            \n",
       "                var html_a475b00e1398a5d93b11d2e9c6f88828 = $(`&lt;div id=&quot;html_a475b00e1398a5d93b11d2e9c6f88828&quot; style=&quot;width: 100.0%; height: 100.0%;&quot;&gt;Bosnia and Herzegovina&lt;/div&gt;`)[0];\n",
       "                popup_75071fde84d870bf30b8f9c0929b0329.setContent(html_a475b00e1398a5d93b11d2e9c6f88828);\n",
       "            \n",
       "        \n",
       "\n",
       "        circle_marker_630e39dc6328f3a3325fe73821cc6c87.bindPopup(popup_75071fde84d870bf30b8f9c0929b0329)\n",
       "        ;\n",
       "\n",
       "        \n",
       "    \n",
       "    \n",
       "            var circle_marker_61d03b03dc13c527d6048a51d1cd413f = L.circleMarker(\n",
       "                [53.0, 28.0],\n",
       "                {&quot;bubblingMouseEvents&quot;: true, &quot;color&quot;: &quot;black&quot;, &quot;dashArray&quot;: null, &quot;dashOffset&quot;: null, &quot;fill&quot;: true, &quot;fillColor&quot;: &quot;black&quot;, &quot;fillOpacity&quot;: 0.2, &quot;fillRule&quot;: &quot;evenodd&quot;, &quot;lineCap&quot;: &quot;round&quot;, &quot;lineJoin&quot;: &quot;round&quot;, &quot;opacity&quot;: 1.0, &quot;stroke&quot;: true, &quot;weight&quot;: 3}\n",
       "            ).addTo(map_6aa78215c90e31e165549f794bca61e4);\n",
       "        \n",
       "    \n",
       "        var popup_541854608209f838733afb0204cd8f3e = L.popup({&quot;maxWidth&quot;: &quot;100%&quot;});\n",
       "\n",
       "        \n",
       "            \n",
       "                var html_e75f788bfcfb7887b0f1c0eeae31817f = $(`&lt;div id=&quot;html_e75f788bfcfb7887b0f1c0eeae31817f&quot; style=&quot;width: 100.0%; height: 100.0%;&quot;&gt;Belarus&lt;/div&gt;`)[0];\n",
       "                popup_541854608209f838733afb0204cd8f3e.setContent(html_e75f788bfcfb7887b0f1c0eeae31817f);\n",
       "            \n",
       "        \n",
       "\n",
       "        circle_marker_61d03b03dc13c527d6048a51d1cd413f.bindPopup(popup_541854608209f838733afb0204cd8f3e)\n",
       "        ;\n",
       "\n",
       "        \n",
       "    \n",
       "    \n",
       "            var circle_marker_85815cb6da1fed12711c1ee91aaf841a = L.circleMarker(\n",
       "                [17.49952, -88.19756],\n",
       "                {&quot;bubblingMouseEvents&quot;: true, &quot;color&quot;: &quot;green&quot;, &quot;dashArray&quot;: null, &quot;dashOffset&quot;: null, &quot;fill&quot;: true, &quot;fillColor&quot;: &quot;green&quot;, &quot;fillOpacity&quot;: 0.2, &quot;fillRule&quot;: &quot;evenodd&quot;, &quot;lineCap&quot;: &quot;round&quot;, &quot;lineJoin&quot;: &quot;round&quot;, &quot;opacity&quot;: 1.0, &quot;radius&quot;: 1.115641213363803, &quot;stroke&quot;: true, &quot;weight&quot;: 3}\n",
       "            ).addTo(map_6aa78215c90e31e165549f794bca61e4);\n",
       "        \n",
       "    \n",
       "        var popup_8e53fec0b82ed43e3569301ef9b1670e = L.popup({&quot;maxWidth&quot;: &quot;100%&quot;});\n",
       "\n",
       "        \n",
       "            \n",
       "                var html_63cb839508971a89a5f92a77fd5135f9 = $(`&lt;div id=&quot;html_63cb839508971a89a5f92a77fd5135f9&quot; style=&quot;width: 100.0%; height: 100.0%;&quot;&gt;Belize&lt;/div&gt;`)[0];\n",
       "                popup_8e53fec0b82ed43e3569301ef9b1670e.setContent(html_63cb839508971a89a5f92a77fd5135f9);\n",
       "            \n",
       "        \n",
       "\n",
       "        circle_marker_85815cb6da1fed12711c1ee91aaf841a.bindPopup(popup_8e53fec0b82ed43e3569301ef9b1670e)\n",
       "        ;\n",
       "\n",
       "        \n",
       "    \n",
       "    \n",
       "            var circle_marker_3e74e9a12c53ac7f787201439eb52eb8 = L.circleMarker(\n",
       "                [-17.0, -65.0],\n",
       "                {&quot;bubblingMouseEvents&quot;: true, &quot;color&quot;: &quot;green&quot;, &quot;dashArray&quot;: null, &quot;dashOffset&quot;: null, &quot;fill&quot;: true, &quot;fillColor&quot;: &quot;green&quot;, &quot;fillOpacity&quot;: 0.2, &quot;fillRule&quot;: &quot;evenodd&quot;, &quot;lineCap&quot;: &quot;round&quot;, &quot;lineJoin&quot;: &quot;round&quot;, &quot;opacity&quot;: 1.0, &quot;radius&quot;: 5.08569578650282, &quot;stroke&quot;: true, &quot;weight&quot;: 3}\n",
       "            ).addTo(map_6aa78215c90e31e165549f794bca61e4);\n",
       "        \n",
       "    \n",
       "        var popup_e6447c46b0f385013b4bf7b0985fb9e7 = L.popup({&quot;maxWidth&quot;: &quot;100%&quot;});\n",
       "\n",
       "        \n",
       "            \n",
       "                var html_31d78bbd05b274a537e3c317d2c1d5ea = $(`&lt;div id=&quot;html_31d78bbd05b274a537e3c317d2c1d5ea&quot; style=&quot;width: 100.0%; height: 100.0%;&quot;&gt;Bolivia&lt;/div&gt;`)[0];\n",
       "                popup_e6447c46b0f385013b4bf7b0985fb9e7.setContent(html_31d78bbd05b274a537e3c317d2c1d5ea);\n",
       "            \n",
       "        \n",
       "\n",
       "        circle_marker_3e74e9a12c53ac7f787201439eb52eb8.bindPopup(popup_e6447c46b0f385013b4bf7b0985fb9e7)\n",
       "        ;\n",
       "\n",
       "        \n",
       "    \n",
       "    \n",
       "            var circle_marker_5cda956ebb1d901be8a1cf7da7742eb2 = L.circleMarker(\n",
       "                [-10.0, -55.0],\n",
       "                {&quot;bubblingMouseEvents&quot;: true, &quot;color&quot;: &quot;green&quot;, &quot;dashArray&quot;: null, &quot;dashOffset&quot;: null, &quot;fill&quot;: true, &quot;fillColor&quot;: &quot;green&quot;, &quot;fillOpacity&quot;: 0.2, &quot;fillRule&quot;: &quot;evenodd&quot;, &quot;lineCap&quot;: &quot;round&quot;, &quot;lineJoin&quot;: &quot;round&quot;, &quot;opacity&quot;: 1.0, &quot;radius&quot;: 15.205743500662225, &quot;stroke&quot;: true, &quot;weight&quot;: 3}\n",
       "            ).addTo(map_6aa78215c90e31e165549f794bca61e4);\n",
       "        \n",
       "    \n",
       "        var popup_cb0bb4d242d2e067d83d6a84b278058c = L.popup({&quot;maxWidth&quot;: &quot;100%&quot;});\n",
       "\n",
       "        \n",
       "            \n",
       "                var html_19133e865244dbead7c8b0553b7ea293 = $(`&lt;div id=&quot;html_19133e865244dbead7c8b0553b7ea293&quot; style=&quot;width: 100.0%; height: 100.0%;&quot;&gt;Brazil&lt;/div&gt;`)[0];\n",
       "                popup_cb0bb4d242d2e067d83d6a84b278058c.setContent(html_19133e865244dbead7c8b0553b7ea293);\n",
       "            \n",
       "        \n",
       "\n",
       "        circle_marker_5cda956ebb1d901be8a1cf7da7742eb2.bindPopup(popup_cb0bb4d242d2e067d83d6a84b278058c)\n",
       "        ;\n",
       "\n",
       "        \n",
       "    \n",
       "    \n",
       "            var circle_marker_87e64424452e314323ad1f06d5c04130 = L.circleMarker(\n",
       "                [27.5, 90.5],\n",
       "                {&quot;bubblingMouseEvents&quot;: true, &quot;color&quot;: &quot;red&quot;, &quot;dashArray&quot;: null, &quot;dashOffset&quot;: null, &quot;fill&quot;: true, &quot;fillColor&quot;: &quot;red&quot;, &quot;fillOpacity&quot;: 0.2, &quot;fillRule&quot;: &quot;evenodd&quot;, &quot;lineCap&quot;: &quot;round&quot;, &quot;lineJoin&quot;: &quot;round&quot;, &quot;opacity&quot;: 1.0, &quot;radius&quot;: 0.7290717927188735, &quot;stroke&quot;: true, &quot;weight&quot;: 3}\n",
       "            ).addTo(map_6aa78215c90e31e165549f794bca61e4);\n",
       "        \n",
       "    \n",
       "        var popup_7df18fa5668d5d7a629a8f807116e063 = L.popup({&quot;maxWidth&quot;: &quot;100%&quot;});\n",
       "\n",
       "        \n",
       "            \n",
       "                var html_000e744ff13971ec7880030abca82f32 = $(`&lt;div id=&quot;html_000e744ff13971ec7880030abca82f32&quot; style=&quot;width: 100.0%; height: 100.0%;&quot;&gt;Bhutan&lt;/div&gt;`)[0];\n",
       "                popup_7df18fa5668d5d7a629a8f807116e063.setContent(html_000e744ff13971ec7880030abca82f32);\n",
       "            \n",
       "        \n",
       "\n",
       "        circle_marker_87e64424452e314323ad1f06d5c04130.bindPopup(popup_7df18fa5668d5d7a629a8f807116e063)\n",
       "        ;\n",
       "\n",
       "        \n",
       "    \n",
       "    \n",
       "            var circle_marker_935984df490e4228d0d3994a7f689713 = L.circleMarker(\n",
       "                [-22.0, 24.0],\n",
       "                {&quot;bubblingMouseEvents&quot;: true, &quot;color&quot;: &quot;blue&quot;, &quot;dashArray&quot;: null, &quot;dashOffset&quot;: null, &quot;fill&quot;: true, &quot;fillColor&quot;: &quot;blue&quot;, &quot;fillOpacity&quot;: 0.2, &quot;fillRule&quot;: &quot;evenodd&quot;, &quot;lineCap&quot;: &quot;round&quot;, &quot;lineJoin&quot;: &quot;round&quot;, &quot;opacity&quot;: 1.0, &quot;radius&quot;: 2.945912547397643, &quot;stroke&quot;: true, &quot;weight&quot;: 3}\n",
       "            ).addTo(map_6aa78215c90e31e165549f794bca61e4);\n",
       "        \n",
       "    \n",
       "        var popup_a502c3889ee776ed589307ecc3d2c089 = L.popup({&quot;maxWidth&quot;: &quot;100%&quot;});\n",
       "\n",
       "        \n",
       "            \n",
       "                var html_ce71e2cf6eb61a80323e470767cdcb90 = $(`&lt;div id=&quot;html_ce71e2cf6eb61a80323e470767cdcb90&quot; style=&quot;width: 100.0%; height: 100.0%;&quot;&gt;Botswana&lt;/div&gt;`)[0];\n",
       "                popup_a502c3889ee776ed589307ecc3d2c089.setContent(html_ce71e2cf6eb61a80323e470767cdcb90);\n",
       "            \n",
       "        \n",
       "\n",
       "        circle_marker_935984df490e4228d0d3994a7f689713.bindPopup(popup_a502c3889ee776ed589307ecc3d2c089)\n",
       "        ;\n",
       "\n",
       "        \n",
       "    \n",
       "    \n",
       "            var circle_marker_ed5081b29db1c465f1a4418cc571c5cb = L.circleMarker(\n",
       "                [7.0, 21.0],\n",
       "                {&quot;bubblingMouseEvents&quot;: true, &quot;color&quot;: &quot;blue&quot;, &quot;dashArray&quot;: null, &quot;dashOffset&quot;: null, &quot;fill&quot;: true, &quot;fillColor&quot;: &quot;blue&quot;, &quot;fillOpacity&quot;: 0.2, &quot;fillRule&quot;: &quot;evenodd&quot;, &quot;lineCap&quot;: &quot;round&quot;, &quot;lineJoin&quot;: &quot;round&quot;, &quot;opacity&quot;: 1.0, &quot;radius&quot;: 9.479306804258663, &quot;stroke&quot;: true, &quot;weight&quot;: 3}\n",
       "            ).addTo(map_6aa78215c90e31e165549f794bca61e4);\n",
       "        \n",
       "    \n",
       "        var popup_d64e7b56e7c1ffc597d3e02c352747d0 = L.popup({&quot;maxWidth&quot;: &quot;100%&quot;});\n",
       "\n",
       "        \n",
       "            \n",
       "                var html_c27e96e14ff213aa4da0a4e7a78e2ee4 = $(`&lt;div id=&quot;html_c27e96e14ff213aa4da0a4e7a78e2ee4&quot; style=&quot;width: 100.0%; height: 100.0%;&quot;&gt;Central African Republic&lt;/div&gt;`)[0];\n",
       "                popup_d64e7b56e7c1ffc597d3e02c352747d0.setContent(html_c27e96e14ff213aa4da0a4e7a78e2ee4);\n",
       "            \n",
       "        \n",
       "\n",
       "        circle_marker_ed5081b29db1c465f1a4418cc571c5cb.bindPopup(popup_d64e7b56e7c1ffc597d3e02c352747d0)\n",
       "        ;\n",
       "\n",
       "        \n",
       "    \n",
       "    \n",
       "            var circle_marker_25d1ff9f24d882ab4763c560ac2abf21 = L.circleMarker(\n",
       "                [60.10867, -113.64258],\n",
       "                {&quot;bubblingMouseEvents&quot;: true, &quot;color&quot;: &quot;green&quot;, &quot;dashArray&quot;: null, &quot;dashOffset&quot;: null, &quot;fill&quot;: true, &quot;fillColor&quot;: &quot;green&quot;, &quot;fillOpacity&quot;: 0.2, &quot;fillRule&quot;: &quot;evenodd&quot;, &quot;lineCap&quot;: &quot;round&quot;, &quot;lineJoin&quot;: &quot;round&quot;, &quot;opacity&quot;: 1.0, &quot;radius&quot;: 1.9237872064421044, &quot;stroke&quot;: true, &quot;weight&quot;: 3}\n",
       "            ).addTo(map_6aa78215c90e31e165549f794bca61e4);\n",
       "        \n",
       "    \n",
       "        var popup_9d25ee31edd2207c9822181901d92eb3 = L.popup({&quot;maxWidth&quot;: &quot;100%&quot;});\n",
       "\n",
       "        \n",
       "            \n",
       "                var html_026b3a73c64a266a4b5d4679f52bf964 = $(`&lt;div id=&quot;html_026b3a73c64a266a4b5d4679f52bf964&quot; style=&quot;width: 100.0%; height: 100.0%;&quot;&gt;Canada&lt;/div&gt;`)[0];\n",
       "                popup_9d25ee31edd2207c9822181901d92eb3.setContent(html_026b3a73c64a266a4b5d4679f52bf964);\n",
       "            \n",
       "        \n",
       "\n",
       "        circle_marker_25d1ff9f24d882ab4763c560ac2abf21.bindPopup(popup_9d25ee31edd2207c9822181901d92eb3)\n",
       "        ;\n",
       "\n",
       "        \n",
       "    \n",
       "    \n",
       "            var circle_marker_77025c89eb80e7f20cca6c477cf79c21 = L.circleMarker(\n",
       "                [47.00016, 8.01427],\n",
       "                {&quot;bubblingMouseEvents&quot;: true, &quot;color&quot;: &quot;black&quot;, &quot;dashArray&quot;: null, &quot;dashOffset&quot;: null, &quot;fill&quot;: true, &quot;fillColor&quot;: &quot;black&quot;, &quot;fillOpacity&quot;: 0.2, &quot;fillRule&quot;: &quot;evenodd&quot;, &quot;lineCap&quot;: &quot;round&quot;, &quot;lineJoin&quot;: &quot;round&quot;, &quot;opacity&quot;: 1.0, &quot;radius&quot;: 1.2918955941667538, &quot;stroke&quot;: true, &quot;weight&quot;: 3}\n",
       "            ).addTo(map_6aa78215c90e31e165549f794bca61e4);\n",
       "        \n",
       "    \n",
       "        var popup_2980ab95c4bb7ae0f406786292ba38ae = L.popup({&quot;maxWidth&quot;: &quot;100%&quot;});\n",
       "\n",
       "        \n",
       "            \n",
       "                var html_1670ed77b24cb86032fe020c92aa7313 = $(`&lt;div id=&quot;html_1670ed77b24cb86032fe020c92aa7313&quot; style=&quot;width: 100.0%; height: 100.0%;&quot;&gt;Switzerland&lt;/div&gt;`)[0];\n",
       "                popup_2980ab95c4bb7ae0f406786292ba38ae.setContent(html_1670ed77b24cb86032fe020c92aa7313);\n",
       "            \n",
       "        \n",
       "\n",
       "        circle_marker_77025c89eb80e7f20cca6c477cf79c21.bindPopup(popup_2980ab95c4bb7ae0f406786292ba38ae)\n",
       "        ;\n",
       "\n",
       "        \n",
       "    \n",
       "    \n",
       "            var circle_marker_8c383a060af55085caa79ec6a1ea3a73 = L.circleMarker(\n",
       "                [-33.45694, -70.64827],\n",
       "                {&quot;bubblingMouseEvents&quot;: true, &quot;color&quot;: &quot;green&quot;, &quot;dashArray&quot;: null, &quot;dashOffset&quot;: null, &quot;fill&quot;: true, &quot;fillColor&quot;: &quot;green&quot;, &quot;fillOpacity&quot;: 0.2, &quot;fillRule&quot;: &quot;evenodd&quot;, &quot;lineCap&quot;: &quot;round&quot;, &quot;lineJoin&quot;: &quot;round&quot;, &quot;opacity&quot;: 1.0, &quot;radius&quot;: 2.130560950292802, &quot;stroke&quot;: true, &quot;weight&quot;: 3}\n",
       "            ).addTo(map_6aa78215c90e31e165549f794bca61e4);\n",
       "        \n",
       "    \n",
       "        var popup_0eb4af4a662de85aef7c05702fb23e95 = L.popup({&quot;maxWidth&quot;: &quot;100%&quot;});\n",
       "\n",
       "        \n",
       "            \n",
       "                var html_59835419bcde7da6930e048bbe904652 = $(`&lt;div id=&quot;html_59835419bcde7da6930e048bbe904652&quot; style=&quot;width: 100.0%; height: 100.0%;&quot;&gt;Chile&lt;/div&gt;`)[0];\n",
       "                popup_0eb4af4a662de85aef7c05702fb23e95.setContent(html_59835419bcde7da6930e048bbe904652);\n",
       "            \n",
       "        \n",
       "\n",
       "        circle_marker_8c383a060af55085caa79ec6a1ea3a73.bindPopup(popup_0eb4af4a662de85aef7c05702fb23e95)\n",
       "        ;\n",
       "\n",
       "        \n",
       "    \n",
       "    \n",
       "            var circle_marker_24725b56595f58233055abe6640ea03f = L.circleMarker(\n",
       "                [35.0, 105.0],\n",
       "                {&quot;bubblingMouseEvents&quot;: true, &quot;color&quot;: &quot;red&quot;, &quot;dashArray&quot;: null, &quot;dashOffset&quot;: null, &quot;fill&quot;: true, &quot;fillColor&quot;: &quot;red&quot;, &quot;fillOpacity&quot;: 0.2, &quot;fillRule&quot;: &quot;evenodd&quot;, &quot;lineCap&quot;: &quot;round&quot;, &quot;lineJoin&quot;: &quot;round&quot;, &quot;opacity&quot;: 1.0, &quot;radius&quot;: 51.89555240198962, &quot;stroke&quot;: true, &quot;weight&quot;: 3}\n",
       "            ).addTo(map_6aa78215c90e31e165549f794bca61e4);\n",
       "        \n",
       "    \n",
       "        var popup_996f278f6febaec77df0453b6b7a5403 = L.popup({&quot;maxWidth&quot;: &quot;100%&quot;});\n",
       "\n",
       "        \n",
       "            \n",
       "                var html_bd63818466ce93524df35154358d8c70 = $(`&lt;div id=&quot;html_bd63818466ce93524df35154358d8c70&quot; style=&quot;width: 100.0%; height: 100.0%;&quot;&gt;China&lt;/div&gt;`)[0];\n",
       "                popup_996f278f6febaec77df0453b6b7a5403.setContent(html_bd63818466ce93524df35154358d8c70);\n",
       "            \n",
       "        \n",
       "\n",
       "        circle_marker_24725b56595f58233055abe6640ea03f.bindPopup(popup_996f278f6febaec77df0453b6b7a5403)\n",
       "        ;\n",
       "\n",
       "        \n",
       "    \n",
       "    \n",
       "            var circle_marker_a6eb653869f019177267e96686d3a3b0 = L.circleMarker(\n",
       "                [8.0, -5.5],\n",
       "                {&quot;bubblingMouseEvents&quot;: true, &quot;color&quot;: &quot;blue&quot;, &quot;dashArray&quot;: null, &quot;dashOffset&quot;: null, &quot;fill&quot;: true, &quot;fillColor&quot;: &quot;blue&quot;, &quot;fillOpacity&quot;: 0.2, &quot;fillRule&quot;: &quot;evenodd&quot;, &quot;lineCap&quot;: &quot;round&quot;, &quot;lineJoin&quot;: &quot;round&quot;, &quot;opacity&quot;: 1.0, &quot;radius&quot;: 15.837373427210036, &quot;stroke&quot;: true, &quot;weight&quot;: 3}\n",
       "            ).addTo(map_6aa78215c90e31e165549f794bca61e4);\n",
       "        \n",
       "    \n",
       "        var popup_a6daf2c078671031cc391bac56a50072 = L.popup({&quot;maxWidth&quot;: &quot;100%&quot;});\n",
       "\n",
       "        \n",
       "            \n",
       "                var html_2d6989a2049e955202a6528cf1e772b6 = $(`&lt;div id=&quot;html_2d6989a2049e955202a6528cf1e772b6&quot; style=&quot;width: 100.0%; height: 100.0%;&quot;&gt;Cote d&#x27;Ivoire&lt;/div&gt;`)[0];\n",
       "                popup_a6daf2c078671031cc391bac56a50072.setContent(html_2d6989a2049e955202a6528cf1e772b6);\n",
       "            \n",
       "        \n",
       "\n",
       "        circle_marker_a6eb653869f019177267e96686d3a3b0.bindPopup(popup_a6daf2c078671031cc391bac56a50072)\n",
       "        ;\n",
       "\n",
       "        \n",
       "    \n",
       "    \n",
       "            var circle_marker_b530585f48e9434e8f59439eb3e969ab = L.circleMarker(\n",
       "                [6.0, 12.5],\n",
       "                {&quot;bubblingMouseEvents&quot;: true, &quot;color&quot;: &quot;blue&quot;, &quot;dashArray&quot;: null, &quot;dashOffset&quot;: null, &quot;fill&quot;: true, &quot;fillColor&quot;: &quot;blue&quot;, &quot;fillOpacity&quot;: 0.2, &quot;fillRule&quot;: &quot;evenodd&quot;, &quot;lineCap&quot;: &quot;round&quot;, &quot;lineJoin&quot;: &quot;round&quot;, &quot;opacity&quot;: 1.0, &quot;radius&quot;: 13.147376336622475, &quot;stroke&quot;: true, &quot;weight&quot;: 3}\n",
       "            ).addTo(map_6aa78215c90e31e165549f794bca61e4);\n",
       "        \n",
       "    \n",
       "        var popup_552edb5364aa02c2c3574e0bb9d51920 = L.popup({&quot;maxWidth&quot;: &quot;100%&quot;});\n",
       "\n",
       "        \n",
       "            \n",
       "                var html_f766c5e0b7af94df61165ea7cc866eb7 = $(`&lt;div id=&quot;html_f766c5e0b7af94df61165ea7cc866eb7&quot; style=&quot;width: 100.0%; height: 100.0%;&quot;&gt;Cameroon&lt;/div&gt;`)[0];\n",
       "                popup_552edb5364aa02c2c3574e0bb9d51920.setContent(html_f766c5e0b7af94df61165ea7cc866eb7);\n",
       "            \n",
       "        \n",
       "\n",
       "        circle_marker_b530585f48e9434e8f59439eb3e969ab.bindPopup(popup_552edb5364aa02c2c3574e0bb9d51920)\n",
       "        ;\n",
       "\n",
       "        \n",
       "    \n",
       "    \n",
       "            var circle_marker_8b68696f3407b9e2b786388a47c8340f = L.circleMarker(\n",
       "                [-2.5, 23.5],\n",
       "                {&quot;bubblingMouseEvents&quot;: true, &quot;color&quot;: &quot;blue&quot;, &quot;dashArray&quot;: null, &quot;dashOffset&quot;: null, &quot;fill&quot;: true, &quot;fillColor&quot;: &quot;blue&quot;, &quot;fillOpacity&quot;: 0.2, &quot;fillRule&quot;: &quot;evenodd&quot;, &quot;lineCap&quot;: &quot;round&quot;, &quot;lineJoin&quot;: &quot;round&quot;, &quot;opacity&quot;: 1.0, &quot;radius&quot;: 43.754165155748495, &quot;stroke&quot;: true, &quot;weight&quot;: 3}\n",
       "            ).addTo(map_6aa78215c90e31e165549f794bca61e4);\n",
       "        \n",
       "    \n",
       "        var popup_f9d1830698016b4c5b10ba12cfba58b7 = L.popup({&quot;maxWidth&quot;: &quot;100%&quot;});\n",
       "\n",
       "        \n",
       "            \n",
       "                var html_ac88f4a0d5bc2785a4c80aac4351f019 = $(`&lt;div id=&quot;html_ac88f4a0d5bc2785a4c80aac4351f019&quot; style=&quot;width: 100.0%; height: 100.0%;&quot;&gt;Congo, Dem. Rep.&lt;/div&gt;`)[0];\n",
       "                popup_f9d1830698016b4c5b10ba12cfba58b7.setContent(html_ac88f4a0d5bc2785a4c80aac4351f019);\n",
       "            \n",
       "        \n",
       "\n",
       "        circle_marker_8b68696f3407b9e2b786388a47c8340f.bindPopup(popup_f9d1830698016b4c5b10ba12cfba58b7)\n",
       "        ;\n",
       "\n",
       "        \n",
       "    \n",
       "    \n",
       "            var circle_marker_11346ec195a67cdbf659730070cf5104 = L.circleMarker(\n",
       "                [-1.0, 15.5],\n",
       "                {&quot;bubblingMouseEvents&quot;: true, &quot;color&quot;: &quot;blue&quot;, &quot;dashArray&quot;: null, &quot;dashOffset&quot;: null, &quot;fill&quot;: true, &quot;fillColor&quot;: &quot;blue&quot;, &quot;fillOpacity&quot;: 0.2, &quot;fillRule&quot;: &quot;evenodd&quot;, &quot;lineCap&quot;: &quot;round&quot;, &quot;lineJoin&quot;: &quot;round&quot;, &quot;opacity&quot;: 1.0, &quot;radius&quot;: 6.827682386823731, &quot;stroke&quot;: true, &quot;weight&quot;: 3}\n",
       "            ).addTo(map_6aa78215c90e31e165549f794bca61e4);\n",
       "        \n",
       "    \n",
       "        var popup_2052dc87b76cd1f8ba2b6903a7e3a619 = L.popup({&quot;maxWidth&quot;: &quot;100%&quot;});\n",
       "\n",
       "        \n",
       "            \n",
       "                var html_2b0cb9b360c0ad3ac216d35c6a7a6a0f = $(`&lt;div id=&quot;html_2b0cb9b360c0ad3ac216d35c6a7a6a0f&quot; style=&quot;width: 100.0%; height: 100.0%;&quot;&gt;Congo, Rep.&lt;/div&gt;`)[0];\n",
       "                popup_2052dc87b76cd1f8ba2b6903a7e3a619.setContent(html_2b0cb9b360c0ad3ac216d35c6a7a6a0f);\n",
       "            \n",
       "        \n",
       "\n",
       "        circle_marker_11346ec195a67cdbf659730070cf5104.bindPopup(popup_2052dc87b76cd1f8ba2b6903a7e3a619)\n",
       "        ;\n",
       "\n",
       "        \n",
       "    \n",
       "    \n",
       "            var circle_marker_a4ad07198b82022e1a2b8cf5cb145661 = L.circleMarker(\n",
       "                [4.0, -73.25],\n",
       "                {&quot;bubblingMouseEvents&quot;: true, &quot;color&quot;: &quot;green&quot;, &quot;dashArray&quot;: null, &quot;dashOffset&quot;: null, &quot;fill&quot;: true, &quot;fillColor&quot;: &quot;green&quot;, &quot;fillOpacity&quot;: 0.2, &quot;fillRule&quot;: &quot;evenodd&quot;, &quot;lineCap&quot;: &quot;round&quot;, &quot;lineJoin&quot;: &quot;round&quot;, &quot;opacity&quot;: 1.0, &quot;radius&quot;: 8.957943098745089, &quot;stroke&quot;: true, &quot;weight&quot;: 3}\n",
       "            ).addTo(map_6aa78215c90e31e165549f794bca61e4);\n",
       "        \n",
       "    \n",
       "        var popup_c76f368e545c8cd40cae19355c5868c0 = L.popup({&quot;maxWidth&quot;: &quot;100%&quot;});\n",
       "\n",
       "        \n",
       "            \n",
       "                var html_3ee1cb115a899b2b1deab2d223a6993e = $(`&lt;div id=&quot;html_3ee1cb115a899b2b1deab2d223a6993e&quot; style=&quot;width: 100.0%; height: 100.0%;&quot;&gt;Colombia&lt;/div&gt;`)[0];\n",
       "                popup_c76f368e545c8cd40cae19355c5868c0.setContent(html_3ee1cb115a899b2b1deab2d223a6993e);\n",
       "            \n",
       "        \n",
       "\n",
       "        circle_marker_a4ad07198b82022e1a2b8cf5cb145661.bindPopup(popup_c76f368e545c8cd40cae19355c5868c0)\n",
       "        ;\n",
       "\n",
       "        \n",
       "    \n",
       "    \n",
       "            var circle_marker_1d3a11fc070399a65f9500e2f7f46ab5 = L.circleMarker(\n",
       "                [-12.23333, 44.44553],\n",
       "                {&quot;bubblingMouseEvents&quot;: true, &quot;color&quot;: &quot;blue&quot;, &quot;dashArray&quot;: null, &quot;dashOffset&quot;: null, &quot;fill&quot;: true, &quot;fillColor&quot;: &quot;blue&quot;, &quot;fillOpacity&quot;: 0.2, &quot;fillRule&quot;: &quot;evenodd&quot;, &quot;lineCap&quot;: &quot;round&quot;, &quot;lineJoin&quot;: &quot;round&quot;, &quot;opacity&quot;: 1.0, &quot;radius&quot;: 3.1001948097460694, &quot;stroke&quot;: true, &quot;weight&quot;: 3}\n",
       "            ).addTo(map_6aa78215c90e31e165549f794bca61e4);\n",
       "        \n",
       "    \n",
       "        var popup_c7333b2c4ecbc0bc054523c7aec7d65b = L.popup({&quot;maxWidth&quot;: &quot;100%&quot;});\n",
       "\n",
       "        \n",
       "            \n",
       "                var html_9a46dc580d8d2fcf12235b703775f295 = $(`&lt;div id=&quot;html_9a46dc580d8d2fcf12235b703775f295&quot; style=&quot;width: 100.0%; height: 100.0%;&quot;&gt;Comoros&lt;/div&gt;`)[0];\n",
       "                popup_c7333b2c4ecbc0bc054523c7aec7d65b.setContent(html_9a46dc580d8d2fcf12235b703775f295);\n",
       "            \n",
       "        \n",
       "\n",
       "        circle_marker_1d3a11fc070399a65f9500e2f7f46ab5.bindPopup(popup_c7333b2c4ecbc0bc054523c7aec7d65b)\n",
       "        ;\n",
       "\n",
       "        \n",
       "    \n",
       "    \n",
       "            var circle_marker_45e9d0b90bffb92b9187dfed9f10fabc = L.circleMarker(\n",
       "                [16.0, -24.0],\n",
       "                {&quot;bubblingMouseEvents&quot;: true, &quot;color&quot;: &quot;blue&quot;, &quot;dashArray&quot;: null, &quot;dashOffset&quot;: null, &quot;fill&quot;: true, &quot;fillColor&quot;: &quot;blue&quot;, &quot;fillOpacity&quot;: 0.2, &quot;fillRule&quot;: &quot;evenodd&quot;, &quot;lineCap&quot;: &quot;round&quot;, &quot;lineJoin&quot;: &quot;round&quot;, &quot;opacity&quot;: 1.0, &quot;radius&quot;: 1.4920867957148702, &quot;stroke&quot;: true, &quot;weight&quot;: 3}\n",
       "            ).addTo(map_6aa78215c90e31e165549f794bca61e4);\n",
       "        \n",
       "    \n",
       "        var popup_5e894e7dac24c1ea85d605740cdedd28 = L.popup({&quot;maxWidth&quot;: &quot;100%&quot;});\n",
       "\n",
       "        \n",
       "            \n",
       "                var html_98736c3037faf8c512f77425deeb31f9 = $(`&lt;div id=&quot;html_98736c3037faf8c512f77425deeb31f9&quot; style=&quot;width: 100.0%; height: 100.0%;&quot;&gt;Cape Verde&lt;/div&gt;`)[0];\n",
       "                popup_5e894e7dac24c1ea85d605740cdedd28.setContent(html_98736c3037faf8c512f77425deeb31f9);\n",
       "            \n",
       "        \n",
       "\n",
       "        circle_marker_45e9d0b90bffb92b9187dfed9f10fabc.bindPopup(popup_5e894e7dac24c1ea85d605740cdedd28)\n",
       "        ;\n",
       "\n",
       "        \n",
       "    \n",
       "    \n",
       "            var circle_marker_90071de2bfd5a2789c6c7bebae7fdfba = L.circleMarker(\n",
       "                [10.0, -84.0],\n",
       "                {&quot;bubblingMouseEvents&quot;: true, &quot;color&quot;: &quot;green&quot;, &quot;dashArray&quot;: null, &quot;dashOffset&quot;: null, &quot;fill&quot;: true, &quot;fillColor&quot;: &quot;green&quot;, &quot;fillOpacity&quot;: 0.2, &quot;fillRule&quot;: &quot;evenodd&quot;, &quot;lineCap&quot;: &quot;round&quot;, &quot;lineJoin&quot;: &quot;round&quot;, &quot;opacity&quot;: 1.0, &quot;radius&quot;: 1.3992015419421908, &quot;stroke&quot;: true, &quot;weight&quot;: 3}\n",
       "            ).addTo(map_6aa78215c90e31e165549f794bca61e4);\n",
       "        \n",
       "    \n",
       "        var popup_a7e97a69e048b6adcbbd7039c73b7c8b = L.popup({&quot;maxWidth&quot;: &quot;100%&quot;});\n",
       "\n",
       "        \n",
       "            \n",
       "                var html_2433b716c048e42635dfb4ff87741e98 = $(`&lt;div id=&quot;html_2433b716c048e42635dfb4ff87741e98&quot; style=&quot;width: 100.0%; height: 100.0%;&quot;&gt;Costa Rica&lt;/div&gt;`)[0];\n",
       "                popup_a7e97a69e048b6adcbbd7039c73b7c8b.setContent(html_2433b716c048e42635dfb4ff87741e98);\n",
       "            \n",
       "        \n",
       "\n",
       "        circle_marker_90071de2bfd5a2789c6c7bebae7fdfba.bindPopup(popup_a7e97a69e048b6adcbbd7039c73b7c8b)\n",
       "        ;\n",
       "\n",
       "        \n",
       "    \n",
       "    \n",
       "            var circle_marker_46ce5c1a389aeca346e76c374a1558ca = L.circleMarker(\n",
       "                [49.75, 15.0],\n",
       "                {&quot;bubblingMouseEvents&quot;: true, &quot;color&quot;: &quot;black&quot;, &quot;dashArray&quot;: null, &quot;dashOffset&quot;: null, &quot;fill&quot;: true, &quot;fillColor&quot;: &quot;black&quot;, &quot;fillOpacity&quot;: 0.2, &quot;fillRule&quot;: &quot;evenodd&quot;, &quot;lineCap&quot;: &quot;round&quot;, &quot;lineJoin&quot;: &quot;round&quot;, &quot;opacity&quot;: 1.0, &quot;radius&quot;: 0.3160972528717893, &quot;stroke&quot;: true, &quot;weight&quot;: 3}\n",
       "            ).addTo(map_6aa78215c90e31e165549f794bca61e4);\n",
       "        \n",
       "    \n",
       "        var popup_6dea3c4cfa5f90914a8121b38e0c7bbb = L.popup({&quot;maxWidth&quot;: &quot;100%&quot;});\n",
       "\n",
       "        \n",
       "            \n",
       "                var html_a69076fd2ab3647212f8ee2f9b324fce = $(`&lt;div id=&quot;html_a69076fd2ab3647212f8ee2f9b324fce&quot; style=&quot;width: 100.0%; height: 100.0%;&quot;&gt;Czech Republic&lt;/div&gt;`)[0];\n",
       "                popup_6dea3c4cfa5f90914a8121b38e0c7bbb.setContent(html_a69076fd2ab3647212f8ee2f9b324fce);\n",
       "            \n",
       "        \n",
       "\n",
       "        circle_marker_46ce5c1a389aeca346e76c374a1558ca.bindPopup(popup_6dea3c4cfa5f90914a8121b38e0c7bbb)\n",
       "        ;\n",
       "\n",
       "        \n",
       "    \n",
       "    \n",
       "            var circle_marker_7d08454213eec2013669efd54fef1f61 = L.circleMarker(\n",
       "                [51.5, 10.5],\n",
       "                {&quot;bubblingMouseEvents&quot;: true, &quot;color&quot;: &quot;black&quot;, &quot;dashArray&quot;: null, &quot;dashOffset&quot;: null, &quot;fill&quot;: true, &quot;fillColor&quot;: &quot;black&quot;, &quot;fillOpacity&quot;: 0.2, &quot;fillRule&quot;: &quot;evenodd&quot;, &quot;lineCap&quot;: &quot;round&quot;, &quot;lineJoin&quot;: &quot;round&quot;, &quot;opacity&quot;: 1.0, &quot;radius&quot;: 2.957693602631285, &quot;stroke&quot;: true, &quot;weight&quot;: 3}\n",
       "            ).addTo(map_6aa78215c90e31e165549f794bca61e4);\n",
       "        \n",
       "    \n",
       "        var popup_1b3029d13bcf6ca5607222b9995355e4 = L.popup({&quot;maxWidth&quot;: &quot;100%&quot;});\n",
       "\n",
       "        \n",
       "            \n",
       "                var html_f8806f1264f89236539429a165f151e9 = $(`&lt;div id=&quot;html_f8806f1264f89236539429a165f151e9&quot; style=&quot;width: 100.0%; height: 100.0%;&quot;&gt;Germany&lt;/div&gt;`)[0];\n",
       "                popup_1b3029d13bcf6ca5607222b9995355e4.setContent(html_f8806f1264f89236539429a165f151e9);\n",
       "            \n",
       "        \n",
       "\n",
       "        circle_marker_7d08454213eec2013669efd54fef1f61.bindPopup(popup_1b3029d13bcf6ca5607222b9995355e4)\n",
       "        ;\n",
       "\n",
       "        \n",
       "    \n",
       "    \n",
       "            var circle_marker_9d9d4751394e7970730a313771c20483 = L.circleMarker(\n",
       "                [11.58901, 43.14503],\n",
       "                {&quot;bubblingMouseEvents&quot;: true, &quot;color&quot;: &quot;blue&quot;, &quot;dashArray&quot;: null, &quot;dashOffset&quot;: null, &quot;fill&quot;: true, &quot;fillColor&quot;: &quot;blue&quot;, &quot;fillOpacity&quot;: 0.2, &quot;fillRule&quot;: &quot;evenodd&quot;, &quot;lineCap&quot;: &quot;round&quot;, &quot;lineJoin&quot;: &quot;round&quot;, &quot;opacity&quot;: 1.0, &quot;radius&quot;: 2.3612934913574355, &quot;stroke&quot;: true, &quot;weight&quot;: 3}\n",
       "            ).addTo(map_6aa78215c90e31e165549f794bca61e4);\n",
       "        \n",
       "    \n",
       "        var popup_e158de973fee6bfb959ab0ed2ed42436 = L.popup({&quot;maxWidth&quot;: &quot;100%&quot;});\n",
       "\n",
       "        \n",
       "            \n",
       "                var html_ebb51b12a6475d37850860b662cd5993 = $(`&lt;div id=&quot;html_ebb51b12a6475d37850860b662cd5993&quot; style=&quot;width: 100.0%; height: 100.0%;&quot;&gt;Djibouti&lt;/div&gt;`)[0];\n",
       "                popup_e158de973fee6bfb959ab0ed2ed42436.setContent(html_ebb51b12a6475d37850860b662cd5993);\n",
       "            \n",
       "        \n",
       "\n",
       "        circle_marker_9d9d4751394e7970730a313771c20483.bindPopup(popup_e158de973fee6bfb959ab0ed2ed42436)\n",
       "        ;\n",
       "\n",
       "        \n",
       "    \n",
       "    \n",
       "            var circle_marker_42c045bf38c0f7433165abc49cca358b = L.circleMarker(\n",
       "                [56.0, 10.0],\n",
       "                {&quot;bubblingMouseEvents&quot;: true, &quot;color&quot;: &quot;black&quot;, &quot;dashArray&quot;: null, &quot;dashOffset&quot;: null, &quot;fill&quot;: true, &quot;fillColor&quot;: &quot;black&quot;, &quot;fillOpacity&quot;: 0.2, &quot;fillRule&quot;: &quot;evenodd&quot;, &quot;lineCap&quot;: &quot;round&quot;, &quot;lineJoin&quot;: &quot;round&quot;, &quot;opacity&quot;: 1.0, &quot;radius&quot;: 1.0877452265736534, &quot;stroke&quot;: true, &quot;weight&quot;: 3}\n",
       "            ).addTo(map_6aa78215c90e31e165549f794bca61e4);\n",
       "        \n",
       "    \n",
       "        var popup_4ff8bc75705beead6482834f4b7d4833 = L.popup({&quot;maxWidth&quot;: &quot;100%&quot;});\n",
       "\n",
       "        \n",
       "            \n",
       "                var html_f379783d2a6c47b25834715b3fec658b = $(`&lt;div id=&quot;html_f379783d2a6c47b25834715b3fec658b&quot; style=&quot;width: 100.0%; height: 100.0%;&quot;&gt;Denmark&lt;/div&gt;`)[0];\n",
       "                popup_4ff8bc75705beead6482834f4b7d4833.setContent(html_f379783d2a6c47b25834715b3fec658b);\n",
       "            \n",
       "        \n",
       "\n",
       "        circle_marker_42c045bf38c0f7433165abc49cca358b.bindPopup(popup_4ff8bc75705beead6482834f4b7d4833)\n",
       "        ;\n",
       "\n",
       "        \n",
       "    \n",
       "    \n",
       "            var circle_marker_8d72ae68cb611a64af5ac90a02805d61 = L.circleMarker(\n",
       "                [19.0, -70.66667],\n",
       "                {&quot;bubblingMouseEvents&quot;: true, &quot;color&quot;: &quot;green&quot;, &quot;dashArray&quot;: null, &quot;dashOffset&quot;: null, &quot;fill&quot;: true, &quot;fillColor&quot;: &quot;green&quot;, &quot;fillOpacity&quot;: 0.2, &quot;fillRule&quot;: &quot;evenodd&quot;, &quot;lineCap&quot;: &quot;round&quot;, &quot;lineJoin&quot;: &quot;round&quot;, &quot;opacity&quot;: 1.0, &quot;radius&quot;: 2.6520151317791023, &quot;stroke&quot;: true, &quot;weight&quot;: 3}\n",
       "            ).addTo(map_6aa78215c90e31e165549f794bca61e4);\n",
       "        \n",
       "    \n",
       "        var popup_3f04a9be47a64b7eb26d4df380dd4ac3 = L.popup({&quot;maxWidth&quot;: &quot;100%&quot;});\n",
       "\n",
       "        \n",
       "            \n",
       "                var html_a2485adf446265b1d97c3db4e462d909 = $(`&lt;div id=&quot;html_a2485adf446265b1d97c3db4e462d909&quot; style=&quot;width: 100.0%; height: 100.0%;&quot;&gt;Dominican Republic&lt;/div&gt;`)[0];\n",
       "                popup_3f04a9be47a64b7eb26d4df380dd4ac3.setContent(html_a2485adf446265b1d97c3db4e462d909);\n",
       "            \n",
       "        \n",
       "\n",
       "        circle_marker_8d72ae68cb611a64af5ac90a02805d61.bindPopup(popup_3f04a9be47a64b7eb26d4df380dd4ac3)\n",
       "        ;\n",
       "\n",
       "        \n",
       "    \n",
       "    \n",
       "            var circle_marker_4dcaf445b90e85c89740e7164d363975 = L.circleMarker(\n",
       "                [28.0, 3.0],\n",
       "                {&quot;bubblingMouseEvents&quot;: true, &quot;color&quot;: &quot;blue&quot;, &quot;dashArray&quot;: null, &quot;dashOffset&quot;: null, &quot;fill&quot;: true, &quot;fillColor&quot;: &quot;blue&quot;, &quot;fillOpacity&quot;: 0.2, &quot;fillRule&quot;: &quot;evenodd&quot;, &quot;lineCap&quot;: &quot;round&quot;, &quot;lineJoin&quot;: &quot;round&quot;, &quot;opacity&quot;: 1.0, &quot;radius&quot;: 8.572728445542362, &quot;stroke&quot;: true, &quot;weight&quot;: 3}\n",
       "            ).addTo(map_6aa78215c90e31e165549f794bca61e4);\n",
       "        \n",
       "    \n",
       "        var popup_07a9ca2232e45c546d45187dc233f28b = L.popup({&quot;maxWidth&quot;: &quot;100%&quot;});\n",
       "\n",
       "        \n",
       "            \n",
       "                var html_8393cf5f1481f23e79b0125afe16f1e8 = $(`&lt;div id=&quot;html_8393cf5f1481f23e79b0125afe16f1e8&quot; style=&quot;width: 100.0%; height: 100.0%;&quot;&gt;Algeria&lt;/div&gt;`)[0];\n",
       "                popup_07a9ca2232e45c546d45187dc233f28b.setContent(html_8393cf5f1481f23e79b0125afe16f1e8);\n",
       "            \n",
       "        \n",
       "\n",
       "        circle_marker_4dcaf445b90e85c89740e7164d363975.bindPopup(popup_07a9ca2232e45c546d45187dc233f28b)\n",
       "        ;\n",
       "\n",
       "        \n",
       "    \n",
       "    \n",
       "            var circle_marker_f3024f1826669c2057427afe138aa86b = L.circleMarker(\n",
       "                [-1.25, -78.25],\n",
       "                {&quot;bubblingMouseEvents&quot;: true, &quot;color&quot;: &quot;green&quot;, &quot;dashArray&quot;: null, &quot;dashOffset&quot;: null, &quot;fill&quot;: true, &quot;fillColor&quot;: &quot;green&quot;, &quot;fillOpacity&quot;: 0.2, &quot;fillRule&quot;: &quot;evenodd&quot;, &quot;lineCap&quot;: &quot;round&quot;, &quot;lineJoin&quot;: &quot;round&quot;, &quot;opacity&quot;: 1.0, &quot;radius&quot;: 4.353880662227051, &quot;stroke&quot;: true, &quot;weight&quot;: 3}\n",
       "            ).addTo(map_6aa78215c90e31e165549f794bca61e4);\n",
       "        \n",
       "    \n",
       "        var popup_e619cf6c16413d18f16d6b171095c6f5 = L.popup({&quot;maxWidth&quot;: &quot;100%&quot;});\n",
       "\n",
       "        \n",
       "            \n",
       "                var html_c30fb3f80a86bf1186de0929da22f2ba = $(`&lt;div id=&quot;html_c30fb3f80a86bf1186de0929da22f2ba&quot; style=&quot;width: 100.0%; height: 100.0%;&quot;&gt;Ecuador&lt;/div&gt;`)[0];\n",
       "                popup_e619cf6c16413d18f16d6b171095c6f5.setContent(html_c30fb3f80a86bf1186de0929da22f2ba);\n",
       "            \n",
       "        \n",
       "\n",
       "        circle_marker_f3024f1826669c2057427afe138aa86b.bindPopup(popup_e619cf6c16413d18f16d6b171095c6f5)\n",
       "        ;\n",
       "\n",
       "        \n",
       "    \n",
       "    \n",
       "            var circle_marker_621f0020531cad7179f56db49a5b2b00 = L.circleMarker(\n",
       "                [27.0, 30.0],\n",
       "                {&quot;bubblingMouseEvents&quot;: true, &quot;color&quot;: &quot;blue&quot;, &quot;dashArray&quot;: null, &quot;dashOffset&quot;: null, &quot;fill&quot;: true, &quot;fillColor&quot;: &quot;blue&quot;, &quot;fillOpacity&quot;: 0.2, &quot;fillRule&quot;: &quot;evenodd&quot;, &quot;lineCap&quot;: &quot;round&quot;, &quot;lineJoin&quot;: &quot;round&quot;, &quot;opacity&quot;: 1.0, &quot;radius&quot;: 6.906413357069596, &quot;stroke&quot;: true, &quot;weight&quot;: 3}\n",
       "            ).addTo(map_6aa78215c90e31e165549f794bca61e4);\n",
       "        \n",
       "    \n",
       "        var popup_10f6e38afe81d06a729eea883af268e9 = L.popup({&quot;maxWidth&quot;: &quot;100%&quot;});\n",
       "\n",
       "        \n",
       "            \n",
       "                var html_99fc4d5b7b860d2dff067037725ca345 = $(`&lt;div id=&quot;html_99fc4d5b7b860d2dff067037725ca345&quot; style=&quot;width: 100.0%; height: 100.0%;&quot;&gt;Egypt&lt;/div&gt;`)[0];\n",
       "                popup_10f6e38afe81d06a729eea883af268e9.setContent(html_99fc4d5b7b860d2dff067037725ca345);\n",
       "            \n",
       "        \n",
       "\n",
       "        circle_marker_621f0020531cad7179f56db49a5b2b00.bindPopup(popup_10f6e38afe81d06a729eea883af268e9)\n",
       "        ;\n",
       "\n",
       "        \n",
       "    \n",
       "    \n",
       "            var circle_marker_a6ed499db8d1636ae431ccab65c65f6f = L.circleMarker(\n",
       "                [40.0, -4.0],\n",
       "                {&quot;bubblingMouseEvents&quot;: true, &quot;color&quot;: &quot;black&quot;, &quot;dashArray&quot;: null, &quot;dashOffset&quot;: null, &quot;fill&quot;: true, &quot;fillColor&quot;: &quot;black&quot;, &quot;fillOpacity&quot;: 0.2, &quot;fillRule&quot;: &quot;evenodd&quot;, &quot;lineCap&quot;: &quot;round&quot;, &quot;lineJoin&quot;: &quot;round&quot;, &quot;opacity&quot;: 1.0, &quot;radius&quot;: 5.906682334608904, &quot;stroke&quot;: true, &quot;weight&quot;: 3}\n",
       "            ).addTo(map_6aa78215c90e31e165549f794bca61e4);\n",
       "        \n",
       "    \n",
       "        var popup_251e6f3531784405f108462dd461f9a4 = L.popup({&quot;maxWidth&quot;: &quot;100%&quot;});\n",
       "\n",
       "        \n",
       "            \n",
       "                var html_e61c33a1131b86099aa86c1f72574e43 = $(`&lt;div id=&quot;html_e61c33a1131b86099aa86c1f72574e43&quot; style=&quot;width: 100.0%; height: 100.0%;&quot;&gt;Spain&lt;/div&gt;`)[0];\n",
       "                popup_251e6f3531784405f108462dd461f9a4.setContent(html_e61c33a1131b86099aa86c1f72574e43);\n",
       "            \n",
       "        \n",
       "\n",
       "        circle_marker_a6ed499db8d1636ae431ccab65c65f6f.bindPopup(popup_251e6f3531784405f108462dd461f9a4)\n",
       "        ;\n",
       "\n",
       "        \n",
       "    \n",
       "    \n",
       "            var circle_marker_9d6c3159f1682ad109b84354df169460 = L.circleMarker(\n",
       "                [59.0, 26.0],\n",
       "                {&quot;bubblingMouseEvents&quot;: true, &quot;color&quot;: &quot;black&quot;, &quot;dashArray&quot;: null, &quot;dashOffset&quot;: null, &quot;fill&quot;: true, &quot;fillColor&quot;: &quot;black&quot;, &quot;fillOpacity&quot;: 0.2, &quot;fillRule&quot;: &quot;evenodd&quot;, &quot;lineCap&quot;: &quot;round&quot;, &quot;lineJoin&quot;: &quot;round&quot;, &quot;opacity&quot;: 1.0, &quot;radius&quot;: 0.6444615888418875, &quot;stroke&quot;: true, &quot;weight&quot;: 3}\n",
       "            ).addTo(map_6aa78215c90e31e165549f794bca61e4);\n",
       "        \n",
       "    \n",
       "        var popup_f61fd93b6f9640ca9388a7ace7f95cfa = L.popup({&quot;maxWidth&quot;: &quot;100%&quot;});\n",
       "\n",
       "        \n",
       "            \n",
       "                var html_86e3113272df17017047f6a69db1a0f4 = $(`&lt;div id=&quot;html_86e3113272df17017047f6a69db1a0f4&quot; style=&quot;width: 100.0%; height: 100.0%;&quot;&gt;Estonia&lt;/div&gt;`)[0];\n",
       "                popup_f61fd93b6f9640ca9388a7ace7f95cfa.setContent(html_86e3113272df17017047f6a69db1a0f4);\n",
       "            \n",
       "        \n",
       "\n",
       "        circle_marker_9d6c3159f1682ad109b84354df169460.bindPopup(popup_f61fd93b6f9640ca9388a7ace7f95cfa)\n",
       "        ;\n",
       "\n",
       "        \n",
       "    \n",
       "    \n",
       "            var circle_marker_6986e5c51be50f366713e765a708ceb7 = L.circleMarker(\n",
       "                [9.0, 39.5],\n",
       "                {&quot;bubblingMouseEvents&quot;: true, &quot;color&quot;: &quot;blue&quot;, &quot;dashArray&quot;: null, &quot;dashOffset&quot;: null, &quot;fill&quot;: true, &quot;fillColor&quot;: &quot;blue&quot;, &quot;fillOpacity&quot;: 0.2, &quot;fillRule&quot;: &quot;evenodd&quot;, &quot;lineCap&quot;: &quot;round&quot;, &quot;lineJoin&quot;: &quot;round&quot;, &quot;opacity&quot;: 1.0, &quot;radius&quot;: 32.561667460024736, &quot;stroke&quot;: true, &quot;weight&quot;: 3}\n",
       "            ).addTo(map_6aa78215c90e31e165549f794bca61e4);\n",
       "        \n",
       "    \n",
       "        var popup_65ae8f9188ca15ad5d8833a429d2492d = L.popup({&quot;maxWidth&quot;: &quot;100%&quot;});\n",
       "\n",
       "        \n",
       "            \n",
       "                var html_ad67a99bae4f44b525419bf32ae998a0 = $(`&lt;div id=&quot;html_ad67a99bae4f44b525419bf32ae998a0&quot; style=&quot;width: 100.0%; height: 100.0%;&quot;&gt;Ethiopia&lt;/div&gt;`)[0];\n",
       "                popup_65ae8f9188ca15ad5d8833a429d2492d.setContent(html_ad67a99bae4f44b525419bf32ae998a0);\n",
       "            \n",
       "        \n",
       "\n",
       "        circle_marker_6986e5c51be50f366713e765a708ceb7.bindPopup(popup_65ae8f9188ca15ad5d8833a429d2492d)\n",
       "        ;\n",
       "\n",
       "        \n",
       "    \n",
       "    \n",
       "            var circle_marker_773cabd18d493755bf52325ac22a1d05 = L.circleMarker(\n",
       "                [64.0, 26.0],\n",
       "                {&quot;bubblingMouseEvents&quot;: true, &quot;color&quot;: &quot;black&quot;, &quot;dashArray&quot;: null, &quot;dashOffset&quot;: null, &quot;fill&quot;: true, &quot;fillColor&quot;: &quot;black&quot;, &quot;fillOpacity&quot;: 0.2, &quot;fillRule&quot;: &quot;evenodd&quot;, &quot;lineCap&quot;: &quot;round&quot;, &quot;lineJoin&quot;: &quot;round&quot;, &quot;opacity&quot;: 1.0, &quot;stroke&quot;: true, &quot;weight&quot;: 3}\n",
       "            ).addTo(map_6aa78215c90e31e165549f794bca61e4);\n",
       "        \n",
       "    \n",
       "        var popup_4f9c2fe91cddb7343f554e02800ef7c8 = L.popup({&quot;maxWidth&quot;: &quot;100%&quot;});\n",
       "\n",
       "        \n",
       "            \n",
       "                var html_2e1fac64e51f73b5da9b0e64cae2e765 = $(`&lt;div id=&quot;html_2e1fac64e51f73b5da9b0e64cae2e765&quot; style=&quot;width: 100.0%; height: 100.0%;&quot;&gt;Finland&lt;/div&gt;`)[0];\n",
       "                popup_4f9c2fe91cddb7343f554e02800ef7c8.setContent(html_2e1fac64e51f73b5da9b0e64cae2e765);\n",
       "            \n",
       "        \n",
       "\n",
       "        circle_marker_773cabd18d493755bf52325ac22a1d05.bindPopup(popup_4f9c2fe91cddb7343f554e02800ef7c8)\n",
       "        ;\n",
       "\n",
       "        \n",
       "    \n",
       "    \n",
       "            var circle_marker_aa6acc248be2ac17a2a012afe4ca603e = L.circleMarker(\n",
       "                [-18.0, 178.0],\n",
       "                {&quot;bubblingMouseEvents&quot;: true, &quot;color&quot;: &quot;red&quot;, &quot;dashArray&quot;: null, &quot;dashOffset&quot;: null, &quot;fill&quot;: true, &quot;fillColor&quot;: &quot;red&quot;, &quot;fillOpacity&quot;: 0.2, &quot;fillRule&quot;: &quot;evenodd&quot;, &quot;lineCap&quot;: &quot;round&quot;, &quot;lineJoin&quot;: &quot;round&quot;, &quot;opacity&quot;: 1.0, &quot;radius&quot;: 1.305376694179763, &quot;stroke&quot;: true, &quot;weight&quot;: 3}\n",
       "            ).addTo(map_6aa78215c90e31e165549f794bca61e4);\n",
       "        \n",
       "    \n",
       "        var popup_870afbbaeb6e82181b7fac6a4a3c5203 = L.popup({&quot;maxWidth&quot;: &quot;100%&quot;});\n",
       "\n",
       "        \n",
       "            \n",
       "                var html_0a19d58102eaed2959f9216bc325e57b = $(`&lt;div id=&quot;html_0a19d58102eaed2959f9216bc325e57b&quot; style=&quot;width: 100.0%; height: 100.0%;&quot;&gt;Fiji&lt;/div&gt;`)[0];\n",
       "                popup_870afbbaeb6e82181b7fac6a4a3c5203.setContent(html_0a19d58102eaed2959f9216bc325e57b);\n",
       "            \n",
       "        \n",
       "\n",
       "        circle_marker_aa6acc248be2ac17a2a012afe4ca603e.bindPopup(popup_870afbbaeb6e82181b7fac6a4a3c5203)\n",
       "        ;\n",
       "\n",
       "        \n",
       "    \n",
       "    \n",
       "            var circle_marker_1fbe00f920556be1ca69bf51bdbcdfea = L.circleMarker(\n",
       "                [46.0, 2.0],\n",
       "                {&quot;bubblingMouseEvents&quot;: true, &quot;color&quot;: &quot;black&quot;, &quot;dashArray&quot;: null, &quot;dashOffset&quot;: null, &quot;fill&quot;: true, &quot;fillColor&quot;: &quot;black&quot;, &quot;fillOpacity&quot;: 0.2, &quot;fillRule&quot;: &quot;evenodd&quot;, &quot;lineCap&quot;: &quot;round&quot;, &quot;lineJoin&quot;: &quot;round&quot;, &quot;opacity&quot;: 1.0, &quot;radius&quot;: 2.5809869827429424, &quot;stroke&quot;: true, &quot;weight&quot;: 3}\n",
       "            ).addTo(map_6aa78215c90e31e165549f794bca61e4);\n",
       "        \n",
       "    \n",
       "        var popup_5d6f54a00cfeb2372ebae3b81f95f50d = L.popup({&quot;maxWidth&quot;: &quot;100%&quot;});\n",
       "\n",
       "        \n",
       "            \n",
       "                var html_1c399a638c4f0f19ad47bfeb093bc8d8 = $(`&lt;div id=&quot;html_1c399a638c4f0f19ad47bfeb093bc8d8&quot; style=&quot;width: 100.0%; height: 100.0%;&quot;&gt;France&lt;/div&gt;`)[0];\n",
       "                popup_5d6f54a00cfeb2372ebae3b81f95f50d.setContent(html_1c399a638c4f0f19ad47bfeb093bc8d8);\n",
       "            \n",
       "        \n",
       "\n",
       "        circle_marker_1fbe00f920556be1ca69bf51bdbcdfea.bindPopup(popup_5d6f54a00cfeb2372ebae3b81f95f50d)\n",
       "        ;\n",
       "\n",
       "        \n",
       "    \n",
       "    \n",
       "            var circle_marker_d3f11401eaf1f0ea881bb9d1187b65df = L.circleMarker(\n",
       "                [6.924, 158.162],\n",
       "                {&quot;bubblingMouseEvents&quot;: true, &quot;color&quot;: &quot;red&quot;, &quot;dashArray&quot;: null, &quot;dashOffset&quot;: null, &quot;fill&quot;: true, &quot;fillColor&quot;: &quot;red&quot;, &quot;fillOpacity&quot;: 0.2, &quot;fillRule&quot;: &quot;evenodd&quot;, &quot;lineCap&quot;: &quot;round&quot;, &quot;lineJoin&quot;: &quot;round&quot;, &quot;opacity&quot;: 1.0, &quot;radius&quot;: 1.0326210765460293, &quot;stroke&quot;: true, &quot;weight&quot;: 3}\n",
       "            ).addTo(map_6aa78215c90e31e165549f794bca61e4);\n",
       "        \n",
       "    \n",
       "        var popup_b61a248625d0e65676e7349509da86e6 = L.popup({&quot;maxWidth&quot;: &quot;100%&quot;});\n",
       "\n",
       "        \n",
       "            \n",
       "                var html_ddae14eecafdcc54fb8567e7254a421b = $(`&lt;div id=&quot;html_ddae14eecafdcc54fb8567e7254a421b&quot; style=&quot;width: 100.0%; height: 100.0%;&quot;&gt;Micronesia, Fed. Sts.&lt;/div&gt;`)[0];\n",
       "                popup_b61a248625d0e65676e7349509da86e6.setContent(html_ddae14eecafdcc54fb8567e7254a421b);\n",
       "            \n",
       "        \n",
       "\n",
       "        circle_marker_d3f11401eaf1f0ea881bb9d1187b65df.bindPopup(popup_b61a248625d0e65676e7349509da86e6)\n",
       "        ;\n",
       "\n",
       "        \n",
       "    \n",
       "    \n",
       "            var circle_marker_ed61f28a31afcc8984908ba56ae7d84d = L.circleMarker(\n",
       "                [-1.0, 11.75],\n",
       "                {&quot;bubblingMouseEvents&quot;: true, &quot;color&quot;: &quot;blue&quot;, &quot;dashArray&quot;: null, &quot;dashOffset&quot;: null, &quot;fill&quot;: true, &quot;fillColor&quot;: &quot;blue&quot;, &quot;fillOpacity&quot;: 0.2, &quot;fillRule&quot;: &quot;evenodd&quot;, &quot;lineCap&quot;: &quot;round&quot;, &quot;lineJoin&quot;: &quot;round&quot;, &quot;opacity&quot;: 1.0, &quot;radius&quot;: 1.8259270464280992, &quot;stroke&quot;: true, &quot;weight&quot;: 3}\n",
       "            ).addTo(map_6aa78215c90e31e165549f794bca61e4);\n",
       "        \n",
       "    \n",
       "        var popup_31feefaa78b72b3d0f0768619ad714a6 = L.popup({&quot;maxWidth&quot;: &quot;100%&quot;});\n",
       "\n",
       "        \n",
       "            \n",
       "                var html_2527b71dcd046590b92e0fb0c4da459a = $(`&lt;div id=&quot;html_2527b71dcd046590b92e0fb0c4da459a&quot; style=&quot;width: 100.0%; height: 100.0%;&quot;&gt;Gabon&lt;/div&gt;`)[0];\n",
       "                popup_31feefaa78b72b3d0f0768619ad714a6.setContent(html_2527b71dcd046590b92e0fb0c4da459a);\n",
       "            \n",
       "        \n",
       "\n",
       "        circle_marker_ed61f28a31afcc8984908ba56ae7d84d.bindPopup(popup_31feefaa78b72b3d0f0768619ad714a6)\n",
       "        ;\n",
       "\n",
       "        \n",
       "    \n",
       "    \n",
       "            var circle_marker_96b516ff16f5160f4cc652682d698e1c = L.circleMarker(\n",
       "                [54.75844, -2.69531],\n",
       "                {&quot;bubblingMouseEvents&quot;: true, &quot;color&quot;: &quot;black&quot;, &quot;dashArray&quot;: null, &quot;dashOffset&quot;: null, &quot;fill&quot;: true, &quot;fillColor&quot;: &quot;black&quot;, &quot;fillOpacity&quot;: 0.2, &quot;fillRule&quot;: &quot;evenodd&quot;, &quot;lineCap&quot;: &quot;round&quot;, &quot;lineJoin&quot;: &quot;round&quot;, &quot;opacity&quot;: 1.0, &quot;radius&quot;: 4.500680734303956, &quot;stroke&quot;: true, &quot;weight&quot;: 3}\n",
       "            ).addTo(map_6aa78215c90e31e165549f794bca61e4);\n",
       "        \n",
       "    \n",
       "        var popup_c621c7bb985ae7466b09f07b25dac78c = L.popup({&quot;maxWidth&quot;: &quot;100%&quot;});\n",
       "\n",
       "        \n",
       "            \n",
       "                var html_35e8946c430eca42afc269df90d87620 = $(`&lt;div id=&quot;html_35e8946c430eca42afc269df90d87620&quot; style=&quot;width: 100.0%; height: 100.0%;&quot;&gt;United Kingdom&lt;/div&gt;`)[0];\n",
       "                popup_c621c7bb985ae7466b09f07b25dac78c.setContent(html_35e8946c430eca42afc269df90d87620);\n",
       "            \n",
       "        \n",
       "\n",
       "        circle_marker_96b516ff16f5160f4cc652682d698e1c.bindPopup(popup_c621c7bb985ae7466b09f07b25dac78c)\n",
       "        ;\n",
       "\n",
       "        \n",
       "    \n",
       "    \n",
       "            var circle_marker_d03fbfb3727ec994ea5cc5a5d76267fc = L.circleMarker(\n",
       "                [41.99998, 43.4999],\n",
       "                {&quot;bubblingMouseEvents&quot;: true, &quot;color&quot;: &quot;black&quot;, &quot;dashArray&quot;: null, &quot;dashOffset&quot;: null, &quot;fill&quot;: true, &quot;fillColor&quot;: &quot;black&quot;, &quot;fillOpacity&quot;: 0.2, &quot;fillRule&quot;: &quot;evenodd&quot;, &quot;lineCap&quot;: &quot;round&quot;, &quot;lineJoin&quot;: &quot;round&quot;, &quot;opacity&quot;: 1.0, &quot;radius&quot;: 4.187503114511933, &quot;stroke&quot;: true, &quot;weight&quot;: 3}\n",
       "            ).addTo(map_6aa78215c90e31e165549f794bca61e4);\n",
       "        \n",
       "    \n",
       "        var popup_b29ca1c5f6bf5f602b9978a88b027329 = L.popup({&quot;maxWidth&quot;: &quot;100%&quot;});\n",
       "\n",
       "        \n",
       "            \n",
       "                var html_45c7ca986300554c40c4ab3f1f07f11a = $(`&lt;div id=&quot;html_45c7ca986300554c40c4ab3f1f07f11a&quot; style=&quot;width: 100.0%; height: 100.0%;&quot;&gt;Georgia&lt;/div&gt;`)[0];\n",
       "                popup_b29ca1c5f6bf5f602b9978a88b027329.setContent(html_45c7ca986300554c40c4ab3f1f07f11a);\n",
       "            \n",
       "        \n",
       "\n",
       "        circle_marker_d03fbfb3727ec994ea5cc5a5d76267fc.bindPopup(popup_b29ca1c5f6bf5f602b9978a88b027329)\n",
       "        ;\n",
       "\n",
       "        \n",
       "    \n",
       "    \n",
       "            var circle_marker_4d9ec892a2c8cfc20e791781de7a5022 = L.circleMarker(\n",
       "                [8.1, -1.2],\n",
       "                {&quot;bubblingMouseEvents&quot;: true, &quot;color&quot;: &quot;blue&quot;, &quot;dashArray&quot;: null, &quot;dashOffset&quot;: null, &quot;fill&quot;: true, &quot;fillColor&quot;: &quot;blue&quot;, &quot;fillOpacity&quot;: 0.2, &quot;fillRule&quot;: &quot;evenodd&quot;, &quot;lineCap&quot;: &quot;round&quot;, &quot;lineJoin&quot;: &quot;round&quot;, &quot;opacity&quot;: 1.0, &quot;radius&quot;: 15.226118061910228, &quot;stroke&quot;: true, &quot;weight&quot;: 3}\n",
       "            ).addTo(map_6aa78215c90e31e165549f794bca61e4);\n",
       "        \n",
       "    \n",
       "        var popup_9cf9543681e37451215de36159296e40 = L.popup({&quot;maxWidth&quot;: &quot;100%&quot;});\n",
       "\n",
       "        \n",
       "            \n",
       "                var html_d4ec06072b9151985b51ac15afa8980b = $(`&lt;div id=&quot;html_d4ec06072b9151985b51ac15afa8980b&quot; style=&quot;width: 100.0%; height: 100.0%;&quot;&gt;Ghana&lt;/div&gt;`)[0];\n",
       "                popup_9cf9543681e37451215de36159296e40.setContent(html_d4ec06072b9151985b51ac15afa8980b);\n",
       "            \n",
       "        \n",
       "\n",
       "        circle_marker_4d9ec892a2c8cfc20e791781de7a5022.bindPopup(popup_9cf9543681e37451215de36159296e40)\n",
       "        ;\n",
       "\n",
       "        \n",
       "    \n",
       "    \n",
       "            var circle_marker_9725782bcb2af1a6c57479f68a09581a = L.circleMarker(\n",
       "                [10.83333, -10.66667],\n",
       "                {&quot;bubblingMouseEvents&quot;: true, &quot;color&quot;: &quot;blue&quot;, &quot;dashArray&quot;: null, &quot;dashOffset&quot;: null, &quot;fill&quot;: true, &quot;fillColor&quot;: &quot;blue&quot;, &quot;fillOpacity&quot;: 0.2, &quot;fillRule&quot;: &quot;evenodd&quot;, &quot;lineCap&quot;: &quot;round&quot;, &quot;lineJoin&quot;: &quot;round&quot;, &quot;opacity&quot;: 1.0, &quot;radius&quot;: 11.629533564200177, &quot;stroke&quot;: true, &quot;weight&quot;: 3}\n",
       "            ).addTo(map_6aa78215c90e31e165549f794bca61e4);\n",
       "        \n",
       "    \n",
       "        var popup_10807874eff862f307e6473f9f076216 = L.popup({&quot;maxWidth&quot;: &quot;100%&quot;});\n",
       "\n",
       "        \n",
       "            \n",
       "                var html_3ede7237fc41ed4975863679371f8de9 = $(`&lt;div id=&quot;html_3ede7237fc41ed4975863679371f8de9&quot; style=&quot;width: 100.0%; height: 100.0%;&quot;&gt;Guinea&lt;/div&gt;`)[0];\n",
       "                popup_10807874eff862f307e6473f9f076216.setContent(html_3ede7237fc41ed4975863679371f8de9);\n",
       "            \n",
       "        \n",
       "\n",
       "        circle_marker_9725782bcb2af1a6c57479f68a09581a.bindPopup(popup_10807874eff862f307e6473f9f076216)\n",
       "        ;\n",
       "\n",
       "        \n",
       "    \n",
       "    \n",
       "            var circle_marker_03adc349f927ea6ab883c2379264c2a3 = L.circleMarker(\n",
       "                [13.5, -15.5],\n",
       "                {&quot;bubblingMouseEvents&quot;: true, &quot;color&quot;: &quot;blue&quot;, &quot;dashArray&quot;: null, &quot;dashOffset&quot;: null, &quot;fill&quot;: true, &quot;fillColor&quot;: &quot;blue&quot;, &quot;fillOpacity&quot;: 0.2, &quot;fillRule&quot;: &quot;evenodd&quot;, &quot;lineCap&quot;: &quot;round&quot;, &quot;lineJoin&quot;: &quot;round&quot;, &quot;opacity&quot;: 1.0, &quot;radius&quot;: 4.541379210278732, &quot;stroke&quot;: true, &quot;weight&quot;: 3}\n",
       "            ).addTo(map_6aa78215c90e31e165549f794bca61e4);\n",
       "        \n",
       "    \n",
       "        var popup_0f4d91bbc3a53c334d7672116c084dce = L.popup({&quot;maxWidth&quot;: &quot;100%&quot;});\n",
       "\n",
       "        \n",
       "            \n",
       "                var html_bfdcaddf0587e0ef712e4c988b617b6e = $(`&lt;div id=&quot;html_bfdcaddf0587e0ef712e4c988b617b6e&quot; style=&quot;width: 100.0%; height: 100.0%;&quot;&gt;Gambia&lt;/div&gt;`)[0];\n",
       "                popup_0f4d91bbc3a53c334d7672116c084dce.setContent(html_bfdcaddf0587e0ef712e4c988b617b6e);\n",
       "            \n",
       "        \n",
       "\n",
       "        circle_marker_03adc349f927ea6ab883c2379264c2a3.bindPopup(popup_0f4d91bbc3a53c334d7672116c084dce)\n",
       "        ;\n",
       "\n",
       "        \n",
       "    \n",
       "    \n",
       "            var circle_marker_0890f3a49144894f1a7a73c32da814d4 = L.circleMarker(\n",
       "                [12.0, -15.0],\n",
       "                {&quot;bubblingMouseEvents&quot;: true, &quot;color&quot;: &quot;blue&quot;, &quot;dashArray&quot;: null, &quot;dashOffset&quot;: null, &quot;fill&quot;: true, &quot;fillColor&quot;: &quot;blue&quot;, &quot;fillOpacity&quot;: 0.2, &quot;fillRule&quot;: &quot;evenodd&quot;, &quot;lineCap&quot;: &quot;round&quot;, &quot;lineJoin&quot;: &quot;round&quot;, &quot;opacity&quot;: 1.0, &quot;radius&quot;: 4.937687185952117, &quot;stroke&quot;: true, &quot;weight&quot;: 3}\n",
       "            ).addTo(map_6aa78215c90e31e165549f794bca61e4);\n",
       "        \n",
       "    \n",
       "        var popup_574f54de7f45aead295956311b0fdde8 = L.popup({&quot;maxWidth&quot;: &quot;100%&quot;});\n",
       "\n",
       "        \n",
       "            \n",
       "                var html_1137dfbe0bc3fa88435840cf1b982a04 = $(`&lt;div id=&quot;html_1137dfbe0bc3fa88435840cf1b982a04&quot; style=&quot;width: 100.0%; height: 100.0%;&quot;&gt;Guinea-Bissau&lt;/div&gt;`)[0];\n",
       "                popup_574f54de7f45aead295956311b0fdde8.setContent(html_1137dfbe0bc3fa88435840cf1b982a04);\n",
       "            \n",
       "        \n",
       "\n",
       "        circle_marker_0890f3a49144894f1a7a73c32da814d4.bindPopup(popup_574f54de7f45aead295956311b0fdde8)\n",
       "        ;\n",
       "\n",
       "        \n",
       "    \n",
       "    \n",
       "            var circle_marker_58ee9fb60311b295ae97bef02a493b63 = L.circleMarker(\n",
       "                [39.0, 22.0],\n",
       "                {&quot;bubblingMouseEvents&quot;: true, &quot;color&quot;: &quot;black&quot;, &quot;dashArray&quot;: null, &quot;dashOffset&quot;: null, &quot;fill&quot;: true, &quot;fillColor&quot;: &quot;black&quot;, &quot;fillOpacity&quot;: 0.2, &quot;fillRule&quot;: &quot;evenodd&quot;, &quot;lineCap&quot;: &quot;round&quot;, &quot;lineJoin&quot;: &quot;round&quot;, &quot;opacity&quot;: 1.0, &quot;radius&quot;: 2.202566074684235, &quot;stroke&quot;: true, &quot;weight&quot;: 3}\n",
       "            ).addTo(map_6aa78215c90e31e165549f794bca61e4);\n",
       "        \n",
       "    \n",
       "        var popup_c257775071bc1425d8602b1f2b22179a = L.popup({&quot;maxWidth&quot;: &quot;100%&quot;});\n",
       "\n",
       "        \n",
       "            \n",
       "                var html_c6e939e66ebc24dd3d9fe180aae5d35a = $(`&lt;div id=&quot;html_c6e939e66ebc24dd3d9fe180aae5d35a&quot; style=&quot;width: 100.0%; height: 100.0%;&quot;&gt;Greece&lt;/div&gt;`)[0];\n",
       "                popup_c257775071bc1425d8602b1f2b22179a.setContent(html_c6e939e66ebc24dd3d9fe180aae5d35a);\n",
       "            \n",
       "        \n",
       "\n",
       "        circle_marker_58ee9fb60311b295ae97bef02a493b63.bindPopup(popup_c257775071bc1425d8602b1f2b22179a)\n",
       "        ;\n",
       "\n",
       "        \n",
       "    \n",
       "    \n",
       "            var circle_marker_d2ecd49de3c490cf1988fa6c868faf7a = L.circleMarker(\n",
       "                [14.64072, -90.51327],\n",
       "                {&quot;bubblingMouseEvents&quot;: true, &quot;color&quot;: &quot;green&quot;, &quot;dashArray&quot;: null, &quot;dashOffset&quot;: null, &quot;fill&quot;: true, &quot;fillColor&quot;: &quot;green&quot;, &quot;fillOpacity&quot;: 0.2, &quot;fillRule&quot;: &quot;evenodd&quot;, &quot;lineCap&quot;: &quot;round&quot;, &quot;lineJoin&quot;: &quot;round&quot;, &quot;opacity&quot;: 1.0, &quot;radius&quot;: 7.951901430176263, &quot;stroke&quot;: true, &quot;weight&quot;: 3}\n",
       "            ).addTo(map_6aa78215c90e31e165549f794bca61e4);\n",
       "        \n",
       "    \n",
       "        var popup_4c0f8ac8d5b97af472e7ba2fcadb1daa = L.popup({&quot;maxWidth&quot;: &quot;100%&quot;});\n",
       "\n",
       "        \n",
       "            \n",
       "                var html_fe746e93dd2cf215e3282055eb11346c = $(`&lt;div id=&quot;html_fe746e93dd2cf215e3282055eb11346c&quot; style=&quot;width: 100.0%; height: 100.0%;&quot;&gt;Guatemala&lt;/div&gt;`)[0];\n",
       "                popup_4c0f8ac8d5b97af472e7ba2fcadb1daa.setContent(html_fe746e93dd2cf215e3282055eb11346c);\n",
       "            \n",
       "        \n",
       "\n",
       "        circle_marker_d2ecd49de3c490cf1988fa6c868faf7a.bindPopup(popup_4c0f8ac8d5b97af472e7ba2fcadb1daa)\n",
       "        ;\n",
       "\n",
       "        \n",
       "    \n",
       "    \n",
       "            var circle_marker_453a090bbe0c192cd2547ced397f3282 = L.circleMarker(\n",
       "                [5.0, -59.0],\n",
       "                {&quot;bubblingMouseEvents&quot;: true, &quot;color&quot;: &quot;green&quot;, &quot;dashArray&quot;: null, &quot;dashOffset&quot;: null, &quot;fill&quot;: true, &quot;fillColor&quot;: &quot;green&quot;, &quot;fillOpacity&quot;: 0.2, &quot;fillRule&quot;: &quot;evenodd&quot;, &quot;lineCap&quot;: &quot;round&quot;, &quot;lineJoin&quot;: &quot;round&quot;, &quot;opacity&quot;: 1.0, &quot;radius&quot;: 1.4404523571048922, &quot;stroke&quot;: true, &quot;weight&quot;: 3}\n",
       "            ).addTo(map_6aa78215c90e31e165549f794bca61e4);\n",
       "        \n",
       "    \n",
       "        var popup_6dfb93d9b0320dcf797c89dc030599be = L.popup({&quot;maxWidth&quot;: &quot;100%&quot;});\n",
       "\n",
       "        \n",
       "            \n",
       "                var html_bec77bf436610e5deae67113ac5ad7cc = $(`&lt;div id=&quot;html_bec77bf436610e5deae67113ac5ad7cc&quot; style=&quot;width: 100.0%; height: 100.0%;&quot;&gt;Guyana&lt;/div&gt;`)[0];\n",
       "                popup_6dfb93d9b0320dcf797c89dc030599be.setContent(html_bec77bf436610e5deae67113ac5ad7cc);\n",
       "            \n",
       "        \n",
       "\n",
       "        circle_marker_453a090bbe0c192cd2547ced397f3282.bindPopup(popup_6dfb93d9b0320dcf797c89dc030599be)\n",
       "        ;\n",
       "\n",
       "        \n",
       "    \n",
       "    \n",
       "            var circle_marker_b771d6af284a1755c6ef05e67b6ea89a = L.circleMarker(\n",
       "                [15.0, -86.5],\n",
       "                {&quot;bubblingMouseEvents&quot;: true, &quot;color&quot;: &quot;green&quot;, &quot;dashArray&quot;: null, &quot;dashOffset&quot;: null, &quot;fill&quot;: true, &quot;fillColor&quot;: &quot;green&quot;, &quot;fillOpacity&quot;: 0.2, &quot;fillRule&quot;: &quot;evenodd&quot;, &quot;lineCap&quot;: &quot;round&quot;, &quot;lineJoin&quot;: &quot;round&quot;, &quot;opacity&quot;: 1.0, &quot;radius&quot;: 6.624597234186647, &quot;stroke&quot;: true, &quot;weight&quot;: 3}\n",
       "            ).addTo(map_6aa78215c90e31e165549f794bca61e4);\n",
       "        \n",
       "    \n",
       "        var popup_286a389055a6da76662cded4425deaf3 = L.popup({&quot;maxWidth&quot;: &quot;100%&quot;});\n",
       "\n",
       "        \n",
       "            \n",
       "                var html_b7739571ad6a8ce0511eb81db03d5619 = $(`&lt;div id=&quot;html_b7739571ad6a8ce0511eb81db03d5619&quot; style=&quot;width: 100.0%; height: 100.0%;&quot;&gt;Honduras&lt;/div&gt;`)[0];\n",
       "                popup_286a389055a6da76662cded4425deaf3.setContent(html_b7739571ad6a8ce0511eb81db03d5619);\n",
       "            \n",
       "        \n",
       "\n",
       "        circle_marker_b771d6af284a1755c6ef05e67b6ea89a.bindPopup(popup_286a389055a6da76662cded4425deaf3)\n",
       "        ;\n",
       "\n",
       "        \n",
       "    \n",
       "    \n",
       "            var circle_marker_4e7976bcd8336f82bb9d5e342a48f717 = L.circleMarker(\n",
       "                [45.16667, 15.5],\n",
       "                {&quot;bubblingMouseEvents&quot;: true, &quot;color&quot;: &quot;black&quot;, &quot;dashArray&quot;: null, &quot;dashOffset&quot;: null, &quot;fill&quot;: true, &quot;fillColor&quot;: &quot;black&quot;, &quot;fillOpacity&quot;: 0.2, &quot;fillRule&quot;: &quot;evenodd&quot;, &quot;lineCap&quot;: &quot;round&quot;, &quot;lineJoin&quot;: &quot;round&quot;, &quot;opacity&quot;: 1.0, &quot;stroke&quot;: true, &quot;weight&quot;: 3}\n",
       "            ).addTo(map_6aa78215c90e31e165549f794bca61e4);\n",
       "        \n",
       "    \n",
       "        var popup_e3831e80396bbdacadb77e88b6ddc516 = L.popup({&quot;maxWidth&quot;: &quot;100%&quot;});\n",
       "\n",
       "        \n",
       "            \n",
       "                var html_96b54d3e6f678f21603b8e02e1abcb71 = $(`&lt;div id=&quot;html_96b54d3e6f678f21603b8e02e1abcb71&quot; style=&quot;width: 100.0%; height: 100.0%;&quot;&gt;Croatia&lt;/div&gt;`)[0];\n",
       "                popup_e3831e80396bbdacadb77e88b6ddc516.setContent(html_96b54d3e6f678f21603b8e02e1abcb71);\n",
       "            \n",
       "        \n",
       "\n",
       "        circle_marker_4e7976bcd8336f82bb9d5e342a48f717.bindPopup(popup_e3831e80396bbdacadb77e88b6ddc516)\n",
       "        ;\n",
       "\n",
       "        \n",
       "    \n",
       "    \n",
       "            var circle_marker_673901566368edcd1f007a7fcd8d4783 = L.circleMarker(\n",
       "                [19.0, -72.41667],\n",
       "                {&quot;bubblingMouseEvents&quot;: true, &quot;color&quot;: &quot;green&quot;, &quot;dashArray&quot;: null, &quot;dashOffset&quot;: null, &quot;fill&quot;: true, &quot;fillColor&quot;: &quot;green&quot;, &quot;fillOpacity&quot;: 0.2, &quot;fillRule&quot;: &quot;evenodd&quot;, &quot;lineCap&quot;: &quot;round&quot;, &quot;lineJoin&quot;: &quot;round&quot;, &quot;opacity&quot;: 1.0, &quot;radius&quot;: 13.87678502206466, &quot;stroke&quot;: true, &quot;weight&quot;: 3}\n",
       "            ).addTo(map_6aa78215c90e31e165549f794bca61e4);\n",
       "        \n",
       "    \n",
       "        var popup_4bef454794b7b1502824d6a45a13a1f0 = L.popup({&quot;maxWidth&quot;: &quot;100%&quot;});\n",
       "\n",
       "        \n",
       "            \n",
       "                var html_00af7e9e3561c03ba0dc503a60cda13f = $(`&lt;div id=&quot;html_00af7e9e3561c03ba0dc503a60cda13f&quot; style=&quot;width: 100.0%; height: 100.0%;&quot;&gt;Haiti&lt;/div&gt;`)[0];\n",
       "                popup_4bef454794b7b1502824d6a45a13a1f0.setContent(html_00af7e9e3561c03ba0dc503a60cda13f);\n",
       "            \n",
       "        \n",
       "\n",
       "        circle_marker_673901566368edcd1f007a7fcd8d4783.bindPopup(popup_4bef454794b7b1502824d6a45a13a1f0)\n",
       "        ;\n",
       "\n",
       "        \n",
       "    \n",
       "    \n",
       "            var circle_marker_69c7de660fe0337c68c3c32247fccef9 = L.circleMarker(\n",
       "                [47.0, 20.0],\n",
       "                {&quot;bubblingMouseEvents&quot;: true, &quot;color&quot;: &quot;black&quot;, &quot;dashArray&quot;: null, &quot;dashOffset&quot;: null, &quot;fill&quot;: true, &quot;fillColor&quot;: &quot;black&quot;, &quot;fillOpacity&quot;: 0.2, &quot;fillRule&quot;: &quot;evenodd&quot;, &quot;lineCap&quot;: &quot;round&quot;, &quot;lineJoin&quot;: &quot;round&quot;, &quot;opacity&quot;: 1.0, &quot;radius&quot;: 0.39854313845017025, &quot;stroke&quot;: true, &quot;weight&quot;: 3}\n",
       "            ).addTo(map_6aa78215c90e31e165549f794bca61e4);\n",
       "        \n",
       "    \n",
       "        var popup_17f4027a035b21a05fe29750df6c2ec4 = L.popup({&quot;maxWidth&quot;: &quot;100%&quot;});\n",
       "\n",
       "        \n",
       "            \n",
       "                var html_ab9d31c032f12f375845d6a1e17e7621 = $(`&lt;div id=&quot;html_ab9d31c032f12f375845d6a1e17e7621&quot; style=&quot;width: 100.0%; height: 100.0%;&quot;&gt;Hungary&lt;/div&gt;`)[0];\n",
       "                popup_17f4027a035b21a05fe29750df6c2ec4.setContent(html_ab9d31c032f12f375845d6a1e17e7621);\n",
       "            \n",
       "        \n",
       "\n",
       "        circle_marker_69c7de660fe0337c68c3c32247fccef9.bindPopup(popup_17f4027a035b21a05fe29750df6c2ec4)\n",
       "        ;\n",
       "\n",
       "        \n",
       "    \n",
       "    \n",
       "            var circle_marker_d2bc5cb61beef4df55d18787c27cdcd3 = L.circleMarker(\n",
       "                [-5.0, 120.0],\n",
       "                {&quot;bubblingMouseEvents&quot;: true, &quot;color&quot;: &quot;red&quot;, &quot;dashArray&quot;: null, &quot;dashOffset&quot;: null, &quot;fill&quot;: true, &quot;fillColor&quot;: &quot;red&quot;, &quot;fillOpacity&quot;: 0.2, &quot;fillRule&quot;: &quot;evenodd&quot;, &quot;lineCap&quot;: &quot;round&quot;, &quot;lineJoin&quot;: &quot;round&quot;, &quot;opacity&quot;: 1.0, &quot;radius&quot;: 35.63850421634843, &quot;stroke&quot;: true, &quot;weight&quot;: 3}\n",
       "            ).addTo(map_6aa78215c90e31e165549f794bca61e4);\n",
       "        \n",
       "    \n",
       "        var popup_100dc376fbdecfad8f80807eb3f5b1f4 = L.popup({&quot;maxWidth&quot;: &quot;100%&quot;});\n",
       "\n",
       "        \n",
       "            \n",
       "                var html_ea65ebb5d610ab8127c93da4c467f2c4 = $(`&lt;div id=&quot;html_ea65ebb5d610ab8127c93da4c467f2c4&quot; style=&quot;width: 100.0%; height: 100.0%;&quot;&gt;Indonesia&lt;/div&gt;`)[0];\n",
       "                popup_100dc376fbdecfad8f80807eb3f5b1f4.setContent(html_ea65ebb5d610ab8127c93da4c467f2c4);\n",
       "            \n",
       "        \n",
       "\n",
       "        circle_marker_d2bc5cb61beef4df55d18787c27cdcd3.bindPopup(popup_100dc376fbdecfad8f80807eb3f5b1f4)\n",
       "        ;\n",
       "\n",
       "        \n",
       "    \n",
       "    \n",
       "            var circle_marker_f79814d49bf2be55b30b16e8245b4599 = L.circleMarker(\n",
       "                [22.0, 79.0],\n",
       "                {&quot;bubblingMouseEvents&quot;: true, &quot;color&quot;: &quot;red&quot;, &quot;dashArray&quot;: null, &quot;dashOffset&quot;: null, &quot;fill&quot;: true, &quot;fillColor&quot;: &quot;red&quot;, &quot;fillOpacity&quot;: 0.2, &quot;fillRule&quot;: &quot;evenodd&quot;, &quot;lineCap&quot;: &quot;round&quot;, &quot;lineJoin&quot;: &quot;round&quot;, &quot;opacity&quot;: 1.0, &quot;radius&quot;: 96.71116171569287, &quot;stroke&quot;: true, &quot;weight&quot;: 3}\n",
       "            ).addTo(map_6aa78215c90e31e165549f794bca61e4);\n",
       "        \n",
       "    \n",
       "        var popup_13cbf083f4d25e228c71a31413e45301 = L.popup({&quot;maxWidth&quot;: &quot;100%&quot;});\n",
       "\n",
       "        \n",
       "            \n",
       "                var html_f126b08db3edaa6adaa6e4af4a43acf7 = $(`&lt;div id=&quot;html_f126b08db3edaa6adaa6e4af4a43acf7&quot; style=&quot;width: 100.0%; height: 100.0%;&quot;&gt;India&lt;/div&gt;`)[0];\n",
       "                popup_13cbf083f4d25e228c71a31413e45301.setContent(html_f126b08db3edaa6adaa6e4af4a43acf7);\n",
       "            \n",
       "        \n",
       "\n",
       "        circle_marker_f79814d49bf2be55b30b16e8245b4599.bindPopup(popup_13cbf083f4d25e228c71a31413e45301)\n",
       "        ;\n",
       "\n",
       "        \n",
       "    \n",
       "    \n",
       "            var circle_marker_6ac923fb56d2df6836304ffdb9d039b7 = L.circleMarker(\n",
       "                [53.0, -8.0],\n",
       "                {&quot;bubblingMouseEvents&quot;: true, &quot;color&quot;: &quot;black&quot;, &quot;dashArray&quot;: null, &quot;dashOffset&quot;: null, &quot;fill&quot;: true, &quot;fillColor&quot;: &quot;black&quot;, &quot;fillOpacity&quot;: 0.2, &quot;fillRule&quot;: &quot;evenodd&quot;, &quot;lineCap&quot;: &quot;round&quot;, &quot;lineJoin&quot;: &quot;round&quot;, &quot;opacity&quot;: 1.0, &quot;radius&quot;: 0.7228015053895888, &quot;stroke&quot;: true, &quot;weight&quot;: 3}\n",
       "            ).addTo(map_6aa78215c90e31e165549f794bca61e4);\n",
       "        \n",
       "    \n",
       "        var popup_88b9639678d62a048997fb25b2feeebd = L.popup({&quot;maxWidth&quot;: &quot;100%&quot;});\n",
       "\n",
       "        \n",
       "            \n",
       "                var html_90597042d6c48e075a5a4fdf2899a7e8 = $(`&lt;div id=&quot;html_90597042d6c48e075a5a4fdf2899a7e8&quot; style=&quot;width: 100.0%; height: 100.0%;&quot;&gt;Ireland&lt;/div&gt;`)[0];\n",
       "                popup_88b9639678d62a048997fb25b2feeebd.setContent(html_90597042d6c48e075a5a4fdf2899a7e8);\n",
       "            \n",
       "        \n",
       "\n",
       "        circle_marker_6ac923fb56d2df6836304ffdb9d039b7.bindPopup(popup_88b9639678d62a048997fb25b2feeebd)\n",
       "        ;\n",
       "\n",
       "        \n",
       "    \n",
       "    \n",
       "            var circle_marker_501122d937f4c3f7668974ad2126b1cc = L.circleMarker(\n",
       "                [32.0, 53.0],\n",
       "                {&quot;bubblingMouseEvents&quot;: true, &quot;color&quot;: &quot;red&quot;, &quot;dashArray&quot;: null, &quot;dashOffset&quot;: null, &quot;fill&quot;: true, &quot;fillColor&quot;: &quot;red&quot;, &quot;fillOpacity&quot;: 0.2, &quot;fillRule&quot;: &quot;evenodd&quot;, &quot;lineCap&quot;: &quot;round&quot;, &quot;lineJoin&quot;: &quot;round&quot;, &quot;opacity&quot;: 1.0, &quot;radius&quot;: 5.977753046502472, &quot;stroke&quot;: true, &quot;weight&quot;: 3}\n",
       "            ).addTo(map_6aa78215c90e31e165549f794bca61e4);\n",
       "        \n",
       "    \n",
       "        var popup_955da0a482cfd3eebfc1c86e83c0bed7 = L.popup({&quot;maxWidth&quot;: &quot;100%&quot;});\n",
       "\n",
       "        \n",
       "            \n",
       "                var html_d96cc6ca8402b0108aa6e2b15b8dfaf6 = $(`&lt;div id=&quot;html_d96cc6ca8402b0108aa6e2b15b8dfaf6&quot; style=&quot;width: 100.0%; height: 100.0%;&quot;&gt;Iran&lt;/div&gt;`)[0];\n",
       "                popup_955da0a482cfd3eebfc1c86e83c0bed7.setContent(html_d96cc6ca8402b0108aa6e2b15b8dfaf6);\n",
       "            \n",
       "        \n",
       "\n",
       "        circle_marker_501122d937f4c3f7668974ad2126b1cc.bindPopup(popup_955da0a482cfd3eebfc1c86e83c0bed7)\n",
       "        ;\n",
       "\n",
       "        \n",
       "    \n",
       "    \n",
       "            var circle_marker_7a604e66fefbb8c5858c78a945ce582f = L.circleMarker(\n",
       "                [33.0, 44.0],\n",
       "                {&quot;bubblingMouseEvents&quot;: true, &quot;color&quot;: &quot;red&quot;, &quot;dashArray&quot;: null, &quot;dashOffset&quot;: null, &quot;fill&quot;: true, &quot;fillColor&quot;: &quot;red&quot;, &quot;fillOpacity&quot;: 0.2, &quot;fillRule&quot;: &quot;evenodd&quot;, &quot;lineCap&quot;: &quot;round&quot;, &quot;lineJoin&quot;: &quot;round&quot;, &quot;opacity&quot;: 1.0, &quot;radius&quot;: 6.216012345398477, &quot;stroke&quot;: true, &quot;weight&quot;: 3}\n",
       "            ).addTo(map_6aa78215c90e31e165549f794bca61e4);\n",
       "        \n",
       "    \n",
       "        var popup_7f149b0196bfddcdf97cfb32763e4ef2 = L.popup({&quot;maxWidth&quot;: &quot;100%&quot;});\n",
       "\n",
       "        \n",
       "            \n",
       "                var html_d5ac14c6d9d84ea737f608446d20c31a = $(`&lt;div id=&quot;html_d5ac14c6d9d84ea737f608446d20c31a&quot; style=&quot;width: 100.0%; height: 100.0%;&quot;&gt;Iraq&lt;/div&gt;`)[0];\n",
       "                popup_7f149b0196bfddcdf97cfb32763e4ef2.setContent(html_d5ac14c6d9d84ea737f608446d20c31a);\n",
       "            \n",
       "        \n",
       "\n",
       "        circle_marker_7a604e66fefbb8c5858c78a945ce582f.bindPopup(popup_7f149b0196bfddcdf97cfb32763e4ef2)\n",
       "        ;\n",
       "\n",
       "        \n",
       "    \n",
       "    \n",
       "            var circle_marker_8e31872fe56b2cc2c5df578f9ecba799 = L.circleMarker(\n",
       "                [31.5, 34.75],\n",
       "                {&quot;bubblingMouseEvents&quot;: true, &quot;color&quot;: &quot;red&quot;, &quot;dashArray&quot;: null, &quot;dashOffset&quot;: null, &quot;fill&quot;: true, &quot;fillColor&quot;: &quot;red&quot;, &quot;fillOpacity&quot;: 0.2, &quot;fillRule&quot;: &quot;evenodd&quot;, &quot;lineCap&quot;: &quot;round&quot;, &quot;lineJoin&quot;: &quot;round&quot;, &quot;opacity&quot;: 1.0, &quot;radius&quot;: 0.954347985452728, &quot;stroke&quot;: true, &quot;weight&quot;: 3}\n",
       "            ).addTo(map_6aa78215c90e31e165549f794bca61e4);\n",
       "        \n",
       "    \n",
       "        var popup_e96aee3341db53a60e8d4fb14621fe5b = L.popup({&quot;maxWidth&quot;: &quot;100%&quot;});\n",
       "\n",
       "        \n",
       "            \n",
       "                var html_36ce59b783fb3991f6ab3e689c505943 = $(`&lt;div id=&quot;html_36ce59b783fb3991f6ab3e689c505943&quot; style=&quot;width: 100.0%; height: 100.0%;&quot;&gt;Israel&lt;/div&gt;`)[0];\n",
       "                popup_e96aee3341db53a60e8d4fb14621fe5b.setContent(html_36ce59b783fb3991f6ab3e689c505943);\n",
       "            \n",
       "        \n",
       "\n",
       "        circle_marker_8e31872fe56b2cc2c5df578f9ecba799.bindPopup(popup_e96aee3341db53a60e8d4fb14621fe5b)\n",
       "        ;\n",
       "\n",
       "        \n",
       "    \n",
       "    \n",
       "            var circle_marker_8885db06019220894d8baf5dec4ea9c6 = L.circleMarker(\n",
       "                [42.83333, 12.83333],\n",
       "                {&quot;bubblingMouseEvents&quot;: true, &quot;color&quot;: &quot;black&quot;, &quot;dashArray&quot;: null, &quot;dashOffset&quot;: null, &quot;fill&quot;: true, &quot;fillColor&quot;: &quot;black&quot;, &quot;fillOpacity&quot;: 0.2, &quot;fillRule&quot;: &quot;evenodd&quot;, &quot;lineCap&quot;: &quot;round&quot;, &quot;lineJoin&quot;: &quot;round&quot;, &quot;opacity&quot;: 1.0, &quot;radius&quot;: 5.08465043859005, &quot;stroke&quot;: true, &quot;weight&quot;: 3}\n",
       "            ).addTo(map_6aa78215c90e31e165549f794bca61e4);\n",
       "        \n",
       "    \n",
       "        var popup_216a7559998cd871c457bffee1591850 = L.popup({&quot;maxWidth&quot;: &quot;100%&quot;});\n",
       "\n",
       "        \n",
       "            \n",
       "                var html_c1bed8cb84fe8f82e21748478d4ac720 = $(`&lt;div id=&quot;html_c1bed8cb84fe8f82e21748478d4ac720&quot; style=&quot;width: 100.0%; height: 100.0%;&quot;&gt;Italy&lt;/div&gt;`)[0];\n",
       "                popup_216a7559998cd871c457bffee1591850.setContent(html_c1bed8cb84fe8f82e21748478d4ac720);\n",
       "            \n",
       "        \n",
       "\n",
       "        circle_marker_8885db06019220894d8baf5dec4ea9c6.bindPopup(popup_216a7559998cd871c457bffee1591850)\n",
       "        ;\n",
       "\n",
       "        \n",
       "    \n",
       "    \n",
       "            var circle_marker_ec985fa0af009c879ec3f7d3baf224f1 = L.circleMarker(\n",
       "                [18.16667, -77.25],\n",
       "                {&quot;bubblingMouseEvents&quot;: true, &quot;color&quot;: &quot;green&quot;, &quot;dashArray&quot;: null, &quot;dashOffset&quot;: null, &quot;fill&quot;: true, &quot;fillColor&quot;: &quot;green&quot;, &quot;fillOpacity&quot;: 0.2, &quot;fillRule&quot;: &quot;evenodd&quot;, &quot;lineCap&quot;: &quot;round&quot;, &quot;lineJoin&quot;: &quot;round&quot;, &quot;opacity&quot;: 1.0, &quot;radius&quot;: 0.45824560217796606, &quot;stroke&quot;: true, &quot;weight&quot;: 3}\n",
       "            ).addTo(map_6aa78215c90e31e165549f794bca61e4);\n",
       "        \n",
       "    \n",
       "        var popup_0862a3674008012dafeb5c8242509232 = L.popup({&quot;maxWidth&quot;: &quot;100%&quot;});\n",
       "\n",
       "        \n",
       "            \n",
       "                var html_6d30fc13be0bccabf8960cc95559c2b7 = $(`&lt;div id=&quot;html_6d30fc13be0bccabf8960cc95559c2b7&quot; style=&quot;width: 100.0%; height: 100.0%;&quot;&gt;Jamaica&lt;/div&gt;`)[0];\n",
       "                popup_0862a3674008012dafeb5c8242509232.setContent(html_6d30fc13be0bccabf8960cc95559c2b7);\n",
       "            \n",
       "        \n",
       "\n",
       "        circle_marker_ec985fa0af009c879ec3f7d3baf224f1.bindPopup(popup_0862a3674008012dafeb5c8242509232)\n",
       "        ;\n",
       "\n",
       "        \n",
       "    \n",
       "    \n",
       "            var circle_marker_26c6949d513e6dd82677fa45e82104ad = L.circleMarker(\n",
       "                [31.0, 36.0],\n",
       "                {&quot;bubblingMouseEvents&quot;: true, &quot;color&quot;: &quot;red&quot;, &quot;dashArray&quot;: null, &quot;dashOffset&quot;: null, &quot;fill&quot;: true, &quot;fillColor&quot;: &quot;red&quot;, &quot;fillOpacity&quot;: 0.2, &quot;fillRule&quot;: &quot;evenodd&quot;, &quot;lineCap&quot;: &quot;round&quot;, &quot;lineJoin&quot;: &quot;round&quot;, &quot;opacity&quot;: 1.0, &quot;radius&quot;: 0.4310792404582909, &quot;stroke&quot;: true, &quot;weight&quot;: 3}\n",
       "            ).addTo(map_6aa78215c90e31e165549f794bca61e4);\n",
       "        \n",
       "    \n",
       "        var popup_05c5b79442f1b75bed6c9f8c2f1ccb6b = L.popup({&quot;maxWidth&quot;: &quot;100%&quot;});\n",
       "\n",
       "        \n",
       "            \n",
       "                var html_b2175c46b302aa0ba45aa090a6450172 = $(`&lt;div id=&quot;html_b2175c46b302aa0ba45aa090a6450172&quot; style=&quot;width: 100.0%; height: 100.0%;&quot;&gt;Jordan&lt;/div&gt;`)[0];\n",
       "                popup_05c5b79442f1b75bed6c9f8c2f1ccb6b.setContent(html_b2175c46b302aa0ba45aa090a6450172);\n",
       "            \n",
       "        \n",
       "\n",
       "        circle_marker_26c6949d513e6dd82677fa45e82104ad.bindPopup(popup_05c5b79442f1b75bed6c9f8c2f1ccb6b)\n",
       "        ;\n",
       "\n",
       "        \n",
       "    \n",
       "    \n",
       "            var circle_marker_9332d0a1335ee5e00e025095b37dbe24 = L.circleMarker(\n",
       "                [35.68536, 139.75309],\n",
       "                {&quot;bubblingMouseEvents&quot;: true, &quot;color&quot;: &quot;red&quot;, &quot;dashArray&quot;: null, &quot;dashOffset&quot;: null, &quot;fill&quot;: true, &quot;fillColor&quot;: &quot;red&quot;, &quot;fillOpacity&quot;: 0.2, &quot;fillRule&quot;: &quot;evenodd&quot;, &quot;lineCap&quot;: &quot;round&quot;, &quot;lineJoin&quot;: &quot;round&quot;, &quot;opacity&quot;: 1.0, &quot;radius&quot;: 3.7790090475756384, &quot;stroke&quot;: true, &quot;weight&quot;: 3}\n",
       "            ).addTo(map_6aa78215c90e31e165549f794bca61e4);\n",
       "        \n",
       "    \n",
       "        var popup_e15f1277db81c927d1654a3f1365195e = L.popup({&quot;maxWidth&quot;: &quot;100%&quot;});\n",
       "\n",
       "        \n",
       "            \n",
       "                var html_58f82d7e6aaeb79f931dc1d640bf435c = $(`&lt;div id=&quot;html_58f82d7e6aaeb79f931dc1d640bf435c&quot; style=&quot;width: 100.0%; height: 100.0%;&quot;&gt;Japan&lt;/div&gt;`)[0];\n",
       "                popup_e15f1277db81c927d1654a3f1365195e.setContent(html_58f82d7e6aaeb79f931dc1d640bf435c);\n",
       "            \n",
       "        \n",
       "\n",
       "        circle_marker_9332d0a1335ee5e00e025095b37dbe24.bindPopup(popup_e15f1277db81c927d1654a3f1365195e)\n",
       "        ;\n",
       "\n",
       "        \n",
       "    \n",
       "    \n",
       "            var circle_marker_9d3ccddb4b644cae611ccaa12614e87d = L.circleMarker(\n",
       "                [48.0, 68.0],\n",
       "                {&quot;bubblingMouseEvents&quot;: true, &quot;color&quot;: &quot;red&quot;, &quot;dashArray&quot;: null, &quot;dashOffset&quot;: null, &quot;fill&quot;: true, &quot;fillColor&quot;: &quot;red&quot;, &quot;fillOpacity&quot;: 0.2, &quot;fillRule&quot;: &quot;evenodd&quot;, &quot;lineCap&quot;: &quot;round&quot;, &quot;lineJoin&quot;: &quot;round&quot;, &quot;opacity&quot;: 1.0, &quot;radius&quot;: 0.5670596503216089, &quot;stroke&quot;: true, &quot;weight&quot;: 3}\n",
       "            ).addTo(map_6aa78215c90e31e165549f794bca61e4);\n",
       "        \n",
       "    \n",
       "        var popup_c7a111ed588d9ee342b7ee3d63938d1b = L.popup({&quot;maxWidth&quot;: &quot;100%&quot;});\n",
       "\n",
       "        \n",
       "            \n",
       "                var html_26048096e45d37716c6cfb5412691b12 = $(`&lt;div id=&quot;html_26048096e45d37716c6cfb5412691b12&quot; style=&quot;width: 100.0%; height: 100.0%;&quot;&gt;Kazakhstan&lt;/div&gt;`)[0];\n",
       "                popup_c7a111ed588d9ee342b7ee3d63938d1b.setContent(html_26048096e45d37716c6cfb5412691b12);\n",
       "            \n",
       "        \n",
       "\n",
       "        circle_marker_9d3ccddb4b644cae611ccaa12614e87d.bindPopup(popup_c7a111ed588d9ee342b7ee3d63938d1b)\n",
       "        ;\n",
       "\n",
       "        \n",
       "    \n",
       "    \n",
       "            var circle_marker_461c6e97e9190c5d9c93189819176134 = L.circleMarker(\n",
       "                [1.0, 38.0],\n",
       "                {&quot;bubblingMouseEvents&quot;: true, &quot;color&quot;: &quot;blue&quot;, &quot;dashArray&quot;: null, &quot;dashOffset&quot;: null, &quot;fill&quot;: true, &quot;fillColor&quot;: &quot;blue&quot;, &quot;fillOpacity&quot;: 0.2, &quot;fillRule&quot;: &quot;evenodd&quot;, &quot;lineCap&quot;: &quot;round&quot;, &quot;lineJoin&quot;: &quot;round&quot;, &quot;opacity&quot;: 1.0, &quot;radius&quot;: 23.96398095329267, &quot;stroke&quot;: true, &quot;weight&quot;: 3}\n",
       "            ).addTo(map_6aa78215c90e31e165549f794bca61e4);\n",
       "        \n",
       "    \n",
       "        var popup_c5733503669cc947ffaff4ca510d0ca3 = L.popup({&quot;maxWidth&quot;: &quot;100%&quot;});\n",
       "\n",
       "        \n",
       "            \n",
       "                var html_d86d5b330d8308fcd0bdb1c8f14246a4 = $(`&lt;div id=&quot;html_d86d5b330d8308fcd0bdb1c8f14246a4&quot; style=&quot;width: 100.0%; height: 100.0%;&quot;&gt;Kenya&lt;/div&gt;`)[0];\n",
       "                popup_c5733503669cc947ffaff4ca510d0ca3.setContent(html_d86d5b330d8308fcd0bdb1c8f14246a4);\n",
       "            \n",
       "        \n",
       "\n",
       "        circle_marker_461c6e97e9190c5d9c93189819176134.bindPopup(popup_c5733503669cc947ffaff4ca510d0ca3)\n",
       "        ;\n",
       "\n",
       "        \n",
       "    \n",
       "    \n",
       "            var circle_marker_4d604b19c9f6ba3356911f9c2d60bd8e = L.circleMarker(\n",
       "                [41.5, 75.0],\n",
       "                {&quot;bubblingMouseEvents&quot;: true, &quot;color&quot;: &quot;red&quot;, &quot;dashArray&quot;: null, &quot;dashOffset&quot;: null, &quot;fill&quot;: true, &quot;fillColor&quot;: &quot;red&quot;, &quot;fillOpacity&quot;: 0.2, &quot;fillRule&quot;: &quot;evenodd&quot;, &quot;lineCap&quot;: &quot;round&quot;, &quot;lineJoin&quot;: &quot;round&quot;, &quot;opacity&quot;: 1.0, &quot;radius&quot;: 2.988762035523588, &quot;stroke&quot;: true, &quot;weight&quot;: 3}\n",
       "            ).addTo(map_6aa78215c90e31e165549f794bca61e4);\n",
       "        \n",
       "    \n",
       "        var popup_cf4a7c9bbf7a1a1ce3f220536ea9ab01 = L.popup({&quot;maxWidth&quot;: &quot;100%&quot;});\n",
       "\n",
       "        \n",
       "            \n",
       "                var html_16e952bb13cedbdc27fa9dbc544fbf3c = $(`&lt;div id=&quot;html_16e952bb13cedbdc27fa9dbc544fbf3c&quot; style=&quot;width: 100.0%; height: 100.0%;&quot;&gt;Kyrgyz Republic&lt;/div&gt;`)[0];\n",
       "                popup_cf4a7c9bbf7a1a1ce3f220536ea9ab01.setContent(html_16e952bb13cedbdc27fa9dbc544fbf3c);\n",
       "            \n",
       "        \n",
       "\n",
       "        circle_marker_4d604b19c9f6ba3356911f9c2d60bd8e.bindPopup(popup_cf4a7c9bbf7a1a1ce3f220536ea9ab01)\n",
       "        ;\n",
       "\n",
       "        \n",
       "    \n",
       "    \n",
       "            var circle_marker_85836de589139d112dfbb27c7e481d06 = L.circleMarker(\n",
       "                [13.0, 105.0],\n",
       "                {&quot;bubblingMouseEvents&quot;: true, &quot;color&quot;: &quot;red&quot;, &quot;dashArray&quot;: null, &quot;dashOffset&quot;: null, &quot;fill&quot;: true, &quot;fillColor&quot;: &quot;red&quot;, &quot;fillOpacity&quot;: 0.2, &quot;fillRule&quot;: &quot;evenodd&quot;, &quot;lineCap&quot;: &quot;round&quot;, &quot;lineJoin&quot;: &quot;round&quot;, &quot;opacity&quot;: 1.0, &quot;radius&quot;: 6.810875995516438, &quot;stroke&quot;: true, &quot;weight&quot;: 3}\n",
       "            ).addTo(map_6aa78215c90e31e165549f794bca61e4);\n",
       "        \n",
       "    \n",
       "        var popup_984f19128062eb7682d3ff99f7ce16e0 = L.popup({&quot;maxWidth&quot;: &quot;100%&quot;});\n",
       "\n",
       "        \n",
       "            \n",
       "                var html_ad3fa5f5d9532b997839829580305401 = $(`&lt;div id=&quot;html_ad3fa5f5d9532b997839829580305401&quot; style=&quot;width: 100.0%; height: 100.0%;&quot;&gt;Cambodia&lt;/div&gt;`)[0];\n",
       "                popup_984f19128062eb7682d3ff99f7ce16e0.setContent(html_ad3fa5f5d9532b997839829580305401);\n",
       "            \n",
       "        \n",
       "\n",
       "        circle_marker_85836de589139d112dfbb27c7e481d06.bindPopup(popup_984f19128062eb7682d3ff99f7ce16e0)\n",
       "        ;\n",
       "\n",
       "        \n",
       "    \n",
       "    \n",
       "            var circle_marker_473f187969ea502beb96638a73173733 = L.circleMarker(\n",
       "                [18.0, 105.0],\n",
       "                {&quot;bubblingMouseEvents&quot;: true, &quot;color&quot;: &quot;red&quot;, &quot;dashArray&quot;: null, &quot;dashOffset&quot;: null, &quot;fill&quot;: true, &quot;fillColor&quot;: &quot;red&quot;, &quot;fillOpacity&quot;: 0.2, &quot;fillRule&quot;: &quot;evenodd&quot;, &quot;lineCap&quot;: &quot;round&quot;, &quot;lineJoin&quot;: &quot;round&quot;, &quot;opacity&quot;: 1.0, &quot;radius&quot;: 7.810974031549449, &quot;stroke&quot;: true, &quot;weight&quot;: 3}\n",
       "            ).addTo(map_6aa78215c90e31e165549f794bca61e4);\n",
       "        \n",
       "    \n",
       "        var popup_bcdc104f23db209a478d251f8107508b = L.popup({&quot;maxWidth&quot;: &quot;100%&quot;});\n",
       "\n",
       "        \n",
       "            \n",
       "                var html_4faf2c6e030c0bdf831ca1230f84cdac = $(`&lt;div id=&quot;html_4faf2c6e030c0bdf831ca1230f84cdac&quot; style=&quot;width: 100.0%; height: 100.0%;&quot;&gt;Lao&lt;/div&gt;`)[0];\n",
       "                popup_bcdc104f23db209a478d251f8107508b.setContent(html_4faf2c6e030c0bdf831ca1230f84cdac);\n",
       "            \n",
       "        \n",
       "\n",
       "        circle_marker_473f187969ea502beb96638a73173733.bindPopup(popup_bcdc104f23db209a478d251f8107508b)\n",
       "        ;\n",
       "\n",
       "        \n",
       "    \n",
       "    \n",
       "            var circle_marker_22c36e01953071d1c9760f4f1ce544ca = L.circleMarker(\n",
       "                [6.5, -9.5],\n",
       "                {&quot;bubblingMouseEvents&quot;: true, &quot;color&quot;: &quot;blue&quot;, &quot;dashArray&quot;: null, &quot;dashOffset&quot;: null, &quot;fill&quot;: true, &quot;fillColor&quot;: &quot;blue&quot;, &quot;fillOpacity&quot;: 0.2, &quot;fillRule&quot;: &quot;evenodd&quot;, &quot;lineCap&quot;: &quot;round&quot;, &quot;lineJoin&quot;: &quot;round&quot;, &quot;opacity&quot;: 1.0, &quot;radius&quot;: 10.402722701851058, &quot;stroke&quot;: true, &quot;weight&quot;: 3}\n",
       "            ).addTo(map_6aa78215c90e31e165549f794bca61e4);\n",
       "        \n",
       "    \n",
       "        var popup_5f082dda535ea2aff81614ddf525a8f9 = L.popup({&quot;maxWidth&quot;: &quot;100%&quot;});\n",
       "\n",
       "        \n",
       "            \n",
       "                var html_a0c2879786c15d0e6a094739b52b13df = $(`&lt;div id=&quot;html_a0c2879786c15d0e6a094739b52b13df&quot; style=&quot;width: 100.0%; height: 100.0%;&quot;&gt;Liberia&lt;/div&gt;`)[0];\n",
       "                popup_5f082dda535ea2aff81614ddf525a8f9.setContent(html_a0c2879786c15d0e6a094739b52b13df);\n",
       "            \n",
       "        \n",
       "\n",
       "        circle_marker_22c36e01953071d1c9760f4f1ce544ca.bindPopup(popup_5f082dda535ea2aff81614ddf525a8f9)\n",
       "        ;\n",
       "\n",
       "        \n",
       "    \n",
       "    \n",
       "            var circle_marker_511d44b53b3668aebf4f0256ef1e7f06 = L.circleMarker(\n",
       "                [13.88333, -60.96667],\n",
       "                {&quot;bubblingMouseEvents&quot;: true, &quot;color&quot;: &quot;green&quot;, &quot;dashArray&quot;: null, &quot;dashOffset&quot;: null, &quot;fill&quot;: true, &quot;fillColor&quot;: &quot;green&quot;, &quot;fillOpacity&quot;: 0.2, &quot;fillRule&quot;: &quot;evenodd&quot;, &quot;lineCap&quot;: &quot;round&quot;, &quot;lineJoin&quot;: &quot;round&quot;, &quot;opacity&quot;: 1.0, &quot;radius&quot;: 1.0678247394996874, &quot;stroke&quot;: true, &quot;weight&quot;: 3}\n",
       "            ).addTo(map_6aa78215c90e31e165549f794bca61e4);\n",
       "        \n",
       "    \n",
       "        var popup_fd5aa11b49bffeed2f27e89b58cbd4a8 = L.popup({&quot;maxWidth&quot;: &quot;100%&quot;});\n",
       "\n",
       "        \n",
       "            \n",
       "                var html_4085f8863d6e088bcd2652c0f63f71c9 = $(`&lt;div id=&quot;html_4085f8863d6e088bcd2652c0f63f71c9&quot; style=&quot;width: 100.0%; height: 100.0%;&quot;&gt;St. Lucia&lt;/div&gt;`)[0];\n",
       "                popup_fd5aa11b49bffeed2f27e89b58cbd4a8.setContent(html_4085f8863d6e088bcd2652c0f63f71c9);\n",
       "            \n",
       "        \n",
       "\n",
       "        circle_marker_511d44b53b3668aebf4f0256ef1e7f06.bindPopup(popup_fd5aa11b49bffeed2f27e89b58cbd4a8)\n",
       "        ;\n",
       "\n",
       "        \n",
       "    \n",
       "    \n",
       "            var circle_marker_6983df45eb7dd097c6903e3b80d75e9b = L.circleMarker(\n",
       "                [7.75, 80.75],\n",
       "                {&quot;bubblingMouseEvents&quot;: true, &quot;color&quot;: &quot;red&quot;, &quot;dashArray&quot;: null, &quot;dashOffset&quot;: null, &quot;fill&quot;: true, &quot;fillColor&quot;: &quot;red&quot;, &quot;fillOpacity&quot;: 0.2, &quot;fillRule&quot;: &quot;evenodd&quot;, &quot;lineCap&quot;: &quot;round&quot;, &quot;lineJoin&quot;: &quot;round&quot;, &quot;opacity&quot;: 1.0, &quot;radius&quot;: 5.2263905416719725, &quot;stroke&quot;: true, &quot;weight&quot;: 3}\n",
       "            ).addTo(map_6aa78215c90e31e165549f794bca61e4);\n",
       "        \n",
       "    \n",
       "        var popup_ed57cf77798da66e59fd35f273b0790e = L.popup({&quot;maxWidth&quot;: &quot;100%&quot;});\n",
       "\n",
       "        \n",
       "            \n",
       "                var html_aadf4a1e13f1aaa597abbc208966c039 = $(`&lt;div id=&quot;html_aadf4a1e13f1aaa597abbc208966c039&quot; style=&quot;width: 100.0%; height: 100.0%;&quot;&gt;Sri Lanka&lt;/div&gt;`)[0];\n",
       "                popup_ed57cf77798da66e59fd35f273b0790e.setContent(html_aadf4a1e13f1aaa597abbc208966c039);\n",
       "            \n",
       "        \n",
       "\n",
       "        circle_marker_6983df45eb7dd097c6903e3b80d75e9b.bindPopup(popup_ed57cf77798da66e59fd35f273b0790e)\n",
       "        ;\n",
       "\n",
       "        \n",
       "    \n",
       "    \n",
       "            var circle_marker_19bce2ba75735dee8bc9924b8086235c = L.circleMarker(\n",
       "                [-29.5, 28.25],\n",
       "                {&quot;bubblingMouseEvents&quot;: true, &quot;color&quot;: &quot;blue&quot;, &quot;dashArray&quot;: null, &quot;dashOffset&quot;: null, &quot;fill&quot;: true, &quot;fillColor&quot;: &quot;blue&quot;, &quot;fillOpacity&quot;: 0.2, &quot;fillRule&quot;: &quot;evenodd&quot;, &quot;lineCap&quot;: &quot;round&quot;, &quot;lineJoin&quot;: &quot;round&quot;, &quot;opacity&quot;: 1.0, &quot;radius&quot;: 5.9769276286816355, &quot;stroke&quot;: true, &quot;weight&quot;: 3}\n",
       "            ).addTo(map_6aa78215c90e31e165549f794bca61e4);\n",
       "        \n",
       "    \n",
       "        var popup_ce61632d847f6e1c6957ff1c73c0fb78 = L.popup({&quot;maxWidth&quot;: &quot;100%&quot;});\n",
       "\n",
       "        \n",
       "            \n",
       "                var html_8c9fd21641ba94805a1e6408fe649fb5 = $(`&lt;div id=&quot;html_8c9fd21641ba94805a1e6408fe649fb5&quot; style=&quot;width: 100.0%; height: 100.0%;&quot;&gt;Lesotho&lt;/div&gt;`)[0];\n",
       "                popup_ce61632d847f6e1c6957ff1c73c0fb78.setContent(html_8c9fd21641ba94805a1e6408fe649fb5);\n",
       "            \n",
       "        \n",
       "\n",
       "        circle_marker_19bce2ba75735dee8bc9924b8086235c.bindPopup(popup_ce61632d847f6e1c6957ff1c73c0fb78)\n",
       "        ;\n",
       "\n",
       "        \n",
       "    \n",
       "    \n",
       "            var circle_marker_b096c87b643c15d0b9522960a5547fd5 = L.circleMarker(\n",
       "                [55.41667, 24.0],\n",
       "                {&quot;bubblingMouseEvents&quot;: true, &quot;color&quot;: &quot;black&quot;, &quot;dashArray&quot;: null, &quot;dashOffset&quot;: null, &quot;fill&quot;: true, &quot;fillColor&quot;: &quot;black&quot;, &quot;fillOpacity&quot;: 0.2, &quot;fillRule&quot;: &quot;evenodd&quot;, &quot;lineCap&quot;: &quot;round&quot;, &quot;lineJoin&quot;: &quot;round&quot;, &quot;opacity&quot;: 1.0, &quot;radius&quot;: 0.9046582494882497, &quot;stroke&quot;: true, &quot;weight&quot;: 3}\n",
       "            ).addTo(map_6aa78215c90e31e165549f794bca61e4);\n",
       "        \n",
       "    \n",
       "        var popup_e82d90bf7e75d83ef2a46e0462d91ad5 = L.popup({&quot;maxWidth&quot;: &quot;100%&quot;});\n",
       "\n",
       "        \n",
       "            \n",
       "                var html_23442508e72385b863a8b6b5b6b4f6dd = $(`&lt;div id=&quot;html_23442508e72385b863a8b6b5b6b4f6dd&quot; style=&quot;width: 100.0%; height: 100.0%;&quot;&gt;Lithuania&lt;/div&gt;`)[0];\n",
       "                popup_e82d90bf7e75d83ef2a46e0462d91ad5.setContent(html_23442508e72385b863a8b6b5b6b4f6dd);\n",
       "            \n",
       "        \n",
       "\n",
       "        circle_marker_b096c87b643c15d0b9522960a5547fd5.bindPopup(popup_e82d90bf7e75d83ef2a46e0462d91ad5)\n",
       "        ;\n",
       "\n",
       "        \n",
       "    \n",
       "    \n",
       "            var circle_marker_b10b0894f37a8da2f40be6be159dbb25 = L.circleMarker(\n",
       "                [57.0, 25.0],\n",
       "                {&quot;bubblingMouseEvents&quot;: true, &quot;color&quot;: &quot;black&quot;, &quot;dashArray&quot;: null, &quot;dashOffset&quot;: null, &quot;fill&quot;: true, &quot;fillColor&quot;: &quot;black&quot;, &quot;fillOpacity&quot;: 0.2, &quot;fillRule&quot;: &quot;evenodd&quot;, &quot;lineCap&quot;: &quot;round&quot;, &quot;lineJoin&quot;: &quot;round&quot;, &quot;opacity&quot;: 1.0, &quot;radius&quot;: 0.8452870527322389, &quot;stroke&quot;: true, &quot;weight&quot;: 3}\n",
       "            ).addTo(map_6aa78215c90e31e165549f794bca61e4);\n",
       "        \n",
       "    \n",
       "        var popup_b39ea351c4b1be5fade02c3b062d9310 = L.popup({&quot;maxWidth&quot;: &quot;100%&quot;});\n",
       "\n",
       "        \n",
       "            \n",
       "                var html_cfa11dfec3f46741400112e9eebe45fb = $(`&lt;div id=&quot;html_cfa11dfec3f46741400112e9eebe45fb&quot; style=&quot;width: 100.0%; height: 100.0%;&quot;&gt;Latvia&lt;/div&gt;`)[0];\n",
       "                popup_b39ea351c4b1be5fade02c3b062d9310.setContent(html_cfa11dfec3f46741400112e9eebe45fb);\n",
       "            \n",
       "        \n",
       "\n",
       "        circle_marker_b10b0894f37a8da2f40be6be159dbb25.bindPopup(popup_b39ea351c4b1be5fade02c3b062d9310)\n",
       "        ;\n",
       "\n",
       "        \n",
       "    \n",
       "    \n",
       "            var circle_marker_b83fb7f77cb19c07c71398afc8f6a43a = L.circleMarker(\n",
       "                [32.0, -6.0],\n",
       "                {&quot;bubblingMouseEvents&quot;: true, &quot;color&quot;: &quot;blue&quot;, &quot;dashArray&quot;: null, &quot;dashOffset&quot;: null, &quot;fill&quot;: true, &quot;fillColor&quot;: &quot;blue&quot;, &quot;fillOpacity&quot;: 0.2, &quot;fillRule&quot;: &quot;evenodd&quot;, &quot;lineCap&quot;: &quot;round&quot;, &quot;lineJoin&quot;: &quot;round&quot;, &quot;opacity&quot;: 1.0, &quot;radius&quot;: 5.153624022486771, &quot;stroke&quot;: true, &quot;weight&quot;: 3}\n",
       "            ).addTo(map_6aa78215c90e31e165549f794bca61e4);\n",
       "        \n",
       "    \n",
       "        var popup_f941ea3e62df04e2139de175a1ebabf2 = L.popup({&quot;maxWidth&quot;: &quot;100%&quot;});\n",
       "\n",
       "        \n",
       "            \n",
       "                var html_d2465ed615baebf7af12749bdaf3f1d5 = $(`&lt;div id=&quot;html_d2465ed615baebf7af12749bdaf3f1d5&quot; style=&quot;width: 100.0%; height: 100.0%;&quot;&gt;Morocco&lt;/div&gt;`)[0];\n",
       "                popup_f941ea3e62df04e2139de175a1ebabf2.setContent(html_d2465ed615baebf7af12749bdaf3f1d5);\n",
       "            \n",
       "        \n",
       "\n",
       "        circle_marker_b83fb7f77cb19c07c71398afc8f6a43a.bindPopup(popup_f941ea3e62df04e2139de175a1ebabf2)\n",
       "        ;\n",
       "\n",
       "        \n",
       "    \n",
       "    \n",
       "            var circle_marker_b20730392a26ed9be0ca265a2c9789a3 = L.circleMarker(\n",
       "                [47.25, 28.58333],\n",
       "                {&quot;bubblingMouseEvents&quot;: true, &quot;color&quot;: &quot;black&quot;, &quot;dashArray&quot;: null, &quot;dashOffset&quot;: null, &quot;fill&quot;: true, &quot;fillColor&quot;: &quot;black&quot;, &quot;fillOpacity&quot;: 0.2, &quot;fillRule&quot;: &quot;evenodd&quot;, &quot;lineCap&quot;: &quot;round&quot;, &quot;lineJoin&quot;: &quot;round&quot;, &quot;opacity&quot;: 1.0, &quot;radius&quot;: 0.5156705139116825, &quot;stroke&quot;: true, &quot;weight&quot;: 3}\n",
       "            ).addTo(map_6aa78215c90e31e165549f794bca61e4);\n",
       "        \n",
       "    \n",
       "        var popup_6de5123f24ba152c2d36d6234c62d81f = L.popup({&quot;maxWidth&quot;: &quot;100%&quot;});\n",
       "\n",
       "        \n",
       "            \n",
       "                var html_49d64d971582184d1ff8502d3896e35d = $(`&lt;div id=&quot;html_49d64d971582184d1ff8502d3896e35d&quot; style=&quot;width: 100.0%; height: 100.0%;&quot;&gt;Moldova&lt;/div&gt;`)[0];\n",
       "                popup_6de5123f24ba152c2d36d6234c62d81f.setContent(html_49d64d971582184d1ff8502d3896e35d);\n",
       "            \n",
       "        \n",
       "\n",
       "        circle_marker_b20730392a26ed9be0ca265a2c9789a3.bindPopup(popup_6de5123f24ba152c2d36d6234c62d81f)\n",
       "        ;\n",
       "\n",
       "        \n",
       "    \n",
       "    \n",
       "            var circle_marker_55193204914d4b7f03a84aea01d4ed41 = L.circleMarker(\n",
       "                [-20.0, 47.0],\n",
       "                {&quot;bubblingMouseEvents&quot;: true, &quot;color&quot;: &quot;blue&quot;, &quot;dashArray&quot;: null, &quot;dashOffset&quot;: null, &quot;fill&quot;: true, &quot;fillColor&quot;: &quot;blue&quot;, &quot;fillOpacity&quot;: 0.2, &quot;fillRule&quot;: &quot;evenodd&quot;, &quot;lineCap&quot;: &quot;round&quot;, &quot;lineJoin&quot;: &quot;round&quot;, &quot;opacity&quot;: 1.0, &quot;radius&quot;: 24.880782383251354, &quot;stroke&quot;: true, &quot;weight&quot;: 3}\n",
       "            ).addTo(map_6aa78215c90e31e165549f794bca61e4);\n",
       "        \n",
       "    \n",
       "        var popup_9c411b0f840c1b9d54a85d80a1b3218b = L.popup({&quot;maxWidth&quot;: &quot;100%&quot;});\n",
       "\n",
       "        \n",
       "            \n",
       "                var html_28e8e1164cf8980602882babf4dd35ed = $(`&lt;div id=&quot;html_28e8e1164cf8980602882babf4dd35ed&quot; style=&quot;width: 100.0%; height: 100.0%;&quot;&gt;Madagascar&lt;/div&gt;`)[0];\n",
       "                popup_9c411b0f840c1b9d54a85d80a1b3218b.setContent(html_28e8e1164cf8980602882babf4dd35ed);\n",
       "            \n",
       "        \n",
       "\n",
       "        circle_marker_55193204914d4b7f03a84aea01d4ed41.bindPopup(popup_9c411b0f840c1b9d54a85d80a1b3218b)\n",
       "        ;\n",
       "\n",
       "        \n",
       "    \n",
       "    \n",
       "            var circle_marker_4da088bce57fd63a145905a79ec00e81 = L.circleMarker(\n",
       "                [3.2, 73.0],\n",
       "                {&quot;bubblingMouseEvents&quot;: true, &quot;color&quot;: &quot;red&quot;, &quot;dashArray&quot;: null, &quot;dashOffset&quot;: null, &quot;fill&quot;: true, &quot;fillColor&quot;: &quot;red&quot;, &quot;fillOpacity&quot;: 0.2, &quot;fillRule&quot;: &quot;evenodd&quot;, &quot;lineCap&quot;: &quot;round&quot;, &quot;lineJoin&quot;: &quot;round&quot;, &quot;opacity&quot;: 1.0, &quot;radius&quot;: 0.41228325120254916, &quot;stroke&quot;: true, &quot;weight&quot;: 3}\n",
       "            ).addTo(map_6aa78215c90e31e165549f794bca61e4);\n",
       "        \n",
       "    \n",
       "        var popup_167c87dbdf1dfef998ee12a14bccef19 = L.popup({&quot;maxWidth&quot;: &quot;100%&quot;});\n",
       "\n",
       "        \n",
       "            \n",
       "                var html_3ee564055ba8b658c3cbe3ee55cb4b92 = $(`&lt;div id=&quot;html_3ee564055ba8b658c3cbe3ee55cb4b92&quot; style=&quot;width: 100.0%; height: 100.0%;&quot;&gt;Maldives&lt;/div&gt;`)[0];\n",
       "                popup_167c87dbdf1dfef998ee12a14bccef19.setContent(html_3ee564055ba8b658c3cbe3ee55cb4b92);\n",
       "            \n",
       "        \n",
       "\n",
       "        circle_marker_4da088bce57fd63a145905a79ec00e81.bindPopup(popup_167c87dbdf1dfef998ee12a14bccef19)\n",
       "        ;\n",
       "\n",
       "        \n",
       "    \n",
       "    \n",
       "            var circle_marker_07a55b0078d9336a4d0e04948f0acb78 = L.circleMarker(\n",
       "                [19.42847, -99.12766],\n",
       "                {&quot;bubblingMouseEvents&quot;: true, &quot;color&quot;: &quot;green&quot;, &quot;dashArray&quot;: null, &quot;dashOffset&quot;: null, &quot;fill&quot;: true, &quot;fillColor&quot;: &quot;green&quot;, &quot;fillOpacity&quot;: 0.2, &quot;fillRule&quot;: &quot;evenodd&quot;, &quot;lineCap&quot;: &quot;round&quot;, &quot;lineJoin&quot;: &quot;round&quot;, &quot;opacity&quot;: 1.0, &quot;radius&quot;: 6.103493555808272, &quot;stroke&quot;: true, &quot;weight&quot;: 3}\n",
       "            ).addTo(map_6aa78215c90e31e165549f794bca61e4);\n",
       "        \n",
       "    \n",
       "        var popup_303590c0ed67a522df7b81ecc4321d94 = L.popup({&quot;maxWidth&quot;: &quot;100%&quot;});\n",
       "\n",
       "        \n",
       "            \n",
       "                var html_a4862192a23ada26b1482f925812965a = $(`&lt;div id=&quot;html_a4862192a23ada26b1482f925812965a&quot; style=&quot;width: 100.0%; height: 100.0%;&quot;&gt;Mexico&lt;/div&gt;`)[0];\n",
       "                popup_303590c0ed67a522df7b81ecc4321d94.setContent(html_a4862192a23ada26b1482f925812965a);\n",
       "            \n",
       "        \n",
       "\n",
       "        circle_marker_07a55b0078d9336a4d0e04948f0acb78.bindPopup(popup_303590c0ed67a522df7b81ecc4321d94)\n",
       "        ;\n",
       "\n",
       "        \n",
       "    \n",
       "    \n",
       "            var circle_marker_a2bf5a68eaf171f7f773b4813e446036 = L.circleMarker(\n",
       "                [41.66667, 21.75],\n",
       "                {&quot;bubblingMouseEvents&quot;: true, &quot;color&quot;: &quot;black&quot;, &quot;dashArray&quot;: null, &quot;dashOffset&quot;: null, &quot;fill&quot;: true, &quot;fillColor&quot;: &quot;black&quot;, &quot;fillOpacity&quot;: 0.2, &quot;fillRule&quot;: &quot;evenodd&quot;, &quot;lineCap&quot;: &quot;round&quot;, &quot;lineJoin&quot;: &quot;round&quot;, &quot;opacity&quot;: 1.0, &quot;radius&quot;: 0.4275946662716566, &quot;stroke&quot;: true, &quot;weight&quot;: 3}\n",
       "            ).addTo(map_6aa78215c90e31e165549f794bca61e4);\n",
       "        \n",
       "    \n",
       "        var popup_021919e2a9055c30fbe047987caa69a9 = L.popup({&quot;maxWidth&quot;: &quot;100%&quot;});\n",
       "\n",
       "        \n",
       "            \n",
       "                var html_cf6ae3c8126f2e3e12e58b33efc1d199 = $(`&lt;div id=&quot;html_cf6ae3c8126f2e3e12e58b33efc1d199&quot; style=&quot;width: 100.0%; height: 100.0%;&quot;&gt;North Macedonia&lt;/div&gt;`)[0];\n",
       "                popup_021919e2a9055c30fbe047987caa69a9.setContent(html_cf6ae3c8126f2e3e12e58b33efc1d199);\n",
       "            \n",
       "        \n",
       "\n",
       "        circle_marker_a2bf5a68eaf171f7f773b4813e446036.bindPopup(popup_021919e2a9055c30fbe047987caa69a9)\n",
       "        ;\n",
       "\n",
       "        \n",
       "    \n",
       "    \n",
       "            var circle_marker_d661d8265dd73d3425e4eaa080aefde5 = L.circleMarker(\n",
       "                [18.0, -2.0],\n",
       "                {&quot;bubblingMouseEvents&quot;: true, &quot;color&quot;: &quot;blue&quot;, &quot;dashArray&quot;: null, &quot;dashOffset&quot;: null, &quot;fill&quot;: true, &quot;fillColor&quot;: &quot;blue&quot;, &quot;fillOpacity&quot;: 0.2, &quot;fillRule&quot;: &quot;evenodd&quot;, &quot;lineCap&quot;: &quot;round&quot;, &quot;lineJoin&quot;: &quot;round&quot;, &quot;opacity&quot;: 1.0, &quot;radius&quot;: 16.027220001199698, &quot;stroke&quot;: true, &quot;weight&quot;: 3}\n",
       "            ).addTo(map_6aa78215c90e31e165549f794bca61e4);\n",
       "        \n",
       "    \n",
       "        var popup_cff00556d68fd577355b23d2666ec84f = L.popup({&quot;maxWidth&quot;: &quot;100%&quot;});\n",
       "\n",
       "        \n",
       "            \n",
       "                var html_a4913bb6e915276267bd0e7d1c64790c = $(`&lt;div id=&quot;html_a4913bb6e915276267bd0e7d1c64790c&quot; style=&quot;width: 100.0%; height: 100.0%;&quot;&gt;Mali&lt;/div&gt;`)[0];\n",
       "                popup_cff00556d68fd577355b23d2666ec84f.setContent(html_a4913bb6e915276267bd0e7d1c64790c);\n",
       "            \n",
       "        \n",
       "\n",
       "        circle_marker_d661d8265dd73d3425e4eaa080aefde5.bindPopup(popup_cff00556d68fd577355b23d2666ec84f)\n",
       "        ;\n",
       "\n",
       "        \n",
       "    \n",
       "    \n",
       "            var circle_marker_a362249486ea4a93c5b14ae8673bcf7b = L.circleMarker(\n",
       "                [42.75, 19.25],\n",
       "                {&quot;bubblingMouseEvents&quot;: true, &quot;color&quot;: &quot;black&quot;, &quot;dashArray&quot;: null, &quot;dashOffset&quot;: null, &quot;fill&quot;: true, &quot;fillColor&quot;: &quot;black&quot;, &quot;fillOpacity&quot;: 0.2, &quot;fillRule&quot;: &quot;evenodd&quot;, &quot;lineCap&quot;: &quot;round&quot;, &quot;lineJoin&quot;: &quot;round&quot;, &quot;opacity&quot;: 1.0, &quot;radius&quot;: 0.20552304468499152, &quot;stroke&quot;: true, &quot;weight&quot;: 3}\n",
       "            ).addTo(map_6aa78215c90e31e165549f794bca61e4);\n",
       "        \n",
       "    \n",
       "        var popup_7fd4cf9fea75f4d29165bc30956e90bf = L.popup({&quot;maxWidth&quot;: &quot;100%&quot;});\n",
       "\n",
       "        \n",
       "            \n",
       "                var html_f5dc0c1b035875409641339658c05e6a = $(`&lt;div id=&quot;html_f5dc0c1b035875409641339658c05e6a&quot; style=&quot;width: 100.0%; height: 100.0%;&quot;&gt;Montenegro&lt;/div&gt;`)[0];\n",
       "                popup_7fd4cf9fea75f4d29165bc30956e90bf.setContent(html_f5dc0c1b035875409641339658c05e6a);\n",
       "            \n",
       "        \n",
       "\n",
       "        circle_marker_a362249486ea4a93c5b14ae8673bcf7b.bindPopup(popup_7fd4cf9fea75f4d29165bc30956e90bf)\n",
       "        ;\n",
       "\n",
       "        \n",
       "    \n",
       "    \n",
       "            var circle_marker_32e943022ae3e8508be8e7cf0f681c02 = L.circleMarker(\n",
       "                [-18.25, 35.0],\n",
       "                {&quot;bubblingMouseEvents&quot;: true, &quot;color&quot;: &quot;blue&quot;, &quot;dashArray&quot;: null, &quot;dashOffset&quot;: null, &quot;fill&quot;: true, &quot;fillColor&quot;: &quot;blue&quot;, &quot;fillOpacity&quot;: 0.2, &quot;fillRule&quot;: &quot;evenodd&quot;, &quot;lineCap&quot;: &quot;round&quot;, &quot;lineJoin&quot;: &quot;round&quot;, &quot;opacity&quot;: 1.0, &quot;radius&quot;: 21.082003552705647, &quot;stroke&quot;: true, &quot;weight&quot;: 3}\n",
       "            ).addTo(map_6aa78215c90e31e165549f794bca61e4);\n",
       "        \n",
       "    \n",
       "        var popup_86198dd5d0b94a81fa01770b91cd9738 = L.popup({&quot;maxWidth&quot;: &quot;100%&quot;});\n",
       "\n",
       "        \n",
       "            \n",
       "                var html_5c2344f159a26ca17570bbdea8d5f312 = $(`&lt;div id=&quot;html_5c2344f159a26ca17570bbdea8d5f312&quot; style=&quot;width: 100.0%; height: 100.0%;&quot;&gt;Mozambique&lt;/div&gt;`)[0];\n",
       "                popup_86198dd5d0b94a81fa01770b91cd9738.setContent(html_5c2344f159a26ca17570bbdea8d5f312);\n",
       "            \n",
       "        \n",
       "\n",
       "        circle_marker_32e943022ae3e8508be8e7cf0f681c02.bindPopup(popup_86198dd5d0b94a81fa01770b91cd9738)\n",
       "        ;\n",
       "\n",
       "        \n",
       "    \n",
       "    \n",
       "            var circle_marker_c457295ae15ba402a8ebc326d77431bb = L.circleMarker(\n",
       "                [20.25, -10.5],\n",
       "                {&quot;bubblingMouseEvents&quot;: true, &quot;color&quot;: &quot;blue&quot;, &quot;dashArray&quot;: null, &quot;dashOffset&quot;: null, &quot;fill&quot;: true, &quot;fillColor&quot;: &quot;blue&quot;, &quot;fillOpacity&quot;: 0.2, &quot;fillRule&quot;: &quot;evenodd&quot;, &quot;lineCap&quot;: &quot;round&quot;, &quot;lineJoin&quot;: &quot;round&quot;, &quot;opacity&quot;: 1.0, &quot;radius&quot;: 5.028898085094589, &quot;stroke&quot;: true, &quot;weight&quot;: 3}\n",
       "            ).addTo(map_6aa78215c90e31e165549f794bca61e4);\n",
       "        \n",
       "    \n",
       "        var popup_942557424dbb3f310ccfd16bc867a126 = L.popup({&quot;maxWidth&quot;: &quot;100%&quot;});\n",
       "\n",
       "        \n",
       "            \n",
       "                var html_7c97119dd9f6f76e7a8f1c9dbc381021 = $(`&lt;div id=&quot;html_7c97119dd9f6f76e7a8f1c9dbc381021&quot; style=&quot;width: 100.0%; height: 100.0%;&quot;&gt;Mauritania&lt;/div&gt;`)[0];\n",
       "                popup_942557424dbb3f310ccfd16bc867a126.setContent(html_7c97119dd9f6f76e7a8f1c9dbc381021);\n",
       "            \n",
       "        \n",
       "\n",
       "        circle_marker_c457295ae15ba402a8ebc326d77431bb.bindPopup(popup_942557424dbb3f310ccfd16bc867a126)\n",
       "        ;\n",
       "\n",
       "        \n",
       "    \n",
       "    \n",
       "            var circle_marker_e06561fb51118e0c5a432e7f27c035b2 = L.circleMarker(\n",
       "                [-13.5, 34.0],\n",
       "                {&quot;bubblingMouseEvents&quot;: true, &quot;color&quot;: &quot;blue&quot;, &quot;dashArray&quot;: null, &quot;dashOffset&quot;: null, &quot;fill&quot;: true, &quot;fillColor&quot;: &quot;blue&quot;, &quot;fillOpacity&quot;: 0.2, &quot;fillRule&quot;: &quot;evenodd&quot;, &quot;lineCap&quot;: &quot;round&quot;, &quot;lineJoin&quot;: &quot;round&quot;, &quot;opacity&quot;: 1.0, &quot;radius&quot;: 18.4540677653082, &quot;stroke&quot;: true, &quot;weight&quot;: 3}\n",
       "            ).addTo(map_6aa78215c90e31e165549f794bca61e4);\n",
       "        \n",
       "    \n",
       "        var popup_11bf7561afa4e217ae4cb768a8bdc250 = L.popup({&quot;maxWidth&quot;: &quot;100%&quot;});\n",
       "\n",
       "        \n",
       "            \n",
       "                var html_9c1331a5678b58796d351e11b816ade0 = $(`&lt;div id=&quot;html_9c1331a5678b58796d351e11b816ade0&quot; style=&quot;width: 100.0%; height: 100.0%;&quot;&gt;Malawi&lt;/div&gt;`)[0];\n",
       "                popup_11bf7561afa4e217ae4cb768a8bdc250.setContent(html_9c1331a5678b58796d351e11b816ade0);\n",
       "            \n",
       "        \n",
       "\n",
       "        circle_marker_e06561fb51118e0c5a432e7f27c035b2.bindPopup(popup_11bf7561afa4e217ae4cb768a8bdc250)\n",
       "        ;\n",
       "\n",
       "        \n",
       "    \n",
       "    \n",
       "            var circle_marker_addd86b48bb5e2e987524da514c673a6 = L.circleMarker(\n",
       "                [2.5, 112.5],\n",
       "                {&quot;bubblingMouseEvents&quot;: true, &quot;color&quot;: &quot;red&quot;, &quot;dashArray&quot;: null, &quot;dashOffset&quot;: null, &quot;fill&quot;: true, &quot;fillColor&quot;: &quot;red&quot;, &quot;fillOpacity&quot;: 0.2, &quot;fillRule&quot;: &quot;evenodd&quot;, &quot;lineCap&quot;: &quot;round&quot;, &quot;lineJoin&quot;: &quot;round&quot;, &quot;opacity&quot;: 1.0, &quot;stroke&quot;: true, &quot;weight&quot;: 3}\n",
       "            ).addTo(map_6aa78215c90e31e165549f794bca61e4);\n",
       "        \n",
       "    \n",
       "        var popup_45fed4c85f9aa607173d9d73a0c07e38 = L.popup({&quot;maxWidth&quot;: &quot;100%&quot;});\n",
       "\n",
       "        \n",
       "            \n",
       "                var html_163cc1fd87dbe8df1e26880a5e47a145 = $(`&lt;div id=&quot;html_163cc1fd87dbe8df1e26880a5e47a145&quot; style=&quot;width: 100.0%; height: 100.0%;&quot;&gt;Malaysia&lt;/div&gt;`)[0];\n",
       "                popup_45fed4c85f9aa607173d9d73a0c07e38.setContent(html_163cc1fd87dbe8df1e26880a5e47a145);\n",
       "            \n",
       "        \n",
       "\n",
       "        circle_marker_addd86b48bb5e2e987524da514c673a6.bindPopup(popup_45fed4c85f9aa607173d9d73a0c07e38)\n",
       "        ;\n",
       "\n",
       "        \n",
       "    \n",
       "    \n",
       "            var circle_marker_295403b9d3297893dbd8b4b02611ae2f = L.circleMarker(\n",
       "                [-22.0, 17.0],\n",
       "                {&quot;bubblingMouseEvents&quot;: true, &quot;color&quot;: &quot;blue&quot;, &quot;dashArray&quot;: null, &quot;dashOffset&quot;: null, &quot;fill&quot;: true, &quot;fillColor&quot;: &quot;blue&quot;, &quot;fillOpacity&quot;: 0.2, &quot;fillRule&quot;: &quot;evenodd&quot;, &quot;lineCap&quot;: &quot;round&quot;, &quot;lineJoin&quot;: &quot;round&quot;, &quot;opacity&quot;: 1.0, &quot;radius&quot;: 3.976035776664738, &quot;stroke&quot;: true, &quot;weight&quot;: 3}\n",
       "            ).addTo(map_6aa78215c90e31e165549f794bca61e4);\n",
       "        \n",
       "    \n",
       "        var popup_4d7a1b268bd0e8b8770c9d464eca34e8 = L.popup({&quot;maxWidth&quot;: &quot;100%&quot;});\n",
       "\n",
       "        \n",
       "            \n",
       "                var html_3bb36db65709744bcd43215257000391 = $(`&lt;div id=&quot;html_3bb36db65709744bcd43215257000391&quot; style=&quot;width: 100.0%; height: 100.0%;&quot;&gt;Namibia&lt;/div&gt;`)[0];\n",
       "                popup_4d7a1b268bd0e8b8770c9d464eca34e8.setContent(html_3bb36db65709744bcd43215257000391);\n",
       "            \n",
       "        \n",
       "\n",
       "        circle_marker_295403b9d3297893dbd8b4b02611ae2f.bindPopup(popup_4d7a1b268bd0e8b8770c9d464eca34e8)\n",
       "        ;\n",
       "\n",
       "        \n",
       "    \n",
       "    \n",
       "            var circle_marker_c59e776095a50e0e6dd88f34e04c8e11 = L.circleMarker(\n",
       "                [18.0, 9.0],\n",
       "                {&quot;bubblingMouseEvents&quot;: true, &quot;color&quot;: &quot;blue&quot;, &quot;dashArray&quot;: null, &quot;dashOffset&quot;: null, &quot;fill&quot;: true, &quot;fillColor&quot;: &quot;blue&quot;, &quot;fillOpacity&quot;: 0.2, &quot;fillRule&quot;: &quot;evenodd&quot;, &quot;lineCap&quot;: &quot;round&quot;, &quot;lineJoin&quot;: &quot;round&quot;, &quot;opacity&quot;: 1.0, &quot;radius&quot;: 14.661961946251004, &quot;stroke&quot;: true, &quot;weight&quot;: 3}\n",
       "            ).addTo(map_6aa78215c90e31e165549f794bca61e4);\n",
       "        \n",
       "    \n",
       "        var popup_6d4360dae2351f97d29f01148d0dafc6 = L.popup({&quot;maxWidth&quot;: &quot;100%&quot;});\n",
       "\n",
       "        \n",
       "            \n",
       "                var html_a77881bad74c971ba60675e7260fb37b = $(`&lt;div id=&quot;html_a77881bad74c971ba60675e7260fb37b&quot; style=&quot;width: 100.0%; height: 100.0%;&quot;&gt;Niger&lt;/div&gt;`)[0];\n",
       "                popup_6d4360dae2351f97d29f01148d0dafc6.setContent(html_a77881bad74c971ba60675e7260fb37b);\n",
       "            \n",
       "        \n",
       "\n",
       "        circle_marker_c59e776095a50e0e6dd88f34e04c8e11.bindPopup(popup_6d4360dae2351f97d29f01148d0dafc6)\n",
       "        ;\n",
       "\n",
       "        \n",
       "    \n",
       "    \n",
       "            var circle_marker_ae47319b87e6d8a7ef200bc9e169041a = L.circleMarker(\n",
       "                [10.0, 8.0],\n",
       "                {&quot;bubblingMouseEvents&quot;: true, &quot;color&quot;: &quot;blue&quot;, &quot;dashArray&quot;: null, &quot;dashOffset&quot;: null, &quot;fill&quot;: true, &quot;fillColor&quot;: &quot;blue&quot;, &quot;fillOpacity&quot;: 0.2, &quot;fillRule&quot;: &quot;evenodd&quot;, &quot;lineCap&quot;: &quot;round&quot;, &quot;lineJoin&quot;: &quot;round&quot;, &quot;opacity&quot;: 1.0, &quot;radius&quot;: 57.36134723958271, &quot;stroke&quot;: true, &quot;weight&quot;: 3}\n",
       "            ).addTo(map_6aa78215c90e31e165549f794bca61e4);\n",
       "        \n",
       "    \n",
       "        var popup_dc7f70a93e976d7880350d26b4b77147 = L.popup({&quot;maxWidth&quot;: &quot;100%&quot;});\n",
       "\n",
       "        \n",
       "            \n",
       "                var html_1949219b2da277e91ea8c8c61f909391 = $(`&lt;div id=&quot;html_1949219b2da277e91ea8c8c61f909391&quot; style=&quot;width: 100.0%; height: 100.0%;&quot;&gt;Nigeria&lt;/div&gt;`)[0];\n",
       "                popup_dc7f70a93e976d7880350d26b4b77147.setContent(html_1949219b2da277e91ea8c8c61f909391);\n",
       "            \n",
       "        \n",
       "\n",
       "        circle_marker_ae47319b87e6d8a7ef200bc9e169041a.bindPopup(popup_dc7f70a93e976d7880350d26b4b77147)\n",
       "        ;\n",
       "\n",
       "        \n",
       "    \n",
       "    \n",
       "            var circle_marker_b029eeee7d3b1ebe12d04f71a4710f91 = L.circleMarker(\n",
       "                [13.0, -85.0],\n",
       "                {&quot;bubblingMouseEvents&quot;: true, &quot;color&quot;: &quot;green&quot;, &quot;dashArray&quot;: null, &quot;dashOffset&quot;: null, &quot;fill&quot;: true, &quot;fillColor&quot;: &quot;green&quot;, &quot;fillOpacity&quot;: 0.2, &quot;fillRule&quot;: &quot;evenodd&quot;, &quot;lineCap&quot;: &quot;round&quot;, &quot;lineJoin&quot;: &quot;round&quot;, &quot;opacity&quot;: 1.0, &quot;radius&quot;: 3.9492384254759982, &quot;stroke&quot;: true, &quot;weight&quot;: 3}\n",
       "            ).addTo(map_6aa78215c90e31e165549f794bca61e4);\n",
       "        \n",
       "    \n",
       "        var popup_b2c739b6aa9e3aefe3b3f5e780620036 = L.popup({&quot;maxWidth&quot;: &quot;100%&quot;});\n",
       "\n",
       "        \n",
       "            \n",
       "                var html_156f827e023795a298df4e14dfca66ca = $(`&lt;div id=&quot;html_156f827e023795a298df4e14dfca66ca&quot; style=&quot;width: 100.0%; height: 100.0%;&quot;&gt;Nicaragua&lt;/div&gt;`)[0];\n",
       "                popup_b2c739b6aa9e3aefe3b3f5e780620036.setContent(html_156f827e023795a298df4e14dfca66ca);\n",
       "            \n",
       "        \n",
       "\n",
       "        circle_marker_b029eeee7d3b1ebe12d04f71a4710f91.bindPopup(popup_b2c739b6aa9e3aefe3b3f5e780620036)\n",
       "        ;\n",
       "\n",
       "        \n",
       "    \n",
       "    \n",
       "            var circle_marker_f5273faed598d01a19f9cf09d6ca04b0 = L.circleMarker(\n",
       "                [52.25, 5.75],\n",
       "                {&quot;bubblingMouseEvents&quot;: true, &quot;color&quot;: &quot;black&quot;, &quot;dashArray&quot;: null, &quot;dashOffset&quot;: null, &quot;fill&quot;: true, &quot;fillColor&quot;: &quot;black&quot;, &quot;fillOpacity&quot;: 0.2, &quot;fillRule&quot;: &quot;evenodd&quot;, &quot;lineCap&quot;: &quot;round&quot;, &quot;lineJoin&quot;: &quot;round&quot;, &quot;opacity&quot;: 1.0, &quot;radius&quot;: 1.3669115556283198, &quot;stroke&quot;: true, &quot;weight&quot;: 3}\n",
       "            ).addTo(map_6aa78215c90e31e165549f794bca61e4);\n",
       "        \n",
       "    \n",
       "        var popup_2e5d845f858ea2ae434da0f7cb5e7001 = L.popup({&quot;maxWidth&quot;: &quot;100%&quot;});\n",
       "\n",
       "        \n",
       "            \n",
       "                var html_506ee30c033c2831236759a3aedd2596 = $(`&lt;div id=&quot;html_506ee30c033c2831236759a3aedd2596&quot; style=&quot;width: 100.0%; height: 100.0%;&quot;&gt;Netherlands&lt;/div&gt;`)[0];\n",
       "                popup_2e5d845f858ea2ae434da0f7cb5e7001.setContent(html_506ee30c033c2831236759a3aedd2596);\n",
       "            \n",
       "        \n",
       "\n",
       "        circle_marker_f5273faed598d01a19f9cf09d6ca04b0.bindPopup(popup_2e5d845f858ea2ae434da0f7cb5e7001)\n",
       "        ;\n",
       "\n",
       "        \n",
       "    \n",
       "    \n",
       "            var circle_marker_d628a08240b95c4cea04fcef770bf33f = L.circleMarker(\n",
       "                [62.0, 10.0],\n",
       "                {&quot;bubblingMouseEvents&quot;: true, &quot;color&quot;: &quot;black&quot;, &quot;dashArray&quot;: null, &quot;dashOffset&quot;: null, &quot;fill&quot;: true, &quot;fillColor&quot;: &quot;black&quot;, &quot;fillOpacity&quot;: 0.2, &quot;fillRule&quot;: &quot;evenodd&quot;, &quot;lineCap&quot;: &quot;round&quot;, &quot;lineJoin&quot;: &quot;round&quot;, &quot;opacity&quot;: 1.0, &quot;radius&quot;: 1.0211208029279608, &quot;stroke&quot;: true, &quot;weight&quot;: 3}\n",
       "            ).addTo(map_6aa78215c90e31e165549f794bca61e4);\n",
       "        \n",
       "    \n",
       "        var popup_329fa10d432b63ffb67adf82d56b97ba = L.popup({&quot;maxWidth&quot;: &quot;100%&quot;});\n",
       "\n",
       "        \n",
       "            \n",
       "                var html_14f6143f8f322be5b6d0ad78b73e7830 = $(`&lt;div id=&quot;html_14f6143f8f322be5b6d0ad78b73e7830&quot; style=&quot;width: 100.0%; height: 100.0%;&quot;&gt;Norway&lt;/div&gt;`)[0];\n",
       "                popup_329fa10d432b63ffb67adf82d56b97ba.setContent(html_14f6143f8f322be5b6d0ad78b73e7830);\n",
       "            \n",
       "        \n",
       "\n",
       "        circle_marker_d628a08240b95c4cea04fcef770bf33f.bindPopup(popup_329fa10d432b63ffb67adf82d56b97ba)\n",
       "        ;\n",
       "\n",
       "        \n",
       "    \n",
       "    \n",
       "            var circle_marker_422d0e82acd8ffce931712ce42c7f4d4 = L.circleMarker(\n",
       "                [28.0, 84.0],\n",
       "                {&quot;bubblingMouseEvents&quot;: true, &quot;color&quot;: &quot;red&quot;, &quot;dashArray&quot;: null, &quot;dashOffset&quot;: null, &quot;fill&quot;: true, &quot;fillColor&quot;: &quot;red&quot;, &quot;fillOpacity&quot;: 0.2, &quot;fillRule&quot;: &quot;evenodd&quot;, &quot;lineCap&quot;: &quot;round&quot;, &quot;lineJoin&quot;: &quot;round&quot;, &quot;opacity&quot;: 1.0, &quot;radius&quot;: 14.374083576741077, &quot;stroke&quot;: true, &quot;weight&quot;: 3}\n",
       "            ).addTo(map_6aa78215c90e31e165549f794bca61e4);\n",
       "        \n",
       "    \n",
       "        var popup_fec3fc80f5ce07a762f9013f6f69093b = L.popup({&quot;maxWidth&quot;: &quot;100%&quot;});\n",
       "\n",
       "        \n",
       "            \n",
       "                var html_296496532023e2d6283f4fd6d89ff40f = $(`&lt;div id=&quot;html_296496532023e2d6283f4fd6d89ff40f&quot; style=&quot;width: 100.0%; height: 100.0%;&quot;&gt;Nepal&lt;/div&gt;`)[0];\n",
       "                popup_fec3fc80f5ce07a762f9013f6f69093b.setContent(html_296496532023e2d6283f4fd6d89ff40f);\n",
       "            \n",
       "        \n",
       "\n",
       "        circle_marker_422d0e82acd8ffce931712ce42c7f4d4.bindPopup(popup_fec3fc80f5ce07a762f9013f6f69093b)\n",
       "        ;\n",
       "\n",
       "        \n",
       "    \n",
       "    \n",
       "            var circle_marker_05f75dbb9463050ee2e4923e95dad275 = L.circleMarker(\n",
       "                [30.0, 70.0],\n",
       "                {&quot;bubblingMouseEvents&quot;: true, &quot;color&quot;: &quot;red&quot;, &quot;dashArray&quot;: null, &quot;dashOffset&quot;: null, &quot;fill&quot;: true, &quot;fillColor&quot;: &quot;red&quot;, &quot;fillOpacity&quot;: 0.2, &quot;fillRule&quot;: &quot;evenodd&quot;, &quot;lineCap&quot;: &quot;round&quot;, &quot;lineJoin&quot;: &quot;round&quot;, &quot;opacity&quot;: 1.0, &quot;radius&quot;: 28.424773258632865, &quot;stroke&quot;: true, &quot;weight&quot;: 3}\n",
       "            ).addTo(map_6aa78215c90e31e165549f794bca61e4);\n",
       "        \n",
       "    \n",
       "        var popup_44d8631840ff9f24aa141b0911a29e74 = L.popup({&quot;maxWidth&quot;: &quot;100%&quot;});\n",
       "\n",
       "        \n",
       "            \n",
       "                var html_ae1d49c25b8a6d387c0cbb4c1663e3c3 = $(`&lt;div id=&quot;html_ae1d49c25b8a6d387c0cbb4c1663e3c3&quot; style=&quot;width: 100.0%; height: 100.0%;&quot;&gt;Pakistan&lt;/div&gt;`)[0];\n",
       "                popup_44d8631840ff9f24aa141b0911a29e74.setContent(html_ae1d49c25b8a6d387c0cbb4c1663e3c3);\n",
       "            \n",
       "        \n",
       "\n",
       "        circle_marker_05f75dbb9463050ee2e4923e95dad275.bindPopup(popup_44d8631840ff9f24aa141b0911a29e74)\n",
       "        ;\n",
       "\n",
       "        \n",
       "    \n",
       "    \n",
       "            var circle_marker_41417c6eff9e8843278eadf80af865fe = L.circleMarker(\n",
       "                [8.9936, -79.51973],\n",
       "                {&quot;bubblingMouseEvents&quot;: true, &quot;color&quot;: &quot;green&quot;, &quot;dashArray&quot;: null, &quot;dashOffset&quot;: null, &quot;fill&quot;: true, &quot;fillColor&quot;: &quot;green&quot;, &quot;fillOpacity&quot;: 0.2, &quot;fillRule&quot;: &quot;evenodd&quot;, &quot;lineCap&quot;: &quot;round&quot;, &quot;lineJoin&quot;: &quot;round&quot;, &quot;opacity&quot;: 1.0, &quot;radius&quot;: 2.146732098139007, &quot;stroke&quot;: true, &quot;weight&quot;: 3}\n",
       "            ).addTo(map_6aa78215c90e31e165549f794bca61e4);\n",
       "        \n",
       "    \n",
       "        var popup_03000b0db2e811ffd7145cd4e986a5e9 = L.popup({&quot;maxWidth&quot;: &quot;100%&quot;});\n",
       "\n",
       "        \n",
       "            \n",
       "                var html_4a7b678ec72ca08f14181863f49d059d = $(`&lt;div id=&quot;html_4a7b678ec72ca08f14181863f49d059d&quot; style=&quot;width: 100.0%; height: 100.0%;&quot;&gt;Panama&lt;/div&gt;`)[0];\n",
       "                popup_03000b0db2e811ffd7145cd4e986a5e9.setContent(html_4a7b678ec72ca08f14181863f49d059d);\n",
       "            \n",
       "        \n",
       "\n",
       "        circle_marker_41417c6eff9e8843278eadf80af865fe.bindPopup(popup_03000b0db2e811ffd7145cd4e986a5e9)\n",
       "        ;\n",
       "\n",
       "        \n",
       "    \n",
       "    \n",
       "            var circle_marker_665051596f13709b5efc1c27f8ce96b6 = L.circleMarker(\n",
       "                [-10.0, -75.25],\n",
       "                {&quot;bubblingMouseEvents&quot;: true, &quot;color&quot;: &quot;green&quot;, &quot;dashArray&quot;: null, &quot;dashOffset&quot;: null, &quot;fill&quot;: true, &quot;fillColor&quot;: &quot;green&quot;, &quot;fillOpacity&quot;: 0.2, &quot;fillRule&quot;: &quot;evenodd&quot;, &quot;lineCap&quot;: &quot;round&quot;, &quot;lineJoin&quot;: &quot;round&quot;, &quot;opacity&quot;: 1.0, &quot;radius&quot;: 5.1726862845883845, &quot;stroke&quot;: true, &quot;weight&quot;: 3}\n",
       "            ).addTo(map_6aa78215c90e31e165549f794bca61e4);\n",
       "        \n",
       "    \n",
       "        var popup_8ab23d79baffd369cc53af088dc0f11d = L.popup({&quot;maxWidth&quot;: &quot;100%&quot;});\n",
       "\n",
       "        \n",
       "            \n",
       "                var html_d7f47a16bbb9b024e3e91cab8cc09908 = $(`&lt;div id=&quot;html_d7f47a16bbb9b024e3e91cab8cc09908&quot; style=&quot;width: 100.0%; height: 100.0%;&quot;&gt;Peru&lt;/div&gt;`)[0];\n",
       "                popup_8ab23d79baffd369cc53af088dc0f11d.setContent(html_d7f47a16bbb9b024e3e91cab8cc09908);\n",
       "            \n",
       "        \n",
       "\n",
       "        circle_marker_665051596f13709b5efc1c27f8ce96b6.bindPopup(popup_8ab23d79baffd369cc53af088dc0f11d)\n",
       "        ;\n",
       "\n",
       "        \n",
       "    \n",
       "    \n",
       "            var circle_marker_779b5b6062b8d4ae8c26f3d5656c2118 = L.circleMarker(\n",
       "                [13.0, 122.0],\n",
       "                {&quot;bubblingMouseEvents&quot;: true, &quot;color&quot;: &quot;red&quot;, &quot;dashArray&quot;: null, &quot;dashOffset&quot;: null, &quot;fill&quot;: true, &quot;fillColor&quot;: &quot;red&quot;, &quot;fillOpacity&quot;: 0.2, &quot;fillRule&quot;: &quot;evenodd&quot;, &quot;lineCap&quot;: &quot;round&quot;, &quot;lineJoin&quot;: &quot;round&quot;, &quot;opacity&quot;: 1.0, &quot;radius&quot;: 24.11243511961798, &quot;stroke&quot;: true, &quot;weight&quot;: 3}\n",
       "            ).addTo(map_6aa78215c90e31e165549f794bca61e4);\n",
       "        \n",
       "    \n",
       "        var popup_754c732e8fb74de7175b8d1554c7bb05 = L.popup({&quot;maxWidth&quot;: &quot;100%&quot;});\n",
       "\n",
       "        \n",
       "            \n",
       "                var html_43da6322e3d8f3c1e7290227a28691be = $(`&lt;div id=&quot;html_43da6322e3d8f3c1e7290227a28691be&quot; style=&quot;width: 100.0%; height: 100.0%;&quot;&gt;Philippines&lt;/div&gt;`)[0];\n",
       "                popup_754c732e8fb74de7175b8d1554c7bb05.setContent(html_43da6322e3d8f3c1e7290227a28691be);\n",
       "            \n",
       "        \n",
       "\n",
       "        circle_marker_779b5b6062b8d4ae8c26f3d5656c2118.bindPopup(popup_754c732e8fb74de7175b8d1554c7bb05)\n",
       "        ;\n",
       "\n",
       "        \n",
       "    \n",
       "    \n",
       "            var circle_marker_48e309aea5c3f980adcd224763f6a2c4 = L.circleMarker(\n",
       "                [-6.0, 147.0],\n",
       "                {&quot;bubblingMouseEvents&quot;: true, &quot;color&quot;: &quot;red&quot;, &quot;dashArray&quot;: null, &quot;dashOffset&quot;: null, &quot;fill&quot;: true, &quot;fillColor&quot;: &quot;red&quot;, &quot;fillOpacity&quot;: 0.2, &quot;fillRule&quot;: &quot;evenodd&quot;, &quot;lineCap&quot;: &quot;round&quot;, &quot;lineJoin&quot;: &quot;round&quot;, &quot;opacity&quot;: 1.0, &quot;radius&quot;: 9.325420659840452, &quot;stroke&quot;: true, &quot;weight&quot;: 3}\n",
       "            ).addTo(map_6aa78215c90e31e165549f794bca61e4);\n",
       "        \n",
       "    \n",
       "        var popup_952954520870b083460068b569e8dbd2 = L.popup({&quot;maxWidth&quot;: &quot;100%&quot;});\n",
       "\n",
       "        \n",
       "            \n",
       "                var html_8fb4ec7d066c1c1b5be21b97e840f980 = $(`&lt;div id=&quot;html_8fb4ec7d066c1c1b5be21b97e840f980&quot; style=&quot;width: 100.0%; height: 100.0%;&quot;&gt;Papua New Guinea&lt;/div&gt;`)[0];\n",
       "                popup_952954520870b083460068b569e8dbd2.setContent(html_8fb4ec7d066c1c1b5be21b97e840f980);\n",
       "            \n",
       "        \n",
       "\n",
       "        circle_marker_48e309aea5c3f980adcd224763f6a2c4.bindPopup(popup_952954520870b083460068b569e8dbd2)\n",
       "        ;\n",
       "\n",
       "        \n",
       "    \n",
       "    \n",
       "            var circle_marker_68039818967af8ddf00e894e1b5da7f2 = L.circleMarker(\n",
       "                [52.0, 20.0],\n",
       "                {&quot;bubblingMouseEvents&quot;: true, &quot;color&quot;: &quot;black&quot;, &quot;dashArray&quot;: null, &quot;dashOffset&quot;: null, &quot;fill&quot;: true, &quot;fillColor&quot;: &quot;black&quot;, &quot;fillOpacity&quot;: 0.2, &quot;fillRule&quot;: &quot;evenodd&quot;, &quot;lineCap&quot;: &quot;round&quot;, &quot;lineJoin&quot;: &quot;round&quot;, &quot;opacity&quot;: 1.0, &quot;stroke&quot;: true, &quot;weight&quot;: 3}\n",
       "            ).addTo(map_6aa78215c90e31e165549f794bca61e4);\n",
       "        \n",
       "    \n",
       "        var popup_dcdba318dd83a193446405a106a37e93 = L.popup({&quot;maxWidth&quot;: &quot;100%&quot;});\n",
       "\n",
       "        \n",
       "            \n",
       "                var html_b5aa943bdc49a9e6158163ef043dccc1 = $(`&lt;div id=&quot;html_b5aa943bdc49a9e6158163ef043dccc1&quot; style=&quot;width: 100.0%; height: 100.0%;&quot;&gt;Poland&lt;/div&gt;`)[0];\n",
       "                popup_dcdba318dd83a193446405a106a37e93.setContent(html_b5aa943bdc49a9e6158163ef043dccc1);\n",
       "            \n",
       "        \n",
       "\n",
       "        circle_marker_68039818967af8ddf00e894e1b5da7f2.bindPopup(popup_dcdba318dd83a193446405a106a37e93)\n",
       "        ;\n",
       "\n",
       "        \n",
       "    \n",
       "    \n",
       "            var circle_marker_8aa2cfe623f7f2db914e8c225c3fad8c = L.circleMarker(\n",
       "                [-23.33333, -58.0],\n",
       "                {&quot;bubblingMouseEvents&quot;: true, &quot;color&quot;: &quot;green&quot;, &quot;dashArray&quot;: null, &quot;dashOffset&quot;: null, &quot;fill&quot;: true, &quot;fillColor&quot;: &quot;green&quot;, &quot;fillOpacity&quot;: 0.2, &quot;fillRule&quot;: &quot;evenodd&quot;, &quot;lineCap&quot;: &quot;round&quot;, &quot;lineJoin&quot;: &quot;round&quot;, &quot;opacity&quot;: 1.0, &quot;radius&quot;: 2.3524811396013368, &quot;stroke&quot;: true, &quot;weight&quot;: 3}\n",
       "            ).addTo(map_6aa78215c90e31e165549f794bca61e4);\n",
       "        \n",
       "    \n",
       "        var popup_8e5506f62ba3ce24b29e3eb6564af275 = L.popup({&quot;maxWidth&quot;: &quot;100%&quot;});\n",
       "\n",
       "        \n",
       "            \n",
       "                var html_6f1eb532d2866431c75272ab284382f6 = $(`&lt;div id=&quot;html_6f1eb532d2866431c75272ab284382f6&quot; style=&quot;width: 100.0%; height: 100.0%;&quot;&gt;Paraguay&lt;/div&gt;`)[0];\n",
       "                popup_8e5506f62ba3ce24b29e3eb6564af275.setContent(html_6f1eb532d2866431c75272ab284382f6);\n",
       "            \n",
       "        \n",
       "\n",
       "        circle_marker_8aa2cfe623f7f2db914e8c225c3fad8c.bindPopup(popup_8e5506f62ba3ce24b29e3eb6564af275)\n",
       "        ;\n",
       "\n",
       "        \n",
       "    \n",
       "    \n",
       "            var circle_marker_bb5de6d57bb8d120aad38cd61d3783c8 = L.circleMarker(\n",
       "                [31.92157, 35.20329],\n",
       "                {&quot;bubblingMouseEvents&quot;: true, &quot;color&quot;: &quot;red&quot;, &quot;dashArray&quot;: null, &quot;dashOffset&quot;: null, &quot;fill&quot;: true, &quot;fillColor&quot;: &quot;red&quot;, &quot;fillOpacity&quot;: 0.2, &quot;fillRule&quot;: &quot;evenodd&quot;, &quot;lineCap&quot;: &quot;round&quot;, &quot;lineJoin&quot;: &quot;round&quot;, &quot;opacity&quot;: 1.0, &quot;radius&quot;: 0.3198512113772126, &quot;stroke&quot;: true, &quot;weight&quot;: 3}\n",
       "            ).addTo(map_6aa78215c90e31e165549f794bca61e4);\n",
       "        \n",
       "    \n",
       "        var popup_943b35ab4b05cdcb02747cb276c0ff28 = L.popup({&quot;maxWidth&quot;: &quot;100%&quot;});\n",
       "\n",
       "        \n",
       "            \n",
       "                var html_5a2d4ba72cff9073df54842abe7cafa2 = $(`&lt;div id=&quot;html_5a2d4ba72cff9073df54842abe7cafa2&quot; style=&quot;width: 100.0%; height: 100.0%;&quot;&gt;Palestine&lt;/div&gt;`)[0];\n",
       "                popup_943b35ab4b05cdcb02747cb276c0ff28.setContent(html_5a2d4ba72cff9073df54842abe7cafa2);\n",
       "            \n",
       "        \n",
       "\n",
       "        circle_marker_bb5de6d57bb8d120aad38cd61d3783c8.bindPopup(popup_943b35ab4b05cdcb02747cb276c0ff28)\n",
       "        ;\n",
       "\n",
       "        \n",
       "    \n",
       "    \n",
       "            var circle_marker_77f81b53d9e7c5d545c0ff3c459c1eb1 = L.circleMarker(\n",
       "                [46.0, 25.0],\n",
       "                {&quot;bubblingMouseEvents&quot;: true, &quot;color&quot;: &quot;black&quot;, &quot;dashArray&quot;: null, &quot;dashOffset&quot;: null, &quot;fill&quot;: true, &quot;fillColor&quot;: &quot;black&quot;, &quot;fillOpacity&quot;: 0.2, &quot;fillRule&quot;: &quot;evenodd&quot;, &quot;lineCap&quot;: &quot;round&quot;, &quot;lineJoin&quot;: &quot;round&quot;, &quot;opacity&quot;: 1.0, &quot;stroke&quot;: true, &quot;weight&quot;: 3}\n",
       "            ).addTo(map_6aa78215c90e31e165549f794bca61e4);\n",
       "        \n",
       "    \n",
       "        var popup_ca1d39ec0013b1b399d52c83fbc19f5e = L.popup({&quot;maxWidth&quot;: &quot;100%&quot;});\n",
       "\n",
       "        \n",
       "            \n",
       "                var html_781a1ace12b6d8554d436e1f6f8e2a0b = $(`&lt;div id=&quot;html_781a1ace12b6d8554d436e1f6f8e2a0b&quot; style=&quot;width: 100.0%; height: 100.0%;&quot;&gt;Romania&lt;/div&gt;`)[0];\n",
       "                popup_ca1d39ec0013b1b399d52c83fbc19f5e.setContent(html_781a1ace12b6d8554d436e1f6f8e2a0b);\n",
       "            \n",
       "        \n",
       "\n",
       "        circle_marker_77f81b53d9e7c5d545c0ff3c459c1eb1.bindPopup(popup_ca1d39ec0013b1b399d52c83fbc19f5e)\n",
       "        ;\n",
       "\n",
       "        \n",
       "    \n",
       "    \n",
       "            var circle_marker_0957976c6858d3723cb90ff3d01f7cb9 = L.circleMarker(\n",
       "                [60.0, 100.0],\n",
       "                {&quot;bubblingMouseEvents&quot;: true, &quot;color&quot;: &quot;black&quot;, &quot;dashArray&quot;: null, &quot;dashOffset&quot;: null, &quot;fill&quot;: true, &quot;fillColor&quot;: &quot;black&quot;, &quot;fillOpacity&quot;: 0.2, &quot;fillRule&quot;: &quot;evenodd&quot;, &quot;lineCap&quot;: &quot;round&quot;, &quot;lineJoin&quot;: &quot;round&quot;, &quot;opacity&quot;: 1.0, &quot;radius&quot;: 1.1723745513024446, &quot;stroke&quot;: true, &quot;weight&quot;: 3}\n",
       "            ).addTo(map_6aa78215c90e31e165549f794bca61e4);\n",
       "        \n",
       "    \n",
       "        var popup_eab2ae39ec691bfb4a0d65ac38aa9b22 = L.popup({&quot;maxWidth&quot;: &quot;100%&quot;});\n",
       "\n",
       "        \n",
       "            \n",
       "                var html_482e1f502f717e6373b30e75297671ca = $(`&lt;div id=&quot;html_482e1f502f717e6373b30e75297671ca&quot; style=&quot;width: 100.0%; height: 100.0%;&quot;&gt;Russia&lt;/div&gt;`)[0];\n",
       "                popup_eab2ae39ec691bfb4a0d65ac38aa9b22.setContent(html_482e1f502f717e6373b30e75297671ca);\n",
       "            \n",
       "        \n",
       "\n",
       "        circle_marker_0957976c6858d3723cb90ff3d01f7cb9.bindPopup(popup_eab2ae39ec691bfb4a0d65ac38aa9b22)\n",
       "        ;\n",
       "\n",
       "        \n",
       "    \n",
       "    \n",
       "            var circle_marker_4647710883b598b8e671ce66dcd90204 = L.circleMarker(\n",
       "                [-2.0, 30.0],\n",
       "                {&quot;bubblingMouseEvents&quot;: true, &quot;color&quot;: &quot;blue&quot;, &quot;dashArray&quot;: null, &quot;dashOffset&quot;: null, &quot;fill&quot;: true, &quot;fillColor&quot;: &quot;blue&quot;, &quot;fillOpacity&quot;: 0.2, &quot;fillRule&quot;: &quot;evenodd&quot;, &quot;lineCap&quot;: &quot;round&quot;, &quot;lineJoin&quot;: &quot;round&quot;, &quot;opacity&quot;: 1.0, &quot;radius&quot;: 14.386416210346209, &quot;stroke&quot;: true, &quot;weight&quot;: 3}\n",
       "            ).addTo(map_6aa78215c90e31e165549f794bca61e4);\n",
       "        \n",
       "    \n",
       "        var popup_bf3049d66172d5d9fcc99de925ff9722 = L.popup({&quot;maxWidth&quot;: &quot;100%&quot;});\n",
       "\n",
       "        \n",
       "            \n",
       "                var html_eb4ddd5ee5b2b4791fe0823ac20d5d3f = $(`&lt;div id=&quot;html_eb4ddd5ee5b2b4791fe0823ac20d5d3f&quot; style=&quot;width: 100.0%; height: 100.0%;&quot;&gt;Rwanda&lt;/div&gt;`)[0];\n",
       "                popup_bf3049d66172d5d9fcc99de925ff9722.setContent(html_eb4ddd5ee5b2b4791fe0823ac20d5d3f);\n",
       "            \n",
       "        \n",
       "\n",
       "        circle_marker_4647710883b598b8e671ce66dcd90204.bindPopup(popup_bf3049d66172d5d9fcc99de925ff9722)\n",
       "        ;\n",
       "\n",
       "        \n",
       "    \n",
       "    \n",
       "            var circle_marker_7dc3e43d73ad741468fca12470c899fa = L.circleMarker(\n",
       "                [16.0, 30.0],\n",
       "                {&quot;bubblingMouseEvents&quot;: true, &quot;color&quot;: &quot;blue&quot;, &quot;dashArray&quot;: null, &quot;dashOffset&quot;: null, &quot;fill&quot;: true, &quot;fillColor&quot;: &quot;blue&quot;, &quot;fillOpacity&quot;: 0.2, &quot;fillRule&quot;: &quot;evenodd&quot;, &quot;lineCap&quot;: &quot;round&quot;, &quot;lineJoin&quot;: &quot;round&quot;, &quot;opacity&quot;: 1.0, &quot;radius&quot;: 14.939896772484527, &quot;stroke&quot;: true, &quot;weight&quot;: 3}\n",
       "            ).addTo(map_6aa78215c90e31e165549f794bca61e4);\n",
       "        \n",
       "    \n",
       "        var popup_1c3f8f17d87784109dbec22c179e13da = L.popup({&quot;maxWidth&quot;: &quot;100%&quot;});\n",
       "\n",
       "        \n",
       "            \n",
       "                var html_943fb3ff3ca7b34cf70982196fa52aa3 = $(`&lt;div id=&quot;html_943fb3ff3ca7b34cf70982196fa52aa3&quot; style=&quot;width: 100.0%; height: 100.0%;&quot;&gt;Sudan&lt;/div&gt;`)[0];\n",
       "                popup_1c3f8f17d87784109dbec22c179e13da.setContent(html_943fb3ff3ca7b34cf70982196fa52aa3);\n",
       "            \n",
       "        \n",
       "\n",
       "        circle_marker_7dc3e43d73ad741468fca12470c899fa.bindPopup(popup_1c3f8f17d87784109dbec22c179e13da)\n",
       "        ;\n",
       "\n",
       "        \n",
       "    \n",
       "    \n",
       "            var circle_marker_e2e6abb8ccd90bde0ba06e5cd73977d3 = L.circleMarker(\n",
       "                [14.5, -14.25],\n",
       "                {&quot;bubblingMouseEvents&quot;: true, &quot;color&quot;: &quot;blue&quot;, &quot;dashArray&quot;: null, &quot;dashOffset&quot;: null, &quot;fill&quot;: true, &quot;fillColor&quot;: &quot;blue&quot;, &quot;fillOpacity&quot;: 0.2, &quot;fillRule&quot;: &quot;evenodd&quot;, &quot;lineCap&quot;: &quot;round&quot;, &quot;lineJoin&quot;: &quot;round&quot;, &quot;opacity&quot;: 1.0, &quot;radius&quot;: 11.704210477422464, &quot;stroke&quot;: true, &quot;weight&quot;: 3}\n",
       "            ).addTo(map_6aa78215c90e31e165549f794bca61e4);\n",
       "        \n",
       "    \n",
       "        var popup_cda6281f1e4cf0b34c71ce8476c8dacb = L.popup({&quot;maxWidth&quot;: &quot;100%&quot;});\n",
       "\n",
       "        \n",
       "            \n",
       "                var html_0209c2340cee092559ee85e0fdabf05e = $(`&lt;div id=&quot;html_0209c2340cee092559ee85e0fdabf05e&quot; style=&quot;width: 100.0%; height: 100.0%;&quot;&gt;Senegal&lt;/div&gt;`)[0];\n",
       "                popup_cda6281f1e4cf0b34c71ce8476c8dacb.setContent(html_0209c2340cee092559ee85e0fdabf05e);\n",
       "            \n",
       "        \n",
       "\n",
       "        circle_marker_e2e6abb8ccd90bde0ba06e5cd73977d3.bindPopup(popup_cda6281f1e4cf0b34c71ce8476c8dacb)\n",
       "        ;\n",
       "\n",
       "        \n",
       "    \n",
       "    \n",
       "            var circle_marker_cc47c3a82cdc91adb434680829cf360d = L.circleMarker(\n",
       "                [8.5, -11.5],\n",
       "                {&quot;bubblingMouseEvents&quot;: true, &quot;color&quot;: &quot;blue&quot;, &quot;dashArray&quot;: null, &quot;dashOffset&quot;: null, &quot;fill&quot;: true, &quot;fillColor&quot;: &quot;blue&quot;, &quot;fillOpacity&quot;: 0.2, &quot;fillRule&quot;: &quot;evenodd&quot;, &quot;lineCap&quot;: &quot;round&quot;, &quot;lineJoin&quot;: &quot;round&quot;, &quot;opacity&quot;: 1.0, &quot;radius&quot;: 10.591031720519217, &quot;stroke&quot;: true, &quot;weight&quot;: 3}\n",
       "            ).addTo(map_6aa78215c90e31e165549f794bca61e4);\n",
       "        \n",
       "    \n",
       "        var popup_ef0ae472d7e2834d524bc6744df538f8 = L.popup({&quot;maxWidth&quot;: &quot;100%&quot;});\n",
       "\n",
       "        \n",
       "            \n",
       "                var html_2c80611e52e733b49a00b5514cb296b6 = $(`&lt;div id=&quot;html_2c80611e52e733b49a00b5514cb296b6&quot; style=&quot;width: 100.0%; height: 100.0%;&quot;&gt;Sierra Leone&lt;/div&gt;`)[0];\n",
       "                popup_ef0ae472d7e2834d524bc6744df538f8.setContent(html_2c80611e52e733b49a00b5514cb296b6);\n",
       "            \n",
       "        \n",
       "\n",
       "        circle_marker_cc47c3a82cdc91adb434680829cf360d.bindPopup(popup_ef0ae472d7e2834d524bc6744df538f8)\n",
       "        ;\n",
       "\n",
       "        \n",
       "    \n",
       "    \n",
       "            var circle_marker_7e1da3f61918ec6ba1485112d64b1042 = L.circleMarker(\n",
       "                [13.83333, -88.91667],\n",
       "                {&quot;bubblingMouseEvents&quot;: true, &quot;color&quot;: &quot;green&quot;, &quot;dashArray&quot;: null, &quot;dashOffset&quot;: null, &quot;fill&quot;: true, &quot;fillColor&quot;: &quot;green&quot;, &quot;fillOpacity&quot;: 0.2, &quot;fillRule&quot;: &quot;evenodd&quot;, &quot;lineCap&quot;: &quot;round&quot;, &quot;lineJoin&quot;: &quot;round&quot;, &quot;opacity&quot;: 1.0, &quot;radius&quot;: 2.210637055152628, &quot;stroke&quot;: true, &quot;weight&quot;: 3}\n",
       "            ).addTo(map_6aa78215c90e31e165549f794bca61e4);\n",
       "        \n",
       "    \n",
       "        var popup_bbd0c52adbe75a823d6982d594fa0d4d = L.popup({&quot;maxWidth&quot;: &quot;100%&quot;});\n",
       "\n",
       "        \n",
       "            \n",
       "                var html_c633a8607cd8b4a83da52962120f0177 = $(`&lt;div id=&quot;html_c633a8607cd8b4a83da52962120f0177&quot; style=&quot;width: 100.0%; height: 100.0%;&quot;&gt;El Salvador&lt;/div&gt;`)[0];\n",
       "                popup_bbd0c52adbe75a823d6982d594fa0d4d.setContent(html_c633a8607cd8b4a83da52962120f0177);\n",
       "            \n",
       "        \n",
       "\n",
       "        circle_marker_7e1da3f61918ec6ba1485112d64b1042.bindPopup(popup_bbd0c52adbe75a823d6982d594fa0d4d)\n",
       "        ;\n",
       "\n",
       "        \n",
       "    \n",
       "    \n",
       "            var circle_marker_5f7ec5d9d817ec774a75d955d1f994db = L.circleMarker(\n",
       "                [44.81892, 20.45998],\n",
       "                {&quot;bubblingMouseEvents&quot;: true, &quot;color&quot;: &quot;black&quot;, &quot;dashArray&quot;: null, &quot;dashOffset&quot;: null, &quot;fill&quot;: true, &quot;fillColor&quot;: &quot;black&quot;, &quot;fillOpacity&quot;: 0.2, &quot;fillRule&quot;: &quot;evenodd&quot;, &quot;lineCap&quot;: &quot;round&quot;, &quot;lineJoin&quot;: &quot;round&quot;, &quot;opacity&quot;: 1.0, &quot;radius&quot;: 0.3430903611452321, &quot;stroke&quot;: true, &quot;weight&quot;: 3}\n",
       "            ).addTo(map_6aa78215c90e31e165549f794bca61e4);\n",
       "        \n",
       "    \n",
       "        var popup_80ad256444c3c90a3c969435f1cc6534 = L.popup({&quot;maxWidth&quot;: &quot;100%&quot;});\n",
       "\n",
       "        \n",
       "            \n",
       "                var html_2deff81e10958c206721648af2aa7c80 = $(`&lt;div id=&quot;html_2deff81e10958c206721648af2aa7c80&quot; style=&quot;width: 100.0%; height: 100.0%;&quot;&gt;Serbia&lt;/div&gt;`)[0];\n",
       "                popup_80ad256444c3c90a3c969435f1cc6534.setContent(html_2deff81e10958c206721648af2aa7c80);\n",
       "            \n",
       "        \n",
       "\n",
       "        circle_marker_5f7ec5d9d817ec774a75d955d1f994db.bindPopup(popup_80ad256444c3c90a3c969435f1cc6534)\n",
       "        ;\n",
       "\n",
       "        \n",
       "    \n",
       "    \n",
       "            var circle_marker_5231cf16e869f039a70fe3caa3ca0cf8 = L.circleMarker(\n",
       "                [1.0, 7.0],\n",
       "                {&quot;bubblingMouseEvents&quot;: true, &quot;color&quot;: &quot;blue&quot;, &quot;dashArray&quot;: null, &quot;dashOffset&quot;: null, &quot;fill&quot;: true, &quot;fillColor&quot;: &quot;blue&quot;, &quot;fillOpacity&quot;: 0.2, &quot;fillRule&quot;: &quot;evenodd&quot;, &quot;lineCap&quot;: &quot;round&quot;, &quot;lineJoin&quot;: &quot;round&quot;, &quot;opacity&quot;: 1.0, &quot;radius&quot;: 1.5871486311247862, &quot;stroke&quot;: true, &quot;weight&quot;: 3}\n",
       "            ).addTo(map_6aa78215c90e31e165549f794bca61e4);\n",
       "        \n",
       "    \n",
       "        var popup_1f767c164dce32107d3f46c5d19f0400 = L.popup({&quot;maxWidth&quot;: &quot;100%&quot;});\n",
       "\n",
       "        \n",
       "            \n",
       "                var html_091174d335904ff359c193d10bb0923b = $(`&lt;div id=&quot;html_091174d335904ff359c193d10bb0923b&quot; style=&quot;width: 100.0%; height: 100.0%;&quot;&gt;Sao Tome and Principe&lt;/div&gt;`)[0];\n",
       "                popup_1f767c164dce32107d3f46c5d19f0400.setContent(html_091174d335904ff359c193d10bb0923b);\n",
       "            \n",
       "        \n",
       "\n",
       "        circle_marker_5231cf16e869f039a70fe3caa3ca0cf8.bindPopup(popup_1f767c164dce32107d3f46c5d19f0400)\n",
       "        ;\n",
       "\n",
       "        \n",
       "    \n",
       "    \n",
       "            var circle_marker_582ee02384bd559f188163d796b46d83 = L.circleMarker(\n",
       "                [4.0, -56.0],\n",
       "                {&quot;bubblingMouseEvents&quot;: true, &quot;color&quot;: &quot;green&quot;, &quot;dashArray&quot;: null, &quot;dashOffset&quot;: null, &quot;fill&quot;: true, &quot;fillColor&quot;: &quot;green&quot;, &quot;fillOpacity&quot;: 0.2, &quot;fillRule&quot;: &quot;evenodd&quot;, &quot;lineCap&quot;: &quot;round&quot;, &quot;lineJoin&quot;: &quot;round&quot;, &quot;opacity&quot;: 1.0, &quot;radius&quot;: 1.6493067105148873, &quot;stroke&quot;: true, &quot;weight&quot;: 3}\n",
       "            ).addTo(map_6aa78215c90e31e165549f794bca61e4);\n",
       "        \n",
       "    \n",
       "        var popup_c835af60e2895e4f402f08d80841d4cd = L.popup({&quot;maxWidth&quot;: &quot;100%&quot;});\n",
       "\n",
       "        \n",
       "            \n",
       "                var html_63494ed170d27ab0818ce6788fcac1e4 = $(`&lt;div id=&quot;html_63494ed170d27ab0818ce6788fcac1e4&quot; style=&quot;width: 100.0%; height: 100.0%;&quot;&gt;Suriname&lt;/div&gt;`)[0];\n",
       "                popup_c835af60e2895e4f402f08d80841d4cd.setContent(html_63494ed170d27ab0818ce6788fcac1e4);\n",
       "            \n",
       "        \n",
       "\n",
       "        circle_marker_582ee02384bd559f188163d796b46d83.bindPopup(popup_c835af60e2895e4f402f08d80841d4cd)\n",
       "        ;\n",
       "\n",
       "        \n",
       "    \n",
       "    \n",
       "            var circle_marker_c24d03fc75c904d3ea519c6d23188de7 = L.circleMarker(\n",
       "                [48.66667, 19.5],\n",
       "                {&quot;bubblingMouseEvents&quot;: true, &quot;color&quot;: &quot;black&quot;, &quot;dashArray&quot;: null, &quot;dashOffset&quot;: null, &quot;fill&quot;: true, &quot;fillColor&quot;: &quot;black&quot;, &quot;fillOpacity&quot;: 0.2, &quot;fillRule&quot;: &quot;evenodd&quot;, &quot;lineCap&quot;: &quot;round&quot;, &quot;lineJoin&quot;: &quot;round&quot;, &quot;opacity&quot;: 1.0, &quot;radius&quot;: 0.7175639845274426, &quot;stroke&quot;: true, &quot;weight&quot;: 3}\n",
       "            ).addTo(map_6aa78215c90e31e165549f794bca61e4);\n",
       "        \n",
       "    \n",
       "        var popup_3fe70bce9eb06381d79cca2fcc700c15 = L.popup({&quot;maxWidth&quot;: &quot;100%&quot;});\n",
       "\n",
       "        \n",
       "            \n",
       "                var html_2872a0d17081a0221877cf5bd6d4914b = $(`&lt;div id=&quot;html_2872a0d17081a0221877cf5bd6d4914b&quot; style=&quot;width: 100.0%; height: 100.0%;&quot;&gt;Slovak Republic&lt;/div&gt;`)[0];\n",
       "                popup_3fe70bce9eb06381d79cca2fcc700c15.setContent(html_2872a0d17081a0221877cf5bd6d4914b);\n",
       "            \n",
       "        \n",
       "\n",
       "        circle_marker_c24d03fc75c904d3ea519c6d23188de7.bindPopup(popup_3fe70bce9eb06381d79cca2fcc700c15)\n",
       "        ;\n",
       "\n",
       "        \n",
       "    \n",
       "    \n",
       "            var circle_marker_2a766fba96868d87129e5753861686b6 = L.circleMarker(\n",
       "                [46.08333, 15.0],\n",
       "                {&quot;bubblingMouseEvents&quot;: true, &quot;color&quot;: &quot;black&quot;, &quot;dashArray&quot;: null, &quot;dashOffset&quot;: null, &quot;fill&quot;: true, &quot;fillColor&quot;: &quot;black&quot;, &quot;fillOpacity&quot;: 0.2, &quot;fillRule&quot;: &quot;evenodd&quot;, &quot;lineCap&quot;: &quot;round&quot;, &quot;lineJoin&quot;: &quot;round&quot;, &quot;opacity&quot;: 1.0, &quot;stroke&quot;: true, &quot;weight&quot;: 3}\n",
       "            ).addTo(map_6aa78215c90e31e165549f794bca61e4);\n",
       "        \n",
       "    \n",
       "        var popup_0792c3c068552813bf1f25b5a09b7b70 = L.popup({&quot;maxWidth&quot;: &quot;100%&quot;});\n",
       "\n",
       "        \n",
       "            \n",
       "                var html_218f2a8546265422b3d9fc4772e3a40c = $(`&lt;div id=&quot;html_218f2a8546265422b3d9fc4772e3a40c&quot; style=&quot;width: 100.0%; height: 100.0%;&quot;&gt;Slovenia&lt;/div&gt;`)[0];\n",
       "                popup_0792c3c068552813bf1f25b5a09b7b70.setContent(html_218f2a8546265422b3d9fc4772e3a40c);\n",
       "            \n",
       "        \n",
       "\n",
       "        circle_marker_2a766fba96868d87129e5753861686b6.bindPopup(popup_0792c3c068552813bf1f25b5a09b7b70)\n",
       "        ;\n",
       "\n",
       "        \n",
       "    \n",
       "    \n",
       "            var circle_marker_e31fb4a66f54a6bec085f2845f950c35 = L.circleMarker(\n",
       "                [62.0, 15.0],\n",
       "                {&quot;bubblingMouseEvents&quot;: true, &quot;color&quot;: &quot;black&quot;, &quot;dashArray&quot;: null, &quot;dashOffset&quot;: null, &quot;fill&quot;: true, &quot;fillColor&quot;: &quot;black&quot;, &quot;fillOpacity&quot;: 0.2, &quot;fillRule&quot;: &quot;evenodd&quot;, &quot;lineCap&quot;: &quot;round&quot;, &quot;lineJoin&quot;: &quot;round&quot;, &quot;opacity&quot;: 1.0, &quot;radius&quot;: 1.0221645515325184, &quot;stroke&quot;: true, &quot;weight&quot;: 3}\n",
       "            ).addTo(map_6aa78215c90e31e165549f794bca61e4);\n",
       "        \n",
       "    \n",
       "        var popup_c702b9e606d52995699d355de2eef343 = L.popup({&quot;maxWidth&quot;: &quot;100%&quot;});\n",
       "\n",
       "        \n",
       "            \n",
       "                var html_cab97b52f0bf47bb83f7dc2fa357b648 = $(`&lt;div id=&quot;html_cab97b52f0bf47bb83f7dc2fa357b648&quot; style=&quot;width: 100.0%; height: 100.0%;&quot;&gt;Sweden&lt;/div&gt;`)[0];\n",
       "                popup_c702b9e606d52995699d355de2eef343.setContent(html_cab97b52f0bf47bb83f7dc2fa357b648);\n",
       "            \n",
       "        \n",
       "\n",
       "        circle_marker_e31fb4a66f54a6bec085f2845f950c35.bindPopup(popup_c702b9e606d52995699d355de2eef343)\n",
       "        ;\n",
       "\n",
       "        \n",
       "    \n",
       "    \n",
       "            var circle_marker_a4e8923e0ed466044f4ba66872ec13e9 = L.circleMarker(\n",
       "                [-26.5, 31.5],\n",
       "                {&quot;bubblingMouseEvents&quot;: true, &quot;color&quot;: &quot;blue&quot;, &quot;dashArray&quot;: null, &quot;dashOffset&quot;: null, &quot;fill&quot;: true, &quot;fillColor&quot;: &quot;blue&quot;, &quot;fillOpacity&quot;: 0.2, &quot;fillRule&quot;: &quot;evenodd&quot;, &quot;lineCap&quot;: &quot;round&quot;, &quot;lineJoin&quot;: &quot;round&quot;, &quot;opacity&quot;: 1.0, &quot;radius&quot;: 3.7291096317512857, &quot;stroke&quot;: true, &quot;weight&quot;: 3}\n",
       "            ).addTo(map_6aa78215c90e31e165549f794bca61e4);\n",
       "        \n",
       "    \n",
       "        var popup_eb83a5c585f63c2b9f6603b287819827 = L.popup({&quot;maxWidth&quot;: &quot;100%&quot;});\n",
       "\n",
       "        \n",
       "            \n",
       "                var html_29acdbed2ac9c668368153178286dd69 = $(`&lt;div id=&quot;html_29acdbed2ac9c668368153178286dd69&quot; style=&quot;width: 100.0%; height: 100.0%;&quot;&gt;Swaziland&lt;/div&gt;`)[0];\n",
       "                popup_eb83a5c585f63c2b9f6603b287819827.setContent(html_29acdbed2ac9c668368153178286dd69);\n",
       "            \n",
       "        \n",
       "\n",
       "        circle_marker_a4e8923e0ed466044f4ba66872ec13e9.bindPopup(popup_eb83a5c585f63c2b9f6603b287819827)\n",
       "        ;\n",
       "\n",
       "        \n",
       "    \n",
       "    \n",
       "            var circle_marker_20129d728cdb7dac7575489d229fb2bc = L.circleMarker(\n",
       "                [-4.58333, 55.66667],\n",
       "                {&quot;bubblingMouseEvents&quot;: true, &quot;color&quot;: &quot;blue&quot;, &quot;dashArray&quot;: null, &quot;dashOffset&quot;: null, &quot;fill&quot;: true, &quot;fillColor&quot;: &quot;blue&quot;, &quot;fillOpacity&quot;: 0.2, &quot;fillRule&quot;: &quot;evenodd&quot;, &quot;lineCap&quot;: &quot;round&quot;, &quot;lineJoin&quot;: &quot;round&quot;, &quot;opacity&quot;: 1.0, &quot;radius&quot;: 0.08685588237163813, &quot;stroke&quot;: true, &quot;weight&quot;: 3}\n",
       "            ).addTo(map_6aa78215c90e31e165549f794bca61e4);\n",
       "        \n",
       "    \n",
       "        var popup_873f6d8821f68b9b375cd8d38933b6de = L.popup({&quot;maxWidth&quot;: &quot;100%&quot;});\n",
       "\n",
       "        \n",
       "            \n",
       "                var html_6ddc2521c4eb7fbaae19adc1f4791cf5 = $(`&lt;div id=&quot;html_6ddc2521c4eb7fbaae19adc1f4791cf5&quot; style=&quot;width: 100.0%; height: 100.0%;&quot;&gt;Seychelles&lt;/div&gt;`)[0];\n",
       "                popup_873f6d8821f68b9b375cd8d38933b6de.setContent(html_6ddc2521c4eb7fbaae19adc1f4791cf5);\n",
       "            \n",
       "        \n",
       "\n",
       "        circle_marker_20129d728cdb7dac7575489d229fb2bc.bindPopup(popup_873f6d8821f68b9b375cd8d38933b6de)\n",
       "        ;\n",
       "\n",
       "        \n",
       "    \n",
       "    \n",
       "            var circle_marker_23c252d1e73a1aa15e496921c86e6a74 = L.circleMarker(\n",
       "                [35.0, 38.0],\n",
       "                {&quot;bubblingMouseEvents&quot;: true, &quot;color&quot;: &quot;red&quot;, &quot;dashArray&quot;: null, &quot;dashOffset&quot;: null, &quot;fill&quot;: true, &quot;fillColor&quot;: &quot;red&quot;, &quot;fillOpacity&quot;: 0.2, &quot;fillRule&quot;: &quot;evenodd&quot;, &quot;lineCap&quot;: &quot;round&quot;, &quot;lineJoin&quot;: &quot;round&quot;, &quot;opacity&quot;: 1.0, &quot;radius&quot;: 3.4981983567755583, &quot;stroke&quot;: true, &quot;weight&quot;: 3}\n",
       "            ).addTo(map_6aa78215c90e31e165549f794bca61e4);\n",
       "        \n",
       "    \n",
       "        var popup_078b0c0e4874dd6fcd06c4e3a88b51c0 = L.popup({&quot;maxWidth&quot;: &quot;100%&quot;});\n",
       "\n",
       "        \n",
       "            \n",
       "                var html_89262b362eaa74c3a84a43e1bd250132 = $(`&lt;div id=&quot;html_89262b362eaa74c3a84a43e1bd250132&quot; style=&quot;width: 100.0%; height: 100.0%;&quot;&gt;Syria&lt;/div&gt;`)[0];\n",
       "                popup_078b0c0e4874dd6fcd06c4e3a88b51c0.setContent(html_89262b362eaa74c3a84a43e1bd250132);\n",
       "            \n",
       "        \n",
       "\n",
       "        circle_marker_23c252d1e73a1aa15e496921c86e6a74.bindPopup(popup_078b0c0e4874dd6fcd06c4e3a88b51c0)\n",
       "        ;\n",
       "\n",
       "        \n",
       "    \n",
       "    \n",
       "            var circle_marker_abd02552c754be5f1ecda3896ea9b12c = L.circleMarker(\n",
       "                [15.0, 19.0],\n",
       "                {&quot;bubblingMouseEvents&quot;: true, &quot;color&quot;: &quot;blue&quot;, &quot;dashArray&quot;: null, &quot;dashOffset&quot;: null, &quot;fill&quot;: true, &quot;fillColor&quot;: &quot;blue&quot;, &quot;fillOpacity&quot;: 0.2, &quot;fillRule&quot;: &quot;evenodd&quot;, &quot;lineCap&quot;: &quot;round&quot;, &quot;lineJoin&quot;: &quot;round&quot;, &quot;opacity&quot;: 1.0, &quot;radius&quot;: 11.963682356780861, &quot;stroke&quot;: true, &quot;weight&quot;: 3}\n",
       "            ).addTo(map_6aa78215c90e31e165549f794bca61e4);\n",
       "        \n",
       "    \n",
       "        var popup_61c9c999be2c9264b81ab46f875006ee = L.popup({&quot;maxWidth&quot;: &quot;100%&quot;});\n",
       "\n",
       "        \n",
       "            \n",
       "                var html_34e5b929fdbeb2635c8ccf3357df3bbb = $(`&lt;div id=&quot;html_34e5b929fdbeb2635c8ccf3357df3bbb&quot; style=&quot;width: 100.0%; height: 100.0%;&quot;&gt;Chad&lt;/div&gt;`)[0];\n",
       "                popup_61c9c999be2c9264b81ab46f875006ee.setContent(html_34e5b929fdbeb2635c8ccf3357df3bbb);\n",
       "            \n",
       "        \n",
       "\n",
       "        circle_marker_abd02552c754be5f1ecda3896ea9b12c.bindPopup(popup_61c9c999be2c9264b81ab46f875006ee)\n",
       "        ;\n",
       "\n",
       "        \n",
       "    \n",
       "    \n",
       "            var circle_marker_ad7b040062907d9f6f6f75e942911358 = L.circleMarker(\n",
       "                [8.66667, 1.08333],\n",
       "                {&quot;bubblingMouseEvents&quot;: true, &quot;color&quot;: &quot;blue&quot;, &quot;dashArray&quot;: null, &quot;dashOffset&quot;: null, &quot;fill&quot;: true, &quot;fillColor&quot;: &quot;blue&quot;, &quot;fillOpacity&quot;: 0.2, &quot;fillRule&quot;: &quot;evenodd&quot;, &quot;lineCap&quot;: &quot;round&quot;, &quot;lineJoin&quot;: &quot;round&quot;, &quot;opacity&quot;: 1.0, &quot;radius&quot;: 10.603037764153232, &quot;stroke&quot;: true, &quot;weight&quot;: 3}\n",
       "            ).addTo(map_6aa78215c90e31e165549f794bca61e4);\n",
       "        \n",
       "    \n",
       "        var popup_01eb7a11f1f15eb70535a3d021ffe01f = L.popup({&quot;maxWidth&quot;: &quot;100%&quot;});\n",
       "\n",
       "        \n",
       "            \n",
       "                var html_155ee07d3413c5c39bb47df6175fa113 = $(`&lt;div id=&quot;html_155ee07d3413c5c39bb47df6175fa113&quot; style=&quot;width: 100.0%; height: 100.0%;&quot;&gt;Togo&lt;/div&gt;`)[0];\n",
       "                popup_01eb7a11f1f15eb70535a3d021ffe01f.setContent(html_155ee07d3413c5c39bb47df6175fa113);\n",
       "            \n",
       "        \n",
       "\n",
       "        circle_marker_ad7b040062907d9f6f6f75e942911358.bindPopup(popup_01eb7a11f1f15eb70535a3d021ffe01f)\n",
       "        ;\n",
       "\n",
       "        \n",
       "    \n",
       "    \n",
       "            var circle_marker_294c5b467946b4ba673f7ca1d6ab70f6 = L.circleMarker(\n",
       "                [15.5, 101.0],\n",
       "                {&quot;bubblingMouseEvents&quot;: true, &quot;color&quot;: &quot;red&quot;, &quot;dashArray&quot;: null, &quot;dashOffset&quot;: null, &quot;fill&quot;: true, &quot;fillColor&quot;: &quot;red&quot;, &quot;fillOpacity&quot;: 0.2, &quot;fillRule&quot;: &quot;evenodd&quot;, &quot;lineCap&quot;: &quot;round&quot;, &quot;lineJoin&quot;: &quot;round&quot;, &quot;opacity&quot;: 1.0, &quot;radius&quot;: 2.601372879137652, &quot;stroke&quot;: true, &quot;weight&quot;: 3}\n",
       "            ).addTo(map_6aa78215c90e31e165549f794bca61e4);\n",
       "        \n",
       "    \n",
       "        var popup_5bc06e0039a06a1e37982661f6b858cf = L.popup({&quot;maxWidth&quot;: &quot;100%&quot;});\n",
       "\n",
       "        \n",
       "            \n",
       "                var html_1510c92ac76b0801e247d6bbbd4f402d = $(`&lt;div id=&quot;html_1510c92ac76b0801e247d6bbbd4f402d&quot; style=&quot;width: 100.0%; height: 100.0%;&quot;&gt;Thailand&lt;/div&gt;`)[0];\n",
       "                popup_5bc06e0039a06a1e37982661f6b858cf.setContent(html_1510c92ac76b0801e247d6bbbd4f402d);\n",
       "            \n",
       "        \n",
       "\n",
       "        circle_marker_294c5b467946b4ba673f7ca1d6ab70f6.bindPopup(popup_5bc06e0039a06a1e37982661f6b858cf)\n",
       "        ;\n",
       "\n",
       "        \n",
       "    \n",
       "    \n",
       "            var circle_marker_7c2c9e55759bd928523ea8f4b7c01b17 = L.circleMarker(\n",
       "                [39.0, 71.0],\n",
       "                {&quot;bubblingMouseEvents&quot;: true, &quot;color&quot;: &quot;red&quot;, &quot;dashArray&quot;: null, &quot;dashOffset&quot;: null, &quot;fill&quot;: true, &quot;fillColor&quot;: &quot;red&quot;, &quot;fillOpacity&quot;: 0.2, &quot;fillRule&quot;: &quot;evenodd&quot;, &quot;lineCap&quot;: &quot;round&quot;, &quot;lineJoin&quot;: &quot;round&quot;, &quot;opacity&quot;: 1.0, &quot;radius&quot;: 3.969802448362861, &quot;stroke&quot;: true, &quot;weight&quot;: 3}\n",
       "            ).addTo(map_6aa78215c90e31e165549f794bca61e4);\n",
       "        \n",
       "    \n",
       "        var popup_fb1d67ec70633992d01a1f52a083da3e = L.popup({&quot;maxWidth&quot;: &quot;100%&quot;});\n",
       "\n",
       "        \n",
       "            \n",
       "                var html_76d6c545370ff6686a4ab9a161ee0be6 = $(`&lt;div id=&quot;html_76d6c545370ff6686a4ab9a161ee0be6&quot; style=&quot;width: 100.0%; height: 100.0%;&quot;&gt;Tajikistan&lt;/div&gt;`)[0];\n",
       "                popup_fb1d67ec70633992d01a1f52a083da3e.setContent(html_76d6c545370ff6686a4ab9a161ee0be6);\n",
       "            \n",
       "        \n",
       "\n",
       "        circle_marker_7c2c9e55759bd928523ea8f4b7c01b17.bindPopup(popup_fb1d67ec70633992d01a1f52a083da3e)\n",
       "        ;\n",
       "\n",
       "        \n",
       "    \n",
       "    \n",
       "            var circle_marker_bee8ecc9a9e452bbe2bc670f724d3588 = L.circleMarker(\n",
       "                [39.75, 59.66667],\n",
       "                {&quot;bubblingMouseEvents&quot;: true, &quot;color&quot;: &quot;red&quot;, &quot;dashArray&quot;: null, &quot;dashOffset&quot;: null, &quot;fill&quot;: true, &quot;fillColor&quot;: &quot;red&quot;, &quot;fillOpacity&quot;: 0.2, &quot;fillRule&quot;: &quot;evenodd&quot;, &quot;lineCap&quot;: &quot;round&quot;, &quot;lineJoin&quot;: &quot;round&quot;, &quot;opacity&quot;: 1.0, &quot;radius&quot;: 6.630303080866714, &quot;stroke&quot;: true, &quot;weight&quot;: 3}\n",
       "            ).addTo(map_6aa78215c90e31e165549f794bca61e4);\n",
       "        \n",
       "    \n",
       "        var popup_26f800f8307606117fa53e5f05aa7693 = L.popup({&quot;maxWidth&quot;: &quot;100%&quot;});\n",
       "\n",
       "        \n",
       "            \n",
       "                var html_51ac019315a11b1817d56a07b91f6704 = $(`&lt;div id=&quot;html_51ac019315a11b1817d56a07b91f6704&quot; style=&quot;width: 100.0%; height: 100.0%;&quot;&gt;Turkmenistan&lt;/div&gt;`)[0];\n",
       "                popup_26f800f8307606117fa53e5f05aa7693.setContent(html_51ac019315a11b1817d56a07b91f6704);\n",
       "            \n",
       "        \n",
       "\n",
       "        circle_marker_bee8ecc9a9e452bbe2bc670f724d3588.bindPopup(popup_26f800f8307606117fa53e5f05aa7693)\n",
       "        ;\n",
       "\n",
       "        \n",
       "    \n",
       "    \n",
       "            var circle_marker_f40be7eeaafd46d2c5a31cb1237e5a8c = L.circleMarker(\n",
       "                [-8.83333, 125.75],\n",
       "                {&quot;bubblingMouseEvents&quot;: true, &quot;color&quot;: &quot;red&quot;, &quot;dashArray&quot;: null, &quot;dashOffset&quot;: null, &quot;fill&quot;: true, &quot;fillColor&quot;: &quot;red&quot;, &quot;fillOpacity&quot;: 0.2, &quot;fillRule&quot;: &quot;evenodd&quot;, &quot;lineCap&quot;: &quot;round&quot;, &quot;lineJoin&quot;: &quot;round&quot;, &quot;opacity&quot;: 1.0, &quot;radius&quot;: 3.4697796995129644, &quot;stroke&quot;: true, &quot;weight&quot;: 3}\n",
       "            ).addTo(map_6aa78215c90e31e165549f794bca61e4);\n",
       "        \n",
       "    \n",
       "        var popup_5645b543d525fa575598d874173c075a = L.popup({&quot;maxWidth&quot;: &quot;100%&quot;});\n",
       "\n",
       "        \n",
       "            \n",
       "                var html_784d3442726243316d68989e4657caf8 = $(`&lt;div id=&quot;html_784d3442726243316d68989e4657caf8&quot; style=&quot;width: 100.0%; height: 100.0%;&quot;&gt;Timor-Leste&lt;/div&gt;`)[0];\n",
       "                popup_5645b543d525fa575598d874173c075a.setContent(html_784d3442726243316d68989e4657caf8);\n",
       "            \n",
       "        \n",
       "\n",
       "        circle_marker_f40be7eeaafd46d2c5a31cb1237e5a8c.bindPopup(popup_5645b543d525fa575598d874173c075a)\n",
       "        ;\n",
       "\n",
       "        \n",
       "    \n",
       "    \n",
       "            var circle_marker_5d769b5dbf6df4a67c6d030560392723 = L.circleMarker(\n",
       "                [11.0, -61.0],\n",
       "                {&quot;bubblingMouseEvents&quot;: true, &quot;color&quot;: &quot;green&quot;, &quot;dashArray&quot;: null, &quot;dashOffset&quot;: null, &quot;fill&quot;: true, &quot;fillColor&quot;: &quot;green&quot;, &quot;fillOpacity&quot;: 0.2, &quot;fillRule&quot;: &quot;evenodd&quot;, &quot;lineCap&quot;: &quot;round&quot;, &quot;lineJoin&quot;: &quot;round&quot;, &quot;opacity&quot;: 1.0, &quot;radius&quot;: 1.3550537179208788, &quot;stroke&quot;: true, &quot;weight&quot;: 3}\n",
       "            ).addTo(map_6aa78215c90e31e165549f794bca61e4);\n",
       "        \n",
       "    \n",
       "        var popup_0e0041ee9a9ff9b105f7beac1905d164 = L.popup({&quot;maxWidth&quot;: &quot;100%&quot;});\n",
       "\n",
       "        \n",
       "            \n",
       "                var html_7ffd360bf0e3265305ff64e920588046 = $(`&lt;div id=&quot;html_7ffd360bf0e3265305ff64e920588046&quot; style=&quot;width: 100.0%; height: 100.0%;&quot;&gt;Trinidad and Tobago&lt;/div&gt;`)[0];\n",
       "                popup_0e0041ee9a9ff9b105f7beac1905d164.setContent(html_7ffd360bf0e3265305ff64e920588046);\n",
       "            \n",
       "        \n",
       "\n",
       "        circle_marker_5d769b5dbf6df4a67c6d030560392723.bindPopup(popup_0e0041ee9a9ff9b105f7beac1905d164)\n",
       "        ;\n",
       "\n",
       "        \n",
       "    \n",
       "    \n",
       "            var circle_marker_efb22e76f5904be813e56cccd38026b5 = L.circleMarker(\n",
       "                [34.0, 9.0],\n",
       "                {&quot;bubblingMouseEvents&quot;: true, &quot;color&quot;: &quot;blue&quot;, &quot;dashArray&quot;: null, &quot;dashOffset&quot;: null, &quot;fill&quot;: true, &quot;fillColor&quot;: &quot;blue&quot;, &quot;fillOpacity&quot;: 0.2, &quot;fillRule&quot;: &quot;evenodd&quot;, &quot;lineCap&quot;: &quot;round&quot;, &quot;lineJoin&quot;: &quot;round&quot;, &quot;opacity&quot;: 1.0, &quot;radius&quot;: 1.5924544581397058, &quot;stroke&quot;: true, &quot;weight&quot;: 3}\n",
       "            ).addTo(map_6aa78215c90e31e165549f794bca61e4);\n",
       "        \n",
       "    \n",
       "        var popup_61186ddff6364f5b199fc7544a372343 = L.popup({&quot;maxWidth&quot;: &quot;100%&quot;});\n",
       "\n",
       "        \n",
       "            \n",
       "                var html_2bd19bc611053f553af89cb9145643b7 = $(`&lt;div id=&quot;html_2bd19bc611053f553af89cb9145643b7&quot; style=&quot;width: 100.0%; height: 100.0%;&quot;&gt;Tunisia&lt;/div&gt;`)[0];\n",
       "                popup_61186ddff6364f5b199fc7544a372343.setContent(html_2bd19bc611053f553af89cb9145643b7);\n",
       "            \n",
       "        \n",
       "\n",
       "        circle_marker_efb22e76f5904be813e56cccd38026b5.bindPopup(popup_61186ddff6364f5b199fc7544a372343)\n",
       "        ;\n",
       "\n",
       "        \n",
       "    \n",
       "    \n",
       "            var circle_marker_4359ced22a235a5b7df4ac9985d62402 = L.circleMarker(\n",
       "                [39.0, 35.0],\n",
       "                {&quot;bubblingMouseEvents&quot;: true, &quot;color&quot;: &quot;black&quot;, &quot;dashArray&quot;: null, &quot;dashOffset&quot;: null, &quot;fill&quot;: true, &quot;fillColor&quot;: &quot;black&quot;, &quot;fillOpacity&quot;: 0.2, &quot;fillRule&quot;: &quot;evenodd&quot;, &quot;lineCap&quot;: &quot;round&quot;, &quot;lineJoin&quot;: &quot;round&quot;, &quot;opacity&quot;: 1.0, &quot;radius&quot;: 1.3666553768820537, &quot;stroke&quot;: true, &quot;weight&quot;: 3}\n",
       "            ).addTo(map_6aa78215c90e31e165549f794bca61e4);\n",
       "        \n",
       "    \n",
       "        var popup_e4b7376ff3c3972cd03c94fe89c82485 = L.popup({&quot;maxWidth&quot;: &quot;100%&quot;});\n",
       "\n",
       "        \n",
       "            \n",
       "                var html_451101337f43bed06e2cca2321467415 = $(`&lt;div id=&quot;html_451101337f43bed06e2cca2321467415&quot; style=&quot;width: 100.0%; height: 100.0%;&quot;&gt;Turkey&lt;/div&gt;`)[0];\n",
       "                popup_e4b7376ff3c3972cd03c94fe89c82485.setContent(html_451101337f43bed06e2cca2321467415);\n",
       "            \n",
       "        \n",
       "\n",
       "        circle_marker_4359ced22a235a5b7df4ac9985d62402.bindPopup(popup_e4b7376ff3c3972cd03c94fe89c82485)\n",
       "        ;\n",
       "\n",
       "        \n",
       "    \n",
       "    \n",
       "            var circle_marker_ba3abdb84290c2209469f5d019757410 = L.circleMarker(\n",
       "                [-6.0, 35.0],\n",
       "                {&quot;bubblingMouseEvents&quot;: true, &quot;color&quot;: &quot;blue&quot;, &quot;dashArray&quot;: null, &quot;dashOffset&quot;: null, &quot;fill&quot;: true, &quot;fillColor&quot;: &quot;blue&quot;, &quot;fillOpacity&quot;: 0.2, &quot;fillRule&quot;: &quot;evenodd&quot;, &quot;lineCap&quot;: &quot;round&quot;, &quot;lineJoin&quot;: &quot;round&quot;, &quot;opacity&quot;: 1.0, &quot;radius&quot;: 24.88900526383844, &quot;stroke&quot;: true, &quot;weight&quot;: 3}\n",
       "            ).addTo(map_6aa78215c90e31e165549f794bca61e4);\n",
       "        \n",
       "    \n",
       "        var popup_f92b2e9e80f72fd9f700b88e8a42dfa6 = L.popup({&quot;maxWidth&quot;: &quot;100%&quot;});\n",
       "\n",
       "        \n",
       "            \n",
       "                var html_d72ea25eb1639f334d87abf9d73d2760 = $(`&lt;div id=&quot;html_d72ea25eb1639f334d87abf9d73d2760&quot; style=&quot;width: 100.0%; height: 100.0%;&quot;&gt;Tanzania&lt;/div&gt;`)[0];\n",
       "                popup_f92b2e9e80f72fd9f700b88e8a42dfa6.setContent(html_d72ea25eb1639f334d87abf9d73d2760);\n",
       "            \n",
       "        \n",
       "\n",
       "        circle_marker_ba3abdb84290c2209469f5d019757410.bindPopup(popup_f92b2e9e80f72fd9f700b88e8a42dfa6)\n",
       "        ;\n",
       "\n",
       "        \n",
       "    \n",
       "    \n",
       "            var circle_marker_c711051f1a060078f81810bd80d42db4 = L.circleMarker(\n",
       "                [1.25, 32.5],\n",
       "                {&quot;bubblingMouseEvents&quot;: true, &quot;color&quot;: &quot;blue&quot;, &quot;dashArray&quot;: null, &quot;dashOffset&quot;: null, &quot;fill&quot;: true, &quot;fillColor&quot;: &quot;blue&quot;, &quot;fillOpacity&quot;: 0.2, &quot;fillRule&quot;: &quot;evenodd&quot;, &quot;lineCap&quot;: &quot;round&quot;, &quot;lineJoin&quot;: &quot;round&quot;, &quot;opacity&quot;: 1.0, &quot;radius&quot;: 19.736352406544533, &quot;stroke&quot;: true, &quot;weight&quot;: 3}\n",
       "            ).addTo(map_6aa78215c90e31e165549f794bca61e4);\n",
       "        \n",
       "    \n",
       "        var popup_876c82c044986c106f10f61bb09c2c62 = L.popup({&quot;maxWidth&quot;: &quot;100%&quot;});\n",
       "\n",
       "        \n",
       "            \n",
       "                var html_f2fd94f3836d08da8ad336841390f42e = $(`&lt;div id=&quot;html_f2fd94f3836d08da8ad336841390f42e&quot; style=&quot;width: 100.0%; height: 100.0%;&quot;&gt;Uganda&lt;/div&gt;`)[0];\n",
       "                popup_876c82c044986c106f10f61bb09c2c62.setContent(html_f2fd94f3836d08da8ad336841390f42e);\n",
       "            \n",
       "        \n",
       "\n",
       "        circle_marker_c711051f1a060078f81810bd80d42db4.bindPopup(popup_876c82c044986c106f10f61bb09c2c62)\n",
       "        ;\n",
       "\n",
       "        \n",
       "    \n",
       "    \n",
       "            var circle_marker_1d43c561341751ce17958e78a08c8078 = L.circleMarker(\n",
       "                [49.0, 32.0],\n",
       "                {&quot;bubblingMouseEvents&quot;: true, &quot;color&quot;: &quot;black&quot;, &quot;dashArray&quot;: null, &quot;dashOffset&quot;: null, &quot;fill&quot;: true, &quot;fillColor&quot;: &quot;black&quot;, &quot;fillOpacity&quot;: 0.2, &quot;fillRule&quot;: &quot;evenodd&quot;, &quot;lineCap&quot;: &quot;round&quot;, &quot;lineJoin&quot;: &quot;round&quot;, &quot;opacity&quot;: 1.0, &quot;stroke&quot;: true, &quot;weight&quot;: 3}\n",
       "            ).addTo(map_6aa78215c90e31e165549f794bca61e4);\n",
       "        \n",
       "    \n",
       "        var popup_02e8c7da1aa276426b554ade69bc246f = L.popup({&quot;maxWidth&quot;: &quot;100%&quot;});\n",
       "\n",
       "        \n",
       "            \n",
       "                var html_c48154c3acf2b4b6a58ae4b896dfdcc8 = $(`&lt;div id=&quot;html_c48154c3acf2b4b6a58ae4b896dfdcc8&quot; style=&quot;width: 100.0%; height: 100.0%;&quot;&gt;Ukraine&lt;/div&gt;`)[0];\n",
       "                popup_02e8c7da1aa276426b554ade69bc246f.setContent(html_c48154c3acf2b4b6a58ae4b896dfdcc8);\n",
       "            \n",
       "        \n",
       "\n",
       "        circle_marker_1d43c561341751ce17958e78a08c8078.bindPopup(popup_02e8c7da1aa276426b554ade69bc246f)\n",
       "        ;\n",
       "\n",
       "        \n",
       "    \n",
       "    \n",
       "            var circle_marker_8fb781c79f4236e6cd4749024ccd02fc = L.circleMarker(\n",
       "                [-33.0, -56.0],\n",
       "                {&quot;bubblingMouseEvents&quot;: true, &quot;color&quot;: &quot;green&quot;, &quot;dashArray&quot;: null, &quot;dashOffset&quot;: null, &quot;fill&quot;: true, &quot;fillColor&quot;: &quot;green&quot;, &quot;fillOpacity&quot;: 0.2, &quot;fillRule&quot;: &quot;evenodd&quot;, &quot;lineCap&quot;: &quot;round&quot;, &quot;lineJoin&quot;: &quot;round&quot;, &quot;opacity&quot;: 1.0, &quot;radius&quot;: 0.5722562458426154, &quot;stroke&quot;: true, &quot;weight&quot;: 3}\n",
       "            ).addTo(map_6aa78215c90e31e165549f794bca61e4);\n",
       "        \n",
       "    \n",
       "        var popup_776739424429708d8053f3d065482504 = L.popup({&quot;maxWidth&quot;: &quot;100%&quot;});\n",
       "\n",
       "        \n",
       "            \n",
       "                var html_087eb3ab8e98b7fc8bf6e15383124cf1 = $(`&lt;div id=&quot;html_087eb3ab8e98b7fc8bf6e15383124cf1&quot; style=&quot;width: 100.0%; height: 100.0%;&quot;&gt;Uruguay&lt;/div&gt;`)[0];\n",
       "                popup_776739424429708d8053f3d065482504.setContent(html_087eb3ab8e98b7fc8bf6e15383124cf1);\n",
       "            \n",
       "        \n",
       "\n",
       "        circle_marker_8fb781c79f4236e6cd4749024ccd02fc.bindPopup(popup_776739424429708d8053f3d065482504)\n",
       "        ;\n",
       "\n",
       "        \n",
       "    \n",
       "    \n",
       "            var circle_marker_1e5ba8ea0047cf1878b6cfeb8936ef76 = L.circleMarker(\n",
       "                [39.76, -98.5],\n",
       "                {&quot;bubblingMouseEvents&quot;: true, &quot;color&quot;: &quot;green&quot;, &quot;dashArray&quot;: null, &quot;dashOffset&quot;: null, &quot;fill&quot;: true, &quot;fillColor&quot;: &quot;green&quot;, &quot;fillOpacity&quot;: 0.2, &quot;fillRule&quot;: &quot;evenodd&quot;, &quot;lineCap&quot;: &quot;round&quot;, &quot;lineJoin&quot;: &quot;round&quot;, &quot;opacity&quot;: 1.0, &quot;radius&quot;: 12.859004483020296, &quot;stroke&quot;: true, &quot;weight&quot;: 3}\n",
       "            ).addTo(map_6aa78215c90e31e165549f794bca61e4);\n",
       "        \n",
       "    \n",
       "        var popup_d591d2982dae883106767e18be60f648 = L.popup({&quot;maxWidth&quot;: &quot;100%&quot;});\n",
       "\n",
       "        \n",
       "            \n",
       "                var html_a20fb77996c29d0420051095322f6826 = $(`&lt;div id=&quot;html_a20fb77996c29d0420051095322f6826&quot; style=&quot;width: 100.0%; height: 100.0%;&quot;&gt;United States&lt;/div&gt;`)[0];\n",
       "                popup_d591d2982dae883106767e18be60f648.setContent(html_a20fb77996c29d0420051095322f6826);\n",
       "            \n",
       "        \n",
       "\n",
       "        circle_marker_1e5ba8ea0047cf1878b6cfeb8936ef76.bindPopup(popup_d591d2982dae883106767e18be60f648)\n",
       "        ;\n",
       "\n",
       "        \n",
       "    \n",
       "    \n",
       "            var circle_marker_ccab4333aebe1e8a838b007182211ef9 = L.circleMarker(\n",
       "                [8.0, -66.0],\n",
       "                {&quot;bubblingMouseEvents&quot;: true, &quot;color&quot;: &quot;green&quot;, &quot;dashArray&quot;: null, &quot;dashOffset&quot;: null, &quot;fill&quot;: true, &quot;fillColor&quot;: &quot;green&quot;, &quot;fillOpacity&quot;: 0.2, &quot;fillRule&quot;: &quot;evenodd&quot;, &quot;lineCap&quot;: &quot;round&quot;, &quot;lineJoin&quot;: &quot;round&quot;, &quot;opacity&quot;: 1.0, &quot;radius&quot;: 7.797885869682058, &quot;stroke&quot;: true, &quot;weight&quot;: 3}\n",
       "            ).addTo(map_6aa78215c90e31e165549f794bca61e4);\n",
       "        \n",
       "    \n",
       "        var popup_f4c606e6af578c44921416fa14cd7b22 = L.popup({&quot;maxWidth&quot;: &quot;100%&quot;});\n",
       "\n",
       "        \n",
       "            \n",
       "                var html_02dd947d9cedc42cc7e794fb7f32c5e1 = $(`&lt;div id=&quot;html_02dd947d9cedc42cc7e794fb7f32c5e1&quot; style=&quot;width: 100.0%; height: 100.0%;&quot;&gt;Venezuela&lt;/div&gt;`)[0];\n",
       "                popup_f4c606e6af578c44921416fa14cd7b22.setContent(html_02dd947d9cedc42cc7e794fb7f32c5e1);\n",
       "            \n",
       "        \n",
       "\n",
       "        circle_marker_ccab4333aebe1e8a838b007182211ef9.bindPopup(popup_f4c606e6af578c44921416fa14cd7b22)\n",
       "        ;\n",
       "\n",
       "        \n",
       "    \n",
       "    \n",
       "            var circle_marker_0df7d7a65738ce01b57385665aaa60ec = L.circleMarker(\n",
       "                [16.16667, 107.83333],\n",
       "                {&quot;bubblingMouseEvents&quot;: true, &quot;color&quot;: &quot;red&quot;, &quot;dashArray&quot;: null, &quot;dashOffset&quot;: null, &quot;fill&quot;: true, &quot;fillColor&quot;: &quot;red&quot;, &quot;fillOpacity&quot;: 0.2, &quot;fillRule&quot;: &quot;evenodd&quot;, &quot;lineCap&quot;: &quot;round&quot;, &quot;lineJoin&quot;: &quot;round&quot;, &quot;opacity&quot;: 1.0, &quot;radius&quot;: 8.241622267411362, &quot;stroke&quot;: true, &quot;weight&quot;: 3}\n",
       "            ).addTo(map_6aa78215c90e31e165549f794bca61e4);\n",
       "        \n",
       "    \n",
       "        var popup_45770297034546ec3cf376ce4d6be1fe = L.popup({&quot;maxWidth&quot;: &quot;100%&quot;});\n",
       "\n",
       "        \n",
       "            \n",
       "                var html_6d8a5bfd2a5d448991a31222d84a07f4 = $(`&lt;div id=&quot;html_6d8a5bfd2a5d448991a31222d84a07f4&quot; style=&quot;width: 100.0%; height: 100.0%;&quot;&gt;Vietnam&lt;/div&gt;`)[0];\n",
       "                popup_45770297034546ec3cf376ce4d6be1fe.setContent(html_6d8a5bfd2a5d448991a31222d84a07f4);\n",
       "            \n",
       "        \n",
       "\n",
       "        circle_marker_0df7d7a65738ce01b57385665aaa60ec.bindPopup(popup_45770297034546ec3cf376ce4d6be1fe)\n",
       "        ;\n",
       "\n",
       "        \n",
       "    \n",
       "    \n",
       "            var circle_marker_db08fc2699d58fc5c50585639dcba83f = L.circleMarker(\n",
       "                [15.5, 47.5],\n",
       "                {&quot;bubblingMouseEvents&quot;: true, &quot;color&quot;: &quot;red&quot;, &quot;dashArray&quot;: null, &quot;dashOffset&quot;: null, &quot;fill&quot;: true, &quot;fillColor&quot;: &quot;red&quot;, &quot;fillOpacity&quot;: 0.2, &quot;fillRule&quot;: &quot;evenodd&quot;, &quot;lineCap&quot;: &quot;round&quot;, &quot;lineJoin&quot;: &quot;round&quot;, &quot;opacity&quot;: 1.0, &quot;radius&quot;: 9.126242182195787, &quot;stroke&quot;: true, &quot;weight&quot;: 3}\n",
       "            ).addTo(map_6aa78215c90e31e165549f794bca61e4);\n",
       "        \n",
       "    \n",
       "        var popup_3569b071972fc1e0c51c60c65b3fb52f = L.popup({&quot;maxWidth&quot;: &quot;100%&quot;});\n",
       "\n",
       "        \n",
       "            \n",
       "                var html_a9109f89d5c549c4e9711232c10e2448 = $(`&lt;div id=&quot;html_a9109f89d5c549c4e9711232c10e2448&quot; style=&quot;width: 100.0%; height: 100.0%;&quot;&gt;Yemen&lt;/div&gt;`)[0];\n",
       "                popup_3569b071972fc1e0c51c60c65b3fb52f.setContent(html_a9109f89d5c549c4e9711232c10e2448);\n",
       "            \n",
       "        \n",
       "\n",
       "        circle_marker_db08fc2699d58fc5c50585639dcba83f.bindPopup(popup_3569b071972fc1e0c51c60c65b3fb52f)\n",
       "        ;\n",
       "\n",
       "        \n",
       "    \n",
       "    \n",
       "            var circle_marker_80944b89bdc2f0bf056068b4ed2e2fd3 = L.circleMarker(\n",
       "                [-29.0, 24.0],\n",
       "                {&quot;bubblingMouseEvents&quot;: true, &quot;color&quot;: &quot;blue&quot;, &quot;dashArray&quot;: null, &quot;dashOffset&quot;: null, &quot;fill&quot;: true, &quot;fillColor&quot;: &quot;blue&quot;, &quot;fillOpacity&quot;: 0.2, &quot;fillRule&quot;: &quot;evenodd&quot;, &quot;lineCap&quot;: &quot;round&quot;, &quot;lineJoin&quot;: &quot;round&quot;, &quot;opacity&quot;: 1.0, &quot;radius&quot;: 12.528070760870953, &quot;stroke&quot;: true, &quot;weight&quot;: 3}\n",
       "            ).addTo(map_6aa78215c90e31e165549f794bca61e4);\n",
       "        \n",
       "    \n",
       "        var popup_8921c0ea3c575101eb128dfbcdcaa39e = L.popup({&quot;maxWidth&quot;: &quot;100%&quot;});\n",
       "\n",
       "        \n",
       "            \n",
       "                var html_5874461c39962e66ad61ba18fc2220c9 = $(`&lt;div id=&quot;html_5874461c39962e66ad61ba18fc2220c9&quot; style=&quot;width: 100.0%; height: 100.0%;&quot;&gt;South Africa&lt;/div&gt;`)[0];\n",
       "                popup_8921c0ea3c575101eb128dfbcdcaa39e.setContent(html_5874461c39962e66ad61ba18fc2220c9);\n",
       "            \n",
       "        \n",
       "\n",
       "        circle_marker_80944b89bdc2f0bf056068b4ed2e2fd3.bindPopup(popup_8921c0ea3c575101eb128dfbcdcaa39e)\n",
       "        ;\n",
       "\n",
       "        \n",
       "    \n",
       "    \n",
       "            var circle_marker_469c331ebd2a0bbaadcd9af9dbd32f97 = L.circleMarker(\n",
       "                [-14.33333, 28.5],\n",
       "                {&quot;bubblingMouseEvents&quot;: true, &quot;color&quot;: &quot;blue&quot;, &quot;dashArray&quot;: null, &quot;dashOffset&quot;: null, &quot;fill&quot;: true, &quot;fillColor&quot;: &quot;blue&quot;, &quot;fillOpacity&quot;: 0.2, &quot;fillRule&quot;: &quot;evenodd&quot;, &quot;lineCap&quot;: &quot;round&quot;, &quot;lineJoin&quot;: &quot;round&quot;, &quot;opacity&quot;: 1.0, &quot;radius&quot;: 18.176389084924157, &quot;stroke&quot;: true, &quot;weight&quot;: 3}\n",
       "            ).addTo(map_6aa78215c90e31e165549f794bca61e4);\n",
       "        \n",
       "    \n",
       "        var popup_c2814e6407cc763f2252d40af1e2eafc = L.popup({&quot;maxWidth&quot;: &quot;100%&quot;});\n",
       "\n",
       "        \n",
       "            \n",
       "                var html_99e90b40dd4913a7f3c75ab1b1af1814 = $(`&lt;div id=&quot;html_99e90b40dd4913a7f3c75ab1b1af1814&quot; style=&quot;width: 100.0%; height: 100.0%;&quot;&gt;Zambia&lt;/div&gt;`)[0];\n",
       "                popup_c2814e6407cc763f2252d40af1e2eafc.setContent(html_99e90b40dd4913a7f3c75ab1b1af1814);\n",
       "            \n",
       "        \n",
       "\n",
       "        circle_marker_469c331ebd2a0bbaadcd9af9dbd32f97.bindPopup(popup_c2814e6407cc763f2252d40af1e2eafc)\n",
       "        ;\n",
       "\n",
       "        \n",
       "    \n",
       "&lt;/script&gt;\n",
       "&lt;/html&gt;\" style=\"position:absolute;width:100%;height:100%;left:0;top:0;border:none !important;\" allowfullscreen webkitallowfullscreen mozallowfullscreen></iframe></div></div>"
      ],
      "text/plain": [
       "<datascience.maps.Map at 0x7e3abd2cef90>"
      ]
     },
     "execution_count": 184,
     "metadata": {},
     "output_type": "execute_result"
    }
   ],
   "source": [
    "# It may take a few seconds to generate this map.\n",
    "colors = {'africa': 'blue', 'europe': 'black', 'asia': 'red', 'americas': 'green'}\n",
    "scaled = poverty_map.with_columns(\n",
    "    'labels', poverty_map.column('name'),\n",
    "    'colors', poverty_map.apply(colors.get, 'region'),\n",
    "    'areas', 1e-4 * poverty_map.column('poverty_total')\n",
    ").drop('name', 'region', 'poverty_total')\n",
    "\n",
    "Circle.map_table(scaled)"
   ]
  },
  {
   "cell_type": "markdown",
   "id": "25f8e25e",
   "metadata": {
    "deletable": false,
    "editable": false
   },
   "source": [
    "Although people lived in extreme poverty throughout the world in 2010 (with more than 5 million in the United States), the largest numbers were in Asia and Africa."
   ]
  },
  {
   "cell_type": "markdown",
   "id": "956fad0a",
   "metadata": {},
   "source": [
    "---\n",
    "\n",
    "**Question 5.** Assign `largest` to a two-column table with the `name` (not the 3-letter code) and `poverty_total` of the 10 countries with the largest number of people living in extreme poverty.\n",
    "\n",
    "*Hint*: How can we use `take` and `np.arange` in conjunction with each other?\n"
   ]
  },
  {
   "cell_type": "code",
   "execution_count": 188,
   "id": "9bf6d2ac",
   "metadata": {
    "deletable": false,
    "tags": []
   },
   "outputs": [
    {
     "data": {
      "text/html": [
       "<table border=\"1\" class=\"dataframe\">\n",
       "    <thead>\n",
       "        <tr>\n",
       "            <th>name</th> <th>poverty_total</th>\n",
       "        </tr>\n",
       "    </thead>\n",
       "    <tbody>\n",
       "        <tr>\n",
       "            <td>India           </td> <td>293,834,694.00</td>\n",
       "        </tr>\n",
       "        <tr>\n",
       "            <td>Nigeria         </td> <td>103,368,582.00</td>\n",
       "        </tr>\n",
       "        <tr>\n",
       "            <td>China           </td> <td>84,607,751.00 </td>\n",
       "        </tr>\n",
       "        <tr>\n",
       "            <td>Bangladesh      </td> <td>65,827,357.00 </td>\n",
       "        </tr>\n",
       "        <tr>\n",
       "            <td>Congo, Dem. Rep.</td> <td>60,143,497.00 </td>\n",
       "        </tr>\n",
       "        <tr>\n",
       "            <td>Indonesia       </td> <td>39,901,462.00 </td>\n",
       "        </tr>\n",
       "        <tr>\n",
       "            <td>Ethiopia        </td> <td>33,309,119.00 </td>\n",
       "        </tr>\n",
       "        <tr>\n",
       "            <td>Pakistan        </td> <td>25,383,055.00 </td>\n",
       "        </tr>\n",
       "        <tr>\n",
       "            <td>Tanzania        </td> <td>19,460,991.00 </td>\n",
       "        </tr>\n",
       "        <tr>\n",
       "            <td>Madagascar      </td> <td>19,448,134.00 </td>\n",
       "        </tr>\n",
       "    </tbody>\n",
       "</table>"
      ],
      "text/plain": [
       "name             | poverty_total\n",
       "India            | 293,834,694.00\n",
       "Nigeria          | 103,368,582.00\n",
       "China            | 84,607,751.00\n",
       "Bangladesh       | 65,827,357.00\n",
       "Congo, Dem. Rep. | 60,143,497.00\n",
       "Indonesia        | 39,901,462.00\n",
       "Ethiopia         | 33,309,119.00\n",
       "Pakistan         | 25,383,055.00\n",
       "Tanzania         | 19,460,991.00\n",
       "Madagascar       | 19,448,134.00"
      ]
     },
     "execution_count": 188,
     "metadata": {},
     "output_type": "execute_result"
    }
   ],
   "source": [
    "largest = poverty_map.sort('poverty_total', descending = True).select('name', 'poverty_total').take(np.arange(10))\n",
    "largest.set_format('poverty_total', NumberFormatter)"
   ]
  },
  {
   "cell_type": "code",
   "execution_count": 189,
   "id": "16b701c1",
   "metadata": {
    "deletable": false,
    "editable": false
   },
   "outputs": [
    {
     "data": {
      "text/html": [
       "<p><strong><pre style='display: inline;'>q2_5</pre></strong> passed! 🌈</p>"
      ],
      "text/plain": [
       "q2_5 results: All test cases passed!"
      ]
     },
     "execution_count": 189,
     "metadata": {},
     "output_type": "execute_result"
    }
   ],
   "source": [
    "grader.check(\"q2_5\")"
   ]
  },
  {
   "cell_type": "markdown",
   "id": "5c7a0ca6",
   "metadata": {},
   "source": [
    "<!-- BEGIN QUESTION -->\n",
    "\n",
    "---\n",
    "\n",
    "**Question 6.** It is important to study the absolute number of people living in poverty, not just the percent. The absolute number is an important factor in determining the amount of resources needed to support people living in poverty. In the next two questions you will explore this.\n",
    "\n",
    "In Question 7, you will be asked to write a function called `poverty_timeline` that takes **the name of a country** as its argument (not the Alpha-3 country code). It should draw a line plot of the number of people living in poverty in that country with time on the horizontal axis. The line plot should have a point for each row in the poverty table for that country. To compute the population living in poverty from a poverty percentage, multiply by the population of the country **in that year**.\n",
    "\n",
    "For this question, write out a generalized process for Question 7. Make sure to answer/include the following: \n",
    "- What should this function output? \n",
    "- Additionally, **make a numbered list** of the steps you take within the function body. If you added/edited, say, 5 lines in the function body, then it would be good to see the numbers 1 through 5 describing what you did (i.e. what functions/methods you used) in each line and why.\n",
    "\n",
    "As a tip, after finishing question 7, we recommend polishing up your description of the steps for this question. This question will be graded for correctness."
   ]
  },
  {
   "cell_type": "markdown",
   "id": "cc751ec6",
   "metadata": {},
   "source": [
    "The function should output a table of the population and time of people in extreme poverty in each of the countries. \n",
    "1. In the first line I grouped the countries table by the country and name columns and filtered where the \"country\" name matched \"name\" and extracting the country name.\n",
    "2. Then  "
   ]
  },
  {
   "cell_type": "markdown",
   "id": "0facd2f1",
   "metadata": {
    "deletable": false
   },
   "source": [
    "<!-- END QUESTION -->\n",
    "\n",
    "<!-- BEGIN QUESTION -->\n",
    "\n",
    "---\n",
    "\n",
    "**Question 7.** Now, we'll actually write the function called `poverty_timeline`. Recall that `poverty_timeline` takes **the name of a country** as its argument (not the Alpha-3 country code). It should draw a line plot of the number of people living in poverty in that country with time on the horizontal axis. The line plot should have a point for each row in the `poverty` table for that country. To compute the population living in poverty from a poverty percentage, multiply by the population of the country **in that year**.\n",
    "\n",
    "**Note:** You **should <u>not</u>** return anything from your function. Simply call `plots.show()` at the end of your function body.\n",
    "\n",
    "*Hint 1:* This question is long. Feel free to create cells and experiment. You can create cells by going to the toolbar and hitting the `+` button.\n",
    "\n",
    "*Hint 2:* Consider using `join` in your code.\n",
    "\n",
    "Feel free to use the markdown cell below to plan out your answer, but you needn't fill it in."
   ]
  },
  {
   "cell_type": "markdown",
   "id": "d49fc0d4",
   "metadata": {},
   "source": [
    "_Type your answer here, replacing this text._"
   ]
  },
  {
   "cell_type": "code",
   "execution_count": 197,
   "id": "b316aa1e",
   "metadata": {
    "tags": []
   },
   "outputs": [],
   "source": [
    "def poverty_timeline(country):\n",
    "    '''Draw a timeline of people living in extreme poverty in a country.'''\n",
    "   #\n",
    "    geo = countries.group(['country', 'name']).where('name', are.equal_to(country)).column('country').item(0)\n",
    "    # This solution will take multiple lines of code. Use as many as you need\n",
    "    poverty_current = poverty.where('geo', are.contained_in(geo)).join('time', population.where('geo', are.contained_in(geo))).select('time', 'extreme_poverty_percent_people_below_125_a_day', 'population_total')\n",
    "    final_poverty_table = Table().with_columns('time', poverty_current.column('time'), 'total population', (100*poverty_current.column('population_total')*poverty_current.column('extreme_poverty_percent_people_below_125_a_day')))\n",
    "    final_poverty_table.plot('time', 'total population')\n",
    "    # Don't change anything below this line. \n",
    "    plots.title(country)\n",
    "    plots.ylim(bottom=0)\n",
    "    plots.show() # This should be the last line of your function. "
   ]
  },
  {
   "cell_type": "code",
   "execution_count": 198,
   "id": "8ec9df83",
   "metadata": {
    "deletable": false,
    "tags": []
   },
   "outputs": [
    {
     "data": {
      "image/png": "[encoded data removed]",
      "text/plain": [
       "<Figure size 600x600 with 1 Axes>"
      ]
     },
     "metadata": {},
     "output_type": "display_data"
    },
    {
     "data": {
      "image/png": "[encoded data removed]",
      "text/plain": [
       "<Figure size 600x600 with 1 Axes>"
      ]
     },
     "metadata": {},
     "output_type": "display_data"
    },
    {
     "data": {
      "image/png": "[encoded data removed]",
      "text/plain": [
       "<Figure size 600x600 with 1 Axes>"
      ]
     },
     "metadata": {},
     "output_type": "display_data"
    },
    {
     "data": {
      "image/png": "[encoded data removed]",
      "text/plain": [
       "<Figure size 600x600 with 1 Axes>"
      ]
     },
     "metadata": {},
     "output_type": "display_data"
    },
    {
     "data": {
      "image/png": "[encoded data removed]",
      "text/plain": [
       "<Figure size 600x600 with 1 Axes>"
      ]
     },
     "metadata": {},
     "output_type": "display_data"
    },
    {
     "data": {
      "image/png": "[encoded data removed]",
      "text/plain": [
       "<Figure size 600x600 with 1 Axes>"
      ]
     },
     "metadata": {},
     "output_type": "display_data"
    }
   ],
   "source": [
    "poverty_timeline('Poland')\n",
    "poverty_timeline('India')\n",
    "poverty_timeline('Nigeria')\n",
    "poverty_timeline('China')\n",
    "poverty_timeline('Colombia')\n",
    "poverty_timeline('United States')"
   ]
  },
  {
   "cell_type": "markdown",
   "id": "cb4bb034",
   "metadata": {
    "deletable": false
   },
   "source": [
    "<!-- END QUESTION -->\n",
    "\n",
    "Although the number of people living in extreme poverty increased in some countries including Nigeria and the United States, the decreases in other countries, most notably the massive decreases in China and India, have shaped the overall trend that extreme poverty is decreasing worldwide, both in percentage and in absolute number. \n",
    "\n",
    "To learn more, watch [Hans Rosling in a 2015 film](https://www.gapminder.org/videos/dont-panic-end-poverty/) about the UN goal of eradicating extreme poverty from the world. \n",
    "\n",
    "Below, we've also added an interactive dropdown menu for you to visualize `poverty_timeline` graphs for other countries. Note that each dropdown menu selection may take a few seconds to run."
   ]
  },
  {
   "cell_type": "code",
   "execution_count": 199,
   "id": "ae693c3b",
   "metadata": {
    "deletable": false,
    "editable": false
   },
   "outputs": [
    {
     "data": {
      "application/vnd.jupyter.widget-view+json": {
       "model_id": "d19a4f529b4b4535a24b38dc51063022",
       "version_major": 2,
       "version_minor": 0
      },
      "text/plain": [
       "interactive(children=(Dropdown(description='country', options=('Angola', 'Albania', 'Argentina', 'Armenia', 'A…"
      ]
     },
     "metadata": {},
     "output_type": "display_data"
    }
   ],
   "source": [
    "# Just run this cell\n",
    "\n",
    "all_countries = poverty_map.column('name')\n",
    "_ = widgets.interact(poverty_timeline, country=list(all_countries))"
   ]
  },
  {
   "cell_type": "markdown",
   "id": "029cef6c",
   "metadata": {
    "deletable": false
   },
   "source": [
    "\n",
    "\n",
    "<img src=\"panda.jpg\" alt=\"drawing\" width=\"300\"/>\n",
    "\n",
    "**Panda wants to tell you, you're finished!** Congratulations on discovering many important facts about global poverty and demonstrating your mastery of table manipulation and data visualization. Time to submit.\n",
    "\n",
    "**<span style=\"color: #BC412B\">Remember to add your project partner to your submission on Gradescope!</span>** <u>Only one partner should submit to Gradescope.</u>"
   ]
  },
  {
   "cell_type": "markdown",
   "id": "e7890979",
   "metadata": {},
   "source": [
    "## Submission\n",
    "\n",
    "Below, you will see two cells. Running the first cell will automatically generate a PDF of all questions that need to be manually graded, and running the second cell will automatically generate a zip with your autograded answers. You are responsible for submitting both the coding portion (the zip) and the written portion (the PDF) to their respective Gradescope portals. **Please save before exporting!**\n",
    "\n",
    "> **Important: You must correctly assign the pages of your PDF after you submit to the correct gradescope assignment. If your pages are not correctly assigned and/or not in the correct PDF format by the deadline, we reserve the right to award no points for your written work.**\n",
    "\n",
    "If there are issues with automatically generating the PDF in the first cell, you can try downloading the notebook as a PDF by colicking on `File -> Save and Export Notebook As... -> PDF`. If that doesn't work either, you can manually take screenshots of your answers to the manually graded questions and submit those. Either way, **you are responsible for ensuring your submision follows our requirements, we will NOT be granting regrade requests for submissions that don't follow instructions.**\n",
    "\n",
    "**You must submit the PDF generated via one of these methods, we will not accept screenshots or Word documents.**"
   ]
  },
  {
   "cell_type": "code",
   "execution_count": 200,
   "id": "5d7a71df",
   "metadata": {},
   "outputs": [
    {
     "data": {
      "text/html": [
       "Download your PDF <a href='project1.pdf' download>here</a>."
      ],
      "text/plain": [
       "<IPython.core.display.HTML object>"
      ]
     },
     "metadata": {},
     "output_type": "display_data"
    }
   ],
   "source": [
    "from otter.export import export_notebook\n",
    "from os import path\n",
    "from IPython.display import display, HTML\n",
    "name = 'project1'\n",
    "export_notebook(f\"{name}.ipynb\", filtering=True, pagebreaks=True)\n",
    "if(path.exists(f'{name}.pdf')):\n",
    "    display(HTML(f\"Download your PDF <a href='{name}.pdf' download>here</a>.\"))\n",
    "else:\n",
    "    print(\"\\n Pdf generation failed, please try the other methods described above\")"
   ]
  },
  {
   "cell_type": "markdown",
   "id": "1366da45",
   "metadata": {
    "deletable": false,
    "editable": false
   },
   "source": [
    "## Submission\n",
    "\n",
    "Make sure you have run all cells in your notebook in order before running the cell below, so that all images/graphs appear in the output. The cell below will generate a zip file for you to submit. **Please save before exporting!**"
   ]
  },
  {
   "cell_type": "code",
   "execution_count": 201,
   "id": "977c277b",
   "metadata": {
    "deletable": false,
    "editable": false
   },
   "outputs": [
    {
     "name": "stdout",
     "output_type": "stream",
     "text": [
      "Running your submission against local test cases...\n",
      "\n",
      "\n",
      "\n",
      "Your submission received the following results when run against available test cases:\n",
      "\n",
      "    q0 results: All test cases passed!\n",
      "\n",
      "    q1_1 results: All test cases passed!\n",
      "\n",
      "    q1_2 results: All test cases passed!\n",
      "\n",
      "    q1_5 results: All test cases passed!\n",
      "\n",
      "    q1_7 results: All test cases passed!\n",
      "\n",
      "    q1_9 results: All test cases passed!\n",
      "\n",
      "    q1_11 results: All test cases passed!\n",
      "\n",
      "    q1_12_0 results: All test cases passed!\n",
      "\n",
      "    q1_12 results: All test cases passed!\n",
      "\n",
      "    q1_13 results: All test cases passed!\n",
      "\n",
      "    q1_14 results: All test cases passed!\n",
      "\n",
      "    q2_1 results: All test cases passed!\n",
      "\n",
      "    q2_2 results: All test cases passed!\n",
      "\n",
      "    q2_3 results: All test cases passed!\n",
      "\n",
      "    q2_4 results: All test cases passed!\n",
      "\n",
      "    q2_5 results: All test cases passed!\n"
     ]
    },
    {
     "data": {
      "text/html": [
       "\n",
       "            <p>Your submission has been exported. Click <a href=\"project1_2024_10_03T19_14_18_898453.zip\" download=\"project1_2024_10_03T19_14_18_898453.zip\" target=\"_blank\">here</a>\n",
       "            to download the zip file.</p>\n",
       "            "
      ],
      "text/plain": [
       "<IPython.core.display.HTML object>"
      ]
     },
     "metadata": {},
     "output_type": "display_data"
    }
   ],
   "source": [
    "# Save your notebook first, then run this cell to export your submission.\n",
    "grader.export(pdf=False, run_tests=True)"
   ]
  },
  {
   "cell_type": "markdown",
   "id": "7cbefb24",
   "metadata": {},
   "source": [
    " "
   ]
  }
 ],
 "metadata": {
  "kernelspec": {
   "display_name": "Python 3 (ipykernel)",
   "language": "python",
   "name": "python3"
  },
  "language_info": {
   "codemirror_mode": {
    "name": "ipython",
    "version": 3
   },
   "file_extension": ".py",
   "mimetype": "text/x-python",
   "name": "python",
   "nbconvert_exporter": "python",
   "pygments_lexer": "ipython3",
   "version": "3.11.10"
  },
  "otter": {
   "OK_FORMAT": true,
   "tests": {
    "q0": {
     "name": "q0",
     "points": [
      0
     ],
     "suites": [
      {
       "cases": [
        {
         "code": ">>> i_wont_use_show_without_an_argument == True\nTrue",
         "hidden": false,
         "locked": false
        }
       ],
       "scored": true,
       "setup": "",
       "teardown": "",
       "type": "doctest"
      }
     ]
    },
    "q1_1": {
     "name": "q1_1",
     "points": [
      0,
      0
     ],
     "suites": [
      {
       "cases": [
        {
         "code": ">>> # Check your column labels and spelling\n>>> p_pop.labels == ('time', 'population_total')\nTrue",
         "hidden": false,
         "locked": false
        },
        {
         "code": ">>> # Times should range from 1900 through 2024\n>>> all(p_pop.sort(\"time\").column(\"time\") == np.arange(1900, 2025))\nTrue",
         "hidden": false,
         "locked": false
        }
       ],
       "scored": true,
       "setup": "",
       "teardown": "",
       "type": "doctest"
      }
     ]
    },
    "q1_11": {
     "name": "q1_11",
     "points": [
      0,
      0,
      0,
      4
     ],
     "suites": [
      {
       "cases": [
        {
         "code": ">>> # Incorrect labels for columns\n>>> t = stats_for_year(1990)\n>>> t.labels == ('geo', 'population_total', 'children_per_woman_total_fertility', 'child_mortality_under_5_per_1000_born')\nTrue",
         "hidden": false,
         "locked": false
        },
        {
         "code": ">>> # Incorrect number of rows\n>>> t = stats_for_year(1990)\n>>> t.num_rows\n50",
         "hidden": false,
         "locked": false
        },
        {
         "code": ">>> print(stats_for_year(1960).sort('geo').take(np.arange(5, 50, 5)))\ngeo  | population_total | children_per_woman_total_fertility | child_mortality_under_5_per_1000_born\ncan  | 17898790         | 3.84                               | 32.6\ndeu  | 72811640         | 2.39                               | 40.47\nfra  | 46428134         | 2.74                               | 28.5\nirn  | 21470434         | 7.37                               | 326.94\nkor  | 26115379         | 5.99                               | 112.18\nmoz  | 6713695          | 6.38                               | 277.4\nphl  | 27891897         | 7.03                               | 103.65\ntha  | 26851747         | 6.28                               | 146.46\nusa  | 180274555        | 3.72                               | 30.05\n",
         "hidden": false,
         "locked": false
        },
        {
         "code": ">>> print(stats_for_year(2010).sort('geo').take(np.arange(3, 50, 5)))\ngeo  | population_total | children_per_woman_total_fertility | child_mortality_under_5_per_1000_born\nbgd  | 152201981        | 2.38                               | 49.1\ncod  | 68563038         | 6.59                               | 115.29\nesp  | 46840471         | 1.37                               | 3.85\nidn  | 246305322        | 2.46                               | 34.12\njpn  | 128185275        | 1.36                               | 3.2\nmex  | 113623895        | 2.34                               | 17.36\npak  | 199239047        | 4.4                                | 87.51\nsau  | 25157128         | 2.81                               | 12.08\nuga  | 32390802         | 6.02                               | 77.39\nyem  | 26754387         | 4.81                               | 55.96\n",
         "hidden": false,
         "locked": false
        }
       ],
       "scored": true,
       "setup": "",
       "teardown": "",
       "type": "doctest"
      }
     ]
    },
    "q1_12": {
     "name": "q1_12",
     "points": [
      0,
      0
     ],
     "suites": [
      {
       "cases": [
        {
         "code": ">>> # Check your column labels and spelling\n>>> pop_by_decade.labels == ('decade', 'population')\nTrue",
         "hidden": false,
         "locked": false
        },
        {
         "code": ">>> # The first year of the 1960's is 1960.\n>>> pop_by_decade.column(0).item(0) == 1960\nTrue",
         "hidden": false,
         "locked": false
        }
       ],
       "scored": true,
       "setup": "",
       "teardown": "",
       "type": "doctest"
      }
     ]
    },
    "q1_12_0": {
     "name": "q1_12_0",
     "points": [
      0,
      0,
      0
     ],
     "suites": [
      {
       "cases": [
        {
         "code": ">>> pop_for_year(1972) == 3334568709\nTrue",
         "hidden": false,
         "locked": false
        },
        {
         "code": ">>> pop_for_year(2020) == 6840687359\nTrue",
         "hidden": false,
         "locked": false
        },
        {
         "code": ">>> pop_for_year(1989) == 4556698997\nTrue",
         "hidden": false,
         "locked": false
        }
       ],
       "scored": true,
       "setup": "",
       "teardown": "",
       "type": "doctest"
      }
     ]
    },
    "q1_13": {
     "name": "q1_13",
     "points": [
      0,
      0
     ],
     "suites": [
      {
       "cases": [
        {
         "code": ">>> # Check your column labels and spelling\n>>> region_counts.labels == ('region', 'count')\nTrue",
         "hidden": false,
         "locked": false
        },
        {
         "code": ">>> # Counts must sum to 50\n>>> sum(region_counts.column('count')) == 50\nTrue",
         "hidden": false,
         "locked": false
        }
       ],
       "scored": true,
       "setup": "",
       "teardown": "",
       "type": "doctest"
      }
     ]
    },
    "q1_14": {
     "name": "q1_14",
     "points": [
      0
     ],
     "suites": [
      {
       "cases": [
        {
         "code": ">>> # Please use a list of integers from 1 to 5\n>>> all(x in range(1, 6) for x in set(scatter_statements))\nTrue",
         "hidden": false,
         "locked": false
        }
       ],
       "scored": true,
       "setup": "",
       "teardown": "",
       "type": "doctest"
      }
     ]
    },
    "q1_2": {
     "name": "q1_2",
     "points": [
      0,
      0
     ],
     "suites": [
      {
       "cases": [
        {
         "code": ">>> first = round(p_five_growth.sort(0).column(2).item(0), 8)\n>>> 0.005 <= first <= 0.5\nTrue",
         "hidden": false,
         "locked": false
        },
        {
         "code": ">>> # Compute the annual exponential growth rate\n>>> max(p_five_growth.column(2)) < 0.03\nTrue",
         "hidden": false,
         "locked": false
        }
       ],
       "scored": true,
       "setup": "",
       "teardown": "",
       "type": "doctest"
      }
     ]
    },
    "q1_5": {
     "name": "q1_5",
     "points": [
      0,
      0,
      0
     ],
     "suites": [
      {
       "cases": [
        {
         "code": ">>> # Check your column labels and spelling\n>>> fertility_over_time('usa', 2010).labels == ('Year', 'Children per woman')\nTrue",
         "hidden": false,
         "locked": false
        },
        {
         "code": ">>> # Check that you use the start year to determine the data range.\n>>> all(fertility_over_time('usa', 2010).column('Year') == np.arange(2010, 2025))\nTrue",
         "hidden": false,
         "locked": false
        },
        {
         "code": ">>> # Check that you use the start year to determine the data range.\n>>> all(fertility_over_time('usa', 2005).column('Year') == np.arange(2005, 2025))\nTrue",
         "hidden": false,
         "locked": false
        }
       ],
       "scored": true,
       "setup": "",
       "teardown": "",
       "type": "doctest"
      }
     ]
    },
    "q1_7": {
     "name": "q1_7",
     "points": [
      0,
      0
     ],
     "suites": [
      {
       "cases": [
        {
         "code": ">>> # Make sure you are using the date range 1950-2024\n>>> poland_since_1950.num_rows\n75",
         "hidden": false,
         "locked": false
        },
        {
         "code": ">>> # Check your column labels and spelling\n>>> all([label in poland_since_1950.labels for label in ['Children per woman', 'Child deaths per 1000 born']])\nTrue",
         "hidden": false,
         "locked": false
        }
       ],
       "scored": true,
       "setup": "",
       "teardown": "",
       "type": "doctest"
      }
     ]
    },
    "q1_9": {
     "name": "q1_9",
     "points": [
      0
     ],
     "suites": [
      {
       "cases": [
        {
         "code": ">>> # Please use a list of integers from 1 to 6\n>>> all(x in range(1, 7) for x in set(fertility_statements))\nTrue",
         "hidden": false,
         "locked": false
        }
       ],
       "scored": true,
       "setup": "",
       "teardown": "",
       "type": "doctest"
      }
     ]
    },
    "q2_1": {
     "name": "q2_1",
     "points": [
      0,
      0
     ],
     "suites": [
      {
       "cases": [
        {
         "code": ">>> # Please don't edit the last line.\n>>> latest_poverty.labels == ('geo', 'time', 'poverty_percent')\nTrue",
         "hidden": false,
         "locked": false
        },
        {
         "code": ">>> # The result should have one row per country.\n>>> latest_poverty.num_rows\n145",
         "hidden": false,
         "locked": false
        }
       ],
       "scored": true,
       "setup": "",
       "teardown": "",
       "type": "doctest"
      }
     ]
    },
    "q2_2": {
     "name": "q2_2",
     "points": [
      0,
      0,
      0
     ],
     "suites": [
      {
       "cases": [
        {
         "code": ">>> # Check your column labels and spelling\n>>> recent_poverty_total.labels == ('geo', 'poverty_percent', 'population_total', 'poverty_total')\nTrue",
         "hidden": false,
         "locked": false
        },
        {
         "code": ">>> # Careful, the population of Australia in 2010 was 22,141,581\n>>> float(recent_poverty_total.where('geo', 'aus').column(2).item(0)) == 22141581\nTrue",
         "hidden": false,
         "locked": false
        },
        {
         "code": ">>> # The number of people estimated to be living in extreme poverty\n>>> # in Australia should be 301,126. That's 22,141,581 * 0.0136\n>>> # rounded to the nearest integer.\n>>> float(recent_poverty_total.where('geo', 'aus').column(3).item(0)) == 301126\nTrue",
         "hidden": false,
         "locked": false
        }
       ],
       "scored": true,
       "setup": "",
       "teardown": "",
       "type": "doctest"
      }
     ]
    },
    "q2_3": {
     "name": "q2_3",
     "points": [
      0
     ],
     "suites": [
      {
       "cases": [
        {
         "code": ">>> 10 <= poverty_percent <= 20\nTrue",
         "hidden": false,
         "locked": false
        }
       ],
       "scored": true,
       "setup": "",
       "teardown": "",
       "type": "doctest"
      }
     ]
    },
    "q2_4": {
     "name": "q2_4",
     "points": [
      0,
      0
     ],
     "suites": [
      {
       "cases": [
        {
         "code": ">>> # Check your column labels and spelling\n>>> poverty_map.labels == ('latitude', 'longitude', 'name', 'region', 'poverty_total')\nTrue",
         "hidden": false,
         "locked": false
        },
        {
         "code": ">>> # Something is wrong with your region column.\n>>> list(np.sort(np.unique(poverty_map.column('region'))))\n['africa', 'americas', 'asia', 'europe']",
         "hidden": false,
         "locked": false
        }
       ],
       "scored": true,
       "setup": "",
       "teardown": "",
       "type": "doctest"
      }
     ]
    },
    "q2_5": {
     "name": "q2_5",
     "points": [
      0,
      0,
      0
     ],
     "suites": [
      {
       "cases": [
        {
         "code": ">>> # Check your column labels and spelling\n>>> largest.labels == ('name', 'poverty_total')\nTrue",
         "hidden": false,
         "locked": false
        },
        {
         "code": ">>> # India is the country with the largest number of people living\n>>> # in extreme poverty.\n>>> largest.column(0).item(0)\n'India'",
         "hidden": false,
         "locked": false
        },
        {
         "code": ">>> # The table should contain exactly 10 rows.\n>>> largest.num_rows\n10",
         "hidden": false,
         "locked": false
        }
       ],
       "scored": true,
       "setup": "",
       "teardown": "",
       "type": "doctest"
      }
     ]
    }
   }
  }
 },
 "nbformat": 4,
 "nbformat_minor": 5
}
